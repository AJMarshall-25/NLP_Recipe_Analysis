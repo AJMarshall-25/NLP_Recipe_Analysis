{
 "cells": [
  {
   "cell_type": "code",
   "execution_count": 99,
   "metadata": {
    "run_control": {
     "marked": true
    }
   },
   "outputs": [],
   "source": [
    "import pandas as pd\n",
    "import numpy as np\n",
    "import matplotlib.pyplot as plt\n",
    "import seaborn as sns\n",
    "\n",
    "from wordcloud import WordCloud\n",
    "import ast #converting column values to lists post-import from csv\n",
    "\n",
    "import nltk\n",
    "from nltk import FreqDist\n",
    "from nltk.corpus import stopwords\n",
    "\n",
    "import re\n",
    "\n",
    "from sklearn.preprocessing import StandardScaler\n",
    "from sklearn.model_selection import train_test_split\n",
    "from sklearn.linear_model import LogisticRegression\n",
    "from sklearn.model_selection import cross_validate\n",
    "from sklearn.metrics import accuracy_score, precision_score, recall_score, f1_score, roc_auc_score\n",
    "from sklearn.metrics import roc_auc_score, plot_confusion_matrix, plot_roc_curve\n",
    "from sklearn.model_selection import GridSearchCV\n",
    "\n",
    "from imblearn.over_sampling import SMOTE\n"
   ]
  },
  {
   "cell_type": "code",
   "execution_count": 2,
   "metadata": {
    "scrolled": true
   },
   "outputs": [
    {
     "data": {
      "text/html": [
       "<div>\n",
       "<style scoped>\n",
       "    .dataframe tbody tr th:only-of-type {\n",
       "        vertical-align: middle;\n",
       "    }\n",
       "\n",
       "    .dataframe tbody tr th {\n",
       "        vertical-align: top;\n",
       "    }\n",
       "\n",
       "    .dataframe thead th {\n",
       "        text-align: right;\n",
       "    }\n",
       "</style>\n",
       "<table border=\"1\" class=\"dataframe\">\n",
       "  <thead>\n",
       "    <tr style=\"text-align: right;\">\n",
       "      <th></th>\n",
       "      <th>Unnamed: 0</th>\n",
       "      <th>id</th>\n",
       "      <th>name</th>\n",
       "      <th>description</th>\n",
       "      <th>ingredients</th>\n",
       "      <th>ingredients_raw_str</th>\n",
       "      <th>serving_size</th>\n",
       "      <th>servings</th>\n",
       "      <th>steps</th>\n",
       "      <th>tags</th>\n",
       "      <th>search_terms</th>\n",
       "      <th>target_tag</th>\n",
       "      <th>target_search_term</th>\n",
       "      <th>target</th>\n",
       "    </tr>\n",
       "  </thead>\n",
       "  <tbody>\n",
       "    <tr>\n",
       "      <th>0</th>\n",
       "      <td>0</td>\n",
       "      <td>96313</td>\n",
       "      <td>Grilled Garlic Cheese Grits</td>\n",
       "      <td>We love grits, this is another good way to ser...</td>\n",
       "      <td>['water', 'grits', 'salt', 'cheddar cheese', '...</td>\n",
       "      <td>[\"4   cups    water\",\"1   cup   uncooked old f...</td>\n",
       "      <td>1 (155 g)</td>\n",
       "      <td>8</td>\n",
       "      <td>['I a sauce pan, bring water to a boil; slowly...</td>\n",
       "      <td>['time-to-make', 'course', 'main-ingredient', ...</td>\n",
       "      <td>{'diabetic', 'low-calorie', 'vegetarian', 'low...</td>\n",
       "      <td>False</td>\n",
       "      <td>False</td>\n",
       "      <td>0</td>\n",
       "    </tr>\n",
       "    <tr>\n",
       "      <th>1</th>\n",
       "      <td>1</td>\n",
       "      <td>232037</td>\n",
       "      <td>Simple Shrimp and Andouille Jambalaya</td>\n",
       "      <td>Simple, easy and very tasty for when you are i...</td>\n",
       "      <td>['onion', 'red bell pepper', 'garlic cloves', ...</td>\n",
       "      <td>[\"1   medium    onion, chopped coarse \",\"1   m...</td>\n",
       "      <td>1 (366 g)</td>\n",
       "      <td>4</td>\n",
       "      <td>['In a food processor, pulse the onion, red pe...</td>\n",
       "      <td>['60-minutes-or-less', 'time-to-make', 'course...</td>\n",
       "      <td>{'dinner', 'shrimp'}</td>\n",
       "      <td>False</td>\n",
       "      <td>True</td>\n",
       "      <td>0</td>\n",
       "    </tr>\n",
       "    <tr>\n",
       "      <th>2</th>\n",
       "      <td>3</td>\n",
       "      <td>60656</td>\n",
       "      <td>Crock Pot Italian Zucchini</td>\n",
       "      <td>This is a good recipe for weight watchers. It ...</td>\n",
       "      <td>['zucchini', 'yellow squash', 'diced tomatoes'...</td>\n",
       "      <td>[\"2       zucchini, sliced \",\"2   small    yel...</td>\n",
       "      <td>1 (244 g)</td>\n",
       "      <td>4</td>\n",
       "      <td>['Put all ingredients in the crock pot and coo...</td>\n",
       "      <td>['weeknight', 'time-to-make', 'course', 'main-...</td>\n",
       "      <td>{'side', 'vegetarian', 'italian'}</td>\n",
       "      <td>True</td>\n",
       "      <td>False</td>\n",
       "      <td>0</td>\n",
       "    </tr>\n",
       "    <tr>\n",
       "      <th>3</th>\n",
       "      <td>4</td>\n",
       "      <td>232047</td>\n",
       "      <td>Beef Stew With Dried Cherries</td>\n",
       "      <td>This is a fabulous stew that came from one of ...</td>\n",
       "      <td>['beef stew meat', 'flour', 'salt', 'allspice'...</td>\n",
       "      <td>[\"3   lbs    beef stew meat\",\"3   tablespoons ...</td>\n",
       "      <td>1 (358 g)</td>\n",
       "      <td>8</td>\n",
       "      <td>['Preheat oven to 350°F.', \"Cut beef into 1 in...</td>\n",
       "      <td>['time-to-make', 'course', 'main-ingredient', ...</td>\n",
       "      <td>{'dinner'}</td>\n",
       "      <td>True</td>\n",
       "      <td>True</td>\n",
       "      <td>1</td>\n",
       "    </tr>\n",
       "    <tr>\n",
       "      <th>4</th>\n",
       "      <td>5</td>\n",
       "      <td>232050</td>\n",
       "      <td>Hot Sweet Almond Brittle</td>\n",
       "      <td>This is one of our standard holiday gift recip...</td>\n",
       "      <td>['slivered almonds', 'cider vinegar', 'sugar',...</td>\n",
       "      <td>[\"12   ounces    slivered almonds\",\"1/4  cup  ...</td>\n",
       "      <td>1 (832 g)</td>\n",
       "      <td>1</td>\n",
       "      <td>['Preheat oven to 375°F  Place almonds in sing...</td>\n",
       "      <td>['time-to-make', 'course', 'preparation', 'des...</td>\n",
       "      <td>{'dessert'}</td>\n",
       "      <td>False</td>\n",
       "      <td>False</td>\n",
       "      <td>0</td>\n",
       "    </tr>\n",
       "  </tbody>\n",
       "</table>\n",
       "</div>"
      ],
      "text/plain": [
       "   Unnamed: 0      id                                   name  \\\n",
       "0           0   96313            Grilled Garlic Cheese Grits   \n",
       "1           1  232037  Simple Shrimp and Andouille Jambalaya   \n",
       "2           3   60656             Crock Pot Italian Zucchini   \n",
       "3           4  232047          Beef Stew With Dried Cherries   \n",
       "4           5  232050               Hot Sweet Almond Brittle   \n",
       "\n",
       "                                         description  \\\n",
       "0  We love grits, this is another good way to ser...   \n",
       "1  Simple, easy and very tasty for when you are i...   \n",
       "2  This is a good recipe for weight watchers. It ...   \n",
       "3  This is a fabulous stew that came from one of ...   \n",
       "4  This is one of our standard holiday gift recip...   \n",
       "\n",
       "                                         ingredients  \\\n",
       "0  ['water', 'grits', 'salt', 'cheddar cheese', '...   \n",
       "1  ['onion', 'red bell pepper', 'garlic cloves', ...   \n",
       "2  ['zucchini', 'yellow squash', 'diced tomatoes'...   \n",
       "3  ['beef stew meat', 'flour', 'salt', 'allspice'...   \n",
       "4  ['slivered almonds', 'cider vinegar', 'sugar',...   \n",
       "\n",
       "                                 ingredients_raw_str serving_size  servings  \\\n",
       "0  [\"4   cups    water\",\"1   cup   uncooked old f...    1 (155 g)         8   \n",
       "1  [\"1   medium    onion, chopped coarse \",\"1   m...    1 (366 g)         4   \n",
       "2  [\"2       zucchini, sliced \",\"2   small    yel...    1 (244 g)         4   \n",
       "3  [\"3   lbs    beef stew meat\",\"3   tablespoons ...    1 (358 g)         8   \n",
       "4  [\"12   ounces    slivered almonds\",\"1/4  cup  ...    1 (832 g)         1   \n",
       "\n",
       "                                               steps  \\\n",
       "0  ['I a sauce pan, bring water to a boil; slowly...   \n",
       "1  ['In a food processor, pulse the onion, red pe...   \n",
       "2  ['Put all ingredients in the crock pot and coo...   \n",
       "3  ['Preheat oven to 350°F.', \"Cut beef into 1 in...   \n",
       "4  ['Preheat oven to 375°F  Place almonds in sing...   \n",
       "\n",
       "                                                tags  \\\n",
       "0  ['time-to-make', 'course', 'main-ingredient', ...   \n",
       "1  ['60-minutes-or-less', 'time-to-make', 'course...   \n",
       "2  ['weeknight', 'time-to-make', 'course', 'main-...   \n",
       "3  ['time-to-make', 'course', 'main-ingredient', ...   \n",
       "4  ['time-to-make', 'course', 'preparation', 'des...   \n",
       "\n",
       "                                        search_terms  target_tag  \\\n",
       "0  {'diabetic', 'low-calorie', 'vegetarian', 'low...       False   \n",
       "1                               {'dinner', 'shrimp'}       False   \n",
       "2                  {'side', 'vegetarian', 'italian'}        True   \n",
       "3                                         {'dinner'}        True   \n",
       "4                                        {'dessert'}       False   \n",
       "\n",
       "   target_search_term  target  \n",
       "0               False       0  \n",
       "1                True       0  \n",
       "2               False       0  \n",
       "3                True       1  \n",
       "4               False       0  "
      ]
     },
     "execution_count": 2,
     "metadata": {},
     "output_type": "execute_result"
    }
   ],
   "source": [
    "df = pd.read_csv('data/recipe_data_w_target.csv')\n",
    "df.head()"
   ]
  },
  {
   "cell_type": "code",
   "execution_count": 3,
   "metadata": {
    "scrolled": true
   },
   "outputs": [
    {
     "name": "stdout",
     "output_type": "stream",
     "text": [
      "<class 'pandas.core.frame.DataFrame'>\n",
      "RangeIndex: 485306 entries, 0 to 485305\n",
      "Data columns (total 14 columns):\n",
      " #   Column               Non-Null Count   Dtype \n",
      "---  ------               --------------   ----- \n",
      " 0   Unnamed: 0           485306 non-null  int64 \n",
      " 1   id                   485306 non-null  int64 \n",
      " 2   name                 485306 non-null  object\n",
      " 3   description          485306 non-null  object\n",
      " 4   ingredients          485306 non-null  object\n",
      " 5   ingredients_raw_str  485306 non-null  object\n",
      " 6   serving_size         485306 non-null  object\n",
      " 7   servings             485306 non-null  int64 \n",
      " 8   steps                485306 non-null  object\n",
      " 9   tags                 485306 non-null  object\n",
      " 10  search_terms         485306 non-null  object\n",
      " 11  target_tag           485306 non-null  bool  \n",
      " 12  target_search_term   485306 non-null  bool  \n",
      " 13  target               485306 non-null  int64 \n",
      "dtypes: bool(2), int64(4), object(8)\n",
      "memory usage: 45.4+ MB\n"
     ]
    }
   ],
   "source": [
    "df.info()"
   ]
  },
  {
   "cell_type": "code",
   "execution_count": 4,
   "metadata": {},
   "outputs": [],
   "source": [
    "def return_to_list(df, column_names):\n",
    "    ''' Takes in list of names of columns containing strings and the dataframe they sit in and returns converts each column's contents into a new\n",
    "    column, called '<original column name>_list', now as lists. May only work on strings that look like lists.... \n",
    "    \n",
    "    Inputs:\n",
    "    df = dataframe with columns being converted to lists\n",
    "    column_names = list of columns whose contents need to be transformed\n",
    "    \n",
    "    Returns: updated dataframe\n",
    "    '''\n",
    "    for col in column_names:\n",
    "        col_name = col + '_list'\n",
    "        df[col_name] = [ast.literal_eval(x) for x in df[col] ]\n",
    "    \n",
    "    return df"
   ]
  },
  {
   "cell_type": "code",
   "execution_count": 5,
   "metadata": {},
   "outputs": [],
   "source": [
    "col_to_list = ['ingredients', 'ingredients_raw_str', 'steps',\n",
    "               'tags', 'search_terms']"
   ]
  },
  {
   "cell_type": "code",
   "execution_count": 6,
   "metadata": {},
   "outputs": [],
   "source": [
    "df = return_to_list(df, col_to_list)"
   ]
  },
  {
   "cell_type": "code",
   "execution_count": 7,
   "metadata": {},
   "outputs": [],
   "source": [
    "df['search_terms_list'] = df['search_terms_list'].apply(lambda x: list(x))"
   ]
  },
  {
   "cell_type": "code",
   "execution_count": 8,
   "metadata": {},
   "outputs": [],
   "source": [
    "def lists_to_count(df, column, series = False):\n",
    "    ''' takes in a column of lists and returns counts for all unique values. \n",
    "    \n",
    "    Inputs:\n",
    "    df - dataframe with column being converted\n",
    "    column - column of lists\n",
    "    series - if set to True returns pandas Series instead of a FreqDist object \n",
    "    \n",
    "    Returns: \n",
    "    Series with unique value counts\n",
    "    '''\n",
    "\n",
    "    all_col = df[column].explode()\n",
    "    col_count = FreqDist(all_col)\n",
    "    \n",
    "    if series:\n",
    "        return pd.Series(dict(col_count))\n",
    "    else:\n",
    "        return col_count"
   ]
  },
  {
   "cell_type": "markdown",
   "metadata": {},
   "source": [
    "# Counts  \n",
    "\n",
    "Reviewing what's in the columns, creating some features along the way."
   ]
  },
  {
   "cell_type": "code",
   "execution_count": 9,
   "metadata": {},
   "outputs": [],
   "source": [
    "df['num_ingredients'] = df['ingredients_list'].apply(lambda x: len(x))\n",
    "df['num_steps'] = df['steps_list'].apply(lambda x: len(x))\n",
    "df['num_char_description'] = df['description'].apply(lambda x: len(x))\n"
   ]
  },
  {
   "cell_type": "code",
   "execution_count": 10,
   "metadata": {},
   "outputs": [
    {
     "data": {
      "text/html": [
       "<div>\n",
       "<style scoped>\n",
       "    .dataframe tbody tr th:only-of-type {\n",
       "        vertical-align: middle;\n",
       "    }\n",
       "\n",
       "    .dataframe tbody tr th {\n",
       "        vertical-align: top;\n",
       "    }\n",
       "\n",
       "    .dataframe thead th {\n",
       "        text-align: right;\n",
       "    }\n",
       "</style>\n",
       "<table border=\"1\" class=\"dataframe\">\n",
       "  <thead>\n",
       "    <tr style=\"text-align: right;\">\n",
       "      <th></th>\n",
       "      <th>Unnamed: 0</th>\n",
       "      <th>id</th>\n",
       "      <th>name</th>\n",
       "      <th>description</th>\n",
       "      <th>ingredients</th>\n",
       "      <th>ingredients_raw_str</th>\n",
       "      <th>serving_size</th>\n",
       "      <th>servings</th>\n",
       "      <th>steps</th>\n",
       "      <th>tags</th>\n",
       "      <th>...</th>\n",
       "      <th>target_search_term</th>\n",
       "      <th>target</th>\n",
       "      <th>ingredients_list</th>\n",
       "      <th>ingredients_raw_str_list</th>\n",
       "      <th>steps_list</th>\n",
       "      <th>tags_list</th>\n",
       "      <th>search_terms_list</th>\n",
       "      <th>num_ingredients</th>\n",
       "      <th>num_steps</th>\n",
       "      <th>num_char_description</th>\n",
       "    </tr>\n",
       "  </thead>\n",
       "  <tbody>\n",
       "    <tr>\n",
       "      <th>0</th>\n",
       "      <td>0</td>\n",
       "      <td>96313</td>\n",
       "      <td>Grilled Garlic Cheese Grits</td>\n",
       "      <td>We love grits, this is another good way to ser...</td>\n",
       "      <td>['water', 'grits', 'salt', 'cheddar cheese', '...</td>\n",
       "      <td>[\"4   cups    water\",\"1   cup   uncooked old f...</td>\n",
       "      <td>1 (155 g)</td>\n",
       "      <td>8</td>\n",
       "      <td>['I a sauce pan, bring water to a boil; slowly...</td>\n",
       "      <td>['time-to-make', 'course', 'main-ingredient', ...</td>\n",
       "      <td>...</td>\n",
       "      <td>False</td>\n",
       "      <td>0</td>\n",
       "      <td>[water, grits, salt, cheddar cheese, garlic, o...</td>\n",
       "      <td>[4   cups    water, 1   cup   uncooked old fas...</td>\n",
       "      <td>[I a sauce pan, bring water to a boil; slowly ...</td>\n",
       "      <td>[time-to-make, course, main-ingredient, prepar...</td>\n",
       "      <td>[low-calorie, low-carb, diabetic, vegetarian, ...</td>\n",
       "      <td>6</td>\n",
       "      <td>4</td>\n",
       "      <td>301</td>\n",
       "    </tr>\n",
       "    <tr>\n",
       "      <th>1</th>\n",
       "      <td>1</td>\n",
       "      <td>232037</td>\n",
       "      <td>Simple Shrimp and Andouille Jambalaya</td>\n",
       "      <td>Simple, easy and very tasty for when you are i...</td>\n",
       "      <td>['onion', 'red bell pepper', 'garlic cloves', ...</td>\n",
       "      <td>[\"1   medium    onion, chopped coarse \",\"1   m...</td>\n",
       "      <td>1 (366 g)</td>\n",
       "      <td>4</td>\n",
       "      <td>['In a food processor, pulse the onion, red pe...</td>\n",
       "      <td>['60-minutes-or-less', 'time-to-make', 'course...</td>\n",
       "      <td>...</td>\n",
       "      <td>True</td>\n",
       "      <td>0</td>\n",
       "      <td>[onion, red bell pepper, garlic cloves, large ...</td>\n",
       "      <td>[1   medium    onion, chopped coarse , 1   med...</td>\n",
       "      <td>[In a food processor, pulse the onion, red pep...</td>\n",
       "      <td>[60-minutes-or-less, time-to-make, course, mai...</td>\n",
       "      <td>[shrimp, dinner]</td>\n",
       "      <td>13</td>\n",
       "      <td>10</td>\n",
       "      <td>138</td>\n",
       "    </tr>\n",
       "    <tr>\n",
       "      <th>2</th>\n",
       "      <td>3</td>\n",
       "      <td>60656</td>\n",
       "      <td>Crock Pot Italian Zucchini</td>\n",
       "      <td>This is a good recipe for weight watchers. It ...</td>\n",
       "      <td>['zucchini', 'yellow squash', 'diced tomatoes'...</td>\n",
       "      <td>[\"2       zucchini, sliced \",\"2   small    yel...</td>\n",
       "      <td>1 (244 g)</td>\n",
       "      <td>4</td>\n",
       "      <td>['Put all ingredients in the crock pot and coo...</td>\n",
       "      <td>['weeknight', 'time-to-make', 'course', 'main-...</td>\n",
       "      <td>...</td>\n",
       "      <td>False</td>\n",
       "      <td>0</td>\n",
       "      <td>[zucchini, yellow squash, diced tomatoes, onio...</td>\n",
       "      <td>[2       zucchini, sliced , 2   small    yello...</td>\n",
       "      <td>[Put all ingredients in the crock pot and cook...</td>\n",
       "      <td>[weeknight, time-to-make, course, main-ingredi...</td>\n",
       "      <td>[italian, vegetarian, side]</td>\n",
       "      <td>9</td>\n",
       "      <td>1</td>\n",
       "      <td>57</td>\n",
       "    </tr>\n",
       "    <tr>\n",
       "      <th>3</th>\n",
       "      <td>4</td>\n",
       "      <td>232047</td>\n",
       "      <td>Beef Stew With Dried Cherries</td>\n",
       "      <td>This is a fabulous stew that came from one of ...</td>\n",
       "      <td>['beef stew meat', 'flour', 'salt', 'allspice'...</td>\n",
       "      <td>[\"3   lbs    beef stew meat\",\"3   tablespoons ...</td>\n",
       "      <td>1 (358 g)</td>\n",
       "      <td>8</td>\n",
       "      <td>['Preheat oven to 350°F.', \"Cut beef into 1 in...</td>\n",
       "      <td>['time-to-make', 'course', 'main-ingredient', ...</td>\n",
       "      <td>...</td>\n",
       "      <td>True</td>\n",
       "      <td>1</td>\n",
       "      <td>[beef stew meat, flour, salt, allspice, cinnam...</td>\n",
       "      <td>[3   lbs    beef stew meat, 3   tablespoons   ...</td>\n",
       "      <td>[Preheat oven to 350°F., Cut beef into 1 inch ...</td>\n",
       "      <td>[time-to-make, course, main-ingredient, prepar...</td>\n",
       "      <td>[dinner]</td>\n",
       "      <td>14</td>\n",
       "      <td>6</td>\n",
       "      <td>392</td>\n",
       "    </tr>\n",
       "    <tr>\n",
       "      <th>4</th>\n",
       "      <td>5</td>\n",
       "      <td>232050</td>\n",
       "      <td>Hot Sweet Almond Brittle</td>\n",
       "      <td>This is one of our standard holiday gift recip...</td>\n",
       "      <td>['slivered almonds', 'cider vinegar', 'sugar',...</td>\n",
       "      <td>[\"12   ounces    slivered almonds\",\"1/4  cup  ...</td>\n",
       "      <td>1 (832 g)</td>\n",
       "      <td>1</td>\n",
       "      <td>['Preheat oven to 375°F  Place almonds in sing...</td>\n",
       "      <td>['time-to-make', 'course', 'preparation', 'des...</td>\n",
       "      <td>...</td>\n",
       "      <td>False</td>\n",
       "      <td>0</td>\n",
       "      <td>[slivered almonds, cider vinegar, sugar, sugar...</td>\n",
       "      <td>[12   ounces    slivered almonds, 1/4  cup    ...</td>\n",
       "      <td>[Preheat oven to 375°F  Place almonds in singl...</td>\n",
       "      <td>[time-to-make, course, preparation, desserts, ...</td>\n",
       "      <td>[dessert]</td>\n",
       "      <td>8</td>\n",
       "      <td>4</td>\n",
       "      <td>164</td>\n",
       "    </tr>\n",
       "  </tbody>\n",
       "</table>\n",
       "<p>5 rows × 22 columns</p>\n",
       "</div>"
      ],
      "text/plain": [
       "   Unnamed: 0      id                                   name  \\\n",
       "0           0   96313            Grilled Garlic Cheese Grits   \n",
       "1           1  232037  Simple Shrimp and Andouille Jambalaya   \n",
       "2           3   60656             Crock Pot Italian Zucchini   \n",
       "3           4  232047          Beef Stew With Dried Cherries   \n",
       "4           5  232050               Hot Sweet Almond Brittle   \n",
       "\n",
       "                                         description  \\\n",
       "0  We love grits, this is another good way to ser...   \n",
       "1  Simple, easy and very tasty for when you are i...   \n",
       "2  This is a good recipe for weight watchers. It ...   \n",
       "3  This is a fabulous stew that came from one of ...   \n",
       "4  This is one of our standard holiday gift recip...   \n",
       "\n",
       "                                         ingredients  \\\n",
       "0  ['water', 'grits', 'salt', 'cheddar cheese', '...   \n",
       "1  ['onion', 'red bell pepper', 'garlic cloves', ...   \n",
       "2  ['zucchini', 'yellow squash', 'diced tomatoes'...   \n",
       "3  ['beef stew meat', 'flour', 'salt', 'allspice'...   \n",
       "4  ['slivered almonds', 'cider vinegar', 'sugar',...   \n",
       "\n",
       "                                 ingredients_raw_str serving_size  servings  \\\n",
       "0  [\"4   cups    water\",\"1   cup   uncooked old f...    1 (155 g)         8   \n",
       "1  [\"1   medium    onion, chopped coarse \",\"1   m...    1 (366 g)         4   \n",
       "2  [\"2       zucchini, sliced \",\"2   small    yel...    1 (244 g)         4   \n",
       "3  [\"3   lbs    beef stew meat\",\"3   tablespoons ...    1 (358 g)         8   \n",
       "4  [\"12   ounces    slivered almonds\",\"1/4  cup  ...    1 (832 g)         1   \n",
       "\n",
       "                                               steps  \\\n",
       "0  ['I a sauce pan, bring water to a boil; slowly...   \n",
       "1  ['In a food processor, pulse the onion, red pe...   \n",
       "2  ['Put all ingredients in the crock pot and coo...   \n",
       "3  ['Preheat oven to 350°F.', \"Cut beef into 1 in...   \n",
       "4  ['Preheat oven to 375°F  Place almonds in sing...   \n",
       "\n",
       "                                                tags  ... target_search_term  \\\n",
       "0  ['time-to-make', 'course', 'main-ingredient', ...  ...              False   \n",
       "1  ['60-minutes-or-less', 'time-to-make', 'course...  ...               True   \n",
       "2  ['weeknight', 'time-to-make', 'course', 'main-...  ...              False   \n",
       "3  ['time-to-make', 'course', 'main-ingredient', ...  ...               True   \n",
       "4  ['time-to-make', 'course', 'preparation', 'des...  ...              False   \n",
       "\n",
       "   target                                   ingredients_list  \\\n",
       "0       0  [water, grits, salt, cheddar cheese, garlic, o...   \n",
       "1       0  [onion, red bell pepper, garlic cloves, large ...   \n",
       "2       0  [zucchini, yellow squash, diced tomatoes, onio...   \n",
       "3       1  [beef stew meat, flour, salt, allspice, cinnam...   \n",
       "4       0  [slivered almonds, cider vinegar, sugar, sugar...   \n",
       "\n",
       "                            ingredients_raw_str_list  \\\n",
       "0  [4   cups    water, 1   cup   uncooked old fas...   \n",
       "1  [1   medium    onion, chopped coarse , 1   med...   \n",
       "2  [2       zucchini, sliced , 2   small    yello...   \n",
       "3  [3   lbs    beef stew meat, 3   tablespoons   ...   \n",
       "4  [12   ounces    slivered almonds, 1/4  cup    ...   \n",
       "\n",
       "                                          steps_list  \\\n",
       "0  [I a sauce pan, bring water to a boil; slowly ...   \n",
       "1  [In a food processor, pulse the onion, red pep...   \n",
       "2  [Put all ingredients in the crock pot and cook...   \n",
       "3  [Preheat oven to 350°F., Cut beef into 1 inch ...   \n",
       "4  [Preheat oven to 375°F  Place almonds in singl...   \n",
       "\n",
       "                                           tags_list  \\\n",
       "0  [time-to-make, course, main-ingredient, prepar...   \n",
       "1  [60-minutes-or-less, time-to-make, course, mai...   \n",
       "2  [weeknight, time-to-make, course, main-ingredi...   \n",
       "3  [time-to-make, course, main-ingredient, prepar...   \n",
       "4  [time-to-make, course, preparation, desserts, ...   \n",
       "\n",
       "                                   search_terms_list num_ingredients  \\\n",
       "0  [low-calorie, low-carb, diabetic, vegetarian, ...               6   \n",
       "1                                   [shrimp, dinner]              13   \n",
       "2                        [italian, vegetarian, side]               9   \n",
       "3                                           [dinner]              14   \n",
       "4                                          [dessert]               8   \n",
       "\n",
       "  num_steps  num_char_description  \n",
       "0         4                   301  \n",
       "1        10                   138  \n",
       "2         1                    57  \n",
       "3         6                   392  \n",
       "4         4                   164  \n",
       "\n",
       "[5 rows x 22 columns]"
      ]
     },
     "execution_count": 10,
     "metadata": {},
     "output_type": "execute_result"
    }
   ],
   "source": [
    "df.head()"
   ]
  },
  {
   "cell_type": "code",
   "execution_count": 11,
   "metadata": {},
   "outputs": [],
   "source": [
    "ingredients_count = lists_to_count(df, 'ingredients_list', series = True).sort_values(ascending=False)\n",
    "search_terms_count = lists_to_count(df, 'search_terms_list', series = True).sort_values(ascending=False)\n",
    "tags_count = lists_to_count(df, 'tags_list', series = True).sort_values(ascending=False)"
   ]
  },
  {
   "cell_type": "code",
   "execution_count": 12,
   "metadata": {},
   "outputs": [
    {
     "data": {
      "text/plain": [
       "salt                                   187669\n",
       "butter                                 125909\n",
       "sugar                                  107156\n",
       "onion                                   82528\n",
       "eggs                                    77441\n",
       "                                        ...  \n",
       "marzetti light blue cheese dressing         1\n",
       "garlic melba toast rounds                   1\n",
       "sugar free rocky road cookies               1\n",
       "lime-infused oil                            1\n",
       "black truffle juice                         1\n",
       "Length: 18368, dtype: int64"
      ]
     },
     "execution_count": 12,
     "metadata": {},
     "output_type": "execute_result"
    }
   ],
   "source": [
    "ingredients_count"
   ]
  },
  {
   "cell_type": "code",
   "execution_count": 13,
   "metadata": {
    "scrolled": false
   },
   "outputs": [
    {
     "data": {
      "text/plain": [
       "Text(0.5, 1.0, '20 Most Popular Ingredients')"
      ]
     },
     "execution_count": 13,
     "metadata": {},
     "output_type": "execute_result"
    },
    {
     "data": {
      "image/png": "[encoded data removed]",
      "text/plain": [
       "<Figure size 720x720 with 1 Axes>"
      ]
     },
     "metadata": {
      "needs_background": "light"
     },
     "output_type": "display_data"
    }
   ],
   "source": [
    "\n",
    "fig, ax = plt.subplots(figsize=(10,10))\n",
    "\n",
    "# plotting the 20 most frequently used ingredients \n",
    "all_plot = sns.barplot(x=ingredients_count.index[:20], y=ingredients_count.values[:20], ax=ax)\n",
    "plt.xticks(rotation=45);\n",
    "plt.title('20 Most Popular Ingredients')"
   ]
  },
  {
   "cell_type": "code",
   "execution_count": 14,
   "metadata": {},
   "outputs": [
    {
     "data": {
      "text/plain": [
       "Text(0.5, 1.0, '% Recipies w/the 20 Most Popular Ingredients')"
      ]
     },
     "execution_count": 14,
     "metadata": {},
     "output_type": "execute_result"
    },
    {
     "data": {
      "image/png": "[encoded data removed]",
      "text/plain": [
       "<Figure size 720x720 with 1 Axes>"
      ]
     },
     "metadata": {
      "needs_background": "light"
     },
     "output_type": "display_data"
    }
   ],
   "source": [
    "\n",
    "fig, ax = plt.subplots(figsize=(10,10))\n",
    "\n",
    "# plotting the 20 most frequently used ingredients \n",
    "all_plot = sns.barplot(x=ingredients_count.index[:20], y=ingredients_count.values[:20]/ingredients_count.sum(),\n",
    "                       ax=ax)\n",
    "plt.xticks(rotation=45);\n",
    "plt.title('% Recipies w/the 20 Most Popular Ingredients')"
   ]
  },
  {
   "cell_type": "code",
   "execution_count": 15,
   "metadata": {},
   "outputs": [
    {
     "data": {
      "text/plain": [
       "Text(0.5, 1.0, '20 Most Popular Search Terms')"
      ]
     },
     "execution_count": 15,
     "metadata": {},
     "output_type": "execute_result"
    },
    {
     "data": {
      "image/png": "[encoded data removed]",
      "text/plain": [
       "<Figure size 720x720 with 1 Axes>"
      ]
     },
     "metadata": {
      "needs_background": "light"
     },
     "output_type": "display_data"
    }
   ],
   "source": [
    "fig, ax = plt.subplots(figsize=(10,10))\n",
    "\n",
    "# plotting the 20 most frequently used ingredients \n",
    "all_plot = sns.barplot(x=search_terms_count.index[:20], y=search_terms_count.values[:20], ax=ax)\n",
    "plt.xticks(rotation=45);\n",
    "plt.title('20 Most Popular Search Terms')"
   ]
  },
  {
   "cell_type": "code",
   "execution_count": 16,
   "metadata": {
    "scrolled": true
   },
   "outputs": [
    {
     "data": {
      "text/plain": [
       "Text(0.5, 1.0, '% of Recipes Listed w/ 20 Most Popular Search Terms')"
      ]
     },
     "execution_count": 16,
     "metadata": {},
     "output_type": "execute_result"
    },
    {
     "data": {
      "image/png": "[encoded data removed]",
      "text/plain": [
       "<Figure size 720x720 with 1 Axes>"
      ]
     },
     "metadata": {
      "needs_background": "light"
     },
     "output_type": "display_data"
    }
   ],
   "source": [
    "\n",
    "fig, ax = plt.subplots(figsize=(10,10))\n",
    "\n",
    "# plotting the 20 most frequently used ingredients \n",
    "all_plot = sns.barplot(x=search_terms_count.index[:20], y=search_terms_count.values[:20]/search_terms_count.sum(), ax=ax)\n",
    "plt.xticks(rotation=45);\n",
    "plt.title('% of Recipes Listed w/ 20 Most Popular Search Terms')"
   ]
  },
  {
   "cell_type": "code",
   "execution_count": 17,
   "metadata": {
    "scrolled": true
   },
   "outputs": [
    {
     "data": {
      "text/plain": [
       "Text(0.5, 1.0, '20 Most Popular Tags')"
      ]
     },
     "execution_count": 17,
     "metadata": {},
     "output_type": "execute_result"
    },
    {
     "data": {
      "image/png": "[encoded data removed]",
      "text/plain": [
       "<Figure size 720x720 with 1 Axes>"
      ]
     },
     "metadata": {
      "needs_background": "light"
     },
     "output_type": "display_data"
    }
   ],
   "source": [
    "\n",
    "fig, ax = plt.subplots(figsize=(10,10))\n",
    "\n",
    "# plotting the 20 most frequently used ingredients \n",
    "all_plot = sns.barplot(x=tags_count.index[:20], y=tags_count.values[:20], ax=ax)\n",
    "plt.xticks(rotation=55);\n",
    "plt.title('20 Most Popular Tags')"
   ]
  },
  {
   "cell_type": "code",
   "execution_count": 18,
   "metadata": {},
   "outputs": [],
   "source": [
    "easy_ingredient_count = lists_to_count(df[df['target'] == 1], 'ingredients_list', series = True).sort_values(ascending=False)\n",
    "not_easy_ingredient_count = lists_to_count(df[df['target'] == 0], 'ingredients_list', series = True).sort_values(ascending=False)\n"
   ]
  },
  {
   "cell_type": "code",
   "execution_count": 19,
   "metadata": {},
   "outputs": [
    {
     "name": "stderr",
     "output_type": "stream",
     "text": [
      "<ipython-input-19-f835a0e72603>:5: UserWarning: FixedFormatter should only be used together with FixedLocator\n",
      "  ax[0].set_xticklabels(easy_ingredient_count.index[:20])\n",
      "<ipython-input-19-f835a0e72603>:10: UserWarning: FixedFormatter should only be used together with FixedLocator\n",
      "  ax[1].set_xticklabels(not_easy_ingredient_count.index[:20])\n"
     ]
    },
    {
     "data": {
      "image/png": "[encoded data removed]",
      "text/plain": [
       "<Figure size 864x288 with 2 Axes>"
      ]
     },
     "metadata": {
      "needs_background": "light"
     },
     "output_type": "display_data"
    }
   ],
   "source": [
    "fig, ax = plt.subplots(nrows=1, ncols=2, figsize=(12,4))\n",
    "\n",
    "ax[0].bar(easy_ingredient_count.index[:20], easy_ingredient_count.values[:20])\n",
    "ax[0].set_title('Most Popular Easy Recipe Ingredients')\n",
    "ax[0].set_xticklabels(easy_ingredient_count.index[:20])\n",
    "ax[0].tick_params(axis='x', labelrotation=70);\n",
    "\n",
    "ax[1].bar(not_easy_ingredient_count.index[:20], not_easy_ingredient_count.values[:20])\n",
    "ax[1].set_title('Most Popular Difficult Recipe Ingredients')\n",
    "ax[1].set_xticklabels(not_easy_ingredient_count.index[:20])\n",
    "ax[1].tick_params(axis='x', labelrotation=70);"
   ]
  },
  {
   "cell_type": "code",
   "execution_count": 20,
   "metadata": {},
   "outputs": [
    {
     "data": {
      "text/plain": [
       "883251"
      ]
     },
     "execution_count": 20,
     "metadata": {},
     "output_type": "execute_result"
    }
   ],
   "source": [
    "easy_ingredient_count.sum()"
   ]
  },
  {
   "cell_type": "code",
   "execution_count": 21,
   "metadata": {},
   "outputs": [
    {
     "data": {
      "text/plain": [
       "4575936"
      ]
     },
     "execution_count": 21,
     "metadata": {},
     "output_type": "execute_result"
    }
   ],
   "source": [
    "ingredients_count.sum()"
   ]
  },
  {
   "cell_type": "code",
   "execution_count": 22,
   "metadata": {},
   "outputs": [
    {
     "data": {
      "text/plain": [
       "0    386689\n",
       "1     98617\n",
       "Name: target, dtype: int64"
      ]
     },
     "execution_count": 22,
     "metadata": {},
     "output_type": "execute_result"
    }
   ],
   "source": [
    "df['target'].value_counts()"
   ]
  },
  {
   "cell_type": "code",
   "execution_count": 25,
   "metadata": {},
   "outputs": [
    {
     "data": {
      "text/plain": [
       "<AxesSubplot:>"
      ]
     },
     "execution_count": 25,
     "metadata": {},
     "output_type": "execute_result"
    },
    {
     "data": {
      "image/png": "[encoded data removed]",
      "text/plain": [
       "<Figure size 432x288 with 1 Axes>"
      ]
     },
     "metadata": {
      "needs_background": "light"
     },
     "output_type": "display_data"
    }
   ],
   "source": [
    "# note the imbalance in the data\n",
    "df.target.value_counts().plot(kind ='bar')\n"
   ]
  },
  {
   "cell_type": "markdown",
   "metadata": {},
   "source": [
    "### Cleaning up and Exploring \"Steps\""
   ]
  },
  {
   "cell_type": "code",
   "execution_count": 138,
   "metadata": {},
   "outputs": [],
   "source": [
    "def basic_cleaning(df, column):\n",
    "    new_col = 'cleaned_' +column\n",
    "    # convert to lowercase\n",
    "    df[new_col] = df[column].apply(lambda x: x.lower())\n",
    "    \n",
    "    # remove punctuation and non-characters\n",
    "    df[new_col] = df[new_col].apply(lambda x: re.sub(r'[^\\w\\s]','',x))\n",
    "    df[new_col] = df[new_col].apply(lambda x: re.sub('[0-9\\n]',' ',x))\n",
    "\n",
    "    #strip whitespace\n",
    "    df[new_col] = df[new_col].apply(lambda x: re.sub('[ ]{2,}',' ',x))\n",
    "    \n",
    "    return df"
   ]
  },
  {
   "cell_type": "code",
   "execution_count": null,
   "metadata": {},
   "outputs": [],
   "source": [
    "df = basic_cleaning(df, 'steps')"
   ]
  },
  {
   "cell_type": "code",
   "execution_count": 95,
   "metadata": {},
   "outputs": [],
   "source": [
    "# # convert to lowercase\n",
    "# df['cleaned_steps'] = df['steps'].apply(lambda x: x.lower())\n",
    "\n",
    "\n",
    "# # remove punctuation and non-characters\n",
    "# df['cleaned_steps'] = df['cleaned_steps'].apply(lambda x: re.sub(r'[^\\w\\s]','',x))\n",
    "# df['cleaned_steps'] = df['cleaned_steps'].apply(lambda x: re.sub('[0-9\\n]',' ',x))\n",
    "\n",
    "# #strip whitespace\n",
    "# df['cleaned_steps'] = df['cleaned_steps'].apply(lambda x: re.sub('[ ]{2,}',' ',x))"
   ]
  },
  {
   "cell_type": "code",
   "execution_count": 96,
   "metadata": {},
   "outputs": [],
   "source": [
    "step = df['cleaned_steps'][0]"
   ]
  },
  {
   "cell_type": "code",
   "execution_count": 97,
   "metadata": {},
   "outputs": [
    {
     "data": {
      "text/plain": [
       "'i a sauce pan bring water to a boil slowly add grits and salt stirring constantly reduce heatsimmer uncovered for minutes or untill thickened stirrin occasionally add cheese and garlic stir until cheese is melted spray inch baking dish with nonstick cooking spray cover and refrigerate for to hours or until frim before starting the grill coat the grill rack with nonstick cooking spray cut the grits into inch squares brush both sides with olive oil grill covered over medium heat for to minutes on each side or until lightly browned'"
      ]
     },
     "execution_count": 97,
     "metadata": {},
     "output_type": "execute_result"
    }
   ],
   "source": [
    "step"
   ]
  },
  {
   "cell_type": "code",
   "execution_count": 98,
   "metadata": {},
   "outputs": [
    {
     "data": {
      "text/html": [
       "<div>\n",
       "<style scoped>\n",
       "    .dataframe tbody tr th:only-of-type {\n",
       "        vertical-align: middle;\n",
       "    }\n",
       "\n",
       "    .dataframe tbody tr th {\n",
       "        vertical-align: top;\n",
       "    }\n",
       "\n",
       "    .dataframe thead th {\n",
       "        text-align: right;\n",
       "    }\n",
       "</style>\n",
       "<table border=\"1\" class=\"dataframe\">\n",
       "  <thead>\n",
       "    <tr style=\"text-align: right;\">\n",
       "      <th></th>\n",
       "      <th>Unnamed: 0</th>\n",
       "      <th>id</th>\n",
       "      <th>name</th>\n",
       "      <th>description</th>\n",
       "      <th>ingredients</th>\n",
       "      <th>ingredients_raw_str</th>\n",
       "      <th>serving_size</th>\n",
       "      <th>servings</th>\n",
       "      <th>steps</th>\n",
       "      <th>tags</th>\n",
       "      <th>...</th>\n",
       "      <th>ingredients_raw_str_list</th>\n",
       "      <th>steps_list</th>\n",
       "      <th>tags_list</th>\n",
       "      <th>search_terms_list</th>\n",
       "      <th>num_ingredients</th>\n",
       "      <th>num_steps</th>\n",
       "      <th>num_char_description</th>\n",
       "      <th>cleaned_steps</th>\n",
       "      <th>clean_tweet</th>\n",
       "      <th>step_tokens</th>\n",
       "    </tr>\n",
       "  </thead>\n",
       "  <tbody>\n",
       "    <tr>\n",
       "      <th>0</th>\n",
       "      <td>0</td>\n",
       "      <td>96313</td>\n",
       "      <td>Grilled Garlic Cheese Grits</td>\n",
       "      <td>We love grits, this is another good way to ser...</td>\n",
       "      <td>['water', 'grits', 'salt', 'cheddar cheese', '...</td>\n",
       "      <td>[\"4   cups    water\",\"1   cup   uncooked old f...</td>\n",
       "      <td>1 (155 g)</td>\n",
       "      <td>8</td>\n",
       "      <td>['I a sauce pan, bring water to a boil; slowly...</td>\n",
       "      <td>['time-to-make', 'course', 'main-ingredient', ...</td>\n",
       "      <td>...</td>\n",
       "      <td>[4   cups    water, 1   cup   uncooked old fas...</td>\n",
       "      <td>[I a sauce pan, bring water to a boil; slowly ...</td>\n",
       "      <td>[time-to-make, course, main-ingredient, prepar...</td>\n",
       "      <td>[low-calorie, low-carb, diabetic, vegetarian, ...</td>\n",
       "      <td>6</td>\n",
       "      <td>4</td>\n",
       "      <td>301</td>\n",
       "      <td>i a sauce pan bring water to a boil slowly add...</td>\n",
       "      <td>['i a sauce pan, bring water to a boil; slowly...</td>\n",
       "      <td>[i, a, sauce, pan, bring, water, to, a, boil, ...</td>\n",
       "    </tr>\n",
       "    <tr>\n",
       "      <th>1</th>\n",
       "      <td>1</td>\n",
       "      <td>232037</td>\n",
       "      <td>Simple Shrimp and Andouille Jambalaya</td>\n",
       "      <td>Simple, easy and very tasty for when you are i...</td>\n",
       "      <td>['onion', 'red bell pepper', 'garlic cloves', ...</td>\n",
       "      <td>[\"1   medium    onion, chopped coarse \",\"1   m...</td>\n",
       "      <td>1 (366 g)</td>\n",
       "      <td>4</td>\n",
       "      <td>['In a food processor, pulse the onion, red pe...</td>\n",
       "      <td>['60-minutes-or-less', 'time-to-make', 'course...</td>\n",
       "      <td>...</td>\n",
       "      <td>[1   medium    onion, chopped coarse , 1   med...</td>\n",
       "      <td>[In a food processor, pulse the onion, red pep...</td>\n",
       "      <td>[60-minutes-or-less, time-to-make, course, mai...</td>\n",
       "      <td>[shrimp, dinner]</td>\n",
       "      <td>13</td>\n",
       "      <td>10</td>\n",
       "      <td>138</td>\n",
       "      <td>in a food processor pulse the onion red pepper...</td>\n",
       "      <td>['in a food processor, pulse the onion, red pe...</td>\n",
       "      <td>[in, a, food, processor, pulse, the, onion, re...</td>\n",
       "    </tr>\n",
       "    <tr>\n",
       "      <th>2</th>\n",
       "      <td>3</td>\n",
       "      <td>60656</td>\n",
       "      <td>Crock Pot Italian Zucchini</td>\n",
       "      <td>This is a good recipe for weight watchers. It ...</td>\n",
       "      <td>['zucchini', 'yellow squash', 'diced tomatoes'...</td>\n",
       "      <td>[\"2       zucchini, sliced \",\"2   small    yel...</td>\n",
       "      <td>1 (244 g)</td>\n",
       "      <td>4</td>\n",
       "      <td>['Put all ingredients in the crock pot and coo...</td>\n",
       "      <td>['weeknight', 'time-to-make', 'course', 'main-...</td>\n",
       "      <td>...</td>\n",
       "      <td>[2       zucchini, sliced , 2   small    yello...</td>\n",
       "      <td>[Put all ingredients in the crock pot and cook...</td>\n",
       "      <td>[weeknight, time-to-make, course, main-ingredi...</td>\n",
       "      <td>[italian, vegetarian, side]</td>\n",
       "      <td>9</td>\n",
       "      <td>1</td>\n",
       "      <td>57</td>\n",
       "      <td>put all ingredients in the crock pot and cook ...</td>\n",
       "      <td>['put all ingredients in the crock pot and coo...</td>\n",
       "      <td>[put, all, ingredients, in, the, crock, pot, a...</td>\n",
       "    </tr>\n",
       "    <tr>\n",
       "      <th>3</th>\n",
       "      <td>4</td>\n",
       "      <td>232047</td>\n",
       "      <td>Beef Stew With Dried Cherries</td>\n",
       "      <td>This is a fabulous stew that came from one of ...</td>\n",
       "      <td>['beef stew meat', 'flour', 'salt', 'allspice'...</td>\n",
       "      <td>[\"3   lbs    beef stew meat\",\"3   tablespoons ...</td>\n",
       "      <td>1 (358 g)</td>\n",
       "      <td>8</td>\n",
       "      <td>['Preheat oven to 350°F.', \"Cut beef into 1 in...</td>\n",
       "      <td>['time-to-make', 'course', 'main-ingredient', ...</td>\n",
       "      <td>...</td>\n",
       "      <td>[3   lbs    beef stew meat, 3   tablespoons   ...</td>\n",
       "      <td>[Preheat oven to 350°F., Cut beef into 1 inch ...</td>\n",
       "      <td>[time-to-make, course, main-ingredient, prepar...</td>\n",
       "      <td>[dinner]</td>\n",
       "      <td>14</td>\n",
       "      <td>6</td>\n",
       "      <td>392</td>\n",
       "      <td>preheat oven to f cut beef into inch cubes com...</td>\n",
       "      <td>['preheat oven to °f.', \"cut beef into inch cu...</td>\n",
       "      <td>[preheat, oven, to, f, cut, beef, into, inch, ...</td>\n",
       "    </tr>\n",
       "    <tr>\n",
       "      <th>4</th>\n",
       "      <td>5</td>\n",
       "      <td>232050</td>\n",
       "      <td>Hot Sweet Almond Brittle</td>\n",
       "      <td>This is one of our standard holiday gift recip...</td>\n",
       "      <td>['slivered almonds', 'cider vinegar', 'sugar',...</td>\n",
       "      <td>[\"12   ounces    slivered almonds\",\"1/4  cup  ...</td>\n",
       "      <td>1 (832 g)</td>\n",
       "      <td>1</td>\n",
       "      <td>['Preheat oven to 375°F  Place almonds in sing...</td>\n",
       "      <td>['time-to-make', 'course', 'preparation', 'des...</td>\n",
       "      <td>...</td>\n",
       "      <td>[12   ounces    slivered almonds, 1/4  cup    ...</td>\n",
       "      <td>[Preheat oven to 375°F  Place almonds in singl...</td>\n",
       "      <td>[time-to-make, course, preparation, desserts, ...</td>\n",
       "      <td>[dessert]</td>\n",
       "      <td>8</td>\n",
       "      <td>4</td>\n",
       "      <td>164</td>\n",
       "      <td>preheat oven to f place almonds in single laye...</td>\n",
       "      <td>['preheat oven to °f place almonds in single l...</td>\n",
       "      <td>[preheat, oven, to, f, place, almonds, in, sin...</td>\n",
       "    </tr>\n",
       "  </tbody>\n",
       "</table>\n",
       "<p>5 rows × 25 columns</p>\n",
       "</div>"
      ],
      "text/plain": [
       "   Unnamed: 0      id                                   name  \\\n",
       "0           0   96313            Grilled Garlic Cheese Grits   \n",
       "1           1  232037  Simple Shrimp and Andouille Jambalaya   \n",
       "2           3   60656             Crock Pot Italian Zucchini   \n",
       "3           4  232047          Beef Stew With Dried Cherries   \n",
       "4           5  232050               Hot Sweet Almond Brittle   \n",
       "\n",
       "                                         description  \\\n",
       "0  We love grits, this is another good way to ser...   \n",
       "1  Simple, easy and very tasty for when you are i...   \n",
       "2  This is a good recipe for weight watchers. It ...   \n",
       "3  This is a fabulous stew that came from one of ...   \n",
       "4  This is one of our standard holiday gift recip...   \n",
       "\n",
       "                                         ingredients  \\\n",
       "0  ['water', 'grits', 'salt', 'cheddar cheese', '...   \n",
       "1  ['onion', 'red bell pepper', 'garlic cloves', ...   \n",
       "2  ['zucchini', 'yellow squash', 'diced tomatoes'...   \n",
       "3  ['beef stew meat', 'flour', 'salt', 'allspice'...   \n",
       "4  ['slivered almonds', 'cider vinegar', 'sugar',...   \n",
       "\n",
       "                                 ingredients_raw_str serving_size  servings  \\\n",
       "0  [\"4   cups    water\",\"1   cup   uncooked old f...    1 (155 g)         8   \n",
       "1  [\"1   medium    onion, chopped coarse \",\"1   m...    1 (366 g)         4   \n",
       "2  [\"2       zucchini, sliced \",\"2   small    yel...    1 (244 g)         4   \n",
       "3  [\"3   lbs    beef stew meat\",\"3   tablespoons ...    1 (358 g)         8   \n",
       "4  [\"12   ounces    slivered almonds\",\"1/4  cup  ...    1 (832 g)         1   \n",
       "\n",
       "                                               steps  \\\n",
       "0  ['I a sauce pan, bring water to a boil; slowly...   \n",
       "1  ['In a food processor, pulse the onion, red pe...   \n",
       "2  ['Put all ingredients in the crock pot and coo...   \n",
       "3  ['Preheat oven to 350°F.', \"Cut beef into 1 in...   \n",
       "4  ['Preheat oven to 375°F  Place almonds in sing...   \n",
       "\n",
       "                                                tags  ...  \\\n",
       "0  ['time-to-make', 'course', 'main-ingredient', ...  ...   \n",
       "1  ['60-minutes-or-less', 'time-to-make', 'course...  ...   \n",
       "2  ['weeknight', 'time-to-make', 'course', 'main-...  ...   \n",
       "3  ['time-to-make', 'course', 'main-ingredient', ...  ...   \n",
       "4  ['time-to-make', 'course', 'preparation', 'des...  ...   \n",
       "\n",
       "                            ingredients_raw_str_list  \\\n",
       "0  [4   cups    water, 1   cup   uncooked old fas...   \n",
       "1  [1   medium    onion, chopped coarse , 1   med...   \n",
       "2  [2       zucchini, sliced , 2   small    yello...   \n",
       "3  [3   lbs    beef stew meat, 3   tablespoons   ...   \n",
       "4  [12   ounces    slivered almonds, 1/4  cup    ...   \n",
       "\n",
       "                                          steps_list  \\\n",
       "0  [I a sauce pan, bring water to a boil; slowly ...   \n",
       "1  [In a food processor, pulse the onion, red pep...   \n",
       "2  [Put all ingredients in the crock pot and cook...   \n",
       "3  [Preheat oven to 350°F., Cut beef into 1 inch ...   \n",
       "4  [Preheat oven to 375°F  Place almonds in singl...   \n",
       "\n",
       "                                           tags_list  \\\n",
       "0  [time-to-make, course, main-ingredient, prepar...   \n",
       "1  [60-minutes-or-less, time-to-make, course, mai...   \n",
       "2  [weeknight, time-to-make, course, main-ingredi...   \n",
       "3  [time-to-make, course, main-ingredient, prepar...   \n",
       "4  [time-to-make, course, preparation, desserts, ...   \n",
       "\n",
       "                                   search_terms_list num_ingredients  \\\n",
       "0  [low-calorie, low-carb, diabetic, vegetarian, ...               6   \n",
       "1                                   [shrimp, dinner]              13   \n",
       "2                        [italian, vegetarian, side]               9   \n",
       "3                                           [dinner]              14   \n",
       "4                                          [dessert]               8   \n",
       "\n",
       "  num_steps num_char_description  \\\n",
       "0         4                  301   \n",
       "1        10                  138   \n",
       "2         1                   57   \n",
       "3         6                  392   \n",
       "4         4                  164   \n",
       "\n",
       "                                       cleaned_steps  \\\n",
       "0  i a sauce pan bring water to a boil slowly add...   \n",
       "1  in a food processor pulse the onion red pepper...   \n",
       "2  put all ingredients in the crock pot and cook ...   \n",
       "3  preheat oven to f cut beef into inch cubes com...   \n",
       "4  preheat oven to f place almonds in single laye...   \n",
       "\n",
       "                                         clean_tweet  \\\n",
       "0  ['i a sauce pan, bring water to a boil; slowly...   \n",
       "1  ['in a food processor, pulse the onion, red pe...   \n",
       "2  ['put all ingredients in the crock pot and coo...   \n",
       "3  ['preheat oven to °f.', \"cut beef into inch cu...   \n",
       "4  ['preheat oven to °f place almonds in single l...   \n",
       "\n",
       "                                         step_tokens  \n",
       "0  [i, a, sauce, pan, bring, water, to, a, boil, ...  \n",
       "1  [in, a, food, processor, pulse, the, onion, re...  \n",
       "2  [put, all, ingredients, in, the, crock, pot, a...  \n",
       "3  [preheat, oven, to, f, cut, beef, into, inch, ...  \n",
       "4  [preheat, oven, to, f, place, almonds, in, sin...  \n",
       "\n",
       "[5 rows x 25 columns]"
      ]
     },
     "execution_count": 98,
     "metadata": {},
     "output_type": "execute_result"
    }
   ],
   "source": [
    "df['step_tokens'] = df['cleaned_steps'].apply(lambda x: x.split())\n",
    "df.head()"
   ]
  },
  {
   "cell_type": "code",
   "execution_count": 141,
   "metadata": {},
   "outputs": [
    {
     "name": "stderr",
     "output_type": "stream",
     "text": [
      "<ipython-input-141-4c931356e4ca>:5: UserWarning: FixedFormatter should only be used together with FixedLocator\n",
      "  ax.set_xticklabels(token_count.index[:20])\n"
     ]
    },
    {
     "data": {
      "image/png": "[encoded data removed]",
      "text/plain": [
       "<Figure size 864x288 with 1 Axes>"
      ]
     },
     "metadata": {
      "needs_background": "light"
     },
     "output_type": "display_data"
    }
   ],
   "source": [
    "fig, ax = plt.subplots(figsize=(12,4))\n",
    "\n",
    "ax.bar(token_count.index[:20], token_count.values[:20])\n",
    "ax.set_title('Most Common Words in Steps')\n",
    "ax.set_xticklabels(token_count.index[:20])\n",
    "ax.tick_params(axis='x', labelrotation=70);"
   ]
  },
  {
   "cell_type": "code",
   "execution_count": 107,
   "metadata": {},
   "outputs": [],
   "source": [
    "#can see this is mostly stopwords - what if we remove those and re-plot"
   ]
  },
  {
   "cell_type": "code",
   "execution_count": 108,
   "metadata": {},
   "outputs": [
    {
     "data": {
      "text/plain": [
       "['i',\n",
       " 'me',\n",
       " 'my',\n",
       " 'myself',\n",
       " 'we',\n",
       " 'our',\n",
       " 'ours',\n",
       " 'ourselves',\n",
       " 'you',\n",
       " \"you're\",\n",
       " \"you've\",\n",
       " \"you'll\",\n",
       " \"you'd\",\n",
       " 'your',\n",
       " 'yours',\n",
       " 'yourself',\n",
       " 'yourselves',\n",
       " 'he',\n",
       " 'him',\n",
       " 'his',\n",
       " 'himself',\n",
       " 'she',\n",
       " \"she's\",\n",
       " 'her',\n",
       " 'hers',\n",
       " 'herself',\n",
       " 'it',\n",
       " \"it's\",\n",
       " 'its',\n",
       " 'itself',\n",
       " 'they',\n",
       " 'them',\n",
       " 'their',\n",
       " 'theirs',\n",
       " 'themselves',\n",
       " 'what',\n",
       " 'which',\n",
       " 'who',\n",
       " 'whom',\n",
       " 'this',\n",
       " 'that',\n",
       " \"that'll\",\n",
       " 'these',\n",
       " 'those',\n",
       " 'am',\n",
       " 'is',\n",
       " 'are',\n",
       " 'was',\n",
       " 'were',\n",
       " 'be',\n",
       " 'been',\n",
       " 'being',\n",
       " 'have',\n",
       " 'has',\n",
       " 'had',\n",
       " 'having',\n",
       " 'do',\n",
       " 'does',\n",
       " 'did',\n",
       " 'doing',\n",
       " 'a',\n",
       " 'an',\n",
       " 'the',\n",
       " 'and',\n",
       " 'but',\n",
       " 'if',\n",
       " 'or',\n",
       " 'because',\n",
       " 'as',\n",
       " 'until',\n",
       " 'while',\n",
       " 'of',\n",
       " 'at',\n",
       " 'by',\n",
       " 'for',\n",
       " 'with',\n",
       " 'about',\n",
       " 'against',\n",
       " 'between',\n",
       " 'into',\n",
       " 'through',\n",
       " 'during',\n",
       " 'before',\n",
       " 'after',\n",
       " 'above',\n",
       " 'below',\n",
       " 'to',\n",
       " 'from',\n",
       " 'up',\n",
       " 'down',\n",
       " 'in',\n",
       " 'out',\n",
       " 'on',\n",
       " 'off',\n",
       " 'over',\n",
       " 'under',\n",
       " 'again',\n",
       " 'further',\n",
       " 'then',\n",
       " 'once',\n",
       " 'here',\n",
       " 'there',\n",
       " 'when',\n",
       " 'where',\n",
       " 'why',\n",
       " 'how',\n",
       " 'all',\n",
       " 'any',\n",
       " 'both',\n",
       " 'each',\n",
       " 'few',\n",
       " 'more',\n",
       " 'most',\n",
       " 'other',\n",
       " 'some',\n",
       " 'such',\n",
       " 'no',\n",
       " 'nor',\n",
       " 'not',\n",
       " 'only',\n",
       " 'own',\n",
       " 'same',\n",
       " 'so',\n",
       " 'than',\n",
       " 'too',\n",
       " 'very',\n",
       " 's',\n",
       " 't',\n",
       " 'can',\n",
       " 'will',\n",
       " 'just',\n",
       " 'don',\n",
       " \"don't\",\n",
       " 'should',\n",
       " \"should've\",\n",
       " 'now',\n",
       " 'd',\n",
       " 'll',\n",
       " 'm',\n",
       " 'o',\n",
       " 're',\n",
       " 've',\n",
       " 'y',\n",
       " 'ain',\n",
       " 'aren',\n",
       " \"aren't\",\n",
       " 'couldn',\n",
       " \"couldn't\",\n",
       " 'didn',\n",
       " \"didn't\",\n",
       " 'doesn',\n",
       " \"doesn't\",\n",
       " 'hadn',\n",
       " \"hadn't\",\n",
       " 'hasn',\n",
       " \"hasn't\",\n",
       " 'haven',\n",
       " \"haven't\",\n",
       " 'isn',\n",
       " \"isn't\",\n",
       " 'ma',\n",
       " 'mightn',\n",
       " \"mightn't\",\n",
       " 'mustn',\n",
       " \"mustn't\",\n",
       " 'needn',\n",
       " \"needn't\",\n",
       " 'shan',\n",
       " \"shan't\",\n",
       " 'shouldn',\n",
       " \"shouldn't\",\n",
       " 'wasn',\n",
       " \"wasn't\",\n",
       " 'weren',\n",
       " \"weren't\",\n",
       " 'won',\n",
       " \"won't\",\n",
       " 'wouldn',\n",
       " \"wouldn't\"]"
      ]
     },
     "execution_count": 108,
     "metadata": {},
     "output_type": "execute_result"
    }
   ],
   "source": [
    "stop_words = stopwords.words('english')\n",
    "stop_words"
   ]
  },
  {
   "cell_type": "code",
   "execution_count": 134,
   "metadata": {},
   "outputs": [],
   "source": [
    "def remove_stop_words(count, stop_words):\n",
    "    for x in count.index:\n",
    "        if x in stop_words:\n",
    "            count = count.drop(x)\n",
    "    \n",
    "    return count\n",
    "        "
   ]
  },
  {
   "cell_type": "code",
   "execution_count": 135,
   "metadata": {},
   "outputs": [],
   "source": [
    "token_count = remove_stop_words(token_count, stop_words)\n"
   ]
  },
  {
   "cell_type": "code",
   "execution_count": 136,
   "metadata": {
    "scrolled": true
   },
   "outputs": [
    {
     "name": "stderr",
     "output_type": "stream",
     "text": [
      "<ipython-input-136-8bda3ad61ac2>:5: UserWarning: FixedFormatter should only be used together with FixedLocator\n",
      "  ax.set_xticklabels(token_count.index[:20])\n"
     ]
    },
    {
     "data": {
      "image/png": "[encoded data removed]",
      "text/plain": [
       "<Figure size 864x288 with 1 Axes>"
      ]
     },
     "metadata": {
      "needs_background": "light"
     },
     "output_type": "display_data"
    }
   ],
   "source": [
    "fig, ax = plt.subplots(figsize=(12,4))\n",
    "\n",
    "ax.bar(token_count.index[:20], token_count.values[:20])\n",
    "ax.set_title('Most Common Words in Steps, Excluding Stopwords')\n",
    "ax.set_xticklabels(token_count.index[:20])\n",
    "ax.tick_params(axis='x', labelrotation=70);"
   ]
  },
  {
   "cell_type": "code",
   "execution_count": 139,
   "metadata": {
    "scrolled": true
   },
   "outputs": [
    {
     "data": {
      "text/html": [
       "<div>\n",
       "<style scoped>\n",
       "    .dataframe tbody tr th:only-of-type {\n",
       "        vertical-align: middle;\n",
       "    }\n",
       "\n",
       "    .dataframe tbody tr th {\n",
       "        vertical-align: top;\n",
       "    }\n",
       "\n",
       "    .dataframe thead th {\n",
       "        text-align: right;\n",
       "    }\n",
       "</style>\n",
       "<table border=\"1\" class=\"dataframe\">\n",
       "  <thead>\n",
       "    <tr style=\"text-align: right;\">\n",
       "      <th></th>\n",
       "      <th>Unnamed: 0</th>\n",
       "      <th>id</th>\n",
       "      <th>name</th>\n",
       "      <th>description</th>\n",
       "      <th>ingredients</th>\n",
       "      <th>ingredients_raw_str</th>\n",
       "      <th>serving_size</th>\n",
       "      <th>servings</th>\n",
       "      <th>steps</th>\n",
       "      <th>tags</th>\n",
       "      <th>...</th>\n",
       "      <th>steps_list</th>\n",
       "      <th>tags_list</th>\n",
       "      <th>search_terms_list</th>\n",
       "      <th>num_ingredients</th>\n",
       "      <th>num_steps</th>\n",
       "      <th>num_char_description</th>\n",
       "      <th>cleaned_steps</th>\n",
       "      <th>clean_tweet</th>\n",
       "      <th>step_tokens</th>\n",
       "      <th>cleaned_description</th>\n",
       "    </tr>\n",
       "  </thead>\n",
       "  <tbody>\n",
       "    <tr>\n",
       "      <th>0</th>\n",
       "      <td>0</td>\n",
       "      <td>96313</td>\n",
       "      <td>Grilled Garlic Cheese Grits</td>\n",
       "      <td>We love grits, this is another good way to ser...</td>\n",
       "      <td>['water', 'grits', 'salt', 'cheddar cheese', '...</td>\n",
       "      <td>[\"4   cups    water\",\"1   cup   uncooked old f...</td>\n",
       "      <td>1 (155 g)</td>\n",
       "      <td>8</td>\n",
       "      <td>['I a sauce pan, bring water to a boil; slowly...</td>\n",
       "      <td>['time-to-make', 'course', 'main-ingredient', ...</td>\n",
       "      <td>...</td>\n",
       "      <td>[I a sauce pan, bring water to a boil; slowly ...</td>\n",
       "      <td>[time-to-make, course, main-ingredient, prepar...</td>\n",
       "      <td>[low-calorie, low-carb, diabetic, vegetarian, ...</td>\n",
       "      <td>6</td>\n",
       "      <td>4</td>\n",
       "      <td>301</td>\n",
       "      <td>i a sauce pan bring water to a boil slowly add...</td>\n",
       "      <td>['i a sauce pan, bring water to a boil; slowly...</td>\n",
       "      <td>[i, a, sauce, pan, bring, water, to, a, boil, ...</td>\n",
       "      <td>we love grits this is another good way to serv...</td>\n",
       "    </tr>\n",
       "    <tr>\n",
       "      <th>1</th>\n",
       "      <td>1</td>\n",
       "      <td>232037</td>\n",
       "      <td>Simple Shrimp and Andouille Jambalaya</td>\n",
       "      <td>Simple, easy and very tasty for when you are i...</td>\n",
       "      <td>['onion', 'red bell pepper', 'garlic cloves', ...</td>\n",
       "      <td>[\"1   medium    onion, chopped coarse \",\"1   m...</td>\n",
       "      <td>1 (366 g)</td>\n",
       "      <td>4</td>\n",
       "      <td>['In a food processor, pulse the onion, red pe...</td>\n",
       "      <td>['60-minutes-or-less', 'time-to-make', 'course...</td>\n",
       "      <td>...</td>\n",
       "      <td>[In a food processor, pulse the onion, red pep...</td>\n",
       "      <td>[60-minutes-or-less, time-to-make, course, mai...</td>\n",
       "      <td>[shrimp, dinner]</td>\n",
       "      <td>13</td>\n",
       "      <td>10</td>\n",
       "      <td>138</td>\n",
       "      <td>in a food processor pulse the onion red pepper...</td>\n",
       "      <td>['in a food processor, pulse the onion, red pe...</td>\n",
       "      <td>[in, a, food, processor, pulse, the, onion, re...</td>\n",
       "      <td>simple easy and very tasty for when you are in...</td>\n",
       "    </tr>\n",
       "    <tr>\n",
       "      <th>2</th>\n",
       "      <td>3</td>\n",
       "      <td>60656</td>\n",
       "      <td>Crock Pot Italian Zucchini</td>\n",
       "      <td>This is a good recipe for weight watchers. It ...</td>\n",
       "      <td>['zucchini', 'yellow squash', 'diced tomatoes'...</td>\n",
       "      <td>[\"2       zucchini, sliced \",\"2   small    yel...</td>\n",
       "      <td>1 (244 g)</td>\n",
       "      <td>4</td>\n",
       "      <td>['Put all ingredients in the crock pot and coo...</td>\n",
       "      <td>['weeknight', 'time-to-make', 'course', 'main-...</td>\n",
       "      <td>...</td>\n",
       "      <td>[Put all ingredients in the crock pot and cook...</td>\n",
       "      <td>[weeknight, time-to-make, course, main-ingredi...</td>\n",
       "      <td>[italian, vegetarian, side]</td>\n",
       "      <td>9</td>\n",
       "      <td>1</td>\n",
       "      <td>57</td>\n",
       "      <td>put all ingredients in the crock pot and cook ...</td>\n",
       "      <td>['put all ingredients in the crock pot and coo...</td>\n",
       "      <td>[put, all, ingredients, in, the, crock, pot, a...</td>\n",
       "      <td>this is a good recipe for weight watchers it i...</td>\n",
       "    </tr>\n",
       "    <tr>\n",
       "      <th>3</th>\n",
       "      <td>4</td>\n",
       "      <td>232047</td>\n",
       "      <td>Beef Stew With Dried Cherries</td>\n",
       "      <td>This is a fabulous stew that came from one of ...</td>\n",
       "      <td>['beef stew meat', 'flour', 'salt', 'allspice'...</td>\n",
       "      <td>[\"3   lbs    beef stew meat\",\"3   tablespoons ...</td>\n",
       "      <td>1 (358 g)</td>\n",
       "      <td>8</td>\n",
       "      <td>['Preheat oven to 350°F.', \"Cut beef into 1 in...</td>\n",
       "      <td>['time-to-make', 'course', 'main-ingredient', ...</td>\n",
       "      <td>...</td>\n",
       "      <td>[Preheat oven to 350°F., Cut beef into 1 inch ...</td>\n",
       "      <td>[time-to-make, course, main-ingredient, prepar...</td>\n",
       "      <td>[dinner]</td>\n",
       "      <td>14</td>\n",
       "      <td>6</td>\n",
       "      <td>392</td>\n",
       "      <td>preheat oven to f cut beef into inch cubes com...</td>\n",
       "      <td>['preheat oven to °f.', \"cut beef into inch cu...</td>\n",
       "      <td>[preheat, oven, to, f, cut, beef, into, inch, ...</td>\n",
       "      <td>this is a fabulous stew that came from one of ...</td>\n",
       "    </tr>\n",
       "    <tr>\n",
       "      <th>4</th>\n",
       "      <td>5</td>\n",
       "      <td>232050</td>\n",
       "      <td>Hot Sweet Almond Brittle</td>\n",
       "      <td>This is one of our standard holiday gift recip...</td>\n",
       "      <td>['slivered almonds', 'cider vinegar', 'sugar',...</td>\n",
       "      <td>[\"12   ounces    slivered almonds\",\"1/4  cup  ...</td>\n",
       "      <td>1 (832 g)</td>\n",
       "      <td>1</td>\n",
       "      <td>['Preheat oven to 375°F  Place almonds in sing...</td>\n",
       "      <td>['time-to-make', 'course', 'preparation', 'des...</td>\n",
       "      <td>...</td>\n",
       "      <td>[Preheat oven to 375°F  Place almonds in singl...</td>\n",
       "      <td>[time-to-make, course, preparation, desserts, ...</td>\n",
       "      <td>[dessert]</td>\n",
       "      <td>8</td>\n",
       "      <td>4</td>\n",
       "      <td>164</td>\n",
       "      <td>preheat oven to f place almonds in single laye...</td>\n",
       "      <td>['preheat oven to °f place almonds in single l...</td>\n",
       "      <td>[preheat, oven, to, f, place, almonds, in, sin...</td>\n",
       "      <td>this is one of our standard holiday gift recip...</td>\n",
       "    </tr>\n",
       "  </tbody>\n",
       "</table>\n",
       "<p>5 rows × 26 columns</p>\n",
       "</div>"
      ],
      "text/plain": [
       "   Unnamed: 0      id                                   name  \\\n",
       "0           0   96313            Grilled Garlic Cheese Grits   \n",
       "1           1  232037  Simple Shrimp and Andouille Jambalaya   \n",
       "2           3   60656             Crock Pot Italian Zucchini   \n",
       "3           4  232047          Beef Stew With Dried Cherries   \n",
       "4           5  232050               Hot Sweet Almond Brittle   \n",
       "\n",
       "                                         description  \\\n",
       "0  We love grits, this is another good way to ser...   \n",
       "1  Simple, easy and very tasty for when you are i...   \n",
       "2  This is a good recipe for weight watchers. It ...   \n",
       "3  This is a fabulous stew that came from one of ...   \n",
       "4  This is one of our standard holiday gift recip...   \n",
       "\n",
       "                                         ingredients  \\\n",
       "0  ['water', 'grits', 'salt', 'cheddar cheese', '...   \n",
       "1  ['onion', 'red bell pepper', 'garlic cloves', ...   \n",
       "2  ['zucchini', 'yellow squash', 'diced tomatoes'...   \n",
       "3  ['beef stew meat', 'flour', 'salt', 'allspice'...   \n",
       "4  ['slivered almonds', 'cider vinegar', 'sugar',...   \n",
       "\n",
       "                                 ingredients_raw_str serving_size  servings  \\\n",
       "0  [\"4   cups    water\",\"1   cup   uncooked old f...    1 (155 g)         8   \n",
       "1  [\"1   medium    onion, chopped coarse \",\"1   m...    1 (366 g)         4   \n",
       "2  [\"2       zucchini, sliced \",\"2   small    yel...    1 (244 g)         4   \n",
       "3  [\"3   lbs    beef stew meat\",\"3   tablespoons ...    1 (358 g)         8   \n",
       "4  [\"12   ounces    slivered almonds\",\"1/4  cup  ...    1 (832 g)         1   \n",
       "\n",
       "                                               steps  \\\n",
       "0  ['I a sauce pan, bring water to a boil; slowly...   \n",
       "1  ['In a food processor, pulse the onion, red pe...   \n",
       "2  ['Put all ingredients in the crock pot and coo...   \n",
       "3  ['Preheat oven to 350°F.', \"Cut beef into 1 in...   \n",
       "4  ['Preheat oven to 375°F  Place almonds in sing...   \n",
       "\n",
       "                                                tags  ...  \\\n",
       "0  ['time-to-make', 'course', 'main-ingredient', ...  ...   \n",
       "1  ['60-minutes-or-less', 'time-to-make', 'course...  ...   \n",
       "2  ['weeknight', 'time-to-make', 'course', 'main-...  ...   \n",
       "3  ['time-to-make', 'course', 'main-ingredient', ...  ...   \n",
       "4  ['time-to-make', 'course', 'preparation', 'des...  ...   \n",
       "\n",
       "                                          steps_list  \\\n",
       "0  [I a sauce pan, bring water to a boil; slowly ...   \n",
       "1  [In a food processor, pulse the onion, red pep...   \n",
       "2  [Put all ingredients in the crock pot and cook...   \n",
       "3  [Preheat oven to 350°F., Cut beef into 1 inch ...   \n",
       "4  [Preheat oven to 375°F  Place almonds in singl...   \n",
       "\n",
       "                                           tags_list  \\\n",
       "0  [time-to-make, course, main-ingredient, prepar...   \n",
       "1  [60-minutes-or-less, time-to-make, course, mai...   \n",
       "2  [weeknight, time-to-make, course, main-ingredi...   \n",
       "3  [time-to-make, course, main-ingredient, prepar...   \n",
       "4  [time-to-make, course, preparation, desserts, ...   \n",
       "\n",
       "                                   search_terms_list  num_ingredients  \\\n",
       "0  [low-calorie, low-carb, diabetic, vegetarian, ...                6   \n",
       "1                                   [shrimp, dinner]               13   \n",
       "2                        [italian, vegetarian, side]                9   \n",
       "3                                           [dinner]               14   \n",
       "4                                          [dessert]                8   \n",
       "\n",
       "  num_steps num_char_description  \\\n",
       "0         4                  301   \n",
       "1        10                  138   \n",
       "2         1                   57   \n",
       "3         6                  392   \n",
       "4         4                  164   \n",
       "\n",
       "                                       cleaned_steps  \\\n",
       "0  i a sauce pan bring water to a boil slowly add...   \n",
       "1  in a food processor pulse the onion red pepper...   \n",
       "2  put all ingredients in the crock pot and cook ...   \n",
       "3  preheat oven to f cut beef into inch cubes com...   \n",
       "4  preheat oven to f place almonds in single laye...   \n",
       "\n",
       "                                         clean_tweet  \\\n",
       "0  ['i a sauce pan, bring water to a boil; slowly...   \n",
       "1  ['in a food processor, pulse the onion, red pe...   \n",
       "2  ['put all ingredients in the crock pot and coo...   \n",
       "3  ['preheat oven to °f.', \"cut beef into inch cu...   \n",
       "4  ['preheat oven to °f place almonds in single l...   \n",
       "\n",
       "                                         step_tokens  \\\n",
       "0  [i, a, sauce, pan, bring, water, to, a, boil, ...   \n",
       "1  [in, a, food, processor, pulse, the, onion, re...   \n",
       "2  [put, all, ingredients, in, the, crock, pot, a...   \n",
       "3  [preheat, oven, to, f, cut, beef, into, inch, ...   \n",
       "4  [preheat, oven, to, f, place, almonds, in, sin...   \n",
       "\n",
       "                                 cleaned_description  \n",
       "0  we love grits this is another good way to serv...  \n",
       "1  simple easy and very tasty for when you are in...  \n",
       "2  this is a good recipe for weight watchers it i...  \n",
       "3  this is a fabulous stew that came from one of ...  \n",
       "4  this is one of our standard holiday gift recip...  \n",
       "\n",
       "[5 rows x 26 columns]"
      ]
     },
     "execution_count": 139,
     "metadata": {},
     "output_type": "execute_result"
    }
   ],
   "source": [
    "df = basic_cleaning(df, 'description')\n",
    "df.head()"
   ]
  },
  {
   "cell_type": "code",
   "execution_count": 140,
   "metadata": {},
   "outputs": [
    {
     "data": {
      "text/html": [
       "<div>\n",
       "<style scoped>\n",
       "    .dataframe tbody tr th:only-of-type {\n",
       "        vertical-align: middle;\n",
       "    }\n",
       "\n",
       "    .dataframe tbody tr th {\n",
       "        vertical-align: top;\n",
       "    }\n",
       "\n",
       "    .dataframe thead th {\n",
       "        text-align: right;\n",
       "    }\n",
       "</style>\n",
       "<table border=\"1\" class=\"dataframe\">\n",
       "  <thead>\n",
       "    <tr style=\"text-align: right;\">\n",
       "      <th></th>\n",
       "      <th>Unnamed: 0</th>\n",
       "      <th>id</th>\n",
       "      <th>name</th>\n",
       "      <th>description</th>\n",
       "      <th>ingredients</th>\n",
       "      <th>ingredients_raw_str</th>\n",
       "      <th>serving_size</th>\n",
       "      <th>servings</th>\n",
       "      <th>steps</th>\n",
       "      <th>tags</th>\n",
       "      <th>...</th>\n",
       "      <th>tags_list</th>\n",
       "      <th>search_terms_list</th>\n",
       "      <th>num_ingredients</th>\n",
       "      <th>num_steps</th>\n",
       "      <th>num_char_description</th>\n",
       "      <th>cleaned_steps</th>\n",
       "      <th>clean_tweet</th>\n",
       "      <th>step_tokens</th>\n",
       "      <th>cleaned_description</th>\n",
       "      <th>description_tokens</th>\n",
       "    </tr>\n",
       "  </thead>\n",
       "  <tbody>\n",
       "    <tr>\n",
       "      <th>0</th>\n",
       "      <td>0</td>\n",
       "      <td>96313</td>\n",
       "      <td>Grilled Garlic Cheese Grits</td>\n",
       "      <td>We love grits, this is another good way to ser...</td>\n",
       "      <td>['water', 'grits', 'salt', 'cheddar cheese', '...</td>\n",
       "      <td>[\"4   cups    water\",\"1   cup   uncooked old f...</td>\n",
       "      <td>1 (155 g)</td>\n",
       "      <td>8</td>\n",
       "      <td>['I a sauce pan, bring water to a boil; slowly...</td>\n",
       "      <td>['time-to-make', 'course', 'main-ingredient', ...</td>\n",
       "      <td>...</td>\n",
       "      <td>[time-to-make, course, main-ingredient, prepar...</td>\n",
       "      <td>[low-calorie, low-carb, diabetic, vegetarian, ...</td>\n",
       "      <td>6</td>\n",
       "      <td>4</td>\n",
       "      <td>301</td>\n",
       "      <td>i a sauce pan bring water to a boil slowly add...</td>\n",
       "      <td>['i a sauce pan, bring water to a boil; slowly...</td>\n",
       "      <td>[i, a, sauce, pan, bring, water, to, a, boil, ...</td>\n",
       "      <td>we love grits this is another good way to serv...</td>\n",
       "      <td>[we, love, grits, this, is, another, good, way...</td>\n",
       "    </tr>\n",
       "    <tr>\n",
       "      <th>1</th>\n",
       "      <td>1</td>\n",
       "      <td>232037</td>\n",
       "      <td>Simple Shrimp and Andouille Jambalaya</td>\n",
       "      <td>Simple, easy and very tasty for when you are i...</td>\n",
       "      <td>['onion', 'red bell pepper', 'garlic cloves', ...</td>\n",
       "      <td>[\"1   medium    onion, chopped coarse \",\"1   m...</td>\n",
       "      <td>1 (366 g)</td>\n",
       "      <td>4</td>\n",
       "      <td>['In a food processor, pulse the onion, red pe...</td>\n",
       "      <td>['60-minutes-or-less', 'time-to-make', 'course...</td>\n",
       "      <td>...</td>\n",
       "      <td>[60-minutes-or-less, time-to-make, course, mai...</td>\n",
       "      <td>[shrimp, dinner]</td>\n",
       "      <td>13</td>\n",
       "      <td>10</td>\n",
       "      <td>138</td>\n",
       "      <td>in a food processor pulse the onion red pepper...</td>\n",
       "      <td>['in a food processor, pulse the onion, red pe...</td>\n",
       "      <td>[in, a, food, processor, pulse, the, onion, re...</td>\n",
       "      <td>simple easy and very tasty for when you are in...</td>\n",
       "      <td>[simple, easy, and, very, tasty, for, when, yo...</td>\n",
       "    </tr>\n",
       "    <tr>\n",
       "      <th>2</th>\n",
       "      <td>3</td>\n",
       "      <td>60656</td>\n",
       "      <td>Crock Pot Italian Zucchini</td>\n",
       "      <td>This is a good recipe for weight watchers. It ...</td>\n",
       "      <td>['zucchini', 'yellow squash', 'diced tomatoes'...</td>\n",
       "      <td>[\"2       zucchini, sliced \",\"2   small    yel...</td>\n",
       "      <td>1 (244 g)</td>\n",
       "      <td>4</td>\n",
       "      <td>['Put all ingredients in the crock pot and coo...</td>\n",
       "      <td>['weeknight', 'time-to-make', 'course', 'main-...</td>\n",
       "      <td>...</td>\n",
       "      <td>[weeknight, time-to-make, course, main-ingredi...</td>\n",
       "      <td>[italian, vegetarian, side]</td>\n",
       "      <td>9</td>\n",
       "      <td>1</td>\n",
       "      <td>57</td>\n",
       "      <td>put all ingredients in the crock pot and cook ...</td>\n",
       "      <td>['put all ingredients in the crock pot and coo...</td>\n",
       "      <td>[put, all, ingredients, in, the, crock, pot, a...</td>\n",
       "      <td>this is a good recipe for weight watchers it i...</td>\n",
       "      <td>[this, is, a, good, recipe, for, weight, watch...</td>\n",
       "    </tr>\n",
       "    <tr>\n",
       "      <th>3</th>\n",
       "      <td>4</td>\n",
       "      <td>232047</td>\n",
       "      <td>Beef Stew With Dried Cherries</td>\n",
       "      <td>This is a fabulous stew that came from one of ...</td>\n",
       "      <td>['beef stew meat', 'flour', 'salt', 'allspice'...</td>\n",
       "      <td>[\"3   lbs    beef stew meat\",\"3   tablespoons ...</td>\n",
       "      <td>1 (358 g)</td>\n",
       "      <td>8</td>\n",
       "      <td>['Preheat oven to 350°F.', \"Cut beef into 1 in...</td>\n",
       "      <td>['time-to-make', 'course', 'main-ingredient', ...</td>\n",
       "      <td>...</td>\n",
       "      <td>[time-to-make, course, main-ingredient, prepar...</td>\n",
       "      <td>[dinner]</td>\n",
       "      <td>14</td>\n",
       "      <td>6</td>\n",
       "      <td>392</td>\n",
       "      <td>preheat oven to f cut beef into inch cubes com...</td>\n",
       "      <td>['preheat oven to °f.', \"cut beef into inch cu...</td>\n",
       "      <td>[preheat, oven, to, f, cut, beef, into, inch, ...</td>\n",
       "      <td>this is a fabulous stew that came from one of ...</td>\n",
       "      <td>[this, is, a, fabulous, stew, that, came, from...</td>\n",
       "    </tr>\n",
       "    <tr>\n",
       "      <th>4</th>\n",
       "      <td>5</td>\n",
       "      <td>232050</td>\n",
       "      <td>Hot Sweet Almond Brittle</td>\n",
       "      <td>This is one of our standard holiday gift recip...</td>\n",
       "      <td>['slivered almonds', 'cider vinegar', 'sugar',...</td>\n",
       "      <td>[\"12   ounces    slivered almonds\",\"1/4  cup  ...</td>\n",
       "      <td>1 (832 g)</td>\n",
       "      <td>1</td>\n",
       "      <td>['Preheat oven to 375°F  Place almonds in sing...</td>\n",
       "      <td>['time-to-make', 'course', 'preparation', 'des...</td>\n",
       "      <td>...</td>\n",
       "      <td>[time-to-make, course, preparation, desserts, ...</td>\n",
       "      <td>[dessert]</td>\n",
       "      <td>8</td>\n",
       "      <td>4</td>\n",
       "      <td>164</td>\n",
       "      <td>preheat oven to f place almonds in single laye...</td>\n",
       "      <td>['preheat oven to °f place almonds in single l...</td>\n",
       "      <td>[preheat, oven, to, f, place, almonds, in, sin...</td>\n",
       "      <td>this is one of our standard holiday gift recip...</td>\n",
       "      <td>[this, is, one, of, our, standard, holiday, gi...</td>\n",
       "    </tr>\n",
       "  </tbody>\n",
       "</table>\n",
       "<p>5 rows × 27 columns</p>\n",
       "</div>"
      ],
      "text/plain": [
       "   Unnamed: 0      id                                   name  \\\n",
       "0           0   96313            Grilled Garlic Cheese Grits   \n",
       "1           1  232037  Simple Shrimp and Andouille Jambalaya   \n",
       "2           3   60656             Crock Pot Italian Zucchini   \n",
       "3           4  232047          Beef Stew With Dried Cherries   \n",
       "4           5  232050               Hot Sweet Almond Brittle   \n",
       "\n",
       "                                         description  \\\n",
       "0  We love grits, this is another good way to ser...   \n",
       "1  Simple, easy and very tasty for when you are i...   \n",
       "2  This is a good recipe for weight watchers. It ...   \n",
       "3  This is a fabulous stew that came from one of ...   \n",
       "4  This is one of our standard holiday gift recip...   \n",
       "\n",
       "                                         ingredients  \\\n",
       "0  ['water', 'grits', 'salt', 'cheddar cheese', '...   \n",
       "1  ['onion', 'red bell pepper', 'garlic cloves', ...   \n",
       "2  ['zucchini', 'yellow squash', 'diced tomatoes'...   \n",
       "3  ['beef stew meat', 'flour', 'salt', 'allspice'...   \n",
       "4  ['slivered almonds', 'cider vinegar', 'sugar',...   \n",
       "\n",
       "                                 ingredients_raw_str serving_size  servings  \\\n",
       "0  [\"4   cups    water\",\"1   cup   uncooked old f...    1 (155 g)         8   \n",
       "1  [\"1   medium    onion, chopped coarse \",\"1   m...    1 (366 g)         4   \n",
       "2  [\"2       zucchini, sliced \",\"2   small    yel...    1 (244 g)         4   \n",
       "3  [\"3   lbs    beef stew meat\",\"3   tablespoons ...    1 (358 g)         8   \n",
       "4  [\"12   ounces    slivered almonds\",\"1/4  cup  ...    1 (832 g)         1   \n",
       "\n",
       "                                               steps  \\\n",
       "0  ['I a sauce pan, bring water to a boil; slowly...   \n",
       "1  ['In a food processor, pulse the onion, red pe...   \n",
       "2  ['Put all ingredients in the crock pot and coo...   \n",
       "3  ['Preheat oven to 350°F.', \"Cut beef into 1 in...   \n",
       "4  ['Preheat oven to 375°F  Place almonds in sing...   \n",
       "\n",
       "                                                tags  ...  \\\n",
       "0  ['time-to-make', 'course', 'main-ingredient', ...  ...   \n",
       "1  ['60-minutes-or-less', 'time-to-make', 'course...  ...   \n",
       "2  ['weeknight', 'time-to-make', 'course', 'main-...  ...   \n",
       "3  ['time-to-make', 'course', 'main-ingredient', ...  ...   \n",
       "4  ['time-to-make', 'course', 'preparation', 'des...  ...   \n",
       "\n",
       "                                           tags_list  \\\n",
       "0  [time-to-make, course, main-ingredient, prepar...   \n",
       "1  [60-minutes-or-less, time-to-make, course, mai...   \n",
       "2  [weeknight, time-to-make, course, main-ingredi...   \n",
       "3  [time-to-make, course, main-ingredient, prepar...   \n",
       "4  [time-to-make, course, preparation, desserts, ...   \n",
       "\n",
       "                                   search_terms_list  num_ingredients  \\\n",
       "0  [low-calorie, low-carb, diabetic, vegetarian, ...                6   \n",
       "1                                   [shrimp, dinner]               13   \n",
       "2                        [italian, vegetarian, side]                9   \n",
       "3                                           [dinner]               14   \n",
       "4                                          [dessert]                8   \n",
       "\n",
       "   num_steps num_char_description  \\\n",
       "0          4                  301   \n",
       "1         10                  138   \n",
       "2          1                   57   \n",
       "3          6                  392   \n",
       "4          4                  164   \n",
       "\n",
       "                                       cleaned_steps  \\\n",
       "0  i a sauce pan bring water to a boil slowly add...   \n",
       "1  in a food processor pulse the onion red pepper...   \n",
       "2  put all ingredients in the crock pot and cook ...   \n",
       "3  preheat oven to f cut beef into inch cubes com...   \n",
       "4  preheat oven to f place almonds in single laye...   \n",
       "\n",
       "                                         clean_tweet  \\\n",
       "0  ['i a sauce pan, bring water to a boil; slowly...   \n",
       "1  ['in a food processor, pulse the onion, red pe...   \n",
       "2  ['put all ingredients in the crock pot and coo...   \n",
       "3  ['preheat oven to °f.', \"cut beef into inch cu...   \n",
       "4  ['preheat oven to °f place almonds in single l...   \n",
       "\n",
       "                                         step_tokens  \\\n",
       "0  [i, a, sauce, pan, bring, water, to, a, boil, ...   \n",
       "1  [in, a, food, processor, pulse, the, onion, re...   \n",
       "2  [put, all, ingredients, in, the, crock, pot, a...   \n",
       "3  [preheat, oven, to, f, cut, beef, into, inch, ...   \n",
       "4  [preheat, oven, to, f, place, almonds, in, sin...   \n",
       "\n",
       "                                 cleaned_description  \\\n",
       "0  we love grits this is another good way to serv...   \n",
       "1  simple easy and very tasty for when you are in...   \n",
       "2  this is a good recipe for weight watchers it i...   \n",
       "3  this is a fabulous stew that came from one of ...   \n",
       "4  this is one of our standard holiday gift recip...   \n",
       "\n",
       "                                  description_tokens  \n",
       "0  [we, love, grits, this, is, another, good, way...  \n",
       "1  [simple, easy, and, very, tasty, for, when, yo...  \n",
       "2  [this, is, a, good, recipe, for, weight, watch...  \n",
       "3  [this, is, a, fabulous, stew, that, came, from...  \n",
       "4  [this, is, one, of, our, standard, holiday, gi...  \n",
       "\n",
       "[5 rows x 27 columns]"
      ]
     },
     "execution_count": 140,
     "metadata": {},
     "output_type": "execute_result"
    }
   ],
   "source": [
    "df['description_tokens'] = df['cleaned_description'].apply(lambda x: x.split())\n",
    "df.head()"
   ]
  },
  {
   "cell_type": "code",
   "execution_count": 143,
   "metadata": {},
   "outputs": [],
   "source": [
    "description_count = lists_to_count(df, 'description_tokens', series = True).sort_values(ascending=False)"
   ]
  },
  {
   "cell_type": "code",
   "execution_count": 144,
   "metadata": {
    "scrolled": true
   },
   "outputs": [
    {
     "name": "stderr",
     "output_type": "stream",
     "text": [
      "<ipython-input-144-b3db4f663f71>:5: UserWarning: FixedFormatter should only be used together with FixedLocator\n",
      "  ax.set_xticklabels(description_count.index[:20])\n"
     ]
    },
    {
     "data": {
      "image/png": "[encoded data removed]",
      "text/plain": [
       "<Figure size 864x288 with 1 Axes>"
      ]
     },
     "metadata": {
      "needs_background": "light"
     },
     "output_type": "display_data"
    }
   ],
   "source": [
    "fig, ax = plt.subplots(figsize=(12,4))\n",
    "\n",
    "ax.bar(description_count.index[:20], description_count.values[:20])\n",
    "ax.set_title('Most Common Words in Descriptions')\n",
    "ax.set_xticklabels(description_count.index[:20])\n",
    "ax.tick_params(axis='x', labelrotation=70);"
   ]
  },
  {
   "cell_type": "code",
   "execution_count": 146,
   "metadata": {},
   "outputs": [],
   "source": [
    "description_count = remove_stop_words(description_count, stop_words)\n"
   ]
  },
  {
   "cell_type": "code",
   "execution_count": 147,
   "metadata": {},
   "outputs": [
    {
     "name": "stderr",
     "output_type": "stream",
     "text": [
      "<ipython-input-147-335ca2259d43>:5: UserWarning: FixedFormatter should only be used together with FixedLocator\n",
      "  ax.set_xticklabels(description_count.index[:20])\n"
     ]
    },
    {
     "data": {
      "image/png": "[encoded data removed]",
      "text/plain": [
       "<Figure size 864x288 with 1 Axes>"
      ]
     },
     "metadata": {
      "needs_background": "light"
     },
     "output_type": "display_data"
    }
   ],
   "source": [
    "fig, ax = plt.subplots(figsize=(12,4))\n",
    "\n",
    "ax.bar(description_count.index[:20], description_count.values[:20])\n",
    "ax.set_title('Most Common Words in Descriptions, Excluding Stopwords')\n",
    "ax.set_xticklabels(description_count.index[:20])\n",
    "ax.tick_params(axis='x', labelrotation=70);"
   ]
  },
  {
   "cell_type": "code",
   "execution_count": 137,
   "metadata": {
    "scrolled": true
   },
   "outputs": [
    {
     "name": "stdout",
     "output_type": "stream",
     "text": [
      "<class 'pandas.core.frame.DataFrame'>\n",
      "RangeIndex: 485306 entries, 0 to 485305\n",
      "Data columns (total 25 columns):\n",
      " #   Column                    Non-Null Count   Dtype \n",
      "---  ------                    --------------   ----- \n",
      " 0   Unnamed: 0                485306 non-null  int64 \n",
      " 1   id                        485306 non-null  int64 \n",
      " 2   name                      485306 non-null  object\n",
      " 3   description               485306 non-null  object\n",
      " 4   ingredients               485306 non-null  object\n",
      " 5   ingredients_raw_str       485306 non-null  object\n",
      " 6   serving_size              485306 non-null  object\n",
      " 7   servings                  485306 non-null  int64 \n",
      " 8   steps                     485306 non-null  object\n",
      " 9   tags                      485306 non-null  object\n",
      " 10  search_terms              485306 non-null  object\n",
      " 11  target_tag                485306 non-null  bool  \n",
      " 12  target_search_term        485306 non-null  bool  \n",
      " 13  target                    485306 non-null  int64 \n",
      " 14  ingredients_list          485306 non-null  object\n",
      " 15  ingredients_raw_str_list  485306 non-null  object\n",
      " 16  steps_list                485306 non-null  object\n",
      " 17  tags_list                 485306 non-null  object\n",
      " 18  search_terms_list         485306 non-null  object\n",
      " 19  num_ingredients           485306 non-null  int64 \n",
      " 20  num_steps                 485306 non-null  int64 \n",
      " 21  num_char_description      485306 non-null  int64 \n",
      " 22  cleaned_steps             485306 non-null  object\n",
      " 23  clean_tweet               485306 non-null  object\n",
      " 24  step_tokens               485306 non-null  object\n",
      "dtypes: bool(2), int64(7), object(16)\n",
      "memory usage: 86.1+ MB\n"
     ]
    }
   ],
   "source": [
    "# export version of df with tokens\n",
    "df.info()"
   ]
  },
  {
   "cell_type": "code",
   "execution_count": null,
   "metadata": {},
   "outputs": [],
   "source": [
    "df.to_csv('data/data_with_target_tokens.csv')"
   ]
  },
  {
   "cell_type": "markdown",
   "metadata": {},
   "source": [
    "# Baseline Model  \n",
    "\n",
    "Need to make sure that you can't just predict the recipe outcome based on the pure numbers - of ingredients, steps, characters, etc..."
   ]
  },
  {
   "cell_type": "code",
   "execution_count": 27,
   "metadata": {},
   "outputs": [
    {
     "name": "stdout",
     "output_type": "stream",
     "text": [
      "<class 'pandas.core.frame.DataFrame'>\n",
      "RangeIndex: 485306 entries, 0 to 485305\n",
      "Data columns (total 22 columns):\n",
      " #   Column                    Non-Null Count   Dtype \n",
      "---  ------                    --------------   ----- \n",
      " 0   Unnamed: 0                485306 non-null  int64 \n",
      " 1   id                        485306 non-null  int64 \n",
      " 2   name                      485306 non-null  object\n",
      " 3   description               485306 non-null  object\n",
      " 4   ingredients               485306 non-null  object\n",
      " 5   ingredients_raw_str       485306 non-null  object\n",
      " 6   serving_size              485306 non-null  object\n",
      " 7   servings                  485306 non-null  int64 \n",
      " 8   steps                     485306 non-null  object\n",
      " 9   tags                      485306 non-null  object\n",
      " 10  search_terms              485306 non-null  object\n",
      " 11  target_tag                485306 non-null  bool  \n",
      " 12  target_search_term        485306 non-null  bool  \n",
      " 13  target                    485306 non-null  int64 \n",
      " 14  ingredients_list          485306 non-null  object\n",
      " 15  ingredients_raw_str_list  485306 non-null  object\n",
      " 16  steps_list                485306 non-null  object\n",
      " 17  tags_list                 485306 non-null  object\n",
      " 18  search_terms_list         485306 non-null  object\n",
      " 19  num_ingredients           485306 non-null  int64 \n",
      " 20  num_steps                 485306 non-null  int64 \n",
      " 21  num_char_description      485306 non-null  int64 \n",
      "dtypes: bool(2), int64(7), object(13)\n",
      "memory usage: 75.0+ MB\n"
     ]
    }
   ],
   "source": [
    "df.info()"
   ]
  },
  {
   "cell_type": "code",
   "execution_count": 44,
   "metadata": {
    "scrolled": true
   },
   "outputs": [],
   "source": [
    "# Creating a numbers only db\n",
    "\n",
    "X_numbers_df = df[['num_ingredients','num_steps', 'num_char_description']]\n",
    "y_numbers_df = df['target']"
   ]
  },
  {
   "cell_type": "code",
   "execution_count": 71,
   "metadata": {},
   "outputs": [],
   "source": [
    "# I keep export cells commeneted out until I need them\n",
    "\n",
    "# X_numbers_df.to_csv('data/X_numbers_only.csv')\n",
    "# y_numbers_df.to_csv('data/y_numbers_only.csv')"
   ]
  }
 ],
 "metadata": {
  "kernelspec": {
   "display_name": "Python 3",
   "language": "python",
   "name": "python3"
  },
  "language_info": {
   "codemirror_mode": {
    "name": "ipython",
    "version": 3
   },
   "file_extension": ".py",
   "mimetype": "text/x-python",
   "name": "python",
   "nbconvert_exporter": "python",
   "pygments_lexer": "ipython3",
   "version": "3.8.5"
  },
  "varInspector": {
   "cols": {
    "lenName": 16,
    "lenType": 16,
    "lenVar": 40
   },
   "kernels_config": {
    "python": {
     "delete_cmd_postfix": "",
     "delete_cmd_prefix": "del ",
     "library": "var_list.py",
     "varRefreshCmd": "print(var_dic_list())"
    },
    "r": {
     "delete_cmd_postfix": ") ",
     "delete_cmd_prefix": "rm(",
     "library": "var_list.r",
     "varRefreshCmd": "cat(var_dic_list()) "
    }
   },
   "position": {
    "height": "437.801px",
    "left": "966.245px",
    "right": "20px",
    "top": "152.988px",
    "width": "349.977px"
   },
   "types_to_exclude": [
    "module",
    "function",
    "builtin_function_or_method",
    "instance",
    "_Feature"
   ],
   "window_display": false
  }
 },
 "nbformat": 4,
 "nbformat_minor": 4
}
