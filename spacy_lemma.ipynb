{
 "cells": [
  {
   "cell_type": "code",
   "execution_count": 148,
   "id": "0bf34fe8",
   "metadata": {
    "ExecuteTime": {
     "end_time": "2021-12-07T00:42:14.420831Z",
     "start_time": "2021-12-07T00:42:14.390826Z"
    },
    "run_control": {
     "marked": true
    }
   },
   "outputs": [],
   "source": [
    "import ast # used for converting column values to lists post-import from csv\n",
    "import re\n",
    "import warnings\n",
    "import pandas as pd\n",
    "import numpy as np\n",
    "import seaborn as sns\n",
    "import matplotlib.pyplot as plt\n",
    "from matplotlib.ticker import MaxNLocator\n",
    "%matplotlib inline\n",
    "\n",
    "from wordcloud import WordCloud\n",
    "\n",
    "import spacy\n",
    "\n",
    "from nltk import FreqDist\n",
    "from nltk.corpus import stopwords\n",
    "\n",
    "from sklearn.model_selection import train_test_split\n",
    "from sklearn.preprocessing import StandardScaler\n",
    "from sklearn.pipeline import Pipeline\n",
    "from sklearn.linear_model import LogisticRegression\n",
    "from sklearn.model_selection import cross_validate\n",
    "from sklearn.model_selection import GridSearchCV\n",
    "from sklearn.metrics import (roc_auc_score, plot_confusion_matrix, plot_roc_curve, accuracy_score,\n",
    "                             precision_score, recall_score, f1_score)\n",
    "from sklearn.feature_extraction.text import CountVectorizer, TfidfVectorizer\n",
    "from sklearn.naive_bayes import BernoulliNB, ComplementNB, MultinomialNB\n",
    "from sklearn.tree import DecisionTreeClassifier\n",
    "from sklearn.ensemble import RandomForestClassifier, AdaBoostClassifier\n",
    "from sklearn.linear_model import LogisticRegression\n",
    "\n",
    "from imblearn.under_sampling import RandomUnderSampler\n",
    "\n",
    "pd.set_option(\"display.max_columns\", None)"
   ]
  },
  {
   "cell_type": "code",
   "execution_count": 149,
   "id": "f5b273cb",
   "metadata": {
    "ExecuteTime": {
     "end_time": "2021-12-07T00:42:55.001984Z",
     "start_time": "2021-12-07T00:42:14.424828Z"
    }
   },
   "outputs": [],
   "source": [
    "df = pd.read_csv('data/recipes_for_preprocessing.cvs')"
   ]
  },
  {
   "cell_type": "code",
   "execution_count": 150,
   "id": "859f5791",
   "metadata": {
    "ExecuteTime": {
     "end_time": "2021-12-07T00:42:55.587799Z",
     "start_time": "2021-12-07T00:42:55.003978Z"
    }
   },
   "outputs": [
    {
     "name": "stdout",
     "output_type": "stream",
     "text": [
      "<class 'pandas.core.frame.DataFrame'>\n",
      "RangeIndex: 482279 entries, 0 to 482278\n",
      "Data columns (total 26 columns):\n",
      " #   Column                    Non-Null Count   Dtype \n",
      "---  ------                    --------------   ----- \n",
      " 0   Unnamed: 0                482279 non-null  int64 \n",
      " 1   id                        482279 non-null  int64 \n",
      " 2   name                      482279 non-null  object\n",
      " 3   description               482279 non-null  object\n",
      " 4   ingredients               482279 non-null  object\n",
      " 5   ingredients_raw_str       482279 non-null  object\n",
      " 6   serving_size              482279 non-null  object\n",
      " 7   servings                  482279 non-null  int64 \n",
      " 8   steps                     482279 non-null  object\n",
      " 9   tags                      482279 non-null  object\n",
      " 10  search_terms              482279 non-null  object\n",
      " 11  ingredients_list          482279 non-null  object\n",
      " 12  ingredients_raw_str_list  482279 non-null  object\n",
      " 13  steps_list                482279 non-null  object\n",
      " 14  tags_list                 482279 non-null  object\n",
      " 15  search_terms_list         482279 non-null  object\n",
      " 16  target_tag                482279 non-null  bool  \n",
      " 17  target_search_term        482279 non-null  bool  \n",
      " 18  target                    482279 non-null  int64 \n",
      " 19  num_ingredients           482279 non-null  int64 \n",
      " 20  num_steps                 482279 non-null  int64 \n",
      " 21  num_char_description      482279 non-null  int64 \n",
      " 22  cleaned_steps             482279 non-null  object\n",
      " 23  step_tokens               482279 non-null  object\n",
      " 24  cleaned_description       481557 non-null  object\n",
      " 25  description_tokens        482279 non-null  object\n",
      "dtypes: bool(2), int64(7), object(17)\n",
      "memory usage: 89.2+ MB\n"
     ]
    }
   ],
   "source": [
    "df.info()"
   ]
  },
  {
   "cell_type": "code",
   "execution_count": 151,
   "id": "79592f95",
   "metadata": {
    "ExecuteTime": {
     "end_time": "2021-12-07T00:42:55.618798Z",
     "start_time": "2021-12-07T00:42:55.590786Z"
    }
   },
   "outputs": [
    {
     "data": {
      "text/html": [
       "<div>\n",
       "<style scoped>\n",
       "    .dataframe tbody tr th:only-of-type {\n",
       "        vertical-align: middle;\n",
       "    }\n",
       "\n",
       "    .dataframe tbody tr th {\n",
       "        vertical-align: top;\n",
       "    }\n",
       "\n",
       "    .dataframe thead th {\n",
       "        text-align: right;\n",
       "    }\n",
       "</style>\n",
       "<table border=\"1\" class=\"dataframe\">\n",
       "  <thead>\n",
       "    <tr style=\"text-align: right;\">\n",
       "      <th></th>\n",
       "      <th>Unnamed: 0</th>\n",
       "      <th>id</th>\n",
       "      <th>name</th>\n",
       "      <th>description</th>\n",
       "      <th>ingredients</th>\n",
       "      <th>ingredients_raw_str</th>\n",
       "      <th>serving_size</th>\n",
       "      <th>servings</th>\n",
       "      <th>steps</th>\n",
       "      <th>tags</th>\n",
       "      <th>search_terms</th>\n",
       "      <th>ingredients_list</th>\n",
       "      <th>ingredients_raw_str_list</th>\n",
       "      <th>steps_list</th>\n",
       "      <th>tags_list</th>\n",
       "      <th>search_terms_list</th>\n",
       "      <th>target_tag</th>\n",
       "      <th>target_search_term</th>\n",
       "      <th>target</th>\n",
       "      <th>num_ingredients</th>\n",
       "      <th>num_steps</th>\n",
       "      <th>num_char_description</th>\n",
       "      <th>cleaned_steps</th>\n",
       "      <th>step_tokens</th>\n",
       "      <th>cleaned_description</th>\n",
       "      <th>description_tokens</th>\n",
       "    </tr>\n",
       "  </thead>\n",
       "  <tbody>\n",
       "    <tr>\n",
       "      <th>0</th>\n",
       "      <td>0</td>\n",
       "      <td>96313</td>\n",
       "      <td>Grilled Garlic Cheese Grits</td>\n",
       "      <td>We love grits, this is another good way to ser...</td>\n",
       "      <td>['water', 'grits', 'salt', 'cheddar cheese', '...</td>\n",
       "      <td>[\"4   cups    water\",\"1   cup   uncooked old f...</td>\n",
       "      <td>1 (155 g)</td>\n",
       "      <td>8</td>\n",
       "      <td>['I a sauce pan, bring water to a boil; slowly...</td>\n",
       "      <td>['time-to-make', 'course', 'main-ingredient', ...</td>\n",
       "      <td>{'diabetic', 'low-calorie', 'vegetarian', 'low...</td>\n",
       "      <td>['water', 'grits', 'salt', 'cheddar cheese', '...</td>\n",
       "      <td>['4   cups    water', '1   cup   uncooked old ...</td>\n",
       "      <td>['I a sauce pan, bring water to a boil; slowly...</td>\n",
       "      <td>['time-to-make', 'course', 'main-ingredient', ...</td>\n",
       "      <td>['low-calorie', 'diabetic', 'side', 'vegetaria...</td>\n",
       "      <td>False</td>\n",
       "      <td>False</td>\n",
       "      <td>0</td>\n",
       "      <td>6</td>\n",
       "      <td>4</td>\n",
       "      <td>301</td>\n",
       "      <td>i a sauce pan bring water to a boil slowly add...</td>\n",
       "      <td>['i', 'a', 'sauce', 'pan', 'bring', 'water', '...</td>\n",
       "      <td>we love grits this is another good way to serv...</td>\n",
       "      <td>['we', 'love', 'grits', 'this', 'is', 'another...</td>\n",
       "    </tr>\n",
       "    <tr>\n",
       "      <th>1</th>\n",
       "      <td>1</td>\n",
       "      <td>232037</td>\n",
       "      <td>Simple Shrimp and Andouille Jambalaya</td>\n",
       "      <td>Simple, easy and very tasty for when you are i...</td>\n",
       "      <td>['onion', 'red bell pepper', 'garlic cloves', ...</td>\n",
       "      <td>[\"1   medium    onion, chopped coarse \",\"1   m...</td>\n",
       "      <td>1 (366 g)</td>\n",
       "      <td>4</td>\n",
       "      <td>['In a food processor, pulse the onion, red pe...</td>\n",
       "      <td>['60-minutes-or-less', 'time-to-make', 'course...</td>\n",
       "      <td>{'dinner', 'shrimp'}</td>\n",
       "      <td>['onion', 'red bell pepper', 'garlic cloves', ...</td>\n",
       "      <td>['1   medium    onion, chopped coarse ', '1   ...</td>\n",
       "      <td>['In a food processor, pulse the onion, red pe...</td>\n",
       "      <td>['60-minutes-or-less', 'time-to-make', 'course...</td>\n",
       "      <td>['dinner', 'shrimp']</td>\n",
       "      <td>False</td>\n",
       "      <td>True</td>\n",
       "      <td>0</td>\n",
       "      <td>13</td>\n",
       "      <td>10</td>\n",
       "      <td>138</td>\n",
       "      <td>in a food processor pulse the onion red pepper...</td>\n",
       "      <td>['in', 'a', 'food', 'processor', 'pulse', 'the...</td>\n",
       "      <td>simple easy and very tasty for when you are in...</td>\n",
       "      <td>['simple', 'easy', 'and', 'very', 'tasty', 'fo...</td>\n",
       "    </tr>\n",
       "    <tr>\n",
       "      <th>2</th>\n",
       "      <td>3</td>\n",
       "      <td>60656</td>\n",
       "      <td>Crock Pot Italian Zucchini</td>\n",
       "      <td>This is a good recipe for weight watchers. It ...</td>\n",
       "      <td>['zucchini', 'yellow squash', 'diced tomatoes'...</td>\n",
       "      <td>[\"2       zucchini, sliced \",\"2   small    yel...</td>\n",
       "      <td>1 (244 g)</td>\n",
       "      <td>4</td>\n",
       "      <td>['Put all ingredients in the crock pot and coo...</td>\n",
       "      <td>['weeknight', 'time-to-make', 'course', 'main-...</td>\n",
       "      <td>{'side', 'vegetarian', 'italian'}</td>\n",
       "      <td>['zucchini', 'yellow squash', 'diced tomatoes'...</td>\n",
       "      <td>['2       zucchini, sliced ', '2   small    ye...</td>\n",
       "      <td>['Put all ingredients in the crock pot and coo...</td>\n",
       "      <td>['weeknight', 'time-to-make', 'course', 'main-...</td>\n",
       "      <td>['italian', 'side', 'vegetarian']</td>\n",
       "      <td>True</td>\n",
       "      <td>False</td>\n",
       "      <td>0</td>\n",
       "      <td>9</td>\n",
       "      <td>1</td>\n",
       "      <td>57</td>\n",
       "      <td>put all ingredients in the crock pot and cook ...</td>\n",
       "      <td>['put', 'all', 'ingredients', 'in', 'the', 'cr...</td>\n",
       "      <td>this is a good recipe for weight watchers it i...</td>\n",
       "      <td>['this', 'is', 'a', 'good', 'recipe', 'for', '...</td>\n",
       "    </tr>\n",
       "    <tr>\n",
       "      <th>3</th>\n",
       "      <td>4</td>\n",
       "      <td>232047</td>\n",
       "      <td>Beef Stew With Dried Cherries</td>\n",
       "      <td>This is a fabulous stew that came from one of ...</td>\n",
       "      <td>['beef stew meat', 'flour', 'salt', 'allspice'...</td>\n",
       "      <td>[\"3   lbs    beef stew meat\",\"3   tablespoons ...</td>\n",
       "      <td>1 (358 g)</td>\n",
       "      <td>8</td>\n",
       "      <td>['Preheat oven to 350°F.', \"Cut beef into 1 in...</td>\n",
       "      <td>['time-to-make', 'course', 'main-ingredient', ...</td>\n",
       "      <td>{'dinner'}</td>\n",
       "      <td>['beef stew meat', 'flour', 'salt', 'allspice'...</td>\n",
       "      <td>['3   lbs    beef stew meat', '3   tablespoons...</td>\n",
       "      <td>['Preheat oven to 350°F.', \"Cut beef into 1 in...</td>\n",
       "      <td>['time-to-make', 'course', 'main-ingredient', ...</td>\n",
       "      <td>['dinner']</td>\n",
       "      <td>True</td>\n",
       "      <td>True</td>\n",
       "      <td>1</td>\n",
       "      <td>14</td>\n",
       "      <td>6</td>\n",
       "      <td>392</td>\n",
       "      <td>preheat oven to f cut beef into inch cubes com...</td>\n",
       "      <td>['preheat', 'oven', 'to', 'f', 'cut', 'beef', ...</td>\n",
       "      <td>this is a fabulous stew that came from one of ...</td>\n",
       "      <td>['this', 'is', 'a', 'fabulous', 'stew', 'that'...</td>\n",
       "    </tr>\n",
       "    <tr>\n",
       "      <th>4</th>\n",
       "      <td>5</td>\n",
       "      <td>232050</td>\n",
       "      <td>Hot Sweet Almond Brittle</td>\n",
       "      <td>This is one of our standard holiday gift recip...</td>\n",
       "      <td>['slivered almonds', 'cider vinegar', 'sugar',...</td>\n",
       "      <td>[\"12   ounces    slivered almonds\",\"1/4  cup  ...</td>\n",
       "      <td>1 (832 g)</td>\n",
       "      <td>1</td>\n",
       "      <td>['Preheat oven to 375°F  Place almonds in sing...</td>\n",
       "      <td>['time-to-make', 'course', 'preparation', 'des...</td>\n",
       "      <td>{'dessert'}</td>\n",
       "      <td>['slivered almonds', 'cider vinegar', 'sugar',...</td>\n",
       "      <td>['12   ounces    slivered almonds', '1/4  cup ...</td>\n",
       "      <td>['Preheat oven to 375°F  Place almonds in sing...</td>\n",
       "      <td>['time-to-make', 'course', 'preparation', 'des...</td>\n",
       "      <td>['dessert']</td>\n",
       "      <td>False</td>\n",
       "      <td>False</td>\n",
       "      <td>0</td>\n",
       "      <td>8</td>\n",
       "      <td>4</td>\n",
       "      <td>164</td>\n",
       "      <td>preheat oven to f place almonds in single laye...</td>\n",
       "      <td>['preheat', 'oven', 'to', 'f', 'place', 'almon...</td>\n",
       "      <td>this is one of our standard holiday gift recip...</td>\n",
       "      <td>['this', 'is', 'one', 'of', 'our', 'standard',...</td>\n",
       "    </tr>\n",
       "  </tbody>\n",
       "</table>\n",
       "</div>"
      ],
      "text/plain": [
       "   Unnamed: 0      id                                   name  \\\n",
       "0           0   96313            Grilled Garlic Cheese Grits   \n",
       "1           1  232037  Simple Shrimp and Andouille Jambalaya   \n",
       "2           3   60656             Crock Pot Italian Zucchini   \n",
       "3           4  232047          Beef Stew With Dried Cherries   \n",
       "4           5  232050               Hot Sweet Almond Brittle   \n",
       "\n",
       "                                         description  \\\n",
       "0  We love grits, this is another good way to ser...   \n",
       "1  Simple, easy and very tasty for when you are i...   \n",
       "2  This is a good recipe for weight watchers. It ...   \n",
       "3  This is a fabulous stew that came from one of ...   \n",
       "4  This is one of our standard holiday gift recip...   \n",
       "\n",
       "                                         ingredients  \\\n",
       "0  ['water', 'grits', 'salt', 'cheddar cheese', '...   \n",
       "1  ['onion', 'red bell pepper', 'garlic cloves', ...   \n",
       "2  ['zucchini', 'yellow squash', 'diced tomatoes'...   \n",
       "3  ['beef stew meat', 'flour', 'salt', 'allspice'...   \n",
       "4  ['slivered almonds', 'cider vinegar', 'sugar',...   \n",
       "\n",
       "                                 ingredients_raw_str serving_size  servings  \\\n",
       "0  [\"4   cups    water\",\"1   cup   uncooked old f...    1 (155 g)         8   \n",
       "1  [\"1   medium    onion, chopped coarse \",\"1   m...    1 (366 g)         4   \n",
       "2  [\"2       zucchini, sliced \",\"2   small    yel...    1 (244 g)         4   \n",
       "3  [\"3   lbs    beef stew meat\",\"3   tablespoons ...    1 (358 g)         8   \n",
       "4  [\"12   ounces    slivered almonds\",\"1/4  cup  ...    1 (832 g)         1   \n",
       "\n",
       "                                               steps  \\\n",
       "0  ['I a sauce pan, bring water to a boil; slowly...   \n",
       "1  ['In a food processor, pulse the onion, red pe...   \n",
       "2  ['Put all ingredients in the crock pot and coo...   \n",
       "3  ['Preheat oven to 350°F.', \"Cut beef into 1 in...   \n",
       "4  ['Preheat oven to 375°F  Place almonds in sing...   \n",
       "\n",
       "                                                tags  \\\n",
       "0  ['time-to-make', 'course', 'main-ingredient', ...   \n",
       "1  ['60-minutes-or-less', 'time-to-make', 'course...   \n",
       "2  ['weeknight', 'time-to-make', 'course', 'main-...   \n",
       "3  ['time-to-make', 'course', 'main-ingredient', ...   \n",
       "4  ['time-to-make', 'course', 'preparation', 'des...   \n",
       "\n",
       "                                        search_terms  \\\n",
       "0  {'diabetic', 'low-calorie', 'vegetarian', 'low...   \n",
       "1                               {'dinner', 'shrimp'}   \n",
       "2                  {'side', 'vegetarian', 'italian'}   \n",
       "3                                         {'dinner'}   \n",
       "4                                        {'dessert'}   \n",
       "\n",
       "                                    ingredients_list  \\\n",
       "0  ['water', 'grits', 'salt', 'cheddar cheese', '...   \n",
       "1  ['onion', 'red bell pepper', 'garlic cloves', ...   \n",
       "2  ['zucchini', 'yellow squash', 'diced tomatoes'...   \n",
       "3  ['beef stew meat', 'flour', 'salt', 'allspice'...   \n",
       "4  ['slivered almonds', 'cider vinegar', 'sugar',...   \n",
       "\n",
       "                            ingredients_raw_str_list  \\\n",
       "0  ['4   cups    water', '1   cup   uncooked old ...   \n",
       "1  ['1   medium    onion, chopped coarse ', '1   ...   \n",
       "2  ['2       zucchini, sliced ', '2   small    ye...   \n",
       "3  ['3   lbs    beef stew meat', '3   tablespoons...   \n",
       "4  ['12   ounces    slivered almonds', '1/4  cup ...   \n",
       "\n",
       "                                          steps_list  \\\n",
       "0  ['I a sauce pan, bring water to a boil; slowly...   \n",
       "1  ['In a food processor, pulse the onion, red pe...   \n",
       "2  ['Put all ingredients in the crock pot and coo...   \n",
       "3  ['Preheat oven to 350°F.', \"Cut beef into 1 in...   \n",
       "4  ['Preheat oven to 375°F  Place almonds in sing...   \n",
       "\n",
       "                                           tags_list  \\\n",
       "0  ['time-to-make', 'course', 'main-ingredient', ...   \n",
       "1  ['60-minutes-or-less', 'time-to-make', 'course...   \n",
       "2  ['weeknight', 'time-to-make', 'course', 'main-...   \n",
       "3  ['time-to-make', 'course', 'main-ingredient', ...   \n",
       "4  ['time-to-make', 'course', 'preparation', 'des...   \n",
       "\n",
       "                                   search_terms_list  target_tag  \\\n",
       "0  ['low-calorie', 'diabetic', 'side', 'vegetaria...       False   \n",
       "1                               ['dinner', 'shrimp']       False   \n",
       "2                  ['italian', 'side', 'vegetarian']        True   \n",
       "3                                         ['dinner']        True   \n",
       "4                                        ['dessert']       False   \n",
       "\n",
       "   target_search_term  target  num_ingredients  num_steps  \\\n",
       "0               False       0                6          4   \n",
       "1                True       0               13         10   \n",
       "2               False       0                9          1   \n",
       "3                True       1               14          6   \n",
       "4               False       0                8          4   \n",
       "\n",
       "   num_char_description                                      cleaned_steps  \\\n",
       "0                   301  i a sauce pan bring water to a boil slowly add...   \n",
       "1                   138  in a food processor pulse the onion red pepper...   \n",
       "2                    57  put all ingredients in the crock pot and cook ...   \n",
       "3                   392  preheat oven to f cut beef into inch cubes com...   \n",
       "4                   164  preheat oven to f place almonds in single laye...   \n",
       "\n",
       "                                         step_tokens  \\\n",
       "0  ['i', 'a', 'sauce', 'pan', 'bring', 'water', '...   \n",
       "1  ['in', 'a', 'food', 'processor', 'pulse', 'the...   \n",
       "2  ['put', 'all', 'ingredients', 'in', 'the', 'cr...   \n",
       "3  ['preheat', 'oven', 'to', 'f', 'cut', 'beef', ...   \n",
       "4  ['preheat', 'oven', 'to', 'f', 'place', 'almon...   \n",
       "\n",
       "                                 cleaned_description  \\\n",
       "0  we love grits this is another good way to serv...   \n",
       "1  simple easy and very tasty for when you are in...   \n",
       "2  this is a good recipe for weight watchers it i...   \n",
       "3  this is a fabulous stew that came from one of ...   \n",
       "4  this is one of our standard holiday gift recip...   \n",
       "\n",
       "                                  description_tokens  \n",
       "0  ['we', 'love', 'grits', 'this', 'is', 'another...  \n",
       "1  ['simple', 'easy', 'and', 'very', 'tasty', 'fo...  \n",
       "2  ['this', 'is', 'a', 'good', 'recipe', 'for', '...  \n",
       "3  ['this', 'is', 'a', 'fabulous', 'stew', 'that'...  \n",
       "4  ['this', 'is', 'one', 'of', 'our', 'standard',...  "
      ]
     },
     "execution_count": 151,
     "metadata": {},
     "output_type": "execute_result"
    }
   ],
   "source": [
    "df.head()"
   ]
  },
  {
   "cell_type": "code",
   "execution_count": 152,
   "id": "50aaae32",
   "metadata": {
    "ExecuteTime": {
     "end_time": "2021-12-07T00:42:57.925329Z",
     "start_time": "2021-12-07T00:42:55.619805Z"
    }
   },
   "outputs": [],
   "source": [
    "df['combined'] = df['description'] + ' ' + df['steps']"
   ]
  },
  {
   "cell_type": "code",
   "execution_count": 153,
   "id": "c99ae64a",
   "metadata": {
    "ExecuteTime": {
     "end_time": "2021-12-07T00:42:57.957331Z",
     "start_time": "2021-12-07T00:42:57.927311Z"
    }
   },
   "outputs": [
    {
     "data": {
      "text/html": [
       "<div>\n",
       "<style scoped>\n",
       "    .dataframe tbody tr th:only-of-type {\n",
       "        vertical-align: middle;\n",
       "    }\n",
       "\n",
       "    .dataframe tbody tr th {\n",
       "        vertical-align: top;\n",
       "    }\n",
       "\n",
       "    .dataframe thead th {\n",
       "        text-align: right;\n",
       "    }\n",
       "</style>\n",
       "<table border=\"1\" class=\"dataframe\">\n",
       "  <thead>\n",
       "    <tr style=\"text-align: right;\">\n",
       "      <th></th>\n",
       "      <th>Unnamed: 0</th>\n",
       "      <th>id</th>\n",
       "      <th>name</th>\n",
       "      <th>description</th>\n",
       "      <th>ingredients</th>\n",
       "      <th>ingredients_raw_str</th>\n",
       "      <th>serving_size</th>\n",
       "      <th>servings</th>\n",
       "      <th>steps</th>\n",
       "      <th>tags</th>\n",
       "      <th>search_terms</th>\n",
       "      <th>ingredients_list</th>\n",
       "      <th>ingredients_raw_str_list</th>\n",
       "      <th>steps_list</th>\n",
       "      <th>tags_list</th>\n",
       "      <th>search_terms_list</th>\n",
       "      <th>target_tag</th>\n",
       "      <th>target_search_term</th>\n",
       "      <th>target</th>\n",
       "      <th>num_ingredients</th>\n",
       "      <th>num_steps</th>\n",
       "      <th>num_char_description</th>\n",
       "      <th>cleaned_steps</th>\n",
       "      <th>step_tokens</th>\n",
       "      <th>cleaned_description</th>\n",
       "      <th>description_tokens</th>\n",
       "      <th>combined</th>\n",
       "    </tr>\n",
       "  </thead>\n",
       "  <tbody>\n",
       "    <tr>\n",
       "      <th>0</th>\n",
       "      <td>0</td>\n",
       "      <td>96313</td>\n",
       "      <td>Grilled Garlic Cheese Grits</td>\n",
       "      <td>We love grits, this is another good way to ser...</td>\n",
       "      <td>['water', 'grits', 'salt', 'cheddar cheese', '...</td>\n",
       "      <td>[\"4   cups    water\",\"1   cup   uncooked old f...</td>\n",
       "      <td>1 (155 g)</td>\n",
       "      <td>8</td>\n",
       "      <td>['I a sauce pan, bring water to a boil; slowly...</td>\n",
       "      <td>['time-to-make', 'course', 'main-ingredient', ...</td>\n",
       "      <td>{'diabetic', 'low-calorie', 'vegetarian', 'low...</td>\n",
       "      <td>['water', 'grits', 'salt', 'cheddar cheese', '...</td>\n",
       "      <td>['4   cups    water', '1   cup   uncooked old ...</td>\n",
       "      <td>['I a sauce pan, bring water to a boil; slowly...</td>\n",
       "      <td>['time-to-make', 'course', 'main-ingredient', ...</td>\n",
       "      <td>['low-calorie', 'diabetic', 'side', 'vegetaria...</td>\n",
       "      <td>False</td>\n",
       "      <td>False</td>\n",
       "      <td>0</td>\n",
       "      <td>6</td>\n",
       "      <td>4</td>\n",
       "      <td>301</td>\n",
       "      <td>i a sauce pan bring water to a boil slowly add...</td>\n",
       "      <td>['i', 'a', 'sauce', 'pan', 'bring', 'water', '...</td>\n",
       "      <td>we love grits this is another good way to serv...</td>\n",
       "      <td>['we', 'love', 'grits', 'this', 'is', 'another...</td>\n",
       "      <td>We love grits, this is another good way to ser...</td>\n",
       "    </tr>\n",
       "    <tr>\n",
       "      <th>1</th>\n",
       "      <td>1</td>\n",
       "      <td>232037</td>\n",
       "      <td>Simple Shrimp and Andouille Jambalaya</td>\n",
       "      <td>Simple, easy and very tasty for when you are i...</td>\n",
       "      <td>['onion', 'red bell pepper', 'garlic cloves', ...</td>\n",
       "      <td>[\"1   medium    onion, chopped coarse \",\"1   m...</td>\n",
       "      <td>1 (366 g)</td>\n",
       "      <td>4</td>\n",
       "      <td>['In a food processor, pulse the onion, red pe...</td>\n",
       "      <td>['60-minutes-or-less', 'time-to-make', 'course...</td>\n",
       "      <td>{'dinner', 'shrimp'}</td>\n",
       "      <td>['onion', 'red bell pepper', 'garlic cloves', ...</td>\n",
       "      <td>['1   medium    onion, chopped coarse ', '1   ...</td>\n",
       "      <td>['In a food processor, pulse the onion, red pe...</td>\n",
       "      <td>['60-minutes-or-less', 'time-to-make', 'course...</td>\n",
       "      <td>['dinner', 'shrimp']</td>\n",
       "      <td>False</td>\n",
       "      <td>True</td>\n",
       "      <td>0</td>\n",
       "      <td>13</td>\n",
       "      <td>10</td>\n",
       "      <td>138</td>\n",
       "      <td>in a food processor pulse the onion red pepper...</td>\n",
       "      <td>['in', 'a', 'food', 'processor', 'pulse', 'the...</td>\n",
       "      <td>simple easy and very tasty for when you are in...</td>\n",
       "      <td>['simple', 'easy', 'and', 'very', 'tasty', 'fo...</td>\n",
       "      <td>Simple, easy and very tasty for when you are i...</td>\n",
       "    </tr>\n",
       "    <tr>\n",
       "      <th>2</th>\n",
       "      <td>3</td>\n",
       "      <td>60656</td>\n",
       "      <td>Crock Pot Italian Zucchini</td>\n",
       "      <td>This is a good recipe for weight watchers. It ...</td>\n",
       "      <td>['zucchini', 'yellow squash', 'diced tomatoes'...</td>\n",
       "      <td>[\"2       zucchini, sliced \",\"2   small    yel...</td>\n",
       "      <td>1 (244 g)</td>\n",
       "      <td>4</td>\n",
       "      <td>['Put all ingredients in the crock pot and coo...</td>\n",
       "      <td>['weeknight', 'time-to-make', 'course', 'main-...</td>\n",
       "      <td>{'side', 'vegetarian', 'italian'}</td>\n",
       "      <td>['zucchini', 'yellow squash', 'diced tomatoes'...</td>\n",
       "      <td>['2       zucchini, sliced ', '2   small    ye...</td>\n",
       "      <td>['Put all ingredients in the crock pot and coo...</td>\n",
       "      <td>['weeknight', 'time-to-make', 'course', 'main-...</td>\n",
       "      <td>['italian', 'side', 'vegetarian']</td>\n",
       "      <td>True</td>\n",
       "      <td>False</td>\n",
       "      <td>0</td>\n",
       "      <td>9</td>\n",
       "      <td>1</td>\n",
       "      <td>57</td>\n",
       "      <td>put all ingredients in the crock pot and cook ...</td>\n",
       "      <td>['put', 'all', 'ingredients', 'in', 'the', 'cr...</td>\n",
       "      <td>this is a good recipe for weight watchers it i...</td>\n",
       "      <td>['this', 'is', 'a', 'good', 'recipe', 'for', '...</td>\n",
       "      <td>This is a good recipe for weight watchers. It ...</td>\n",
       "    </tr>\n",
       "    <tr>\n",
       "      <th>3</th>\n",
       "      <td>4</td>\n",
       "      <td>232047</td>\n",
       "      <td>Beef Stew With Dried Cherries</td>\n",
       "      <td>This is a fabulous stew that came from one of ...</td>\n",
       "      <td>['beef stew meat', 'flour', 'salt', 'allspice'...</td>\n",
       "      <td>[\"3   lbs    beef stew meat\",\"3   tablespoons ...</td>\n",
       "      <td>1 (358 g)</td>\n",
       "      <td>8</td>\n",
       "      <td>['Preheat oven to 350°F.', \"Cut beef into 1 in...</td>\n",
       "      <td>['time-to-make', 'course', 'main-ingredient', ...</td>\n",
       "      <td>{'dinner'}</td>\n",
       "      <td>['beef stew meat', 'flour', 'salt', 'allspice'...</td>\n",
       "      <td>['3   lbs    beef stew meat', '3   tablespoons...</td>\n",
       "      <td>['Preheat oven to 350°F.', \"Cut beef into 1 in...</td>\n",
       "      <td>['time-to-make', 'course', 'main-ingredient', ...</td>\n",
       "      <td>['dinner']</td>\n",
       "      <td>True</td>\n",
       "      <td>True</td>\n",
       "      <td>1</td>\n",
       "      <td>14</td>\n",
       "      <td>6</td>\n",
       "      <td>392</td>\n",
       "      <td>preheat oven to f cut beef into inch cubes com...</td>\n",
       "      <td>['preheat', 'oven', 'to', 'f', 'cut', 'beef', ...</td>\n",
       "      <td>this is a fabulous stew that came from one of ...</td>\n",
       "      <td>['this', 'is', 'a', 'fabulous', 'stew', 'that'...</td>\n",
       "      <td>This is a fabulous stew that came from one of ...</td>\n",
       "    </tr>\n",
       "    <tr>\n",
       "      <th>4</th>\n",
       "      <td>5</td>\n",
       "      <td>232050</td>\n",
       "      <td>Hot Sweet Almond Brittle</td>\n",
       "      <td>This is one of our standard holiday gift recip...</td>\n",
       "      <td>['slivered almonds', 'cider vinegar', 'sugar',...</td>\n",
       "      <td>[\"12   ounces    slivered almonds\",\"1/4  cup  ...</td>\n",
       "      <td>1 (832 g)</td>\n",
       "      <td>1</td>\n",
       "      <td>['Preheat oven to 375°F  Place almonds in sing...</td>\n",
       "      <td>['time-to-make', 'course', 'preparation', 'des...</td>\n",
       "      <td>{'dessert'}</td>\n",
       "      <td>['slivered almonds', 'cider vinegar', 'sugar',...</td>\n",
       "      <td>['12   ounces    slivered almonds', '1/4  cup ...</td>\n",
       "      <td>['Preheat oven to 375°F  Place almonds in sing...</td>\n",
       "      <td>['time-to-make', 'course', 'preparation', 'des...</td>\n",
       "      <td>['dessert']</td>\n",
       "      <td>False</td>\n",
       "      <td>False</td>\n",
       "      <td>0</td>\n",
       "      <td>8</td>\n",
       "      <td>4</td>\n",
       "      <td>164</td>\n",
       "      <td>preheat oven to f place almonds in single laye...</td>\n",
       "      <td>['preheat', 'oven', 'to', 'f', 'place', 'almon...</td>\n",
       "      <td>this is one of our standard holiday gift recip...</td>\n",
       "      <td>['this', 'is', 'one', 'of', 'our', 'standard',...</td>\n",
       "      <td>This is one of our standard holiday gift recip...</td>\n",
       "    </tr>\n",
       "  </tbody>\n",
       "</table>\n",
       "</div>"
      ],
      "text/plain": [
       "   Unnamed: 0      id                                   name  \\\n",
       "0           0   96313            Grilled Garlic Cheese Grits   \n",
       "1           1  232037  Simple Shrimp and Andouille Jambalaya   \n",
       "2           3   60656             Crock Pot Italian Zucchini   \n",
       "3           4  232047          Beef Stew With Dried Cherries   \n",
       "4           5  232050               Hot Sweet Almond Brittle   \n",
       "\n",
       "                                         description  \\\n",
       "0  We love grits, this is another good way to ser...   \n",
       "1  Simple, easy and very tasty for when you are i...   \n",
       "2  This is a good recipe for weight watchers. It ...   \n",
       "3  This is a fabulous stew that came from one of ...   \n",
       "4  This is one of our standard holiday gift recip...   \n",
       "\n",
       "                                         ingredients  \\\n",
       "0  ['water', 'grits', 'salt', 'cheddar cheese', '...   \n",
       "1  ['onion', 'red bell pepper', 'garlic cloves', ...   \n",
       "2  ['zucchini', 'yellow squash', 'diced tomatoes'...   \n",
       "3  ['beef stew meat', 'flour', 'salt', 'allspice'...   \n",
       "4  ['slivered almonds', 'cider vinegar', 'sugar',...   \n",
       "\n",
       "                                 ingredients_raw_str serving_size  servings  \\\n",
       "0  [\"4   cups    water\",\"1   cup   uncooked old f...    1 (155 g)         8   \n",
       "1  [\"1   medium    onion, chopped coarse \",\"1   m...    1 (366 g)         4   \n",
       "2  [\"2       zucchini, sliced \",\"2   small    yel...    1 (244 g)         4   \n",
       "3  [\"3   lbs    beef stew meat\",\"3   tablespoons ...    1 (358 g)         8   \n",
       "4  [\"12   ounces    slivered almonds\",\"1/4  cup  ...    1 (832 g)         1   \n",
       "\n",
       "                                               steps  \\\n",
       "0  ['I a sauce pan, bring water to a boil; slowly...   \n",
       "1  ['In a food processor, pulse the onion, red pe...   \n",
       "2  ['Put all ingredients in the crock pot and coo...   \n",
       "3  ['Preheat oven to 350°F.', \"Cut beef into 1 in...   \n",
       "4  ['Preheat oven to 375°F  Place almonds in sing...   \n",
       "\n",
       "                                                tags  \\\n",
       "0  ['time-to-make', 'course', 'main-ingredient', ...   \n",
       "1  ['60-minutes-or-less', 'time-to-make', 'course...   \n",
       "2  ['weeknight', 'time-to-make', 'course', 'main-...   \n",
       "3  ['time-to-make', 'course', 'main-ingredient', ...   \n",
       "4  ['time-to-make', 'course', 'preparation', 'des...   \n",
       "\n",
       "                                        search_terms  \\\n",
       "0  {'diabetic', 'low-calorie', 'vegetarian', 'low...   \n",
       "1                               {'dinner', 'shrimp'}   \n",
       "2                  {'side', 'vegetarian', 'italian'}   \n",
       "3                                         {'dinner'}   \n",
       "4                                        {'dessert'}   \n",
       "\n",
       "                                    ingredients_list  \\\n",
       "0  ['water', 'grits', 'salt', 'cheddar cheese', '...   \n",
       "1  ['onion', 'red bell pepper', 'garlic cloves', ...   \n",
       "2  ['zucchini', 'yellow squash', 'diced tomatoes'...   \n",
       "3  ['beef stew meat', 'flour', 'salt', 'allspice'...   \n",
       "4  ['slivered almonds', 'cider vinegar', 'sugar',...   \n",
       "\n",
       "                            ingredients_raw_str_list  \\\n",
       "0  ['4   cups    water', '1   cup   uncooked old ...   \n",
       "1  ['1   medium    onion, chopped coarse ', '1   ...   \n",
       "2  ['2       zucchini, sliced ', '2   small    ye...   \n",
       "3  ['3   lbs    beef stew meat', '3   tablespoons...   \n",
       "4  ['12   ounces    slivered almonds', '1/4  cup ...   \n",
       "\n",
       "                                          steps_list  \\\n",
       "0  ['I a sauce pan, bring water to a boil; slowly...   \n",
       "1  ['In a food processor, pulse the onion, red pe...   \n",
       "2  ['Put all ingredients in the crock pot and coo...   \n",
       "3  ['Preheat oven to 350°F.', \"Cut beef into 1 in...   \n",
       "4  ['Preheat oven to 375°F  Place almonds in sing...   \n",
       "\n",
       "                                           tags_list  \\\n",
       "0  ['time-to-make', 'course', 'main-ingredient', ...   \n",
       "1  ['60-minutes-or-less', 'time-to-make', 'course...   \n",
       "2  ['weeknight', 'time-to-make', 'course', 'main-...   \n",
       "3  ['time-to-make', 'course', 'main-ingredient', ...   \n",
       "4  ['time-to-make', 'course', 'preparation', 'des...   \n",
       "\n",
       "                                   search_terms_list  target_tag  \\\n",
       "0  ['low-calorie', 'diabetic', 'side', 'vegetaria...       False   \n",
       "1                               ['dinner', 'shrimp']       False   \n",
       "2                  ['italian', 'side', 'vegetarian']        True   \n",
       "3                                         ['dinner']        True   \n",
       "4                                        ['dessert']       False   \n",
       "\n",
       "   target_search_term  target  num_ingredients  num_steps  \\\n",
       "0               False       0                6          4   \n",
       "1                True       0               13         10   \n",
       "2               False       0                9          1   \n",
       "3                True       1               14          6   \n",
       "4               False       0                8          4   \n",
       "\n",
       "   num_char_description                                      cleaned_steps  \\\n",
       "0                   301  i a sauce pan bring water to a boil slowly add...   \n",
       "1                   138  in a food processor pulse the onion red pepper...   \n",
       "2                    57  put all ingredients in the crock pot and cook ...   \n",
       "3                   392  preheat oven to f cut beef into inch cubes com...   \n",
       "4                   164  preheat oven to f place almonds in single laye...   \n",
       "\n",
       "                                         step_tokens  \\\n",
       "0  ['i', 'a', 'sauce', 'pan', 'bring', 'water', '...   \n",
       "1  ['in', 'a', 'food', 'processor', 'pulse', 'the...   \n",
       "2  ['put', 'all', 'ingredients', 'in', 'the', 'cr...   \n",
       "3  ['preheat', 'oven', 'to', 'f', 'cut', 'beef', ...   \n",
       "4  ['preheat', 'oven', 'to', 'f', 'place', 'almon...   \n",
       "\n",
       "                                 cleaned_description  \\\n",
       "0  we love grits this is another good way to serv...   \n",
       "1  simple easy and very tasty for when you are in...   \n",
       "2  this is a good recipe for weight watchers it i...   \n",
       "3  this is a fabulous stew that came from one of ...   \n",
       "4  this is one of our standard holiday gift recip...   \n",
       "\n",
       "                                  description_tokens  \\\n",
       "0  ['we', 'love', 'grits', 'this', 'is', 'another...   \n",
       "1  ['simple', 'easy', 'and', 'very', 'tasty', 'fo...   \n",
       "2  ['this', 'is', 'a', 'good', 'recipe', 'for', '...   \n",
       "3  ['this', 'is', 'a', 'fabulous', 'stew', 'that'...   \n",
       "4  ['this', 'is', 'one', 'of', 'our', 'standard',...   \n",
       "\n",
       "                                            combined  \n",
       "0  We love grits, this is another good way to ser...  \n",
       "1  Simple, easy and very tasty for when you are i...  \n",
       "2  This is a good recipe for weight watchers. It ...  \n",
       "3  This is a fabulous stew that came from one of ...  \n",
       "4  This is one of our standard holiday gift recip...  "
      ]
     },
     "execution_count": 153,
     "metadata": {},
     "output_type": "execute_result"
    }
   ],
   "source": [
    "df.head()"
   ]
  },
  {
   "cell_type": "code",
   "execution_count": 154,
   "id": "a7ac7c9f",
   "metadata": {
    "ExecuteTime": {
     "end_time": "2021-12-07T00:42:57.973321Z",
     "start_time": "2021-12-07T00:42:57.959317Z"
    }
   },
   "outputs": [],
   "source": [
    "y = df['target']"
   ]
  },
  {
   "cell_type": "code",
   "execution_count": 155,
   "id": "d1668658",
   "metadata": {
    "ExecuteTime": {
     "end_time": "2021-12-07T00:42:58.005340Z",
     "start_time": "2021-12-07T00:42:57.975322Z"
    }
   },
   "outputs": [],
   "source": [
    "X = pd.DataFrame(df['combined'], index = df.index)"
   ]
  },
  {
   "cell_type": "code",
   "execution_count": 156,
   "id": "c1b41124",
   "metadata": {
    "ExecuteTime": {
     "end_time": "2021-12-07T00:42:58.021345Z",
     "start_time": "2021-12-07T00:42:58.007342Z"
    }
   },
   "outputs": [
    {
     "data": {
      "text/html": [
       "<div>\n",
       "<style scoped>\n",
       "    .dataframe tbody tr th:only-of-type {\n",
       "        vertical-align: middle;\n",
       "    }\n",
       "\n",
       "    .dataframe tbody tr th {\n",
       "        vertical-align: top;\n",
       "    }\n",
       "\n",
       "    .dataframe thead th {\n",
       "        text-align: right;\n",
       "    }\n",
       "</style>\n",
       "<table border=\"1\" class=\"dataframe\">\n",
       "  <thead>\n",
       "    <tr style=\"text-align: right;\">\n",
       "      <th></th>\n",
       "      <th>combined</th>\n",
       "    </tr>\n",
       "  </thead>\n",
       "  <tbody>\n",
       "    <tr>\n",
       "      <th>0</th>\n",
       "      <td>We love grits, this is another good way to ser...</td>\n",
       "    </tr>\n",
       "    <tr>\n",
       "      <th>1</th>\n",
       "      <td>Simple, easy and very tasty for when you are i...</td>\n",
       "    </tr>\n",
       "    <tr>\n",
       "      <th>2</th>\n",
       "      <td>This is a good recipe for weight watchers. It ...</td>\n",
       "    </tr>\n",
       "    <tr>\n",
       "      <th>3</th>\n",
       "      <td>This is a fabulous stew that came from one of ...</td>\n",
       "    </tr>\n",
       "    <tr>\n",
       "      <th>4</th>\n",
       "      <td>This is one of our standard holiday gift recip...</td>\n",
       "    </tr>\n",
       "  </tbody>\n",
       "</table>\n",
       "</div>"
      ],
      "text/plain": [
       "                                            combined\n",
       "0  We love grits, this is another good way to ser...\n",
       "1  Simple, easy and very tasty for when you are i...\n",
       "2  This is a good recipe for weight watchers. It ...\n",
       "3  This is a fabulous stew that came from one of ...\n",
       "4  This is one of our standard holiday gift recip..."
      ]
     },
     "execution_count": 156,
     "metadata": {},
     "output_type": "execute_result"
    }
   ],
   "source": [
    "X.head()"
   ]
  },
  {
   "cell_type": "code",
   "execution_count": 157,
   "id": "311ef9ef",
   "metadata": {
    "ExecuteTime": {
     "end_time": "2021-12-07T00:42:58.037338Z",
     "start_time": "2021-12-07T00:42:58.025333Z"
    }
   },
   "outputs": [
    {
     "data": {
      "text/plain": [
       "482279"
      ]
     },
     "execution_count": 157,
     "metadata": {},
     "output_type": "execute_result"
    }
   ],
   "source": [
    "len(y)"
   ]
  },
  {
   "cell_type": "code",
   "execution_count": 158,
   "id": "40df5e8c",
   "metadata": {
    "ExecuteTime": {
     "end_time": "2021-12-07T00:42:58.545462Z",
     "start_time": "2021-12-07T00:42:58.039336Z"
    }
   },
   "outputs": [
    {
     "data": {
      "text/plain": [
       "50000"
      ]
     },
     "execution_count": 158,
     "metadata": {},
     "output_type": "execute_result"
    }
   ],
   "source": [
    "df_sample = df.sample(50000)\n",
    "len(df_sample)"
   ]
  },
  {
   "cell_type": "code",
   "execution_count": 159,
   "id": "429079f6",
   "metadata": {
    "ExecuteTime": {
     "end_time": "2021-12-07T00:42:58.575479Z",
     "start_time": "2021-12-07T00:42:58.547457Z"
    }
   },
   "outputs": [
    {
     "data": {
      "text/html": [
       "<div>\n",
       "<style scoped>\n",
       "    .dataframe tbody tr th:only-of-type {\n",
       "        vertical-align: middle;\n",
       "    }\n",
       "\n",
       "    .dataframe tbody tr th {\n",
       "        vertical-align: top;\n",
       "    }\n",
       "\n",
       "    .dataframe thead th {\n",
       "        text-align: right;\n",
       "    }\n",
       "</style>\n",
       "<table border=\"1\" class=\"dataframe\">\n",
       "  <thead>\n",
       "    <tr style=\"text-align: right;\">\n",
       "      <th></th>\n",
       "      <th>Unnamed: 0</th>\n",
       "      <th>id</th>\n",
       "      <th>name</th>\n",
       "      <th>description</th>\n",
       "      <th>ingredients</th>\n",
       "      <th>ingredients_raw_str</th>\n",
       "      <th>serving_size</th>\n",
       "      <th>servings</th>\n",
       "      <th>steps</th>\n",
       "      <th>tags</th>\n",
       "      <th>search_terms</th>\n",
       "      <th>ingredients_list</th>\n",
       "      <th>ingredients_raw_str_list</th>\n",
       "      <th>steps_list</th>\n",
       "      <th>tags_list</th>\n",
       "      <th>search_terms_list</th>\n",
       "      <th>target_tag</th>\n",
       "      <th>target_search_term</th>\n",
       "      <th>target</th>\n",
       "      <th>num_ingredients</th>\n",
       "      <th>num_steps</th>\n",
       "      <th>num_char_description</th>\n",
       "      <th>cleaned_steps</th>\n",
       "      <th>step_tokens</th>\n",
       "      <th>cleaned_description</th>\n",
       "      <th>description_tokens</th>\n",
       "      <th>combined</th>\n",
       "    </tr>\n",
       "  </thead>\n",
       "  <tbody>\n",
       "    <tr>\n",
       "      <th>394829</th>\n",
       "      <td>405412</td>\n",
       "      <td>245688</td>\n",
       "      <td>Easy Shepherds Pie</td>\n",
       "      <td>This is a great recipe thats easy to prepare w...</td>\n",
       "      <td>['ground beef', 'instant mashed potatoes', 'fr...</td>\n",
       "      <td>[\"1   lb    ground beef\",\"1 (20   ounce) box  ...</td>\n",
       "      <td>1 (430 g)</td>\n",
       "      <td>3</td>\n",
       "      <td>[\"Preheat Oven to 325'F.\", 'Use vegetable spra...</td>\n",
       "      <td>['60-minutes-or-less', 'time-to-make', 'course...</td>\n",
       "      <td>{'dinner', 'low-sodium'}</td>\n",
       "      <td>['ground beef', 'instant mashed potatoes', 'fr...</td>\n",
       "      <td>['1   lb    ground beef', '1 (20   ounce) box ...</td>\n",
       "      <td>[\"Preheat Oven to 325'F.\", 'Use vegetable spra...</td>\n",
       "      <td>['60-minutes-or-less', 'time-to-make', 'course...</td>\n",
       "      <td>['dinner', 'low-sodium']</td>\n",
       "      <td>False</td>\n",
       "      <td>True</td>\n",
       "      <td>0</td>\n",
       "      <td>8</td>\n",
       "      <td>19</td>\n",
       "      <td>117</td>\n",
       "      <td>preheat oven to f use vegetable spray on casse...</td>\n",
       "      <td>['preheat', 'oven', 'to', 'f', 'use', 'vegetab...</td>\n",
       "      <td>this is a great recipe thats easy to prepare w...</td>\n",
       "      <td>['this', 'is', 'a', 'great', 'recipe', 'thats'...</td>\n",
       "      <td>This is a great recipe thats easy to prepare w...</td>\n",
       "    </tr>\n",
       "    <tr>\n",
       "      <th>287952</th>\n",
       "      <td>294949</td>\n",
       "      <td>444120</td>\n",
       "      <td>French Onion Soup</td>\n",
       "      <td>Courtesy of Paula Dean</td>\n",
       "      <td>['onions', 'garlic cloves', 'olive oil', 'all-...</td>\n",
       "      <td>[\"8       onions\",\"4       garlic cloves\",\"1/3...</td>\n",
       "      <td>1 (487 g)</td>\n",
       "      <td>6</td>\n",
       "      <td>['Saute onions and garlic in oil over low heat...</td>\n",
       "      <td>['60-minutes-or-less', 'time-to-make', 'course...</td>\n",
       "      <td>{'french', 'soup'}</td>\n",
       "      <td>['onions', 'garlic cloves', 'olive oil', 'all-...</td>\n",
       "      <td>['8       onions', '4       garlic cloves', '1...</td>\n",
       "      <td>['Saute onions and garlic in oil over low heat...</td>\n",
       "      <td>['60-minutes-or-less', 'time-to-make', 'course...</td>\n",
       "      <td>['soup', 'french']</td>\n",
       "      <td>False</td>\n",
       "      <td>False</td>\n",
       "      <td>0</td>\n",
       "      <td>12</td>\n",
       "      <td>9</td>\n",
       "      <td>22</td>\n",
       "      <td>saute onions and garlic in oil over low heat u...</td>\n",
       "      <td>['saute', 'onions', 'and', 'garlic', 'in', 'oi...</td>\n",
       "      <td>courtesy of paula dean</td>\n",
       "      <td>['courtesy', 'of', 'paula', 'dean']</td>\n",
       "      <td>Courtesy of Paula Dean ['Saute onions and garl...</td>\n",
       "    </tr>\n",
       "    <tr>\n",
       "      <th>336486</th>\n",
       "      <td>345133</td>\n",
       "      <td>467734</td>\n",
       "      <td>So Easy Sweet Potato and Squash Soup</td>\n",
       "      <td>Warm up with a delicious Fall soup that brings...</td>\n",
       "      <td>['sweet potatoes', 'butternut squash soup', 'u...</td>\n",
       "      <td>[\"1       sweet potatoes or 1       yam, peele...</td>\n",
       "      <td>1 (47 g)</td>\n",
       "      <td>4</td>\n",
       "      <td>['In a large pot add about an inch of water an...</td>\n",
       "      <td>['30-minutes-or-less', 'time-to-make', 'prepar...</td>\n",
       "      <td>{'dessert', 'soup', 'vegetarian', 'vegan'}</td>\n",
       "      <td>['sweet potatoes', 'butternut squash soup', 'u...</td>\n",
       "      <td>['1       sweet potatoes or 1       yam, peele...</td>\n",
       "      <td>['In a large pot add about an inch of water an...</td>\n",
       "      <td>['30-minutes-or-less', 'time-to-make', 'prepar...</td>\n",
       "      <td>['vegan', 'soup', 'dessert', 'vegetarian']</td>\n",
       "      <td>True</td>\n",
       "      <td>False</td>\n",
       "      <td>0</td>\n",
       "      <td>4</td>\n",
       "      <td>4</td>\n",
       "      <td>278</td>\n",
       "      <td>in a large pot add about an inch of water and ...</td>\n",
       "      <td>['in', 'a', 'large', 'pot', 'add', 'about', 'a...</td>\n",
       "      <td>warm up with a delicious fall soup that brings...</td>\n",
       "      <td>['warm', 'up', 'with', 'a', 'delicious', 'fall...</td>\n",
       "      <td>Warm up with a delicious Fall soup that brings...</td>\n",
       "    </tr>\n",
       "    <tr>\n",
       "      <th>476566</th>\n",
       "      <td>489133</td>\n",
       "      <td>208756</td>\n",
       "      <td>Broccoli Cheese Souffle</td>\n",
       "      <td>Nice and light side dish. Left overs are great...</td>\n",
       "      <td>['onion', 'butter', 'flour', 'milk', 'nutmeg',...</td>\n",
       "      <td>[\"1       onion, finely chopped \",\"4   tablesp...</td>\n",
       "      <td>1 (100 g)</td>\n",
       "      <td>6</td>\n",
       "      <td>['Preheat oven to 350 F, fill round cake pan o...</td>\n",
       "      <td>['time-to-make', 'course', 'preparation', 'bre...</td>\n",
       "      <td>{'breakfast', 'side', 'low-carb'}</td>\n",
       "      <td>['onion', 'butter', 'flour', 'milk', 'nutmeg',...</td>\n",
       "      <td>['1       onion, finely chopped ', '4   tables...</td>\n",
       "      <td>['Preheat oven to 350 F, fill round cake pan o...</td>\n",
       "      <td>['time-to-make', 'course', 'preparation', 'bre...</td>\n",
       "      <td>['side', 'breakfast', 'low-carb']</td>\n",
       "      <td>False</td>\n",
       "      <td>False</td>\n",
       "      <td>0</td>\n",
       "      <td>8</td>\n",
       "      <td>11</td>\n",
       "      <td>71</td>\n",
       "      <td>preheat oven to f fill round cake pan or pie p...</td>\n",
       "      <td>['preheat', 'oven', 'to', 'f', 'fill', 'round'...</td>\n",
       "      <td>nice and light side dish left overs are great ...</td>\n",
       "      <td>['nice', 'and', 'light', 'side', 'dish', 'left...</td>\n",
       "      <td>Nice and light side dish. Left overs are great...</td>\n",
       "    </tr>\n",
       "    <tr>\n",
       "      <th>466129</th>\n",
       "      <td>478468</td>\n",
       "      <td>406505</td>\n",
       "      <td>Marshmallow Milkshake</td>\n",
       "      <td>Top with a toasted marshmallow or two.  Also c...</td>\n",
       "      <td>['ice cream', 'milk', 'marshmallow creme', 'va...</td>\n",
       "      <td>[\"3   scoops   vanilla soft serve ice cream\",\"...</td>\n",
       "      <td>1 (183 g)</td>\n",
       "      <td>1</td>\n",
       "      <td>['Blend all ingredients with blender.  Serve.']</td>\n",
       "      <td>['weeknight', '15-minutes-or-less', 'time-to-m...</td>\n",
       "      <td>{'dessert'}</td>\n",
       "      <td>['ice cream', 'milk', 'marshmallow creme', 'va...</td>\n",
       "      <td>['3   scoops   vanilla soft serve ice cream', ...</td>\n",
       "      <td>['Blend all ingredients with blender.  Serve.']</td>\n",
       "      <td>['weeknight', '15-minutes-or-less', 'time-to-m...</td>\n",
       "      <td>['dessert']</td>\n",
       "      <td>True</td>\n",
       "      <td>False</td>\n",
       "      <td>0</td>\n",
       "      <td>4</td>\n",
       "      <td>1</td>\n",
       "      <td>69</td>\n",
       "      <td>blend all ingredients with blender serve</td>\n",
       "      <td>['blend', 'all', 'ingredients', 'with', 'blend...</td>\n",
       "      <td>top with a toasted marshmallow or two also che...</td>\n",
       "      <td>['top', 'with', 'a', 'toasted', 'marshmallow',...</td>\n",
       "      <td>Top with a toasted marshmallow or two.  Also c...</td>\n",
       "    </tr>\n",
       "  </tbody>\n",
       "</table>\n",
       "</div>"
      ],
      "text/plain": [
       "        Unnamed: 0      id                                  name  \\\n",
       "394829      405412  245688                    Easy Shepherds Pie   \n",
       "287952      294949  444120                     French Onion Soup   \n",
       "336486      345133  467734  So Easy Sweet Potato and Squash Soup   \n",
       "476566      489133  208756               Broccoli Cheese Souffle   \n",
       "466129      478468  406505                 Marshmallow Milkshake   \n",
       "\n",
       "                                              description  \\\n",
       "394829  This is a great recipe thats easy to prepare w...   \n",
       "287952                             Courtesy of Paula Dean   \n",
       "336486  Warm up with a delicious Fall soup that brings...   \n",
       "476566  Nice and light side dish. Left overs are great...   \n",
       "466129  Top with a toasted marshmallow or two.  Also c...   \n",
       "\n",
       "                                              ingredients  \\\n",
       "394829  ['ground beef', 'instant mashed potatoes', 'fr...   \n",
       "287952  ['onions', 'garlic cloves', 'olive oil', 'all-...   \n",
       "336486  ['sweet potatoes', 'butternut squash soup', 'u...   \n",
       "476566  ['onion', 'butter', 'flour', 'milk', 'nutmeg',...   \n",
       "466129  ['ice cream', 'milk', 'marshmallow creme', 'va...   \n",
       "\n",
       "                                      ingredients_raw_str serving_size  \\\n",
       "394829  [\"1   lb    ground beef\",\"1 (20   ounce) box  ...    1 (430 g)   \n",
       "287952  [\"8       onions\",\"4       garlic cloves\",\"1/3...    1 (487 g)   \n",
       "336486  [\"1       sweet potatoes or 1       yam, peele...     1 (47 g)   \n",
       "476566  [\"1       onion, finely chopped \",\"4   tablesp...    1 (100 g)   \n",
       "466129  [\"3   scoops   vanilla soft serve ice cream\",\"...    1 (183 g)   \n",
       "\n",
       "        servings                                              steps  \\\n",
       "394829         3  [\"Preheat Oven to 325'F.\", 'Use vegetable spra...   \n",
       "287952         6  ['Saute onions and garlic in oil over low heat...   \n",
       "336486         4  ['In a large pot add about an inch of water an...   \n",
       "476566         6  ['Preheat oven to 350 F, fill round cake pan o...   \n",
       "466129         1    ['Blend all ingredients with blender.  Serve.']   \n",
       "\n",
       "                                                     tags  \\\n",
       "394829  ['60-minutes-or-less', 'time-to-make', 'course...   \n",
       "287952  ['60-minutes-or-less', 'time-to-make', 'course...   \n",
       "336486  ['30-minutes-or-less', 'time-to-make', 'prepar...   \n",
       "476566  ['time-to-make', 'course', 'preparation', 'bre...   \n",
       "466129  ['weeknight', '15-minutes-or-less', 'time-to-m...   \n",
       "\n",
       "                                      search_terms  \\\n",
       "394829                    {'dinner', 'low-sodium'}   \n",
       "287952                          {'french', 'soup'}   \n",
       "336486  {'dessert', 'soup', 'vegetarian', 'vegan'}   \n",
       "476566           {'breakfast', 'side', 'low-carb'}   \n",
       "466129                                 {'dessert'}   \n",
       "\n",
       "                                         ingredients_list  \\\n",
       "394829  ['ground beef', 'instant mashed potatoes', 'fr...   \n",
       "287952  ['onions', 'garlic cloves', 'olive oil', 'all-...   \n",
       "336486  ['sweet potatoes', 'butternut squash soup', 'u...   \n",
       "476566  ['onion', 'butter', 'flour', 'milk', 'nutmeg',...   \n",
       "466129  ['ice cream', 'milk', 'marshmallow creme', 'va...   \n",
       "\n",
       "                                 ingredients_raw_str_list  \\\n",
       "394829  ['1   lb    ground beef', '1 (20   ounce) box ...   \n",
       "287952  ['8       onions', '4       garlic cloves', '1...   \n",
       "336486  ['1       sweet potatoes or 1       yam, peele...   \n",
       "476566  ['1       onion, finely chopped ', '4   tables...   \n",
       "466129  ['3   scoops   vanilla soft serve ice cream', ...   \n",
       "\n",
       "                                               steps_list  \\\n",
       "394829  [\"Preheat Oven to 325'F.\", 'Use vegetable spra...   \n",
       "287952  ['Saute onions and garlic in oil over low heat...   \n",
       "336486  ['In a large pot add about an inch of water an...   \n",
       "476566  ['Preheat oven to 350 F, fill round cake pan o...   \n",
       "466129    ['Blend all ingredients with blender.  Serve.']   \n",
       "\n",
       "                                                tags_list  \\\n",
       "394829  ['60-minutes-or-less', 'time-to-make', 'course...   \n",
       "287952  ['60-minutes-or-less', 'time-to-make', 'course...   \n",
       "336486  ['30-minutes-or-less', 'time-to-make', 'prepar...   \n",
       "476566  ['time-to-make', 'course', 'preparation', 'bre...   \n",
       "466129  ['weeknight', '15-minutes-or-less', 'time-to-m...   \n",
       "\n",
       "                                 search_terms_list  target_tag  \\\n",
       "394829                    ['dinner', 'low-sodium']       False   \n",
       "287952                          ['soup', 'french']       False   \n",
       "336486  ['vegan', 'soup', 'dessert', 'vegetarian']        True   \n",
       "476566           ['side', 'breakfast', 'low-carb']       False   \n",
       "466129                                 ['dessert']        True   \n",
       "\n",
       "        target_search_term  target  num_ingredients  num_steps  \\\n",
       "394829                True       0                8         19   \n",
       "287952               False       0               12          9   \n",
       "336486               False       0                4          4   \n",
       "476566               False       0                8         11   \n",
       "466129               False       0                4          1   \n",
       "\n",
       "        num_char_description  \\\n",
       "394829                   117   \n",
       "287952                    22   \n",
       "336486                   278   \n",
       "476566                    71   \n",
       "466129                    69   \n",
       "\n",
       "                                            cleaned_steps  \\\n",
       "394829  preheat oven to f use vegetable spray on casse...   \n",
       "287952  saute onions and garlic in oil over low heat u...   \n",
       "336486  in a large pot add about an inch of water and ...   \n",
       "476566  preheat oven to f fill round cake pan or pie p...   \n",
       "466129           blend all ingredients with blender serve   \n",
       "\n",
       "                                              step_tokens  \\\n",
       "394829  ['preheat', 'oven', 'to', 'f', 'use', 'vegetab...   \n",
       "287952  ['saute', 'onions', 'and', 'garlic', 'in', 'oi...   \n",
       "336486  ['in', 'a', 'large', 'pot', 'add', 'about', 'a...   \n",
       "476566  ['preheat', 'oven', 'to', 'f', 'fill', 'round'...   \n",
       "466129  ['blend', 'all', 'ingredients', 'with', 'blend...   \n",
       "\n",
       "                                      cleaned_description  \\\n",
       "394829  this is a great recipe thats easy to prepare w...   \n",
       "287952                             courtesy of paula dean   \n",
       "336486  warm up with a delicious fall soup that brings...   \n",
       "476566  nice and light side dish left overs are great ...   \n",
       "466129  top with a toasted marshmallow or two also che...   \n",
       "\n",
       "                                       description_tokens  \\\n",
       "394829  ['this', 'is', 'a', 'great', 'recipe', 'thats'...   \n",
       "287952                ['courtesy', 'of', 'paula', 'dean']   \n",
       "336486  ['warm', 'up', 'with', 'a', 'delicious', 'fall...   \n",
       "476566  ['nice', 'and', 'light', 'side', 'dish', 'left...   \n",
       "466129  ['top', 'with', 'a', 'toasted', 'marshmallow',...   \n",
       "\n",
       "                                                 combined  \n",
       "394829  This is a great recipe thats easy to prepare w...  \n",
       "287952  Courtesy of Paula Dean ['Saute onions and garl...  \n",
       "336486  Warm up with a delicious Fall soup that brings...  \n",
       "476566  Nice and light side dish. Left overs are great...  \n",
       "466129  Top with a toasted marshmallow or two.  Also c...  "
      ]
     },
     "execution_count": 159,
     "metadata": {},
     "output_type": "execute_result"
    }
   ],
   "source": [
    "df_sample.head()"
   ]
  },
  {
   "cell_type": "code",
   "execution_count": 160,
   "id": "e7b0703d",
   "metadata": {
    "ExecuteTime": {
     "end_time": "2021-12-07T00:42:58.591479Z",
     "start_time": "2021-12-07T00:42:58.577465Z"
    }
   },
   "outputs": [
    {
     "data": {
      "text/plain": [
       "50000"
      ]
     },
     "execution_count": 160,
     "metadata": {},
     "output_type": "execute_result"
    }
   ],
   "source": [
    "y_sample = df_sample['target']\n",
    "len(y_sample)"
   ]
  },
  {
   "cell_type": "code",
   "execution_count": 161,
   "id": "fc96ca96",
   "metadata": {
    "ExecuteTime": {
     "end_time": "2021-12-07T00:42:58.607462Z",
     "start_time": "2021-12-07T00:42:58.593467Z"
    }
   },
   "outputs": [],
   "source": [
    "X_sample = pd.DataFrame(df_sample['combined'], index = df_sample.index)"
   ]
  },
  {
   "cell_type": "code",
   "execution_count": 162,
   "id": "19c83ef4",
   "metadata": {
    "ExecuteTime": {
     "end_time": "2021-12-07T00:42:58.751502Z",
     "start_time": "2021-12-07T00:42:58.609464Z"
    }
   },
   "outputs": [
    {
     "data": {
      "text/plain": [
       "0    98067\n",
       "1    98067\n",
       "Name: target, dtype: int64"
      ]
     },
     "execution_count": 162,
     "metadata": {},
     "output_type": "execute_result"
    }
   ],
   "source": [
    "rus = RandomUnderSampler()\n",
    "X_res, y_res = rus.fit_resample(X,y)\n",
    "y_res.value_counts()"
   ]
  },
  {
   "cell_type": "code",
   "execution_count": 163,
   "id": "a5b0f6e3",
   "metadata": {
    "ExecuteTime": {
     "end_time": "2021-12-07T00:42:58.783503Z",
     "start_time": "2021-12-07T00:42:58.752505Z"
    },
    "scrolled": true
   },
   "outputs": [
    {
     "data": {
      "text/plain": [
       "0    10190\n",
       "1    10190\n",
       "Name: target, dtype: int64"
      ]
     },
     "execution_count": 163,
     "metadata": {},
     "output_type": "execute_result"
    }
   ],
   "source": [
    "X_sample_rus, y_sample_rus = rus.fit_resample(X_sample, y_sample)\n",
    "y_sample_rus.value_counts()"
   ]
  },
  {
   "attachments": {
    "image.png": {
     "image/png": "[encoded data removed]"
    }
   },
   "cell_type": "markdown",
   "id": "68cf88fe",
   "metadata": {},
   "source": [
    "![image.png](attachment:image.png)"
   ]
  },
  {
   "cell_type": "markdown",
   "id": "d2f926d9",
   "metadata": {},
   "source": [
    "above from spacy documentation and process we'll emulate below\n",
    "https://spacy.io/usage/processing-pipelines"
   ]
  },
  {
   "cell_type": "markdown",
   "id": "bc99a415",
   "metadata": {},
   "source": [
    "# Tokenization "
   ]
  },
  {
   "cell_type": "code",
   "execution_count": 164,
   "id": "cfc8befd",
   "metadata": {
    "ExecuteTime": {
     "end_time": "2021-12-07T00:42:58.799507Z",
     "start_time": "2021-12-07T00:42:58.785507Z"
    }
   },
   "outputs": [
    {
     "data": {
      "text/html": [
       "<div>\n",
       "<style scoped>\n",
       "    .dataframe tbody tr th:only-of-type {\n",
       "        vertical-align: middle;\n",
       "    }\n",
       "\n",
       "    .dataframe tbody tr th {\n",
       "        vertical-align: top;\n",
       "    }\n",
       "\n",
       "    .dataframe thead th {\n",
       "        text-align: right;\n",
       "    }\n",
       "</style>\n",
       "<table border=\"1\" class=\"dataframe\">\n",
       "  <thead>\n",
       "    <tr style=\"text-align: right;\">\n",
       "      <th></th>\n",
       "      <th>combined</th>\n",
       "    </tr>\n",
       "  </thead>\n",
       "  <tbody>\n",
       "    <tr>\n",
       "      <th>0</th>\n",
       "      <td>This comes from a 1960's book, sponsored by th...</td>\n",
       "    </tr>\n",
       "    <tr>\n",
       "      <th>1</th>\n",
       "      <td>I had a request to make \"real\" Jewish Rye Brea...</td>\n",
       "    </tr>\n",
       "    <tr>\n",
       "      <th>2</th>\n",
       "      <td>Artichokes give this dish a meaty texture and ...</td>\n",
       "    </tr>\n",
       "    <tr>\n",
       "      <th>3</th>\n",
       "      <td>This is a great soup for Weight Watchers who w...</td>\n",
       "    </tr>\n",
       "    <tr>\n",
       "      <th>4</th>\n",
       "      <td>A sweet, creamy, vanilla Coke. ['Fill glass wi...</td>\n",
       "    </tr>\n",
       "  </tbody>\n",
       "</table>\n",
       "</div>"
      ],
      "text/plain": [
       "                                            combined\n",
       "0  This comes from a 1960's book, sponsored by th...\n",
       "1  I had a request to make \"real\" Jewish Rye Brea...\n",
       "2  Artichokes give this dish a meaty texture and ...\n",
       "3  This is a great soup for Weight Watchers who w...\n",
       "4  A sweet, creamy, vanilla Coke. ['Fill glass wi..."
      ]
     },
     "execution_count": 164,
     "metadata": {},
     "output_type": "execute_result"
    }
   ],
   "source": [
    "X_sample_rus.head()"
   ]
  },
  {
   "cell_type": "code",
   "execution_count": 287,
   "id": "ab0adbfa",
   "metadata": {
    "ExecuteTime": {
     "end_time": "2021-12-07T03:09:21.179160Z",
     "start_time": "2021-12-07T03:09:21.082879Z"
    }
   },
   "outputs": [],
   "source": [
    "cook_words = {'garlic', 'milk', 'pepper', 'garlic cloves', 'salt', 'lemon juice', 'brown sugar', 'flour', 'parmesan cheese', 'eggs', 'onion', 'salt and pepper', 'butter', 'sugar', 'water', 'olive oil', 'vegetable oil'}"
   ]
  },
  {
   "cell_type": "code",
   "execution_count": 292,
   "id": "8b9b3c6d",
   "metadata": {
    "ExecuteTime": {
     "end_time": "2021-12-07T03:19:19.524150Z",
     "start_time": "2021-12-07T03:19:19.051988Z"
    },
    "run_control": {
     "marked": true
    }
   },
   "outputs": [],
   "source": [
    "nlp = spacy.load('en_core_web_sm', disable=['parser', 'ner']) # disabling what we don't need to lemmatize\n",
    "nlp.Defaults.stop_words |= cook_words"
   ]
  },
  {
   "cell_type": "code",
   "execution_count": null,
   "id": "011ebffa",
   "metadata": {},
   "outputs": [],
   "source": []
  },
  {
   "cell_type": "code",
   "execution_count": 293,
   "id": "b1240f9c",
   "metadata": {
    "ExecuteTime": {
     "end_time": "2021-12-07T03:19:32.905790Z",
     "start_time": "2021-12-07T03:19:32.891776Z"
    }
   },
   "outputs": [],
   "source": [
    "test = X_sample_rus.head(10)"
   ]
  },
  {
   "cell_type": "code",
   "execution_count": 145,
   "id": "59968fff",
   "metadata": {
    "ExecuteTime": {
     "end_time": "2021-12-07T00:41:42.253087Z",
     "start_time": "2021-12-07T00:41:42.199468Z"
    }
   },
   "outputs": [],
   "source": [
    "X_sample_rus['lowercase'] = X_sample_rus['combined'].apply(lambda x: x.lower())"
   ]
  },
  {
   "cell_type": "code",
   "execution_count": null,
   "id": "23abd491",
   "metadata": {
    "ExecuteTime": {
     "end_time": "2021-12-06T22:35:26.159828Z",
     "start_time": "2021-12-06T22:35:26.143825Z"
    }
   },
   "outputs": [],
   "source": []
  },
  {
   "cell_type": "code",
   "execution_count": null,
   "id": "71691660",
   "metadata": {
    "ExecuteTime": {
     "end_time": "2021-12-06T22:35:29.065325Z",
     "start_time": "2021-12-06T22:35:28.826077Z"
    }
   },
   "outputs": [],
   "source": []
  },
  {
   "cell_type": "code",
   "execution_count": 179,
   "id": "b0900b72",
   "metadata": {
    "ExecuteTime": {
     "end_time": "2021-12-07T00:58:02.026093Z",
     "start_time": "2021-12-07T00:58:02.008078Z"
    },
    "scrolled": true
   },
   "outputs": [
    {
     "data": {
      "text/html": [
       "<div>\n",
       "<style scoped>\n",
       "    .dataframe tbody tr th:only-of-type {\n",
       "        vertical-align: middle;\n",
       "    }\n",
       "\n",
       "    .dataframe tbody tr th {\n",
       "        vertical-align: top;\n",
       "    }\n",
       "\n",
       "    .dataframe thead th {\n",
       "        text-align: right;\n",
       "    }\n",
       "</style>\n",
       "<table border=\"1\" class=\"dataframe\">\n",
       "  <thead>\n",
       "    <tr style=\"text-align: right;\">\n",
       "      <th></th>\n",
       "      <th>combined</th>\n",
       "    </tr>\n",
       "  </thead>\n",
       "  <tbody>\n",
       "    <tr>\n",
       "      <th>0</th>\n",
       "      <td>This comes from a 1960's book, sponsored by th...</td>\n",
       "    </tr>\n",
       "    <tr>\n",
       "      <th>1</th>\n",
       "      <td>I had a request to make \"real\" Jewish Rye Brea...</td>\n",
       "    </tr>\n",
       "    <tr>\n",
       "      <th>2</th>\n",
       "      <td>Artichokes give this dish a meaty texture and ...</td>\n",
       "    </tr>\n",
       "  </tbody>\n",
       "</table>\n",
       "</div>"
      ],
      "text/plain": [
       "                                            combined\n",
       "0  This comes from a 1960's book, sponsored by th...\n",
       "1  I had a request to make \"real\" Jewish Rye Brea...\n",
       "2  Artichokes give this dish a meaty texture and ..."
      ]
     },
     "execution_count": 179,
     "metadata": {},
     "output_type": "execute_result"
    }
   ],
   "source": [
    "X_sample_rus.head(3)"
   ]
  },
  {
   "cell_type": "code",
   "execution_count": 178,
   "id": "7510ab7c",
   "metadata": {
    "ExecuteTime": {
     "end_time": "2021-12-07T00:57:35.853134Z",
     "start_time": "2021-12-07T00:57:35.838139Z"
    }
   },
   "outputs": [
    {
     "name": "stdout",
     "output_type": "stream",
     "text": [
      "<class 'pandas.core.frame.DataFrame'>\n",
      "RangeIndex: 20380 entries, 0 to 20379\n",
      "Data columns (total 1 columns):\n",
      " #   Column    Non-Null Count  Dtype \n",
      "---  ------    --------------  ----- \n",
      " 0   combined  20380 non-null  object\n",
      "dtypes: object(1)\n",
      "memory usage: 159.3+ KB\n"
     ]
    }
   ],
   "source": [
    "X_sample_rus.info()"
   ]
  },
  {
   "cell_type": "code",
   "execution_count": 176,
   "id": "06fcab26",
   "metadata": {
    "ExecuteTime": {
     "end_time": "2021-12-07T00:56:22.901529Z",
     "start_time": "2021-12-07T00:56:22.848515Z"
    }
   },
   "outputs": [
    {
     "ename": "KeyError",
     "evalue": "'lowercase'",
     "output_type": "error",
     "traceback": [
      "\u001b[1;31m---------------------------------------------------------------------------\u001b[0m",
      "\u001b[1;31mKeyError\u001b[0m                                  Traceback (most recent call last)",
      "\u001b[1;32m~\\anaconda3\\envs\\spacy-env\\lib\\site-packages\\pandas\\core\\indexes\\base.py\u001b[0m in \u001b[0;36mget_loc\u001b[1;34m(self, key, method, tolerance)\u001b[0m\n\u001b[0;32m   3360\u001b[0m             \u001b[1;32mtry\u001b[0m\u001b[1;33m:\u001b[0m\u001b[1;33m\u001b[0m\u001b[1;33m\u001b[0m\u001b[0m\n\u001b[1;32m-> 3361\u001b[1;33m                 \u001b[1;32mreturn\u001b[0m \u001b[0mself\u001b[0m\u001b[1;33m.\u001b[0m\u001b[0m_engine\u001b[0m\u001b[1;33m.\u001b[0m\u001b[0mget_loc\u001b[0m\u001b[1;33m(\u001b[0m\u001b[0mcasted_key\u001b[0m\u001b[1;33m)\u001b[0m\u001b[1;33m\u001b[0m\u001b[1;33m\u001b[0m\u001b[0m\n\u001b[0m\u001b[0;32m   3362\u001b[0m             \u001b[1;32mexcept\u001b[0m \u001b[0mKeyError\u001b[0m \u001b[1;32mas\u001b[0m \u001b[0merr\u001b[0m\u001b[1;33m:\u001b[0m\u001b[1;33m\u001b[0m\u001b[1;33m\u001b[0m\u001b[0m\n",
      "\u001b[1;32m~\\anaconda3\\envs\\spacy-env\\lib\\site-packages\\pandas\\_libs\\index.pyx\u001b[0m in \u001b[0;36mpandas._libs.index.IndexEngine.get_loc\u001b[1;34m()\u001b[0m\n",
      "\u001b[1;32m~\\anaconda3\\envs\\spacy-env\\lib\\site-packages\\pandas\\_libs\\index.pyx\u001b[0m in \u001b[0;36mpandas._libs.index.IndexEngine.get_loc\u001b[1;34m()\u001b[0m\n",
      "\u001b[1;32mpandas\\_libs\\hashtable_class_helper.pxi\u001b[0m in \u001b[0;36mpandas._libs.hashtable.PyObjectHashTable.get_item\u001b[1;34m()\u001b[0m\n",
      "\u001b[1;32mpandas\\_libs\\hashtable_class_helper.pxi\u001b[0m in \u001b[0;36mpandas._libs.hashtable.PyObjectHashTable.get_item\u001b[1;34m()\u001b[0m\n",
      "\u001b[1;31mKeyError\u001b[0m: 'lowercase'",
      "\nThe above exception was the direct cause of the following exception:\n",
      "\u001b[1;31mKeyError\u001b[0m                                  Traceback (most recent call last)",
      "\u001b[1;32m~\\AppData\\Local\\Temp/ipykernel_21800/475247021.py\u001b[0m in \u001b[0;36m<module>\u001b[1;34m\u001b[0m\n\u001b[1;32m----> 1\u001b[1;33m \u001b[0mX_sample_rus\u001b[0m\u001b[1;33m[\u001b[0m\u001b[1;34m'lemma'\u001b[0m\u001b[1;33m]\u001b[0m \u001b[1;33m=\u001b[0m \u001b[0mX_sample_rus\u001b[0m\u001b[1;33m[\u001b[0m\u001b[1;34m'lowercase'\u001b[0m\u001b[1;33m]\u001b[0m\u001b[1;33m.\u001b[0m\u001b[0mapply\u001b[0m\u001b[1;33m(\u001b[0m\u001b[1;32mlambda\u001b[0m \u001b[0mx\u001b[0m\u001b[1;33m:\u001b[0m \u001b[1;34m' '\u001b[0m\u001b[1;33m.\u001b[0m\u001b[0mjoin\u001b[0m\u001b[1;33m(\u001b[0m\u001b[1;33m[\u001b[0m\u001b[0my\u001b[0m\u001b[1;33m.\u001b[0m\u001b[0mlemma_\u001b[0m \u001b[1;32mfor\u001b[0m \u001b[0my\u001b[0m \u001b[1;32min\u001b[0m \u001b[0mnlp\u001b[0m\u001b[1;33m(\u001b[0m\u001b[0mx\u001b[0m\u001b[1;33m)\u001b[0m \u001b[1;32mif\u001b[0m \u001b[1;32mnot\u001b[0m \u001b[0my\u001b[0m\u001b[1;33m.\u001b[0m\u001b[0mis_stop\u001b[0m\u001b[1;33m]\u001b[0m\u001b[1;33m)\u001b[0m\u001b[1;33m)\u001b[0m\u001b[1;33m\u001b[0m\u001b[1;33m\u001b[0m\u001b[0m\n\u001b[0m",
      "\u001b[1;32m~\\anaconda3\\envs\\spacy-env\\lib\\site-packages\\pandas\\core\\frame.py\u001b[0m in \u001b[0;36m__getitem__\u001b[1;34m(self, key)\u001b[0m\n\u001b[0;32m   3456\u001b[0m             \u001b[1;32mif\u001b[0m \u001b[0mself\u001b[0m\u001b[1;33m.\u001b[0m\u001b[0mcolumns\u001b[0m\u001b[1;33m.\u001b[0m\u001b[0mnlevels\u001b[0m \u001b[1;33m>\u001b[0m \u001b[1;36m1\u001b[0m\u001b[1;33m:\u001b[0m\u001b[1;33m\u001b[0m\u001b[1;33m\u001b[0m\u001b[0m\n\u001b[0;32m   3457\u001b[0m                 \u001b[1;32mreturn\u001b[0m \u001b[0mself\u001b[0m\u001b[1;33m.\u001b[0m\u001b[0m_getitem_multilevel\u001b[0m\u001b[1;33m(\u001b[0m\u001b[0mkey\u001b[0m\u001b[1;33m)\u001b[0m\u001b[1;33m\u001b[0m\u001b[1;33m\u001b[0m\u001b[0m\n\u001b[1;32m-> 3458\u001b[1;33m             \u001b[0mindexer\u001b[0m \u001b[1;33m=\u001b[0m \u001b[0mself\u001b[0m\u001b[1;33m.\u001b[0m\u001b[0mcolumns\u001b[0m\u001b[1;33m.\u001b[0m\u001b[0mget_loc\u001b[0m\u001b[1;33m(\u001b[0m\u001b[0mkey\u001b[0m\u001b[1;33m)\u001b[0m\u001b[1;33m\u001b[0m\u001b[1;33m\u001b[0m\u001b[0m\n\u001b[0m\u001b[0;32m   3459\u001b[0m             \u001b[1;32mif\u001b[0m \u001b[0mis_integer\u001b[0m\u001b[1;33m(\u001b[0m\u001b[0mindexer\u001b[0m\u001b[1;33m)\u001b[0m\u001b[1;33m:\u001b[0m\u001b[1;33m\u001b[0m\u001b[1;33m\u001b[0m\u001b[0m\n\u001b[0;32m   3460\u001b[0m                 \u001b[0mindexer\u001b[0m \u001b[1;33m=\u001b[0m \u001b[1;33m[\u001b[0m\u001b[0mindexer\u001b[0m\u001b[1;33m]\u001b[0m\u001b[1;33m\u001b[0m\u001b[1;33m\u001b[0m\u001b[0m\n",
      "\u001b[1;32m~\\anaconda3\\envs\\spacy-env\\lib\\site-packages\\pandas\\core\\indexes\\base.py\u001b[0m in \u001b[0;36mget_loc\u001b[1;34m(self, key, method, tolerance)\u001b[0m\n\u001b[0;32m   3361\u001b[0m                 \u001b[1;32mreturn\u001b[0m \u001b[0mself\u001b[0m\u001b[1;33m.\u001b[0m\u001b[0m_engine\u001b[0m\u001b[1;33m.\u001b[0m\u001b[0mget_loc\u001b[0m\u001b[1;33m(\u001b[0m\u001b[0mcasted_key\u001b[0m\u001b[1;33m)\u001b[0m\u001b[1;33m\u001b[0m\u001b[1;33m\u001b[0m\u001b[0m\n\u001b[0;32m   3362\u001b[0m             \u001b[1;32mexcept\u001b[0m \u001b[0mKeyError\u001b[0m \u001b[1;32mas\u001b[0m \u001b[0merr\u001b[0m\u001b[1;33m:\u001b[0m\u001b[1;33m\u001b[0m\u001b[1;33m\u001b[0m\u001b[0m\n\u001b[1;32m-> 3363\u001b[1;33m                 \u001b[1;32mraise\u001b[0m \u001b[0mKeyError\u001b[0m\u001b[1;33m(\u001b[0m\u001b[0mkey\u001b[0m\u001b[1;33m)\u001b[0m \u001b[1;32mfrom\u001b[0m \u001b[0merr\u001b[0m\u001b[1;33m\u001b[0m\u001b[1;33m\u001b[0m\u001b[0m\n\u001b[0m\u001b[0;32m   3364\u001b[0m \u001b[1;33m\u001b[0m\u001b[0m\n\u001b[0;32m   3365\u001b[0m         \u001b[1;32mif\u001b[0m \u001b[0mis_scalar\u001b[0m\u001b[1;33m(\u001b[0m\u001b[0mkey\u001b[0m\u001b[1;33m)\u001b[0m \u001b[1;32mand\u001b[0m \u001b[0misna\u001b[0m\u001b[1;33m(\u001b[0m\u001b[0mkey\u001b[0m\u001b[1;33m)\u001b[0m \u001b[1;32mand\u001b[0m \u001b[1;32mnot\u001b[0m \u001b[0mself\u001b[0m\u001b[1;33m.\u001b[0m\u001b[0mhasnans\u001b[0m\u001b[1;33m:\u001b[0m\u001b[1;33m\u001b[0m\u001b[1;33m\u001b[0m\u001b[0m\n",
      "\u001b[1;31mKeyError\u001b[0m: 'lowercase'"
     ]
    }
   ],
   "source": [
    "X_sample_rus['lemma'] = X_sample_rus['combined'].apply(lambda x: ' '.join([y.lemma_ for y in nlp(x) if not y.is_stop]))"
   ]
  },
  {
   "cell_type": "code",
   "execution_count": 175,
   "id": "c5efce79",
   "metadata": {
    "ExecuteTime": {
     "end_time": "2021-12-07T00:56:09.261342Z",
     "start_time": "2021-12-07T00:56:09.255342Z"
    },
    "scrolled": true
   },
   "outputs": [],
   "source": [
    "# test['lemma'] = test['lowercase'].apply(lambda x: ' '.join([y.lemma_ for y in nlp(x) if not y.is_stop]))"
   ]
  },
  {
   "cell_type": "code",
   "execution_count": 167,
   "id": "e5c201a5",
   "metadata": {
    "ExecuteTime": {
     "end_time": "2021-12-07T00:43:34.580619Z",
     "start_time": "2021-12-07T00:43:34.559608Z"
    },
    "scrolled": true
   },
   "outputs": [
    {
     "data": {
      "text/html": [
       "<div>\n",
       "<style scoped>\n",
       "    .dataframe tbody tr th:only-of-type {\n",
       "        vertical-align: middle;\n",
       "    }\n",
       "\n",
       "    .dataframe tbody tr th {\n",
       "        vertical-align: top;\n",
       "    }\n",
       "\n",
       "    .dataframe thead th {\n",
       "        text-align: right;\n",
       "    }\n",
       "</style>\n",
       "<table border=\"1\" class=\"dataframe\">\n",
       "  <thead>\n",
       "    <tr style=\"text-align: right;\">\n",
       "      <th></th>\n",
       "      <th>combined</th>\n",
       "    </tr>\n",
       "  </thead>\n",
       "  <tbody>\n",
       "    <tr>\n",
       "      <th>0</th>\n",
       "      <td>This comes from a 1960's book, sponsored by th...</td>\n",
       "    </tr>\n",
       "    <tr>\n",
       "      <th>1</th>\n",
       "      <td>I had a request to make \"real\" Jewish Rye Brea...</td>\n",
       "    </tr>\n",
       "    <tr>\n",
       "      <th>2</th>\n",
       "      <td>Artichokes give this dish a meaty texture and ...</td>\n",
       "    </tr>\n",
       "    <tr>\n",
       "      <th>3</th>\n",
       "      <td>This is a great soup for Weight Watchers who w...</td>\n",
       "    </tr>\n",
       "    <tr>\n",
       "      <th>4</th>\n",
       "      <td>A sweet, creamy, vanilla Coke. ['Fill glass wi...</td>\n",
       "    </tr>\n",
       "  </tbody>\n",
       "</table>\n",
       "</div>"
      ],
      "text/plain": [
       "                                            combined\n",
       "0  This comes from a 1960's book, sponsored by th...\n",
       "1  I had a request to make \"real\" Jewish Rye Brea...\n",
       "2  Artichokes give this dish a meaty texture and ...\n",
       "3  This is a great soup for Weight Watchers who w...\n",
       "4  A sweet, creamy, vanilla Coke. ['Fill glass wi..."
      ]
     },
     "execution_count": 167,
     "metadata": {},
     "output_type": "execute_result"
    }
   ],
   "source": [
    "test.head()"
   ]
  },
  {
   "cell_type": "code",
   "execution_count": 168,
   "id": "78a85f57",
   "metadata": {
    "ExecuteTime": {
     "end_time": "2021-12-07T00:43:43.349409Z",
     "start_time": "2021-12-07T00:43:43.336414Z"
    }
   },
   "outputs": [
    {
     "data": {
      "text/plain": [
       "\"This is a great soup for Weight Watchers who want 0 points! ['Combine all ingredients and simmer.']\""
      ]
     },
     "execution_count": 168,
     "metadata": {},
     "output_type": "execute_result"
    }
   ],
   "source": [
    "test['combined'].iloc[3]"
   ]
  },
  {
   "cell_type": "code",
   "execution_count": 71,
   "id": "640f7c56",
   "metadata": {
    "ExecuteTime": {
     "end_time": "2021-12-06T23:17:11.692091Z",
     "start_time": "2021-12-06T23:17:11.539076Z"
    },
    "scrolled": false
   },
   "outputs": [
    {
     "name": "stderr",
     "output_type": "stream",
     "text": [
      "C:\\Users\\alexm\\AppData\\Local\\Temp/ipykernel_21800/1497175707.py:1: SettingWithCopyWarning: \n",
      "A value is trying to be set on a copy of a slice from a DataFrame.\n",
      "Try using .loc[row_indexer,col_indexer] = value instead\n",
      "\n",
      "See the caveats in the documentation: https://pandas.pydata.org/pandas-docs/stable/user_guide/indexing.html#returning-a-view-versus-a-copy\n",
      "  test['basic'] = test['lemma'].apply(lambda x: ' '.join([str(y) for y in nlp(x) if not y.is_punct]))\n"
     ]
    }
   ],
   "source": [
    "#test['basic'] = test['lemma'].apply(lambda x: ' '.join([str(y) for y in nlp(x) if not y.is_punct]))"
   ]
  },
  {
   "cell_type": "code",
   "execution_count": 298,
   "id": "fdad419c",
   "metadata": {
    "ExecuteTime": {
     "end_time": "2021-12-07T03:22:03.376723Z",
     "start_time": "2021-12-07T03:22:03.371729Z"
    },
    "run_control": {
     "marked": true
    }
   },
   "outputs": [],
   "source": [
    "def spacy_cleaning(x, nlp):\n",
    "    '''takes in a spacy Document-type (aka a collection of tokens) and returns either a string tokens that have been\n",
    "    cleaned of:\n",
    "                - stop words\n",
    "                - puntuation \n",
    "                - numbers\n",
    "    \n",
    "    as well as lemmetizes the results.\n",
    "    \n",
    "    Inputs:\n",
    "    x - spacy Document\n",
    "    \n",
    "    Returns:\n",
    "    Spacy Document or string\n",
    "    '''\n",
    "\n",
    "    x_nlp = nlp(x)\n",
    "\n",
    "    # lemmatize the text, removing stopwords and punctuation\n",
    "    lemma = [y.lemma_ for y in x_nlp if not (y.is_stop) and not (y.is_punct)] \n",
    "\n",
    "    \n",
    "    #replacing URLs with a generic \"URL\" and removing numbers\n",
    "    no_web = [re.sub(r'http\\S+', 'URL', word) for word in lemma]\n",
    "    no_num = [re.sub(r'[0-9]', '', word) for word in no_web]\n",
    "    \n",
    "    #removes white spaces and odd single characters\n",
    "    final = [x.lower() for x in no_num if (len(x)>1)]\n",
    "\n",
    "    return \" \".join(final)\n",
    "                                     "
   ]
  },
  {
   "cell_type": "code",
   "execution_count": 303,
   "id": "85c1fd26",
   "metadata": {
    "ExecuteTime": {
     "end_time": "2021-12-07T04:18:50.390439Z",
     "start_time": "2021-12-07T04:18:50.347427Z"
    }
   },
   "outputs": [],
   "source": [
    "import nlp_project"
   ]
  },
  {
   "cell_type": "code",
   "execution_count": 304,
   "id": "f3e3cb69",
   "metadata": {
    "ExecuteTime": {
     "end_time": "2021-12-07T04:18:51.834760Z",
     "start_time": "2021-12-07T04:18:51.670726Z"
    },
    "scrolled": true
   },
   "outputs": [
    {
     "name": "stderr",
     "output_type": "stream",
     "text": [
      "C:\\Users\\alexm\\AppData\\Local\\Temp/ipykernel_21800/3852621893.py:1: SettingWithCopyWarning: \n",
      "A value is trying to be set on a copy of a slice from a DataFrame.\n",
      "Try using .loc[row_indexer,col_indexer] = value instead\n",
      "\n",
      "See the caveats in the documentation: https://pandas.pydata.org/pandas-docs/stable/user_guide/indexing.html#returning-a-view-versus-a-copy\n",
      "  test['lemma'] = test['combined'].apply(lambda x: nlp_project.spacy_cleaning(x,nlp))\n"
     ]
    }
   ],
   "source": [
    "test['lemma'] = test['combined'].apply(lambda x: nlp_project.spacy_cleaning(x,nlp))\n",
    "    "
   ]
  },
  {
   "cell_type": "code",
   "execution_count": 305,
   "id": "50b3eddc",
   "metadata": {
    "ExecuteTime": {
     "end_time": "2021-12-07T04:18:58.443109Z",
     "start_time": "2021-12-07T04:18:58.433120Z"
    }
   },
   "outputs": [
    {
     "data": {
      "text/html": [
       "<div>\n",
       "<style scoped>\n",
       "    .dataframe tbody tr th:only-of-type {\n",
       "        vertical-align: middle;\n",
       "    }\n",
       "\n",
       "    .dataframe tbody tr th {\n",
       "        vertical-align: top;\n",
       "    }\n",
       "\n",
       "    .dataframe thead th {\n",
       "        text-align: right;\n",
       "    }\n",
       "</style>\n",
       "<table border=\"1\" class=\"dataframe\">\n",
       "  <thead>\n",
       "    <tr style=\"text-align: right;\">\n",
       "      <th></th>\n",
       "      <th>combined</th>\n",
       "      <th>lemma</th>\n",
       "    </tr>\n",
       "  </thead>\n",
       "  <tbody>\n",
       "    <tr>\n",
       "      <th>0</th>\n",
       "      <td>This comes from a 1960's book, sponsored by th...</td>\n",
       "      <td>come book sponsor brewing industry entitle use...</td>\n",
       "    </tr>\n",
       "    <tr>\n",
       "      <th>1</th>\n",
       "      <td>I had a request to make \"real\" Jewish Rye Brea...</td>\n",
       "      <td>request real jewish rye bread like long island...</td>\n",
       "    </tr>\n",
       "    <tr>\n",
       "      <th>2</th>\n",
       "      <td>Artichokes give this dish a meaty texture and ...</td>\n",
       "      <td>artichoke dish meaty texture perfect partner b...</td>\n",
       "    </tr>\n",
       "    <tr>\n",
       "      <th>3</th>\n",
       "      <td>This is a great soup for Weight Watchers who w...</td>\n",
       "      <td>great soup weight watchers want point combine ...</td>\n",
       "    </tr>\n",
       "    <tr>\n",
       "      <th>4</th>\n",
       "      <td>A sweet, creamy, vanilla Coke. ['Fill glass wi...</td>\n",
       "      <td>sweet creamy vanilla coke fill glass ice pour ...</td>\n",
       "    </tr>\n",
       "  </tbody>\n",
       "</table>\n",
       "</div>"
      ],
      "text/plain": [
       "                                            combined  \\\n",
       "0  This comes from a 1960's book, sponsored by th...   \n",
       "1  I had a request to make \"real\" Jewish Rye Brea...   \n",
       "2  Artichokes give this dish a meaty texture and ...   \n",
       "3  This is a great soup for Weight Watchers who w...   \n",
       "4  A sweet, creamy, vanilla Coke. ['Fill glass wi...   \n",
       "\n",
       "                                               lemma  \n",
       "0  come book sponsor brewing industry entitle use...  \n",
       "1  request real jewish rye bread like long island...  \n",
       "2  artichoke dish meaty texture perfect partner b...  \n",
       "3  great soup weight watchers want point combine ...  \n",
       "4  sweet creamy vanilla coke fill glass ice pour ...  "
      ]
     },
     "execution_count": 305,
     "metadata": {},
     "output_type": "execute_result"
    }
   ],
   "source": [
    "test.head()"
   ]
  },
  {
   "cell_type": "code",
   "execution_count": 301,
   "id": "e023a389",
   "metadata": {
    "ExecuteTime": {
     "end_time": "2021-12-07T03:22:14.993099Z",
     "start_time": "2021-12-07T03:22:14.979088Z"
    }
   },
   "outputs": [
    {
     "data": {
      "text/plain": [
       "'melt mouth super sweet delicious dessert faint heart love rich chocolate sweet preheat oven degree grease inch pan combine dry cake mix melt margarine cup evaporate large bowl mix spread half batter cup grease pan bake minute heat caramel remain cup evaporate low heat small saucepan melt stir constantly remove pan oven sprinkle cup candy drizzle caramel mixture drop remain batter heap spoonful caramel mixture sprinkle remain cup candy return oven bake additional minute center set cool hour completely cool'"
      ]
     },
     "execution_count": 301,
     "metadata": {},
     "output_type": "execute_result"
    }
   ],
   "source": [
    "test['lemma'].iloc[7]"
   ]
  },
  {
   "cell_type": "markdown",
   "id": "3cd6baec",
   "metadata": {},
   "source": [
    "# Let's figure out how long this is gonna take"
   ]
  },
  {
   "cell_type": "code",
   "execution_count": 281,
   "id": "38021e97",
   "metadata": {
    "ExecuteTime": {
     "end_time": "2021-12-07T01:59:25.502516Z",
     "start_time": "2021-12-07T01:55:00.952924Z"
    },
    "scrolled": false
   },
   "outputs": [],
   "source": [
    "X_sample_rus['lemma'] = X_sample_rus['combined'].apply(lambda x: spacy_cleaning(x))\n"
   ]
  },
  {
   "cell_type": "code",
   "execution_count": 283,
   "id": "4026c83e",
   "metadata": {
    "ExecuteTime": {
     "end_time": "2021-12-07T02:02:22.262278Z",
     "start_time": "2021-12-07T02:02:22.246255Z"
    },
    "scrolled": true
   },
   "outputs": [
    {
     "data": {
      "text/html": [
       "<div>\n",
       "<style scoped>\n",
       "    .dataframe tbody tr th:only-of-type {\n",
       "        vertical-align: middle;\n",
       "    }\n",
       "\n",
       "    .dataframe tbody tr th {\n",
       "        vertical-align: top;\n",
       "    }\n",
       "\n",
       "    .dataframe thead th {\n",
       "        text-align: right;\n",
       "    }\n",
       "</style>\n",
       "<table border=\"1\" class=\"dataframe\">\n",
       "  <thead>\n",
       "    <tr style=\"text-align: right;\">\n",
       "      <th></th>\n",
       "      <th>combined</th>\n",
       "      <th>lemma</th>\n",
       "    </tr>\n",
       "  </thead>\n",
       "  <tbody>\n",
       "    <tr>\n",
       "      <th>20375</th>\n",
       "      <td>I am always looking for a recipe for good vegg...</td>\n",
       "      <td>look recipe good veggie burger see recipe ligh...</td>\n",
       "    </tr>\n",
       "    <tr>\n",
       "      <th>20376</th>\n",
       "      <td>Nice quick dinner, with a variety of seasoning...</td>\n",
       "      <td>nice quick dinner variety seasoning sprinkle p...</td>\n",
       "    </tr>\n",
       "    <tr>\n",
       "      <th>20377</th>\n",
       "      <td>Got this from my mom's Crab Cookbook that look...</td>\n",
       "      <td>got mom crab cookbook look like write crab imp...</td>\n",
       "    </tr>\n",
       "    <tr>\n",
       "      <th>20378</th>\n",
       "      <td>My favorite beef burgers!! I usually freeze th...</td>\n",
       "      <td>favorite beef burger usually freeze thaw grill...</td>\n",
       "    </tr>\n",
       "    <tr>\n",
       "      <th>20379</th>\n",
       "      <td>Not sure where I found this one, but it is del...</td>\n",
       "      <td>sure find delicious recipe write turkey breast...</td>\n",
       "    </tr>\n",
       "  </tbody>\n",
       "</table>\n",
       "</div>"
      ],
      "text/plain": [
       "                                                combined  \\\n",
       "20375  I am always looking for a recipe for good vegg...   \n",
       "20376  Nice quick dinner, with a variety of seasoning...   \n",
       "20377  Got this from my mom's Crab Cookbook that look...   \n",
       "20378  My favorite beef burgers!! I usually freeze th...   \n",
       "20379  Not sure where I found this one, but it is del...   \n",
       "\n",
       "                                                   lemma  \n",
       "20375  look recipe good veggie burger see recipe ligh...  \n",
       "20376  nice quick dinner variety seasoning sprinkle p...  \n",
       "20377  got mom crab cookbook look like write crab imp...  \n",
       "20378  favorite beef burger usually freeze thaw grill...  \n",
       "20379  sure find delicious recipe write turkey breast...  "
      ]
     },
     "execution_count": 283,
     "metadata": {},
     "output_type": "execute_result"
    }
   ],
   "source": [
    "X_sample_rus.tail()"
   ]
  },
  {
   "cell_type": "code",
   "execution_count": null,
   "id": "7a6d651c",
   "metadata": {},
   "outputs": [],
   "source": [
    "X_sample_rus['tokens'] = X_sample_rus['combined'].apply(lambda x: x.split()) "
   ]
  }
 ],
 "metadata": {
  "kernelspec": {
   "display_name": "spacy-env",
   "language": "python",
   "name": "spacy-env"
  },
  "language_info": {
   "codemirror_mode": {
    "name": "ipython",
    "version": 3
   },
   "file_extension": ".py",
   "mimetype": "text/x-python",
   "name": "python",
   "nbconvert_exporter": "python",
   "pygments_lexer": "ipython3",
   "version": "3.8.12"
  },
  "varInspector": {
   "cols": {
    "lenName": 16,
    "lenType": 16,
    "lenVar": 40
   },
   "kernels_config": {
    "python": {
     "delete_cmd_postfix": "",
     "delete_cmd_prefix": "del ",
     "library": "var_list.py",
     "varRefreshCmd": "print(var_dic_list())"
    },
    "r": {
     "delete_cmd_postfix": ") ",
     "delete_cmd_prefix": "rm(",
     "library": "var_list.r",
     "varRefreshCmd": "cat(var_dic_list()) "
    }
   },
   "types_to_exclude": [
    "module",
    "function",
    "builtin_function_or_method",
    "instance",
    "_Feature"
   ],
   "window_display": false
  }
 },
 "nbformat": 4,
 "nbformat_minor": 5
}
