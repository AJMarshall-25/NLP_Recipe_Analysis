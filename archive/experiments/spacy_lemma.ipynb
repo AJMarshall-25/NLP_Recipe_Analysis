{
 "cells": [
  {
   "cell_type": "code",
   "execution_count": 1,
   "id": "0bf34fe8",
   "metadata": {
    "ExecuteTime": {
     "end_time": "2021-12-07T15:00:58.191830Z",
     "start_time": "2021-12-07T15:00:52.966065Z"
    },
    "run_control": {
     "marked": true
    }
   },
   "outputs": [],
   "source": [
    "import ast # used for converting column values to lists post-import from csv\n",
    "import re\n",
    "import warnings\n",
    "import pandas as pd\n",
    "import numpy as np\n",
    "import seaborn as sns\n",
    "import matplotlib.pyplot as plt\n",
    "from matplotlib.ticker import MaxNLocator\n",
    "%matplotlib inline\n",
    "\n",
    "from wordcloud import WordCloud\n",
    "\n",
    "import spacy\n",
    "\n",
    "from nltk import FreqDist\n",
    "from nltk.corpus import stopwords\n",
    "\n",
    "from sklearn.model_selection import train_test_split\n",
    "from sklearn.preprocessing import StandardScaler\n",
    "from sklearn.pipeline import Pipeline\n",
    "from sklearn.linear_model import LogisticRegression\n",
    "from sklearn.model_selection import cross_validate\n",
    "from sklearn.model_selection import GridSearchCV\n",
    "from sklearn.metrics import (roc_auc_score, plot_confusion_matrix, plot_roc_curve, accuracy_score,\n",
    "                             precision_score, recall_score, f1_score)\n",
    "from sklearn.feature_extraction.text import CountVectorizer, TfidfVectorizer\n",
    "from sklearn.naive_bayes import BernoulliNB, ComplementNB, MultinomialNB\n",
    "from sklearn.tree import DecisionTreeClassifier\n",
    "from sklearn.ensemble import RandomForestClassifier, AdaBoostClassifier\n",
    "from sklearn.linear_model import LogisticRegression\n",
    "\n",
    "from imblearn.under_sampling import RandomUnderSampler\n",
    "\n",
    "pd.set_option(\"display.max_columns\", None)"
   ]
  },
  {
   "cell_type": "code",
   "execution_count": 2,
   "id": "f5b273cb",
   "metadata": {
    "ExecuteTime": {
     "end_time": "2021-12-07T15:01:20.713673Z",
     "start_time": "2021-12-07T15:00:58.193829Z"
    }
   },
   "outputs": [],
   "source": [
    "df = pd.read_csv('data/recipes_for_preprocessing.cvs')"
   ]
  },
  {
   "cell_type": "code",
   "execution_count": 3,
   "id": "859f5791",
   "metadata": {
    "ExecuteTime": {
     "end_time": "2021-12-07T15:01:21.285337Z",
     "start_time": "2021-12-07T15:01:20.714683Z"
    }
   },
   "outputs": [
    {
     "name": "stdout",
     "output_type": "stream",
     "text": [
      "<class 'pandas.core.frame.DataFrame'>\n",
      "RangeIndex: 482279 entries, 0 to 482278\n",
      "Data columns (total 26 columns):\n",
      " #   Column                    Non-Null Count   Dtype \n",
      "---  ------                    --------------   ----- \n",
      " 0   Unnamed: 0                482279 non-null  int64 \n",
      " 1   id                        482279 non-null  int64 \n",
      " 2   name                      482279 non-null  object\n",
      " 3   description               482279 non-null  object\n",
      " 4   ingredients               482279 non-null  object\n",
      " 5   ingredients_raw_str       482279 non-null  object\n",
      " 6   serving_size              482279 non-null  object\n",
      " 7   servings                  482279 non-null  int64 \n",
      " 8   steps                     482279 non-null  object\n",
      " 9   tags                      482279 non-null  object\n",
      " 10  search_terms              482279 non-null  object\n",
      " 11  ingredients_list          482279 non-null  object\n",
      " 12  ingredients_raw_str_list  482279 non-null  object\n",
      " 13  steps_list                482279 non-null  object\n",
      " 14  tags_list                 482279 non-null  object\n",
      " 15  search_terms_list         482279 non-null  object\n",
      " 16  target_tag                482279 non-null  bool  \n",
      " 17  target_search_term        482279 non-null  bool  \n",
      " 18  target                    482279 non-null  int64 \n",
      " 19  num_ingredients           482279 non-null  int64 \n",
      " 20  num_steps                 482279 non-null  int64 \n",
      " 21  num_char_description      482279 non-null  int64 \n",
      " 22  cleaned_steps             482279 non-null  object\n",
      " 23  step_tokens               482279 non-null  object\n",
      " 24  cleaned_description       481557 non-null  object\n",
      " 25  description_tokens        482279 non-null  object\n",
      "dtypes: bool(2), int64(7), object(17)\n",
      "memory usage: 89.2+ MB\n"
     ]
    }
   ],
   "source": [
    "df.info()"
   ]
  },
  {
   "cell_type": "code",
   "execution_count": 4,
   "id": "79592f95",
   "metadata": {
    "ExecuteTime": {
     "end_time": "2021-12-07T15:01:21.317194Z",
     "start_time": "2021-12-07T15:01:21.287320Z"
    }
   },
   "outputs": [
    {
     "data": {
      "text/html": [
       "<div>\n",
       "<style scoped>\n",
       "    .dataframe tbody tr th:only-of-type {\n",
       "        vertical-align: middle;\n",
       "    }\n",
       "\n",
       "    .dataframe tbody tr th {\n",
       "        vertical-align: top;\n",
       "    }\n",
       "\n",
       "    .dataframe thead th {\n",
       "        text-align: right;\n",
       "    }\n",
       "</style>\n",
       "<table border=\"1\" class=\"dataframe\">\n",
       "  <thead>\n",
       "    <tr style=\"text-align: right;\">\n",
       "      <th></th>\n",
       "      <th>Unnamed: 0</th>\n",
       "      <th>id</th>\n",
       "      <th>name</th>\n",
       "      <th>description</th>\n",
       "      <th>ingredients</th>\n",
       "      <th>ingredients_raw_str</th>\n",
       "      <th>serving_size</th>\n",
       "      <th>servings</th>\n",
       "      <th>steps</th>\n",
       "      <th>tags</th>\n",
       "      <th>search_terms</th>\n",
       "      <th>ingredients_list</th>\n",
       "      <th>ingredients_raw_str_list</th>\n",
       "      <th>steps_list</th>\n",
       "      <th>tags_list</th>\n",
       "      <th>search_terms_list</th>\n",
       "      <th>target_tag</th>\n",
       "      <th>target_search_term</th>\n",
       "      <th>target</th>\n",
       "      <th>num_ingredients</th>\n",
       "      <th>num_steps</th>\n",
       "      <th>num_char_description</th>\n",
       "      <th>cleaned_steps</th>\n",
       "      <th>step_tokens</th>\n",
       "      <th>cleaned_description</th>\n",
       "      <th>description_tokens</th>\n",
       "    </tr>\n",
       "  </thead>\n",
       "  <tbody>\n",
       "    <tr>\n",
       "      <th>0</th>\n",
       "      <td>0</td>\n",
       "      <td>96313</td>\n",
       "      <td>Grilled Garlic Cheese Grits</td>\n",
       "      <td>We love grits, this is another good way to ser...</td>\n",
       "      <td>['water', 'grits', 'salt', 'cheddar cheese', '...</td>\n",
       "      <td>[\"4   cups    water\",\"1   cup   uncooked old f...</td>\n",
       "      <td>1 (155 g)</td>\n",
       "      <td>8</td>\n",
       "      <td>['I a sauce pan, bring water to a boil; slowly...</td>\n",
       "      <td>['time-to-make', 'course', 'main-ingredient', ...</td>\n",
       "      <td>{'diabetic', 'low-calorie', 'vegetarian', 'low...</td>\n",
       "      <td>['water', 'grits', 'salt', 'cheddar cheese', '...</td>\n",
       "      <td>['4   cups    water', '1   cup   uncooked old ...</td>\n",
       "      <td>['I a sauce pan, bring water to a boil; slowly...</td>\n",
       "      <td>['time-to-make', 'course', 'main-ingredient', ...</td>\n",
       "      <td>['low-calorie', 'diabetic', 'side', 'vegetaria...</td>\n",
       "      <td>False</td>\n",
       "      <td>False</td>\n",
       "      <td>0</td>\n",
       "      <td>6</td>\n",
       "      <td>4</td>\n",
       "      <td>301</td>\n",
       "      <td>i a sauce pan bring water to a boil slowly add...</td>\n",
       "      <td>['i', 'a', 'sauce', 'pan', 'bring', 'water', '...</td>\n",
       "      <td>we love grits this is another good way to serv...</td>\n",
       "      <td>['we', 'love', 'grits', 'this', 'is', 'another...</td>\n",
       "    </tr>\n",
       "    <tr>\n",
       "      <th>1</th>\n",
       "      <td>1</td>\n",
       "      <td>232037</td>\n",
       "      <td>Simple Shrimp and Andouille Jambalaya</td>\n",
       "      <td>Simple, easy and very tasty for when you are i...</td>\n",
       "      <td>['onion', 'red bell pepper', 'garlic cloves', ...</td>\n",
       "      <td>[\"1   medium    onion, chopped coarse \",\"1   m...</td>\n",
       "      <td>1 (366 g)</td>\n",
       "      <td>4</td>\n",
       "      <td>['In a food processor, pulse the onion, red pe...</td>\n",
       "      <td>['60-minutes-or-less', 'time-to-make', 'course...</td>\n",
       "      <td>{'dinner', 'shrimp'}</td>\n",
       "      <td>['onion', 'red bell pepper', 'garlic cloves', ...</td>\n",
       "      <td>['1   medium    onion, chopped coarse ', '1   ...</td>\n",
       "      <td>['In a food processor, pulse the onion, red pe...</td>\n",
       "      <td>['60-minutes-or-less', 'time-to-make', 'course...</td>\n",
       "      <td>['dinner', 'shrimp']</td>\n",
       "      <td>False</td>\n",
       "      <td>True</td>\n",
       "      <td>0</td>\n",
       "      <td>13</td>\n",
       "      <td>10</td>\n",
       "      <td>138</td>\n",
       "      <td>in a food processor pulse the onion red pepper...</td>\n",
       "      <td>['in', 'a', 'food', 'processor', 'pulse', 'the...</td>\n",
       "      <td>simple easy and very tasty for when you are in...</td>\n",
       "      <td>['simple', 'easy', 'and', 'very', 'tasty', 'fo...</td>\n",
       "    </tr>\n",
       "    <tr>\n",
       "      <th>2</th>\n",
       "      <td>3</td>\n",
       "      <td>60656</td>\n",
       "      <td>Crock Pot Italian Zucchini</td>\n",
       "      <td>This is a good recipe for weight watchers. It ...</td>\n",
       "      <td>['zucchini', 'yellow squash', 'diced tomatoes'...</td>\n",
       "      <td>[\"2       zucchini, sliced \",\"2   small    yel...</td>\n",
       "      <td>1 (244 g)</td>\n",
       "      <td>4</td>\n",
       "      <td>['Put all ingredients in the crock pot and coo...</td>\n",
       "      <td>['weeknight', 'time-to-make', 'course', 'main-...</td>\n",
       "      <td>{'side', 'vegetarian', 'italian'}</td>\n",
       "      <td>['zucchini', 'yellow squash', 'diced tomatoes'...</td>\n",
       "      <td>['2       zucchini, sliced ', '2   small    ye...</td>\n",
       "      <td>['Put all ingredients in the crock pot and coo...</td>\n",
       "      <td>['weeknight', 'time-to-make', 'course', 'main-...</td>\n",
       "      <td>['italian', 'side', 'vegetarian']</td>\n",
       "      <td>True</td>\n",
       "      <td>False</td>\n",
       "      <td>0</td>\n",
       "      <td>9</td>\n",
       "      <td>1</td>\n",
       "      <td>57</td>\n",
       "      <td>put all ingredients in the crock pot and cook ...</td>\n",
       "      <td>['put', 'all', 'ingredients', 'in', 'the', 'cr...</td>\n",
       "      <td>this is a good recipe for weight watchers it i...</td>\n",
       "      <td>['this', 'is', 'a', 'good', 'recipe', 'for', '...</td>\n",
       "    </tr>\n",
       "    <tr>\n",
       "      <th>3</th>\n",
       "      <td>4</td>\n",
       "      <td>232047</td>\n",
       "      <td>Beef Stew With Dried Cherries</td>\n",
       "      <td>This is a fabulous stew that came from one of ...</td>\n",
       "      <td>['beef stew meat', 'flour', 'salt', 'allspice'...</td>\n",
       "      <td>[\"3   lbs    beef stew meat\",\"3   tablespoons ...</td>\n",
       "      <td>1 (358 g)</td>\n",
       "      <td>8</td>\n",
       "      <td>['Preheat oven to 350°F.', \"Cut beef into 1 in...</td>\n",
       "      <td>['time-to-make', 'course', 'main-ingredient', ...</td>\n",
       "      <td>{'dinner'}</td>\n",
       "      <td>['beef stew meat', 'flour', 'salt', 'allspice'...</td>\n",
       "      <td>['3   lbs    beef stew meat', '3   tablespoons...</td>\n",
       "      <td>['Preheat oven to 350°F.', \"Cut beef into 1 in...</td>\n",
       "      <td>['time-to-make', 'course', 'main-ingredient', ...</td>\n",
       "      <td>['dinner']</td>\n",
       "      <td>True</td>\n",
       "      <td>True</td>\n",
       "      <td>1</td>\n",
       "      <td>14</td>\n",
       "      <td>6</td>\n",
       "      <td>392</td>\n",
       "      <td>preheat oven to f cut beef into inch cubes com...</td>\n",
       "      <td>['preheat', 'oven', 'to', 'f', 'cut', 'beef', ...</td>\n",
       "      <td>this is a fabulous stew that came from one of ...</td>\n",
       "      <td>['this', 'is', 'a', 'fabulous', 'stew', 'that'...</td>\n",
       "    </tr>\n",
       "    <tr>\n",
       "      <th>4</th>\n",
       "      <td>5</td>\n",
       "      <td>232050</td>\n",
       "      <td>Hot Sweet Almond Brittle</td>\n",
       "      <td>This is one of our standard holiday gift recip...</td>\n",
       "      <td>['slivered almonds', 'cider vinegar', 'sugar',...</td>\n",
       "      <td>[\"12   ounces    slivered almonds\",\"1/4  cup  ...</td>\n",
       "      <td>1 (832 g)</td>\n",
       "      <td>1</td>\n",
       "      <td>['Preheat oven to 375°F  Place almonds in sing...</td>\n",
       "      <td>['time-to-make', 'course', 'preparation', 'des...</td>\n",
       "      <td>{'dessert'}</td>\n",
       "      <td>['slivered almonds', 'cider vinegar', 'sugar',...</td>\n",
       "      <td>['12   ounces    slivered almonds', '1/4  cup ...</td>\n",
       "      <td>['Preheat oven to 375°F  Place almonds in sing...</td>\n",
       "      <td>['time-to-make', 'course', 'preparation', 'des...</td>\n",
       "      <td>['dessert']</td>\n",
       "      <td>False</td>\n",
       "      <td>False</td>\n",
       "      <td>0</td>\n",
       "      <td>8</td>\n",
       "      <td>4</td>\n",
       "      <td>164</td>\n",
       "      <td>preheat oven to f place almonds in single laye...</td>\n",
       "      <td>['preheat', 'oven', 'to', 'f', 'place', 'almon...</td>\n",
       "      <td>this is one of our standard holiday gift recip...</td>\n",
       "      <td>['this', 'is', 'one', 'of', 'our', 'standard',...</td>\n",
       "    </tr>\n",
       "  </tbody>\n",
       "</table>\n",
       "</div>"
      ],
      "text/plain": [
       "   Unnamed: 0      id                                   name  \\\n",
       "0           0   96313            Grilled Garlic Cheese Grits   \n",
       "1           1  232037  Simple Shrimp and Andouille Jambalaya   \n",
       "2           3   60656             Crock Pot Italian Zucchini   \n",
       "3           4  232047          Beef Stew With Dried Cherries   \n",
       "4           5  232050               Hot Sweet Almond Brittle   \n",
       "\n",
       "                                         description  \\\n",
       "0  We love grits, this is another good way to ser...   \n",
       "1  Simple, easy and very tasty for when you are i...   \n",
       "2  This is a good recipe for weight watchers. It ...   \n",
       "3  This is a fabulous stew that came from one of ...   \n",
       "4  This is one of our standard holiday gift recip...   \n",
       "\n",
       "                                         ingredients  \\\n",
       "0  ['water', 'grits', 'salt', 'cheddar cheese', '...   \n",
       "1  ['onion', 'red bell pepper', 'garlic cloves', ...   \n",
       "2  ['zucchini', 'yellow squash', 'diced tomatoes'...   \n",
       "3  ['beef stew meat', 'flour', 'salt', 'allspice'...   \n",
       "4  ['slivered almonds', 'cider vinegar', 'sugar',...   \n",
       "\n",
       "                                 ingredients_raw_str serving_size  servings  \\\n",
       "0  [\"4   cups    water\",\"1   cup   uncooked old f...    1 (155 g)         8   \n",
       "1  [\"1   medium    onion, chopped coarse \",\"1   m...    1 (366 g)         4   \n",
       "2  [\"2       zucchini, sliced \",\"2   small    yel...    1 (244 g)         4   \n",
       "3  [\"3   lbs    beef stew meat\",\"3   tablespoons ...    1 (358 g)         8   \n",
       "4  [\"12   ounces    slivered almonds\",\"1/4  cup  ...    1 (832 g)         1   \n",
       "\n",
       "                                               steps  \\\n",
       "0  ['I a sauce pan, bring water to a boil; slowly...   \n",
       "1  ['In a food processor, pulse the onion, red pe...   \n",
       "2  ['Put all ingredients in the crock pot and coo...   \n",
       "3  ['Preheat oven to 350°F.', \"Cut beef into 1 in...   \n",
       "4  ['Preheat oven to 375°F  Place almonds in sing...   \n",
       "\n",
       "                                                tags  \\\n",
       "0  ['time-to-make', 'course', 'main-ingredient', ...   \n",
       "1  ['60-minutes-or-less', 'time-to-make', 'course...   \n",
       "2  ['weeknight', 'time-to-make', 'course', 'main-...   \n",
       "3  ['time-to-make', 'course', 'main-ingredient', ...   \n",
       "4  ['time-to-make', 'course', 'preparation', 'des...   \n",
       "\n",
       "                                        search_terms  \\\n",
       "0  {'diabetic', 'low-calorie', 'vegetarian', 'low...   \n",
       "1                               {'dinner', 'shrimp'}   \n",
       "2                  {'side', 'vegetarian', 'italian'}   \n",
       "3                                         {'dinner'}   \n",
       "4                                        {'dessert'}   \n",
       "\n",
       "                                    ingredients_list  \\\n",
       "0  ['water', 'grits', 'salt', 'cheddar cheese', '...   \n",
       "1  ['onion', 'red bell pepper', 'garlic cloves', ...   \n",
       "2  ['zucchini', 'yellow squash', 'diced tomatoes'...   \n",
       "3  ['beef stew meat', 'flour', 'salt', 'allspice'...   \n",
       "4  ['slivered almonds', 'cider vinegar', 'sugar',...   \n",
       "\n",
       "                            ingredients_raw_str_list  \\\n",
       "0  ['4   cups    water', '1   cup   uncooked old ...   \n",
       "1  ['1   medium    onion, chopped coarse ', '1   ...   \n",
       "2  ['2       zucchini, sliced ', '2   small    ye...   \n",
       "3  ['3   lbs    beef stew meat', '3   tablespoons...   \n",
       "4  ['12   ounces    slivered almonds', '1/4  cup ...   \n",
       "\n",
       "                                          steps_list  \\\n",
       "0  ['I a sauce pan, bring water to a boil; slowly...   \n",
       "1  ['In a food processor, pulse the onion, red pe...   \n",
       "2  ['Put all ingredients in the crock pot and coo...   \n",
       "3  ['Preheat oven to 350°F.', \"Cut beef into 1 in...   \n",
       "4  ['Preheat oven to 375°F  Place almonds in sing...   \n",
       "\n",
       "                                           tags_list  \\\n",
       "0  ['time-to-make', 'course', 'main-ingredient', ...   \n",
       "1  ['60-minutes-or-less', 'time-to-make', 'course...   \n",
       "2  ['weeknight', 'time-to-make', 'course', 'main-...   \n",
       "3  ['time-to-make', 'course', 'main-ingredient', ...   \n",
       "4  ['time-to-make', 'course', 'preparation', 'des...   \n",
       "\n",
       "                                   search_terms_list  target_tag  \\\n",
       "0  ['low-calorie', 'diabetic', 'side', 'vegetaria...       False   \n",
       "1                               ['dinner', 'shrimp']       False   \n",
       "2                  ['italian', 'side', 'vegetarian']        True   \n",
       "3                                         ['dinner']        True   \n",
       "4                                        ['dessert']       False   \n",
       "\n",
       "   target_search_term  target  num_ingredients  num_steps  \\\n",
       "0               False       0                6          4   \n",
       "1                True       0               13         10   \n",
       "2               False       0                9          1   \n",
       "3                True       1               14          6   \n",
       "4               False       0                8          4   \n",
       "\n",
       "   num_char_description                                      cleaned_steps  \\\n",
       "0                   301  i a sauce pan bring water to a boil slowly add...   \n",
       "1                   138  in a food processor pulse the onion red pepper...   \n",
       "2                    57  put all ingredients in the crock pot and cook ...   \n",
       "3                   392  preheat oven to f cut beef into inch cubes com...   \n",
       "4                   164  preheat oven to f place almonds in single laye...   \n",
       "\n",
       "                                         step_tokens  \\\n",
       "0  ['i', 'a', 'sauce', 'pan', 'bring', 'water', '...   \n",
       "1  ['in', 'a', 'food', 'processor', 'pulse', 'the...   \n",
       "2  ['put', 'all', 'ingredients', 'in', 'the', 'cr...   \n",
       "3  ['preheat', 'oven', 'to', 'f', 'cut', 'beef', ...   \n",
       "4  ['preheat', 'oven', 'to', 'f', 'place', 'almon...   \n",
       "\n",
       "                                 cleaned_description  \\\n",
       "0  we love grits this is another good way to serv...   \n",
       "1  simple easy and very tasty for when you are in...   \n",
       "2  this is a good recipe for weight watchers it i...   \n",
       "3  this is a fabulous stew that came from one of ...   \n",
       "4  this is one of our standard holiday gift recip...   \n",
       "\n",
       "                                  description_tokens  \n",
       "0  ['we', 'love', 'grits', 'this', 'is', 'another...  \n",
       "1  ['simple', 'easy', 'and', 'very', 'tasty', 'fo...  \n",
       "2  ['this', 'is', 'a', 'good', 'recipe', 'for', '...  \n",
       "3  ['this', 'is', 'a', 'fabulous', 'stew', 'that'...  \n",
       "4  ['this', 'is', 'one', 'of', 'our', 'standard',...  "
      ]
     },
     "execution_count": 4,
     "metadata": {},
     "output_type": "execute_result"
    }
   ],
   "source": [
    "df.head()"
   ]
  },
  {
   "cell_type": "code",
   "execution_count": 5,
   "id": "50aaae32",
   "metadata": {
    "ExecuteTime": {
     "end_time": "2021-12-07T15:01:21.681359Z",
     "start_time": "2021-12-07T15:01:21.320185Z"
    }
   },
   "outputs": [],
   "source": [
    "df['combined'] = df['description'] + ' ' + df['steps']"
   ]
  },
  {
   "cell_type": "code",
   "execution_count": 6,
   "id": "c99ae64a",
   "metadata": {
    "ExecuteTime": {
     "end_time": "2021-12-07T15:01:21.713368Z",
     "start_time": "2021-12-07T15:01:21.683347Z"
    }
   },
   "outputs": [
    {
     "data": {
      "text/html": [
       "<div>\n",
       "<style scoped>\n",
       "    .dataframe tbody tr th:only-of-type {\n",
       "        vertical-align: middle;\n",
       "    }\n",
       "\n",
       "    .dataframe tbody tr th {\n",
       "        vertical-align: top;\n",
       "    }\n",
       "\n",
       "    .dataframe thead th {\n",
       "        text-align: right;\n",
       "    }\n",
       "</style>\n",
       "<table border=\"1\" class=\"dataframe\">\n",
       "  <thead>\n",
       "    <tr style=\"text-align: right;\">\n",
       "      <th></th>\n",
       "      <th>Unnamed: 0</th>\n",
       "      <th>id</th>\n",
       "      <th>name</th>\n",
       "      <th>description</th>\n",
       "      <th>ingredients</th>\n",
       "      <th>ingredients_raw_str</th>\n",
       "      <th>serving_size</th>\n",
       "      <th>servings</th>\n",
       "      <th>steps</th>\n",
       "      <th>tags</th>\n",
       "      <th>search_terms</th>\n",
       "      <th>ingredients_list</th>\n",
       "      <th>ingredients_raw_str_list</th>\n",
       "      <th>steps_list</th>\n",
       "      <th>tags_list</th>\n",
       "      <th>search_terms_list</th>\n",
       "      <th>target_tag</th>\n",
       "      <th>target_search_term</th>\n",
       "      <th>target</th>\n",
       "      <th>num_ingredients</th>\n",
       "      <th>num_steps</th>\n",
       "      <th>num_char_description</th>\n",
       "      <th>cleaned_steps</th>\n",
       "      <th>step_tokens</th>\n",
       "      <th>cleaned_description</th>\n",
       "      <th>description_tokens</th>\n",
       "      <th>combined</th>\n",
       "    </tr>\n",
       "  </thead>\n",
       "  <tbody>\n",
       "    <tr>\n",
       "      <th>0</th>\n",
       "      <td>0</td>\n",
       "      <td>96313</td>\n",
       "      <td>Grilled Garlic Cheese Grits</td>\n",
       "      <td>We love grits, this is another good way to ser...</td>\n",
       "      <td>['water', 'grits', 'salt', 'cheddar cheese', '...</td>\n",
       "      <td>[\"4   cups    water\",\"1   cup   uncooked old f...</td>\n",
       "      <td>1 (155 g)</td>\n",
       "      <td>8</td>\n",
       "      <td>['I a sauce pan, bring water to a boil; slowly...</td>\n",
       "      <td>['time-to-make', 'course', 'main-ingredient', ...</td>\n",
       "      <td>{'diabetic', 'low-calorie', 'vegetarian', 'low...</td>\n",
       "      <td>['water', 'grits', 'salt', 'cheddar cheese', '...</td>\n",
       "      <td>['4   cups    water', '1   cup   uncooked old ...</td>\n",
       "      <td>['I a sauce pan, bring water to a boil; slowly...</td>\n",
       "      <td>['time-to-make', 'course', 'main-ingredient', ...</td>\n",
       "      <td>['low-calorie', 'diabetic', 'side', 'vegetaria...</td>\n",
       "      <td>False</td>\n",
       "      <td>False</td>\n",
       "      <td>0</td>\n",
       "      <td>6</td>\n",
       "      <td>4</td>\n",
       "      <td>301</td>\n",
       "      <td>i a sauce pan bring water to a boil slowly add...</td>\n",
       "      <td>['i', 'a', 'sauce', 'pan', 'bring', 'water', '...</td>\n",
       "      <td>we love grits this is another good way to serv...</td>\n",
       "      <td>['we', 'love', 'grits', 'this', 'is', 'another...</td>\n",
       "      <td>We love grits, this is another good way to ser...</td>\n",
       "    </tr>\n",
       "    <tr>\n",
       "      <th>1</th>\n",
       "      <td>1</td>\n",
       "      <td>232037</td>\n",
       "      <td>Simple Shrimp and Andouille Jambalaya</td>\n",
       "      <td>Simple, easy and very tasty for when you are i...</td>\n",
       "      <td>['onion', 'red bell pepper', 'garlic cloves', ...</td>\n",
       "      <td>[\"1   medium    onion, chopped coarse \",\"1   m...</td>\n",
       "      <td>1 (366 g)</td>\n",
       "      <td>4</td>\n",
       "      <td>['In a food processor, pulse the onion, red pe...</td>\n",
       "      <td>['60-minutes-or-less', 'time-to-make', 'course...</td>\n",
       "      <td>{'dinner', 'shrimp'}</td>\n",
       "      <td>['onion', 'red bell pepper', 'garlic cloves', ...</td>\n",
       "      <td>['1   medium    onion, chopped coarse ', '1   ...</td>\n",
       "      <td>['In a food processor, pulse the onion, red pe...</td>\n",
       "      <td>['60-minutes-or-less', 'time-to-make', 'course...</td>\n",
       "      <td>['dinner', 'shrimp']</td>\n",
       "      <td>False</td>\n",
       "      <td>True</td>\n",
       "      <td>0</td>\n",
       "      <td>13</td>\n",
       "      <td>10</td>\n",
       "      <td>138</td>\n",
       "      <td>in a food processor pulse the onion red pepper...</td>\n",
       "      <td>['in', 'a', 'food', 'processor', 'pulse', 'the...</td>\n",
       "      <td>simple easy and very tasty for when you are in...</td>\n",
       "      <td>['simple', 'easy', 'and', 'very', 'tasty', 'fo...</td>\n",
       "      <td>Simple, easy and very tasty for when you are i...</td>\n",
       "    </tr>\n",
       "    <tr>\n",
       "      <th>2</th>\n",
       "      <td>3</td>\n",
       "      <td>60656</td>\n",
       "      <td>Crock Pot Italian Zucchini</td>\n",
       "      <td>This is a good recipe for weight watchers. It ...</td>\n",
       "      <td>['zucchini', 'yellow squash', 'diced tomatoes'...</td>\n",
       "      <td>[\"2       zucchini, sliced \",\"2   small    yel...</td>\n",
       "      <td>1 (244 g)</td>\n",
       "      <td>4</td>\n",
       "      <td>['Put all ingredients in the crock pot and coo...</td>\n",
       "      <td>['weeknight', 'time-to-make', 'course', 'main-...</td>\n",
       "      <td>{'side', 'vegetarian', 'italian'}</td>\n",
       "      <td>['zucchini', 'yellow squash', 'diced tomatoes'...</td>\n",
       "      <td>['2       zucchini, sliced ', '2   small    ye...</td>\n",
       "      <td>['Put all ingredients in the crock pot and coo...</td>\n",
       "      <td>['weeknight', 'time-to-make', 'course', 'main-...</td>\n",
       "      <td>['italian', 'side', 'vegetarian']</td>\n",
       "      <td>True</td>\n",
       "      <td>False</td>\n",
       "      <td>0</td>\n",
       "      <td>9</td>\n",
       "      <td>1</td>\n",
       "      <td>57</td>\n",
       "      <td>put all ingredients in the crock pot and cook ...</td>\n",
       "      <td>['put', 'all', 'ingredients', 'in', 'the', 'cr...</td>\n",
       "      <td>this is a good recipe for weight watchers it i...</td>\n",
       "      <td>['this', 'is', 'a', 'good', 'recipe', 'for', '...</td>\n",
       "      <td>This is a good recipe for weight watchers. It ...</td>\n",
       "    </tr>\n",
       "    <tr>\n",
       "      <th>3</th>\n",
       "      <td>4</td>\n",
       "      <td>232047</td>\n",
       "      <td>Beef Stew With Dried Cherries</td>\n",
       "      <td>This is a fabulous stew that came from one of ...</td>\n",
       "      <td>['beef stew meat', 'flour', 'salt', 'allspice'...</td>\n",
       "      <td>[\"3   lbs    beef stew meat\",\"3   tablespoons ...</td>\n",
       "      <td>1 (358 g)</td>\n",
       "      <td>8</td>\n",
       "      <td>['Preheat oven to 350°F.', \"Cut beef into 1 in...</td>\n",
       "      <td>['time-to-make', 'course', 'main-ingredient', ...</td>\n",
       "      <td>{'dinner'}</td>\n",
       "      <td>['beef stew meat', 'flour', 'salt', 'allspice'...</td>\n",
       "      <td>['3   lbs    beef stew meat', '3   tablespoons...</td>\n",
       "      <td>['Preheat oven to 350°F.', \"Cut beef into 1 in...</td>\n",
       "      <td>['time-to-make', 'course', 'main-ingredient', ...</td>\n",
       "      <td>['dinner']</td>\n",
       "      <td>True</td>\n",
       "      <td>True</td>\n",
       "      <td>1</td>\n",
       "      <td>14</td>\n",
       "      <td>6</td>\n",
       "      <td>392</td>\n",
       "      <td>preheat oven to f cut beef into inch cubes com...</td>\n",
       "      <td>['preheat', 'oven', 'to', 'f', 'cut', 'beef', ...</td>\n",
       "      <td>this is a fabulous stew that came from one of ...</td>\n",
       "      <td>['this', 'is', 'a', 'fabulous', 'stew', 'that'...</td>\n",
       "      <td>This is a fabulous stew that came from one of ...</td>\n",
       "    </tr>\n",
       "    <tr>\n",
       "      <th>4</th>\n",
       "      <td>5</td>\n",
       "      <td>232050</td>\n",
       "      <td>Hot Sweet Almond Brittle</td>\n",
       "      <td>This is one of our standard holiday gift recip...</td>\n",
       "      <td>['slivered almonds', 'cider vinegar', 'sugar',...</td>\n",
       "      <td>[\"12   ounces    slivered almonds\",\"1/4  cup  ...</td>\n",
       "      <td>1 (832 g)</td>\n",
       "      <td>1</td>\n",
       "      <td>['Preheat oven to 375°F  Place almonds in sing...</td>\n",
       "      <td>['time-to-make', 'course', 'preparation', 'des...</td>\n",
       "      <td>{'dessert'}</td>\n",
       "      <td>['slivered almonds', 'cider vinegar', 'sugar',...</td>\n",
       "      <td>['12   ounces    slivered almonds', '1/4  cup ...</td>\n",
       "      <td>['Preheat oven to 375°F  Place almonds in sing...</td>\n",
       "      <td>['time-to-make', 'course', 'preparation', 'des...</td>\n",
       "      <td>['dessert']</td>\n",
       "      <td>False</td>\n",
       "      <td>False</td>\n",
       "      <td>0</td>\n",
       "      <td>8</td>\n",
       "      <td>4</td>\n",
       "      <td>164</td>\n",
       "      <td>preheat oven to f place almonds in single laye...</td>\n",
       "      <td>['preheat', 'oven', 'to', 'f', 'place', 'almon...</td>\n",
       "      <td>this is one of our standard holiday gift recip...</td>\n",
       "      <td>['this', 'is', 'one', 'of', 'our', 'standard',...</td>\n",
       "      <td>This is one of our standard holiday gift recip...</td>\n",
       "    </tr>\n",
       "  </tbody>\n",
       "</table>\n",
       "</div>"
      ],
      "text/plain": [
       "   Unnamed: 0      id                                   name  \\\n",
       "0           0   96313            Grilled Garlic Cheese Grits   \n",
       "1           1  232037  Simple Shrimp and Andouille Jambalaya   \n",
       "2           3   60656             Crock Pot Italian Zucchini   \n",
       "3           4  232047          Beef Stew With Dried Cherries   \n",
       "4           5  232050               Hot Sweet Almond Brittle   \n",
       "\n",
       "                                         description  \\\n",
       "0  We love grits, this is another good way to ser...   \n",
       "1  Simple, easy and very tasty for when you are i...   \n",
       "2  This is a good recipe for weight watchers. It ...   \n",
       "3  This is a fabulous stew that came from one of ...   \n",
       "4  This is one of our standard holiday gift recip...   \n",
       "\n",
       "                                         ingredients  \\\n",
       "0  ['water', 'grits', 'salt', 'cheddar cheese', '...   \n",
       "1  ['onion', 'red bell pepper', 'garlic cloves', ...   \n",
       "2  ['zucchini', 'yellow squash', 'diced tomatoes'...   \n",
       "3  ['beef stew meat', 'flour', 'salt', 'allspice'...   \n",
       "4  ['slivered almonds', 'cider vinegar', 'sugar',...   \n",
       "\n",
       "                                 ingredients_raw_str serving_size  servings  \\\n",
       "0  [\"4   cups    water\",\"1   cup   uncooked old f...    1 (155 g)         8   \n",
       "1  [\"1   medium    onion, chopped coarse \",\"1   m...    1 (366 g)         4   \n",
       "2  [\"2       zucchini, sliced \",\"2   small    yel...    1 (244 g)         4   \n",
       "3  [\"3   lbs    beef stew meat\",\"3   tablespoons ...    1 (358 g)         8   \n",
       "4  [\"12   ounces    slivered almonds\",\"1/4  cup  ...    1 (832 g)         1   \n",
       "\n",
       "                                               steps  \\\n",
       "0  ['I a sauce pan, bring water to a boil; slowly...   \n",
       "1  ['In a food processor, pulse the onion, red pe...   \n",
       "2  ['Put all ingredients in the crock pot and coo...   \n",
       "3  ['Preheat oven to 350°F.', \"Cut beef into 1 in...   \n",
       "4  ['Preheat oven to 375°F  Place almonds in sing...   \n",
       "\n",
       "                                                tags  \\\n",
       "0  ['time-to-make', 'course', 'main-ingredient', ...   \n",
       "1  ['60-minutes-or-less', 'time-to-make', 'course...   \n",
       "2  ['weeknight', 'time-to-make', 'course', 'main-...   \n",
       "3  ['time-to-make', 'course', 'main-ingredient', ...   \n",
       "4  ['time-to-make', 'course', 'preparation', 'des...   \n",
       "\n",
       "                                        search_terms  \\\n",
       "0  {'diabetic', 'low-calorie', 'vegetarian', 'low...   \n",
       "1                               {'dinner', 'shrimp'}   \n",
       "2                  {'side', 'vegetarian', 'italian'}   \n",
       "3                                         {'dinner'}   \n",
       "4                                        {'dessert'}   \n",
       "\n",
       "                                    ingredients_list  \\\n",
       "0  ['water', 'grits', 'salt', 'cheddar cheese', '...   \n",
       "1  ['onion', 'red bell pepper', 'garlic cloves', ...   \n",
       "2  ['zucchini', 'yellow squash', 'diced tomatoes'...   \n",
       "3  ['beef stew meat', 'flour', 'salt', 'allspice'...   \n",
       "4  ['slivered almonds', 'cider vinegar', 'sugar',...   \n",
       "\n",
       "                            ingredients_raw_str_list  \\\n",
       "0  ['4   cups    water', '1   cup   uncooked old ...   \n",
       "1  ['1   medium    onion, chopped coarse ', '1   ...   \n",
       "2  ['2       zucchini, sliced ', '2   small    ye...   \n",
       "3  ['3   lbs    beef stew meat', '3   tablespoons...   \n",
       "4  ['12   ounces    slivered almonds', '1/4  cup ...   \n",
       "\n",
       "                                          steps_list  \\\n",
       "0  ['I a sauce pan, bring water to a boil; slowly...   \n",
       "1  ['In a food processor, pulse the onion, red pe...   \n",
       "2  ['Put all ingredients in the crock pot and coo...   \n",
       "3  ['Preheat oven to 350°F.', \"Cut beef into 1 in...   \n",
       "4  ['Preheat oven to 375°F  Place almonds in sing...   \n",
       "\n",
       "                                           tags_list  \\\n",
       "0  ['time-to-make', 'course', 'main-ingredient', ...   \n",
       "1  ['60-minutes-or-less', 'time-to-make', 'course...   \n",
       "2  ['weeknight', 'time-to-make', 'course', 'main-...   \n",
       "3  ['time-to-make', 'course', 'main-ingredient', ...   \n",
       "4  ['time-to-make', 'course', 'preparation', 'des...   \n",
       "\n",
       "                                   search_terms_list  target_tag  \\\n",
       "0  ['low-calorie', 'diabetic', 'side', 'vegetaria...       False   \n",
       "1                               ['dinner', 'shrimp']       False   \n",
       "2                  ['italian', 'side', 'vegetarian']        True   \n",
       "3                                         ['dinner']        True   \n",
       "4                                        ['dessert']       False   \n",
       "\n",
       "   target_search_term  target  num_ingredients  num_steps  \\\n",
       "0               False       0                6          4   \n",
       "1                True       0               13         10   \n",
       "2               False       0                9          1   \n",
       "3                True       1               14          6   \n",
       "4               False       0                8          4   \n",
       "\n",
       "   num_char_description                                      cleaned_steps  \\\n",
       "0                   301  i a sauce pan bring water to a boil slowly add...   \n",
       "1                   138  in a food processor pulse the onion red pepper...   \n",
       "2                    57  put all ingredients in the crock pot and cook ...   \n",
       "3                   392  preheat oven to f cut beef into inch cubes com...   \n",
       "4                   164  preheat oven to f place almonds in single laye...   \n",
       "\n",
       "                                         step_tokens  \\\n",
       "0  ['i', 'a', 'sauce', 'pan', 'bring', 'water', '...   \n",
       "1  ['in', 'a', 'food', 'processor', 'pulse', 'the...   \n",
       "2  ['put', 'all', 'ingredients', 'in', 'the', 'cr...   \n",
       "3  ['preheat', 'oven', 'to', 'f', 'cut', 'beef', ...   \n",
       "4  ['preheat', 'oven', 'to', 'f', 'place', 'almon...   \n",
       "\n",
       "                                 cleaned_description  \\\n",
       "0  we love grits this is another good way to serv...   \n",
       "1  simple easy and very tasty for when you are in...   \n",
       "2  this is a good recipe for weight watchers it i...   \n",
       "3  this is a fabulous stew that came from one of ...   \n",
       "4  this is one of our standard holiday gift recip...   \n",
       "\n",
       "                                  description_tokens  \\\n",
       "0  ['we', 'love', 'grits', 'this', 'is', 'another...   \n",
       "1  ['simple', 'easy', 'and', 'very', 'tasty', 'fo...   \n",
       "2  ['this', 'is', 'a', 'good', 'recipe', 'for', '...   \n",
       "3  ['this', 'is', 'a', 'fabulous', 'stew', 'that'...   \n",
       "4  ['this', 'is', 'one', 'of', 'our', 'standard',...   \n",
       "\n",
       "                                            combined  \n",
       "0  We love grits, this is another good way to ser...  \n",
       "1  Simple, easy and very tasty for when you are i...  \n",
       "2  This is a good recipe for weight watchers. It ...  \n",
       "3  This is a fabulous stew that came from one of ...  \n",
       "4  This is one of our standard holiday gift recip...  "
      ]
     },
     "execution_count": 6,
     "metadata": {},
     "output_type": "execute_result"
    }
   ],
   "source": [
    "df.head()"
   ]
  },
  {
   "cell_type": "code",
   "execution_count": 7,
   "id": "a7ac7c9f",
   "metadata": {
    "ExecuteTime": {
     "end_time": "2021-12-07T15:01:21.729359Z",
     "start_time": "2021-12-07T15:01:21.715347Z"
    }
   },
   "outputs": [],
   "source": [
    "y = df['target']"
   ]
  },
  {
   "cell_type": "code",
   "execution_count": 8,
   "id": "d1668658",
   "metadata": {
    "ExecuteTime": {
     "end_time": "2021-12-07T15:01:21.745362Z",
     "start_time": "2021-12-07T15:01:21.731366Z"
    }
   },
   "outputs": [],
   "source": [
    "X = pd.DataFrame(df['combined'], index = df.index)"
   ]
  },
  {
   "cell_type": "code",
   "execution_count": 9,
   "id": "c1b41124",
   "metadata": {
    "ExecuteTime": {
     "end_time": "2021-12-07T15:01:21.761358Z",
     "start_time": "2021-12-07T15:01:21.746358Z"
    }
   },
   "outputs": [
    {
     "data": {
      "text/html": [
       "<div>\n",
       "<style scoped>\n",
       "    .dataframe tbody tr th:only-of-type {\n",
       "        vertical-align: middle;\n",
       "    }\n",
       "\n",
       "    .dataframe tbody tr th {\n",
       "        vertical-align: top;\n",
       "    }\n",
       "\n",
       "    .dataframe thead th {\n",
       "        text-align: right;\n",
       "    }\n",
       "</style>\n",
       "<table border=\"1\" class=\"dataframe\">\n",
       "  <thead>\n",
       "    <tr style=\"text-align: right;\">\n",
       "      <th></th>\n",
       "      <th>combined</th>\n",
       "    </tr>\n",
       "  </thead>\n",
       "  <tbody>\n",
       "    <tr>\n",
       "      <th>0</th>\n",
       "      <td>We love grits, this is another good way to ser...</td>\n",
       "    </tr>\n",
       "    <tr>\n",
       "      <th>1</th>\n",
       "      <td>Simple, easy and very tasty for when you are i...</td>\n",
       "    </tr>\n",
       "    <tr>\n",
       "      <th>2</th>\n",
       "      <td>This is a good recipe for weight watchers. It ...</td>\n",
       "    </tr>\n",
       "    <tr>\n",
       "      <th>3</th>\n",
       "      <td>This is a fabulous stew that came from one of ...</td>\n",
       "    </tr>\n",
       "    <tr>\n",
       "      <th>4</th>\n",
       "      <td>This is one of our standard holiday gift recip...</td>\n",
       "    </tr>\n",
       "  </tbody>\n",
       "</table>\n",
       "</div>"
      ],
      "text/plain": [
       "                                            combined\n",
       "0  We love grits, this is another good way to ser...\n",
       "1  Simple, easy and very tasty for when you are i...\n",
       "2  This is a good recipe for weight watchers. It ...\n",
       "3  This is a fabulous stew that came from one of ...\n",
       "4  This is one of our standard holiday gift recip..."
      ]
     },
     "execution_count": 9,
     "metadata": {},
     "output_type": "execute_result"
    }
   ],
   "source": [
    "X.head()"
   ]
  },
  {
   "cell_type": "code",
   "execution_count": 10,
   "id": "311ef9ef",
   "metadata": {
    "ExecuteTime": {
     "end_time": "2021-12-07T15:01:21.777383Z",
     "start_time": "2021-12-07T15:01:21.763361Z"
    }
   },
   "outputs": [
    {
     "data": {
      "text/plain": [
       "482279"
      ]
     },
     "execution_count": 10,
     "metadata": {},
     "output_type": "execute_result"
    }
   ],
   "source": [
    "len(y)"
   ]
  },
  {
   "cell_type": "code",
   "execution_count": 11,
   "id": "40df5e8c",
   "metadata": {
    "ExecuteTime": {
     "end_time": "2021-12-07T15:01:22.176098Z",
     "start_time": "2021-12-07T15:01:21.780370Z"
    }
   },
   "outputs": [
    {
     "data": {
      "text/plain": [
       "50000"
      ]
     },
     "execution_count": 11,
     "metadata": {},
     "output_type": "execute_result"
    }
   ],
   "source": [
    "df_sample = df.sample(50000)\n",
    "len(df_sample)"
   ]
  },
  {
   "cell_type": "code",
   "execution_count": 12,
   "id": "429079f6",
   "metadata": {
    "ExecuteTime": {
     "end_time": "2021-12-07T15:01:22.207109Z",
     "start_time": "2021-12-07T15:01:22.178100Z"
    }
   },
   "outputs": [
    {
     "data": {
      "text/html": [
       "<div>\n",
       "<style scoped>\n",
       "    .dataframe tbody tr th:only-of-type {\n",
       "        vertical-align: middle;\n",
       "    }\n",
       "\n",
       "    .dataframe tbody tr th {\n",
       "        vertical-align: top;\n",
       "    }\n",
       "\n",
       "    .dataframe thead th {\n",
       "        text-align: right;\n",
       "    }\n",
       "</style>\n",
       "<table border=\"1\" class=\"dataframe\">\n",
       "  <thead>\n",
       "    <tr style=\"text-align: right;\">\n",
       "      <th></th>\n",
       "      <th>Unnamed: 0</th>\n",
       "      <th>id</th>\n",
       "      <th>name</th>\n",
       "      <th>description</th>\n",
       "      <th>ingredients</th>\n",
       "      <th>ingredients_raw_str</th>\n",
       "      <th>serving_size</th>\n",
       "      <th>servings</th>\n",
       "      <th>steps</th>\n",
       "      <th>tags</th>\n",
       "      <th>search_terms</th>\n",
       "      <th>ingredients_list</th>\n",
       "      <th>ingredients_raw_str_list</th>\n",
       "      <th>steps_list</th>\n",
       "      <th>tags_list</th>\n",
       "      <th>search_terms_list</th>\n",
       "      <th>target_tag</th>\n",
       "      <th>target_search_term</th>\n",
       "      <th>target</th>\n",
       "      <th>num_ingredients</th>\n",
       "      <th>num_steps</th>\n",
       "      <th>num_char_description</th>\n",
       "      <th>cleaned_steps</th>\n",
       "      <th>step_tokens</th>\n",
       "      <th>cleaned_description</th>\n",
       "      <th>description_tokens</th>\n",
       "      <th>combined</th>\n",
       "    </tr>\n",
       "  </thead>\n",
       "  <tbody>\n",
       "    <tr>\n",
       "      <th>170644</th>\n",
       "      <td>174241</td>\n",
       "      <td>524218</td>\n",
       "      <td>Chicken Sauce Piquante (Slow Cooker)</td>\n",
       "      <td>Inspired for Joe Simmers, Creole Slow Cooking ...</td>\n",
       "      <td>['boneless skinless chicken thighs', 'salt', '...</td>\n",
       "      <td>[\"3   lbs    boneless skinless chicken thighs\"...</td>\n",
       "      <td>1 (413 g)</td>\n",
       "      <td>6</td>\n",
       "      <td>['Cut the chicken thighs into strips, approxim...</td>\n",
       "      <td>['course', 'main-ingredient', 'cuisine', 'prep...</td>\n",
       "      <td>{'southern', 'dinner', 'chicken'}</td>\n",
       "      <td>['boneless skinless chicken thighs', 'salt', '...</td>\n",
       "      <td>['3   lbs    boneless skinless chicken thighs'...</td>\n",
       "      <td>['Cut the chicken thighs into strips, approxim...</td>\n",
       "      <td>['course', 'main-ingredient', 'cuisine', 'prep...</td>\n",
       "      <td>['dinner', 'southern', 'chicken']</td>\n",
       "      <td>True</td>\n",
       "      <td>True</td>\n",
       "      <td>1</td>\n",
       "      <td>15</td>\n",
       "      <td>3</td>\n",
       "      <td>138</td>\n",
       "      <td>cut the chicken thighs into strips approximate...</td>\n",
       "      <td>['cut', 'the', 'chicken', 'thighs', 'into', 's...</td>\n",
       "      <td>inspired for joe simmers creole slow cooking n...</td>\n",
       "      <td>['inspired', 'for', 'joe', 'simmers', 'creole'...</td>\n",
       "      <td>Inspired for Joe Simmers, Creole Slow Cooking ...</td>\n",
       "    </tr>\n",
       "    <tr>\n",
       "      <th>60720</th>\n",
       "      <td>62969</td>\n",
       "      <td>135829</td>\n",
       "      <td>Green Beans and Tortellini</td>\n",
       "      <td>This is fairly easy to make despite the variou...</td>\n",
       "      <td>['green beans', 'tortellini', 'water', 'white ...</td>\n",
       "      <td>[\"1   lb   raw stringless green beans\",\"1   lb...</td>\n",
       "      <td>1 (373 g)</td>\n",
       "      <td>12</td>\n",
       "      <td>['Bring salted water to a boil in large pot.',...</td>\n",
       "      <td>['30-minutes-or-less', 'time-to-make', 'course...</td>\n",
       "      <td>{'italian', 'low-calorie', 'low-sodium', 'past...</td>\n",
       "      <td>['green beans', 'tortellini', 'water', 'white ...</td>\n",
       "      <td>['1   lb   raw stringless green beans', '1   l...</td>\n",
       "      <td>['Bring salted water to a boil in large pot.',...</td>\n",
       "      <td>['30-minutes-or-less', 'time-to-make', 'course...</td>\n",
       "      <td>['low-calorie', 'low-sodium', 'pasta', 'dinner...</td>\n",
       "      <td>True</td>\n",
       "      <td>True</td>\n",
       "      <td>1</td>\n",
       "      <td>13</td>\n",
       "      <td>20</td>\n",
       "      <td>283</td>\n",
       "      <td>bring salted water to a boil in large pot wash...</td>\n",
       "      <td>['bring', 'salted', 'water', 'to', 'a', 'boil'...</td>\n",
       "      <td>this is fairly easy to make despite the variou...</td>\n",
       "      <td>['this', 'is', 'fairly', 'easy', 'to', 'make',...</td>\n",
       "      <td>This is fairly easy to make despite the variou...</td>\n",
       "    </tr>\n",
       "    <tr>\n",
       "      <th>241570</th>\n",
       "      <td>247218</td>\n",
       "      <td>325664</td>\n",
       "      <td>Incredible Orange Chocolate Chip Muffins</td>\n",
       "      <td>These muffins are a staple in my house, they a...</td>\n",
       "      <td>['butter', 'sugar', 'oranges%2c zest of', 'egg...</td>\n",
       "      <td>[\"1/2  cup   softened butter\",\"1   cup    suga...</td>\n",
       "      <td>1 (47 g)</td>\n",
       "      <td>12</td>\n",
       "      <td>['Preheat oven to 350, have eggs at room tempe...</td>\n",
       "      <td>['30-minutes-or-less', 'time-to-make', 'course...</td>\n",
       "      <td>{'bread'}</td>\n",
       "      <td>['butter', 'sugar', 'oranges%2c zest of', 'egg...</td>\n",
       "      <td>['1/2  cup   softened butter', '1   cup    sug...</td>\n",
       "      <td>['Preheat oven to 350, have eggs at room tempe...</td>\n",
       "      <td>['30-minutes-or-less', 'time-to-make', 'course...</td>\n",
       "      <td>['bread']</td>\n",
       "      <td>True</td>\n",
       "      <td>False</td>\n",
       "      <td>0</td>\n",
       "      <td>10</td>\n",
       "      <td>4</td>\n",
       "      <td>192</td>\n",
       "      <td>preheat oven to have eggs at room temperature ...</td>\n",
       "      <td>['preheat', 'oven', 'to', 'have', 'eggs', 'at'...</td>\n",
       "      <td>these muffins are a staple in my house they ar...</td>\n",
       "      <td>['these', 'muffins', 'are', 'a', 'staple', 'in...</td>\n",
       "      <td>These muffins are a staple in my house, they a...</td>\n",
       "    </tr>\n",
       "    <tr>\n",
       "      <th>171865</th>\n",
       "      <td>175514</td>\n",
       "      <td>4015</td>\n",
       "      <td>Sweet Potato Pie IV</td>\n",
       "      <td>This is the absolute best I have ever put in m...</td>\n",
       "      <td>['light brown sugar', 'salt', 'cinnamon', 'nut...</td>\n",
       "      <td>[\"3/4  cup    light brown sugar, lightly packe...</td>\n",
       "      <td>1 (916 g)</td>\n",
       "      <td>1</td>\n",
       "      <td>['Boil until tender, peel, and mash sweet pota...</td>\n",
       "      <td>['15-minutes-or-less', 'time-to-make', 'course...</td>\n",
       "      <td>{'dessert', 'southern'}</td>\n",
       "      <td>['light brown sugar', 'salt', 'cinnamon', 'nut...</td>\n",
       "      <td>['3/4  cup    light brown sugar, lightly packe...</td>\n",
       "      <td>['Boil until tender, peel, and mash sweet pota...</td>\n",
       "      <td>['15-minutes-or-less', 'time-to-make', 'course...</td>\n",
       "      <td>['southern', 'dessert']</td>\n",
       "      <td>True</td>\n",
       "      <td>False</td>\n",
       "      <td>0</td>\n",
       "      <td>10</td>\n",
       "      <td>9</td>\n",
       "      <td>56</td>\n",
       "      <td>boil until tender peel and mash sweet potatoes...</td>\n",
       "      <td>['boil', 'until', 'tender', 'peel', 'and', 'ma...</td>\n",
       "      <td>this is the absolute best i have ever put in m...</td>\n",
       "      <td>['this', 'is', 'the', 'absolute', 'best', 'i',...</td>\n",
       "      <td>This is the absolute best I have ever put in m...</td>\n",
       "    </tr>\n",
       "    <tr>\n",
       "      <th>185916</th>\n",
       "      <td>189948</td>\n",
       "      <td>325846</td>\n",
       "      <td>Asian Grilled Steak With Tangy Wasabi</td>\n",
       "      <td>Adapted from a recipe by Nakano on allrecipes.com</td>\n",
       "      <td>['seasoned rice vinegar', 'dark soy sauce', 'f...</td>\n",
       "      <td>[\"\",\"1/3  cup    seasoned rice vinegar\",\"1/4  ...</td>\n",
       "      <td>1 (137 g)</td>\n",
       "      <td>6</td>\n",
       "      <td>['Combine marinade ingredients in large zip to...</td>\n",
       "      <td>['course', 'main-ingredient', 'preparation', '...</td>\n",
       "      <td>{'dinner'}</td>\n",
       "      <td>['seasoned rice vinegar', 'dark soy sauce', 'f...</td>\n",
       "      <td>['', '1/3  cup    seasoned rice vinegar', '1/4...</td>\n",
       "      <td>['Combine marinade ingredients in large zip to...</td>\n",
       "      <td>['course', 'main-ingredient', 'preparation', '...</td>\n",
       "      <td>['dinner']</td>\n",
       "      <td>False</td>\n",
       "      <td>True</td>\n",
       "      <td>0</td>\n",
       "      <td>12</td>\n",
       "      <td>4</td>\n",
       "      <td>49</td>\n",
       "      <td>combine marinade ingredients in large zip top ...</td>\n",
       "      <td>['combine', 'marinade', 'ingredients', 'in', '...</td>\n",
       "      <td>adapted from a recipe by nakano on allrecipescom</td>\n",
       "      <td>['adapted', 'from', 'a', 'recipe', 'by', 'naka...</td>\n",
       "      <td>Adapted from a recipe by Nakano on allrecipes....</td>\n",
       "    </tr>\n",
       "  </tbody>\n",
       "</table>\n",
       "</div>"
      ],
      "text/plain": [
       "        Unnamed: 0      id                                      name  \\\n",
       "170644      174241  524218      Chicken Sauce Piquante (Slow Cooker)   \n",
       "60720        62969  135829                Green Beans and Tortellini   \n",
       "241570      247218  325664  Incredible Orange Chocolate Chip Muffins   \n",
       "171865      175514    4015                       Sweet Potato Pie IV   \n",
       "185916      189948  325846     Asian Grilled Steak With Tangy Wasabi   \n",
       "\n",
       "                                              description  \\\n",
       "170644  Inspired for Joe Simmers, Creole Slow Cooking ...   \n",
       "60720   This is fairly easy to make despite the variou...   \n",
       "241570  These muffins are a staple in my house, they a...   \n",
       "171865  This is the absolute best I have ever put in m...   \n",
       "185916  Adapted from a recipe by Nakano on allrecipes.com   \n",
       "\n",
       "                                              ingredients  \\\n",
       "170644  ['boneless skinless chicken thighs', 'salt', '...   \n",
       "60720   ['green beans', 'tortellini', 'water', 'white ...   \n",
       "241570  ['butter', 'sugar', 'oranges%2c zest of', 'egg...   \n",
       "171865  ['light brown sugar', 'salt', 'cinnamon', 'nut...   \n",
       "185916  ['seasoned rice vinegar', 'dark soy sauce', 'f...   \n",
       "\n",
       "                                      ingredients_raw_str serving_size  \\\n",
       "170644  [\"3   lbs    boneless skinless chicken thighs\"...    1 (413 g)   \n",
       "60720   [\"1   lb   raw stringless green beans\",\"1   lb...    1 (373 g)   \n",
       "241570  [\"1/2  cup   softened butter\",\"1   cup    suga...     1 (47 g)   \n",
       "171865  [\"3/4  cup    light brown sugar, lightly packe...    1 (916 g)   \n",
       "185916  [\"\",\"1/3  cup    seasoned rice vinegar\",\"1/4  ...    1 (137 g)   \n",
       "\n",
       "        servings                                              steps  \\\n",
       "170644         6  ['Cut the chicken thighs into strips, approxim...   \n",
       "60720         12  ['Bring salted water to a boil in large pot.',...   \n",
       "241570        12  ['Preheat oven to 350, have eggs at room tempe...   \n",
       "171865         1  ['Boil until tender, peel, and mash sweet pota...   \n",
       "185916         6  ['Combine marinade ingredients in large zip to...   \n",
       "\n",
       "                                                     tags  \\\n",
       "170644  ['course', 'main-ingredient', 'cuisine', 'prep...   \n",
       "60720   ['30-minutes-or-less', 'time-to-make', 'course...   \n",
       "241570  ['30-minutes-or-less', 'time-to-make', 'course...   \n",
       "171865  ['15-minutes-or-less', 'time-to-make', 'course...   \n",
       "185916  ['course', 'main-ingredient', 'preparation', '...   \n",
       "\n",
       "                                             search_terms  \\\n",
       "170644                  {'southern', 'dinner', 'chicken'}   \n",
       "60720   {'italian', 'low-calorie', 'low-sodium', 'past...   \n",
       "241570                                          {'bread'}   \n",
       "171865                            {'dessert', 'southern'}   \n",
       "185916                                         {'dinner'}   \n",
       "\n",
       "                                         ingredients_list  \\\n",
       "170644  ['boneless skinless chicken thighs', 'salt', '...   \n",
       "60720   ['green beans', 'tortellini', 'water', 'white ...   \n",
       "241570  ['butter', 'sugar', 'oranges%2c zest of', 'egg...   \n",
       "171865  ['light brown sugar', 'salt', 'cinnamon', 'nut...   \n",
       "185916  ['seasoned rice vinegar', 'dark soy sauce', 'f...   \n",
       "\n",
       "                                 ingredients_raw_str_list  \\\n",
       "170644  ['3   lbs    boneless skinless chicken thighs'...   \n",
       "60720   ['1   lb   raw stringless green beans', '1   l...   \n",
       "241570  ['1/2  cup   softened butter', '1   cup    sug...   \n",
       "171865  ['3/4  cup    light brown sugar, lightly packe...   \n",
       "185916  ['', '1/3  cup    seasoned rice vinegar', '1/4...   \n",
       "\n",
       "                                               steps_list  \\\n",
       "170644  ['Cut the chicken thighs into strips, approxim...   \n",
       "60720   ['Bring salted water to a boil in large pot.',...   \n",
       "241570  ['Preheat oven to 350, have eggs at room tempe...   \n",
       "171865  ['Boil until tender, peel, and mash sweet pota...   \n",
       "185916  ['Combine marinade ingredients in large zip to...   \n",
       "\n",
       "                                                tags_list  \\\n",
       "170644  ['course', 'main-ingredient', 'cuisine', 'prep...   \n",
       "60720   ['30-minutes-or-less', 'time-to-make', 'course...   \n",
       "241570  ['30-minutes-or-less', 'time-to-make', 'course...   \n",
       "171865  ['15-minutes-or-less', 'time-to-make', 'course...   \n",
       "185916  ['course', 'main-ingredient', 'preparation', '...   \n",
       "\n",
       "                                        search_terms_list  target_tag  \\\n",
       "170644                  ['dinner', 'southern', 'chicken']        True   \n",
       "60720   ['low-calorie', 'low-sodium', 'pasta', 'dinner...        True   \n",
       "241570                                          ['bread']        True   \n",
       "171865                            ['southern', 'dessert']        True   \n",
       "185916                                         ['dinner']       False   \n",
       "\n",
       "        target_search_term  target  num_ingredients  num_steps  \\\n",
       "170644                True       1               15          3   \n",
       "60720                 True       1               13         20   \n",
       "241570               False       0               10          4   \n",
       "171865               False       0               10          9   \n",
       "185916                True       0               12          4   \n",
       "\n",
       "        num_char_description  \\\n",
       "170644                   138   \n",
       "60720                    283   \n",
       "241570                   192   \n",
       "171865                    56   \n",
       "185916                    49   \n",
       "\n",
       "                                            cleaned_steps  \\\n",
       "170644  cut the chicken thighs into strips approximate...   \n",
       "60720   bring salted water to a boil in large pot wash...   \n",
       "241570  preheat oven to have eggs at room temperature ...   \n",
       "171865  boil until tender peel and mash sweet potatoes...   \n",
       "185916  combine marinade ingredients in large zip top ...   \n",
       "\n",
       "                                              step_tokens  \\\n",
       "170644  ['cut', 'the', 'chicken', 'thighs', 'into', 's...   \n",
       "60720   ['bring', 'salted', 'water', 'to', 'a', 'boil'...   \n",
       "241570  ['preheat', 'oven', 'to', 'have', 'eggs', 'at'...   \n",
       "171865  ['boil', 'until', 'tender', 'peel', 'and', 'ma...   \n",
       "185916  ['combine', 'marinade', 'ingredients', 'in', '...   \n",
       "\n",
       "                                      cleaned_description  \\\n",
       "170644  inspired for joe simmers creole slow cooking n...   \n",
       "60720   this is fairly easy to make despite the variou...   \n",
       "241570  these muffins are a staple in my house they ar...   \n",
       "171865  this is the absolute best i have ever put in m...   \n",
       "185916   adapted from a recipe by nakano on allrecipescom   \n",
       "\n",
       "                                       description_tokens  \\\n",
       "170644  ['inspired', 'for', 'joe', 'simmers', 'creole'...   \n",
       "60720   ['this', 'is', 'fairly', 'easy', 'to', 'make',...   \n",
       "241570  ['these', 'muffins', 'are', 'a', 'staple', 'in...   \n",
       "171865  ['this', 'is', 'the', 'absolute', 'best', 'i',...   \n",
       "185916  ['adapted', 'from', 'a', 'recipe', 'by', 'naka...   \n",
       "\n",
       "                                                 combined  \n",
       "170644  Inspired for Joe Simmers, Creole Slow Cooking ...  \n",
       "60720   This is fairly easy to make despite the variou...  \n",
       "241570  These muffins are a staple in my house, they a...  \n",
       "171865  This is the absolute best I have ever put in m...  \n",
       "185916  Adapted from a recipe by Nakano on allrecipes....  "
      ]
     },
     "execution_count": 12,
     "metadata": {},
     "output_type": "execute_result"
    }
   ],
   "source": [
    "df_sample.head()"
   ]
  },
  {
   "cell_type": "code",
   "execution_count": 13,
   "id": "e7b0703d",
   "metadata": {
    "ExecuteTime": {
     "end_time": "2021-12-07T15:01:22.223109Z",
     "start_time": "2021-12-07T15:01:22.209106Z"
    }
   },
   "outputs": [
    {
     "data": {
      "text/plain": [
       "50000"
      ]
     },
     "execution_count": 13,
     "metadata": {},
     "output_type": "execute_result"
    }
   ],
   "source": [
    "y_sample = df_sample['target']\n",
    "len(y_sample)"
   ]
  },
  {
   "cell_type": "code",
   "execution_count": 14,
   "id": "fc96ca96",
   "metadata": {
    "ExecuteTime": {
     "end_time": "2021-12-07T15:01:22.239116Z",
     "start_time": "2021-12-07T15:01:22.227112Z"
    }
   },
   "outputs": [],
   "source": [
    "X_sample = pd.DataFrame(df_sample['combined'], index = df_sample.index)"
   ]
  },
  {
   "cell_type": "code",
   "execution_count": 15,
   "id": "19c83ef4",
   "metadata": {
    "ExecuteTime": {
     "end_time": "2021-12-07T15:01:22.367140Z",
     "start_time": "2021-12-07T15:01:22.241113Z"
    }
   },
   "outputs": [
    {
     "data": {
      "text/plain": [
       "0    98067\n",
       "1    98067\n",
       "Name: target, dtype: int64"
      ]
     },
     "execution_count": 15,
     "metadata": {},
     "output_type": "execute_result"
    }
   ],
   "source": [
    "rus = RandomUnderSampler()\n",
    "X_res, y_res = rus.fit_resample(X,y)\n",
    "y_res.value_counts()"
   ]
  },
  {
   "cell_type": "code",
   "execution_count": 16,
   "id": "a5b0f6e3",
   "metadata": {
    "ExecuteTime": {
     "end_time": "2021-12-07T15:01:22.399149Z",
     "start_time": "2021-12-07T15:01:22.369142Z"
    },
    "scrolled": true
   },
   "outputs": [
    {
     "data": {
      "text/plain": [
       "0    10199\n",
       "1    10199\n",
       "Name: target, dtype: int64"
      ]
     },
     "execution_count": 16,
     "metadata": {},
     "output_type": "execute_result"
    }
   ],
   "source": [
    "X_sample_rus, y_sample_rus = rus.fit_resample(X_sample, y_sample)\n",
    "y_sample_rus.value_counts()"
   ]
  },
  {
   "attachments": {
    "image.png": {
     "image/png": "[encoded data removed]"
    }
   },
   "cell_type": "markdown",
   "id": "68cf88fe",
   "metadata": {},
   "source": [
    "![image.png](attachment:image.png)"
   ]
  },
  {
   "cell_type": "markdown",
   "id": "d2f926d9",
   "metadata": {},
   "source": [
    "above from spacy documentation and process we'll emulate below\n",
    "https://spacy.io/usage/processing-pipelines"
   ]
  },
  {
   "cell_type": "markdown",
   "id": "bc99a415",
   "metadata": {},
   "source": [
    "# Tokenization "
   ]
  },
  {
   "cell_type": "code",
   "execution_count": 17,
   "id": "235198a1",
   "metadata": {
    "ExecuteTime": {
     "end_time": "2021-12-07T15:01:22.415151Z",
     "start_time": "2021-12-07T15:01:22.401151Z"
    }
   },
   "outputs": [
    {
     "data": {
      "text/html": [
       "<div>\n",
       "<style scoped>\n",
       "    .dataframe tbody tr th:only-of-type {\n",
       "        vertical-align: middle;\n",
       "    }\n",
       "\n",
       "    .dataframe tbody tr th {\n",
       "        vertical-align: top;\n",
       "    }\n",
       "\n",
       "    .dataframe thead th {\n",
       "        text-align: right;\n",
       "    }\n",
       "</style>\n",
       "<table border=\"1\" class=\"dataframe\">\n",
       "  <thead>\n",
       "    <tr style=\"text-align: right;\">\n",
       "      <th></th>\n",
       "      <th>combined</th>\n",
       "    </tr>\n",
       "  </thead>\n",
       "  <tbody>\n",
       "    <tr>\n",
       "      <th>0</th>\n",
       "      <td>This is a great activity for the kids!  They l...</td>\n",
       "    </tr>\n",
       "    <tr>\n",
       "      <th>1</th>\n",
       "      <td>I love a good down-to-earth chunky guacamole, ...</td>\n",
       "    </tr>\n",
       "    <tr>\n",
       "      <th>2</th>\n",
       "      <td>If you like chocolate and caramel, then you ha...</td>\n",
       "    </tr>\n",
       "    <tr>\n",
       "      <th>3</th>\n",
       "      <td>Another great chicken salad for take-to-work l...</td>\n",
       "    </tr>\n",
       "    <tr>\n",
       "      <th>4</th>\n",
       "      <td>This is dish that will serve 24 (7 or 8 shrimp...</td>\n",
       "    </tr>\n",
       "  </tbody>\n",
       "</table>\n",
       "</div>"
      ],
      "text/plain": [
       "                                            combined\n",
       "0  This is a great activity for the kids!  They l...\n",
       "1  I love a good down-to-earth chunky guacamole, ...\n",
       "2  If you like chocolate and caramel, then you ha...\n",
       "3  Another great chicken salad for take-to-work l...\n",
       "4  This is dish that will serve 24 (7 or 8 shrimp..."
      ]
     },
     "execution_count": 17,
     "metadata": {},
     "output_type": "execute_result"
    }
   ],
   "source": [
    "X_sample_rus.head()"
   ]
  },
  {
   "cell_type": "code",
   "execution_count": 18,
   "id": "db0d9d72",
   "metadata": {
    "ExecuteTime": {
     "end_time": "2021-12-07T15:01:22.431155Z",
     "start_time": "2021-12-07T15:01:22.417154Z"
    }
   },
   "outputs": [],
   "source": [
    "cook_words = {'garlic', 'milk', 'pepper', 'garlic cloves', 'salt', 'lemon juice', 'brown sugar', 'flour', 'parmesan cheese', 'eggs', 'onion', 'salt and pepper', 'butter', 'sugar', 'water', 'olive oil', 'vegetable oil'}"
   ]
  },
  {
   "cell_type": "code",
   "execution_count": 19,
   "id": "8b9b3c6d",
   "metadata": {
    "ExecuteTime": {
     "end_time": "2021-12-07T15:01:23.000833Z",
     "start_time": "2021-12-07T15:01:22.433157Z"
    },
    "run_control": {
     "marked": true
    }
   },
   "outputs": [],
   "source": [
    "nlp = spacy.load('en_core_web_sm', disable=['parser', 'ner']) # disabling what we don't need to lemmatize\n",
    "nlp.Defaults.stop_words |= cook_words"
   ]
  },
  {
   "cell_type": "code",
   "execution_count": null,
   "id": "e733795c",
   "metadata": {},
   "outputs": [],
   "source": []
  },
  {
   "cell_type": "code",
   "execution_count": 20,
   "id": "ba0b05bc",
   "metadata": {
    "ExecuteTime": {
     "end_time": "2021-12-07T15:01:23.016818Z",
     "start_time": "2021-12-07T15:01:23.002814Z"
    }
   },
   "outputs": [],
   "source": [
    "test = X_sample_rus.head(10)"
   ]
  },
  {
   "cell_type": "code",
   "execution_count": 21,
   "id": "26519b73",
   "metadata": {
    "ExecuteTime": {
     "end_time": "2021-12-07T15:01:23.032820Z",
     "start_time": "2021-12-07T15:01:23.017819Z"
    },
    "scrolled": true
   },
   "outputs": [],
   "source": [
    "# test['lemma'] = test['lowercase'].apply(lambda x: ' '.join([y.lemma_ for y in nlp(x) if not y.is_stop]))"
   ]
  },
  {
   "cell_type": "code",
   "execution_count": 22,
   "id": "9ef0d2d6",
   "metadata": {
    "ExecuteTime": {
     "end_time": "2021-12-07T15:01:23.048824Z",
     "start_time": "2021-12-07T15:01:23.034830Z"
    },
    "scrolled": true
   },
   "outputs": [
    {
     "data": {
      "text/html": [
       "<div>\n",
       "<style scoped>\n",
       "    .dataframe tbody tr th:only-of-type {\n",
       "        vertical-align: middle;\n",
       "    }\n",
       "\n",
       "    .dataframe tbody tr th {\n",
       "        vertical-align: top;\n",
       "    }\n",
       "\n",
       "    .dataframe thead th {\n",
       "        text-align: right;\n",
       "    }\n",
       "</style>\n",
       "<table border=\"1\" class=\"dataframe\">\n",
       "  <thead>\n",
       "    <tr style=\"text-align: right;\">\n",
       "      <th></th>\n",
       "      <th>combined</th>\n",
       "    </tr>\n",
       "  </thead>\n",
       "  <tbody>\n",
       "    <tr>\n",
       "      <th>0</th>\n",
       "      <td>This is a great activity for the kids!  They l...</td>\n",
       "    </tr>\n",
       "    <tr>\n",
       "      <th>1</th>\n",
       "      <td>I love a good down-to-earth chunky guacamole, ...</td>\n",
       "    </tr>\n",
       "    <tr>\n",
       "      <th>2</th>\n",
       "      <td>If you like chocolate and caramel, then you ha...</td>\n",
       "    </tr>\n",
       "    <tr>\n",
       "      <th>3</th>\n",
       "      <td>Another great chicken salad for take-to-work l...</td>\n",
       "    </tr>\n",
       "    <tr>\n",
       "      <th>4</th>\n",
       "      <td>This is dish that will serve 24 (7 or 8 shrimp...</td>\n",
       "    </tr>\n",
       "  </tbody>\n",
       "</table>\n",
       "</div>"
      ],
      "text/plain": [
       "                                            combined\n",
       "0  This is a great activity for the kids!  They l...\n",
       "1  I love a good down-to-earth chunky guacamole, ...\n",
       "2  If you like chocolate and caramel, then you ha...\n",
       "3  Another great chicken salad for take-to-work l...\n",
       "4  This is dish that will serve 24 (7 or 8 shrimp..."
      ]
     },
     "execution_count": 22,
     "metadata": {},
     "output_type": "execute_result"
    }
   ],
   "source": [
    "test.head()"
   ]
  },
  {
   "cell_type": "code",
   "execution_count": 23,
   "id": "32c7149d",
   "metadata": {
    "ExecuteTime": {
     "end_time": "2021-12-07T15:01:23.064830Z",
     "start_time": "2021-12-07T15:01:23.050825Z"
    }
   },
   "outputs": [
    {
     "data": {
      "text/plain": [
       "\"Another great chicken salad for take-to-work lunches. ['Add the shredded chicken to a large bowl.', 'Add in the tomatoes, peas, celery, and green onion (if not serving immediately, add the peas just before serving).', 'Cook pasta per package directions; drain pasta and toss with oil.', 'Add parmesan to the pasta; toss to coat.', 'When the pasta is cooled to room temperature, add it to the chicken mixture.', 'To make the dressing: whisk the vinegar, mustard, garlic, salt, and pepper together in a small bowl.', 'Add in the olive oil, whisking until it is incorporated.', 'Pour the dressing over the salad; toss gently but thoroughly.', 'Cover and refrigerate for up to 8 hours; serve chilled.']\""
      ]
     },
     "execution_count": 23,
     "metadata": {},
     "output_type": "execute_result"
    }
   ],
   "source": [
    "test['combined'].iloc[3]"
   ]
  },
  {
   "cell_type": "code",
   "execution_count": 24,
   "id": "b73a5100",
   "metadata": {
    "ExecuteTime": {
     "end_time": "2021-12-07T15:01:23.080831Z",
     "start_time": "2021-12-07T15:01:23.066829Z"
    },
    "scrolled": false
   },
   "outputs": [],
   "source": [
    "#test['basic'] = test['lemma'].apply(lambda x: ' '.join([str(y) for y in nlp(x) if not y.is_punct]))"
   ]
  },
  {
   "cell_type": "code",
   "execution_count": null,
   "id": "61a88a60",
   "metadata": {
    "ExecuteTime": {
     "end_time": "2021-12-07T03:22:03.376723Z",
     "start_time": "2021-12-07T03:22:03.371729Z"
    },
    "run_control": {
     "marked": true
    }
   },
   "outputs": [],
   "source": [
    "# def spacy_cleaning(x, nlp):\n",
    "#     '''takes in a spacy Document-type (aka a collection of tokens) and returns either a string tokens that have been\n",
    "#     cleaned of:\n",
    "#                 - stop words\n",
    "#                 - puntuation \n",
    "#                 - numbers\n",
    "    \n",
    "#     as well as lemmetizes the results.\n",
    "    \n",
    "#     Inputs:\n",
    "#     x - spacy Document\n",
    "    \n",
    "#     Returns:\n",
    "#     Spacy Document or string\n",
    "#     '''\n",
    "\n",
    "#     x_nlp = nlp(x)\n",
    "\n",
    "#     # lemmatize the text, removing stopwords and punctuation\n",
    "#     lemma = [y.lemma_ for y in x_nlp if not (y.is_stop) and not (y.is_punct)] \n",
    "\n",
    "    \n",
    "#     #replacing URLs with a generic \"URL\" and removing numbers\n",
    "#     no_web = [re.sub(r'http\\S+', 'URL', word) for word in lemma]\n",
    "#     no_num = [re.sub(r'[0-9]', '', word) for word in no_web]\n",
    "    \n",
    "#     #removes white spaces and odd single characters\n",
    "#     final = [x.lower() for x in no_num if (len(x)>1)]\n",
    "\n",
    "#     return \" \".join(final)\n",
    "                                     "
   ]
  },
  {
   "cell_type": "code",
   "execution_count": 25,
   "id": "763b9361",
   "metadata": {
    "ExecuteTime": {
     "end_time": "2021-12-07T15:03:02.693214Z",
     "start_time": "2021-12-07T15:03:02.675221Z"
    }
   },
   "outputs": [],
   "source": [
    "import nlp_project"
   ]
  },
  {
   "cell_type": "code",
   "execution_count": 26,
   "id": "2dafa1dd",
   "metadata": {
    "ExecuteTime": {
     "end_time": "2021-12-07T15:03:04.698804Z",
     "start_time": "2021-12-07T15:03:04.523825Z"
    },
    "run_control": {
     "marked": true
    },
    "scrolled": true
   },
   "outputs": [
    {
     "name": "stderr",
     "output_type": "stream",
     "text": [
      "C:\\Users\\alexm\\AppData\\Local\\Temp/ipykernel_8916/3852621893.py:1: SettingWithCopyWarning: \n",
      "A value is trying to be set on a copy of a slice from a DataFrame.\n",
      "Try using .loc[row_indexer,col_indexer] = value instead\n",
      "\n",
      "See the caveats in the documentation: https://pandas.pydata.org/pandas-docs/stable/user_guide/indexing.html#returning-a-view-versus-a-copy\n",
      "  test['lemma'] = test['combined'].apply(lambda x: nlp_project.spacy_cleaning(x,nlp))\n"
     ]
    }
   ],
   "source": [
    "test['lemma'] = test['combined'].apply(lambda x: nlp_project.spacy_cleaning(x,nlp))\n",
    "    "
   ]
  },
  {
   "cell_type": "code",
   "execution_count": 27,
   "id": "3250768f",
   "metadata": {
    "ExecuteTime": {
     "end_time": "2021-12-07T15:03:08.656707Z",
     "start_time": "2021-12-07T15:03:08.634702Z"
    }
   },
   "outputs": [
    {
     "data": {
      "text/html": [
       "<div>\n",
       "<style scoped>\n",
       "    .dataframe tbody tr th:only-of-type {\n",
       "        vertical-align: middle;\n",
       "    }\n",
       "\n",
       "    .dataframe tbody tr th {\n",
       "        vertical-align: top;\n",
       "    }\n",
       "\n",
       "    .dataframe thead th {\n",
       "        text-align: right;\n",
       "    }\n",
       "</style>\n",
       "<table border=\"1\" class=\"dataframe\">\n",
       "  <thead>\n",
       "    <tr style=\"text-align: right;\">\n",
       "      <th></th>\n",
       "      <th>combined</th>\n",
       "      <th>lemma</th>\n",
       "    </tr>\n",
       "  </thead>\n",
       "  <tbody>\n",
       "    <tr>\n",
       "      <th>0</th>\n",
       "      <td>This is a great activity for the kids!  They l...</td>\n",
       "      <td>great activity kid love ice cream good fill ga...</td>\n",
       "    </tr>\n",
       "    <tr>\n",
       "      <th>1</th>\n",
       "      <td>I love a good down-to-earth chunky guacamole, ...</td>\n",
       "      <td>love good earth chunky guacamole want dress bi...</td>\n",
       "    </tr>\n",
       "    <tr>\n",
       "      <th>2</th>\n",
       "      <td>If you like chocolate and caramel, then you ha...</td>\n",
       "      <td>like chocolate caramel recipe try great time y...</td>\n",
       "    </tr>\n",
       "    <tr>\n",
       "      <th>3</th>\n",
       "      <td>Another great chicken salad for take-to-work l...</td>\n",
       "      <td>great chicken salad work lunch add shredded ch...</td>\n",
       "    </tr>\n",
       "    <tr>\n",
       "      <th>4</th>\n",
       "      <td>This is dish that will serve 24 (7 or 8 shrimp...</td>\n",
       "      <td>dish serve shrimp person simply triple ingredi...</td>\n",
       "    </tr>\n",
       "  </tbody>\n",
       "</table>\n",
       "</div>"
      ],
      "text/plain": [
       "                                            combined  \\\n",
       "0  This is a great activity for the kids!  They l...   \n",
       "1  I love a good down-to-earth chunky guacamole, ...   \n",
       "2  If you like chocolate and caramel, then you ha...   \n",
       "3  Another great chicken salad for take-to-work l...   \n",
       "4  This is dish that will serve 24 (7 or 8 shrimp...   \n",
       "\n",
       "                                               lemma  \n",
       "0  great activity kid love ice cream good fill ga...  \n",
       "1  love good earth chunky guacamole want dress bi...  \n",
       "2  like chocolate caramel recipe try great time y...  \n",
       "3  great chicken salad work lunch add shredded ch...  \n",
       "4  dish serve shrimp person simply triple ingredi...  "
      ]
     },
     "execution_count": 27,
     "metadata": {},
     "output_type": "execute_result"
    }
   ],
   "source": [
    "test.head()"
   ]
  },
  {
   "cell_type": "code",
   "execution_count": null,
   "id": "2005567b",
   "metadata": {
    "ExecuteTime": {
     "end_time": "2021-12-07T03:22:14.993099Z",
     "start_time": "2021-12-07T03:22:14.979088Z"
    }
   },
   "outputs": [],
   "source": [
    "test['lemma'].iloc[7]"
   ]
  },
  {
   "cell_type": "code",
   "execution_count": null,
   "id": "59968fff",
   "metadata": {
    "ExecuteTime": {
     "end_time": "2021-12-07T00:41:42.253087Z",
     "start_time": "2021-12-07T00:41:42.199468Z"
    }
   },
   "outputs": [],
   "source": [
    "X_sample_rus['lowercase'] = X_sample_rus['combined'].apply(lambda x: x.lower())"
   ]
  },
  {
   "cell_type": "code",
   "execution_count": null,
   "id": "aad1f847",
   "metadata": {
    "ExecuteTime": {
     "end_time": "2021-12-07T00:58:02.026093Z",
     "start_time": "2021-12-07T00:58:02.008078Z"
    },
    "scrolled": false
   },
   "outputs": [],
   "source": [
    "X_sample_rus.head(3)"
   ]
  },
  {
   "cell_type": "code",
   "execution_count": null,
   "id": "d61a033e",
   "metadata": {
    "ExecuteTime": {
     "end_time": "2021-12-07T00:57:35.853134Z",
     "start_time": "2021-12-07T00:57:35.838139Z"
    },
    "scrolled": true
   },
   "outputs": [],
   "source": [
    "X_sample_rus.info()"
   ]
  },
  {
   "cell_type": "code",
   "execution_count": null,
   "id": "c9a800c0",
   "metadata": {
    "ExecuteTime": {
     "end_time": "2021-12-07T00:56:22.901529Z",
     "start_time": "2021-12-07T00:56:22.848515Z"
    },
    "scrolled": true
   },
   "outputs": [],
   "source": [
    "X_sample_rus['lemma'] = X_sample_rus['combined'].apply(lambda x: ' '.join([y.lemma_ for y in nlp(x) if not y.is_stop]))"
   ]
  },
  {
   "cell_type": "markdown",
   "id": "f98d107a",
   "metadata": {},
   "source": [
    "# Let's figure out how long this is gonna take"
   ]
  },
  {
   "cell_type": "code",
   "execution_count": null,
   "id": "560e1751",
   "metadata": {
    "ExecuteTime": {
     "end_time": "2021-12-07T01:59:25.502516Z",
     "start_time": "2021-12-07T01:55:00.952924Z"
    },
    "scrolled": false
   },
   "outputs": [],
   "source": [
    "X_sample_rus['lemma'] = X_sample_rus['combined'].apply(lambda x: spacy_cleaning(x))\n"
   ]
  },
  {
   "cell_type": "code",
   "execution_count": null,
   "id": "18375409",
   "metadata": {
    "ExecuteTime": {
     "end_time": "2021-12-07T02:02:22.262278Z",
     "start_time": "2021-12-07T02:02:22.246255Z"
    },
    "scrolled": true
   },
   "outputs": [],
   "source": [
    "X_sample_rus.tail()"
   ]
  },
  {
   "cell_type": "code",
   "execution_count": null,
   "id": "0a2e4f66",
   "metadata": {},
   "outputs": [],
   "source": [
    "X_sample_rus['tokens'] = X_sample_rus['combined'].apply(lambda x: x.split()) "
   ]
  }
 ],
 "metadata": {
  "kernelspec": {
   "display_name": "spacy-env",
   "language": "python",
   "name": "spacy-env"
  },
  "language_info": {
   "codemirror_mode": {
    "name": "ipython",
    "version": 3
   },
   "file_extension": ".py",
   "mimetype": "text/x-python",
   "name": "python",
   "nbconvert_exporter": "python",
   "pygments_lexer": "ipython3",
   "version": "3.8.12"
  },
  "varInspector": {
   "cols": {
    "lenName": 16,
    "lenType": 16,
    "lenVar": 40
   },
   "kernels_config": {
    "python": {
     "delete_cmd_postfix": "",
     "delete_cmd_prefix": "del ",
     "library": "var_list.py",
     "varRefreshCmd": "print(var_dic_list())"
    },
    "r": {
     "delete_cmd_postfix": ") ",
     "delete_cmd_prefix": "rm(",
     "library": "var_list.r",
     "varRefreshCmd": "cat(var_dic_list()) "
    }
   },
   "types_to_exclude": [
    "module",
    "function",
    "builtin_function_or_method",
    "instance",
    "_Feature"
   ],
   "window_display": false
  }
 },
 "nbformat": 4,
 "nbformat_minor": 5
}
