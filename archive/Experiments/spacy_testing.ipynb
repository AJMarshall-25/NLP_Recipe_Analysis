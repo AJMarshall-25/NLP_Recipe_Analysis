{
 "cells": [
  {
   "cell_type": "code",
   "execution_count": 4,
   "id": "6e1fa6d4",
   "metadata": {
    "ExecuteTime": {
     "end_time": "2021-12-04T05:24:33.780217Z",
     "start_time": "2021-12-04T05:24:32.972443Z"
    }
   },
   "outputs": [],
   "source": [
    "import pandas as pd\n",
    "import numpy as np\n",
    "import matplotlib.pyplot as plt\n",
    "from matplotlib.ticker import MaxNLocator\n",
    "\n",
    "import warnings\n",
    "warnings.filterwarnings('ignore') # supresses errors\n",
    "\n",
    "from nltk import FreqDist\n",
    "from wordcloud import WordCloud\n",
    "import ast # used for converting column values to lists post-import from csv\n",
    "\n",
    "import spacy\n",
    "\n",
    "pd.set_option(\"display.max_columns\", None)\n"
   ]
  },
  {
   "cell_type": "code",
   "execution_count": 2,
   "id": "a48b507a",
   "metadata": {
    "ExecuteTime": {
     "end_time": "2021-12-04T05:19:18.747692Z",
     "start_time": "2021-12-04T05:19:13.942606Z"
    }
   },
   "outputs": [
    {
     "data": {
      "text/html": [
       "<div>\n",
       "<style scoped>\n",
       "    .dataframe tbody tr th:only-of-type {\n",
       "        vertical-align: middle;\n",
       "    }\n",
       "\n",
       "    .dataframe tbody tr th {\n",
       "        vertical-align: top;\n",
       "    }\n",
       "\n",
       "    .dataframe thead th {\n",
       "        text-align: right;\n",
       "    }\n",
       "</style>\n",
       "<table border=\"1\" class=\"dataframe\">\n",
       "  <thead>\n",
       "    <tr style=\"text-align: right;\">\n",
       "      <th></th>\n",
       "      <th>Unnamed: 0</th>\n",
       "      <th>ingredients</th>\n",
       "      <th>description</th>\n",
       "      <th>steps</th>\n",
       "      <th>target</th>\n",
       "    </tr>\n",
       "  </thead>\n",
       "  <tbody>\n",
       "    <tr>\n",
       "      <th>0</th>\n",
       "      <td>0</td>\n",
       "      <td>['water', 'grits', 'salt', 'cheddar cheese', '...</td>\n",
       "      <td>We love grits, this is another good way to ser...</td>\n",
       "      <td>['I a sauce pan, bring water to a boil; slowly...</td>\n",
       "      <td>0</td>\n",
       "    </tr>\n",
       "    <tr>\n",
       "      <th>1</th>\n",
       "      <td>1</td>\n",
       "      <td>['onion', 'red bell pepper', 'garlic cloves', ...</td>\n",
       "      <td>Simple, easy and very tasty for when you are i...</td>\n",
       "      <td>['In a food processor, pulse the onion, red pe...</td>\n",
       "      <td>0</td>\n",
       "    </tr>\n",
       "    <tr>\n",
       "      <th>2</th>\n",
       "      <td>3</td>\n",
       "      <td>['zucchini', 'yellow squash', 'diced tomatoes'...</td>\n",
       "      <td>This is a good recipe for weight watchers. It ...</td>\n",
       "      <td>['Put all ingredients in the crock pot and coo...</td>\n",
       "      <td>0</td>\n",
       "    </tr>\n",
       "    <tr>\n",
       "      <th>3</th>\n",
       "      <td>4</td>\n",
       "      <td>['beef stew meat', 'flour', 'salt', 'allspice'...</td>\n",
       "      <td>This is a fabulous stew that came from one of ...</td>\n",
       "      <td>['Preheat oven to 350°F.', \"Cut beef into 1 in...</td>\n",
       "      <td>1</td>\n",
       "    </tr>\n",
       "    <tr>\n",
       "      <th>4</th>\n",
       "      <td>5</td>\n",
       "      <td>['slivered almonds', 'cider vinegar', 'sugar',...</td>\n",
       "      <td>This is one of our standard holiday gift recip...</td>\n",
       "      <td>['Preheat oven to 375°F  Place almonds in sing...</td>\n",
       "      <td>0</td>\n",
       "    </tr>\n",
       "  </tbody>\n",
       "</table>\n",
       "</div>"
      ],
      "text/plain": [
       "   Unnamed: 0                                        ingredients  \\\n",
       "0           0  ['water', 'grits', 'salt', 'cheddar cheese', '...   \n",
       "1           1  ['onion', 'red bell pepper', 'garlic cloves', ...   \n",
       "2           3  ['zucchini', 'yellow squash', 'diced tomatoes'...   \n",
       "3           4  ['beef stew meat', 'flour', 'salt', 'allspice'...   \n",
       "4           5  ['slivered almonds', 'cider vinegar', 'sugar',...   \n",
       "\n",
       "                                         description  \\\n",
       "0  We love grits, this is another good way to ser...   \n",
       "1  Simple, easy and very tasty for when you are i...   \n",
       "2  This is a good recipe for weight watchers. It ...   \n",
       "3  This is a fabulous stew that came from one of ...   \n",
       "4  This is one of our standard holiday gift recip...   \n",
       "\n",
       "                                               steps  target  \n",
       "0  ['I a sauce pan, bring water to a boil; slowly...       0  \n",
       "1  ['In a food processor, pulse the onion, red pe...       0  \n",
       "2  ['Put all ingredients in the crock pot and coo...       0  \n",
       "3  ['Preheat oven to 350°F.', \"Cut beef into 1 in...       1  \n",
       "4  ['Preheat oven to 375°F  Place almonds in sing...       0  "
      ]
     },
     "execution_count": 2,
     "metadata": {},
     "output_type": "execute_result"
    }
   ],
   "source": [
    "df = pd.read_csv('data/df_strings.csv')\n",
    "df.head()\n"
   ]
  },
  {
   "cell_type": "code",
   "execution_count": 5,
   "id": "cc170a7a",
   "metadata": {
    "ExecuteTime": {
     "end_time": "2021-12-04T05:24:37.627038Z",
     "start_time": "2021-12-04T05:24:37.101631Z"
    }
   },
   "outputs": [],
   "source": [
    "nlp = spacy.load('en_core_web_sm')"
   ]
  },
  {
   "cell_type": "code",
   "execution_count": 6,
   "id": "480f731e",
   "metadata": {
    "ExecuteTime": {
     "end_time": "2021-12-04T05:24:48.161459Z",
     "start_time": "2021-12-04T05:24:48.141454Z"
    }
   },
   "outputs": [
    {
     "data": {
      "text/plain": [
       "<spacy.lang.en.English at 0x1fb7ca9e1f0>"
      ]
     },
     "execution_count": 6,
     "metadata": {},
     "output_type": "execute_result"
    }
   ],
   "source": [
    "nlp"
   ]
  },
  {
   "cell_type": "code",
   "execution_count": 9,
   "id": "ed6935ed",
   "metadata": {
    "ExecuteTime": {
     "end_time": "2021-12-04T05:25:39.266405Z",
     "start_time": "2021-12-04T05:25:39.221771Z"
    }
   },
   "outputs": [],
   "source": [
    "\n",
    "my_text = \"\"\"The economic situation of the country is on edge , as the stock \n",
    "market crashed causing loss of millions. Citizens who had their main investment \n",
    "in the share-market are facing a great loss. Many companies might lay off \n",
    "thousands of people to reduce labor cost\"\"\"\n",
    "my_doc = nlp(my_text)"
   ]
  },
  {
   "cell_type": "code",
   "execution_count": 10,
   "id": "7379493e",
   "metadata": {
    "ExecuteTime": {
     "end_time": "2021-12-04T05:25:51.384052Z",
     "start_time": "2021-12-04T05:25:51.365049Z"
    }
   },
   "outputs": [
    {
     "data": {
      "text/plain": [
       "spacy.tokens.doc.Doc"
      ]
     },
     "execution_count": 10,
     "metadata": {},
     "output_type": "execute_result"
    }
   ],
   "source": [
    "type(my_doc)"
   ]
  },
  {
   "cell_type": "code",
   "execution_count": 11,
   "id": "18b49329",
   "metadata": {
    "ExecuteTime": {
     "end_time": "2021-12-04T05:26:51.760507Z",
     "start_time": "2021-12-04T05:26:51.740490Z"
    }
   },
   "outputs": [
    {
     "name": "stdout",
     "output_type": "stream",
     "text": [
      "The\n",
      "economic\n",
      "situation\n",
      "of\n",
      "the\n",
      "country\n",
      "is\n",
      "on\n",
      "edge\n",
      ",\n",
      "as\n",
      "the\n",
      "stock\n",
      "\n",
      "\n",
      "market\n",
      "crashed\n",
      "causing\n",
      "loss\n",
      "of\n",
      "millions\n",
      ".\n",
      "Citizens\n",
      "who\n",
      "had\n",
      "their\n",
      "main\n",
      "investment\n",
      "\n",
      "\n",
      "in\n",
      "the\n",
      "share\n",
      "-\n",
      "market\n",
      "are\n",
      "facing\n",
      "a\n",
      "great\n",
      "loss\n",
      ".\n",
      "Many\n",
      "companies\n",
      "might\n",
      "lay\n",
      "off\n",
      "\n",
      "\n",
      "thousands\n",
      "of\n",
      "people\n",
      "to\n",
      "reduce\n",
      "labor\n",
      "cost\n"
     ]
    }
   ],
   "source": [
    "#printing tokens of a doc\n",
    "for token in my_doc:\n",
    "    print(token.text)"
   ]
  },
  {
   "cell_type": "code",
   "execution_count": 12,
   "id": "2f5eca93",
   "metadata": {
    "ExecuteTime": {
     "end_time": "2021-12-04T05:28:35.695788Z",
     "start_time": "2021-12-04T05:28:35.661771Z"
    }
   },
   "outputs": [
    {
     "name": "stdout",
     "output_type": "stream",
     "text": [
      "The -- True --- False\n",
      "economic -- False --- False\n",
      "situation -- False --- False\n",
      "of -- True --- False\n",
      "the -- True --- False\n",
      "country -- False --- False\n",
      "is -- True --- False\n",
      "on -- True --- False\n",
      "edge -- False --- False\n",
      ", -- False --- True\n",
      "as -- True --- False\n",
      "the -- True --- False\n",
      "stock -- False --- False\n",
      "\n",
      " -- False --- False\n",
      "market -- False --- False\n",
      "crashed -- False --- False\n",
      "causing -- False --- False\n",
      "loss -- False --- False\n",
      "of -- True --- False\n",
      "millions -- False --- False\n",
      ". -- False --- True\n",
      "Citizens -- False --- False\n",
      "who -- True --- False\n",
      "had -- True --- False\n",
      "their -- True --- False\n",
      "main -- False --- False\n",
      "investment -- False --- False\n",
      "\n",
      " -- False --- False\n",
      "in -- True --- False\n",
      "the -- True --- False\n",
      "share -- False --- False\n",
      "- -- False --- True\n",
      "market -- False --- False\n",
      "are -- True --- False\n",
      "facing -- False --- False\n",
      "a -- True --- False\n",
      "great -- False --- False\n",
      "loss -- False --- False\n",
      ". -- False --- True\n",
      "Many -- True --- False\n",
      "companies -- False --- False\n",
      "might -- True --- False\n",
      "lay -- False --- False\n",
      "off -- True --- False\n",
      "\n",
      " -- False --- False\n",
      "thousands -- False --- False\n",
      "of -- True --- False\n",
      "people -- False --- False\n",
      "to -- True --- False\n",
      "reduce -- False --- False\n",
      "labor -- False --- False\n",
      "cost -- False --- False\n"
     ]
    }
   ],
   "source": [
    "# printing tokens and boolean values stored in different attributes\n",
    "for token in my_doc:\n",
    "    print(token.text,'--',token.is_stop, '---', token.is_punct)"
   ]
  },
  {
   "cell_type": "code",
   "execution_count": 19,
   "id": "1bbad692",
   "metadata": {
    "ExecuteTime": {
     "end_time": "2021-12-04T05:32:00.295065Z",
     "start_time": "2021-12-04T05:32:00.276075Z"
    }
   },
   "outputs": [
    {
     "name": "stdout",
     "output_type": "stream",
     "text": [
      "economic\n",
      "situation\n",
      "country\n",
      "edge\n",
      "stock\n",
      "\n",
      "\n",
      "market\n",
      "crashed\n",
      "causing\n",
      "loss\n",
      "millions\n",
      "Citizens\n",
      "main\n",
      "investment\n",
      "\n",
      "\n",
      "share\n",
      "market\n",
      "facing\n",
      "great\n",
      "loss\n",
      "companies\n",
      "lay\n",
      "\n",
      "\n",
      "thousands\n",
      "people\n",
      "reduce\n",
      "labor\n",
      "cost\n"
     ]
    }
   ],
   "source": [
    "# remove stopwords and punct\n",
    "my_doc_cleaned = [token for token in my_doc if not token.is_stop and not token.is_punct]\n",
    "\n",
    "for token in my_doc_cleaned:\n",
    "    print(token.text)"
   ]
  },
  {
   "cell_type": "code",
   "execution_count": 20,
   "id": "68d866dd",
   "metadata": {
    "ExecuteTime": {
     "end_time": "2021-12-04T05:32:41.108847Z",
     "start_time": "2021-12-04T05:32:41.093840Z"
    }
   },
   "outputs": [],
   "source": [
    "# Reading a huge text data on robotics into a spacy doc\n",
    "robotics_data= \"\"\"Robotics is an interdisciplinary research area at the interface of computer science and engineering. Robotics involvesdesign, construction, operation, and use of robots. The goal of robotics is to design intelligent machines that can help and assist humans in their day-to-day lives and keep everyone safe. Robotics draws on the achievement of information engineering, computer engineering, mechanical engineering, electronic engineering and others.Robotics develops machines that can substitute for humans and replicate human actions. Robots can be used in many situations and for lots of purposes, but today many are used in dangerous environments(including inspection of radioactive materials, bomb detection and deactivation), manufacturing processes, or where humans cannot survive (e.g. in space, underwater, in high heat, and clean up and containment of hazardousmaterials and radiation). Robots can take on any form but some are made to resemble humans in appearance. This is said to help in the acceptance of a robot in \n",
    "certain replicative behaviors usually performed by people. Such robots attempt to replicate walking, lifting, speech, cognition, or any other human activity. Many of todays robots are inspired by nature, contributing to the field of bio-inspired \n",
    "robotics.The concept of creating machines that can operate autonomously dates back to classical times, but research into the functionality and potential uses of robots did not grow substantially until the 20th century. Throughout history, it has been frequently assumed by various scholars, inventors, engineers, and technicians that robots will one day be able to mimic human behavior and manage tasks in a human-like fashion. Today, robotics is a rapidly growing field, as technological advances continue; researching, designing, and building new robots serve various practical purposes, whether domestically, commercially, or militarily. Many robots are built to do jobs that are hazardous to people, such as defusing bombs, finding survivors in unstable ruins, and exploring mines and shipwrecks. Robotics is also used in STEM (science, technology, engineering, and mathematics) as a teaching aid. The advent of nanorobots, microscopic robots that can be injected into the human body, could revolutionize medicine and human health.Robotics is a branch of engineering that involves the conception, design, manufacture, and operation of robots. This field overlaps with computer engineering, computer science (especially artificial intelligence), electronics, mechatronics, nanotechnology and bioengineering.The word robotics was derived from the word robot, which was introduced to the public by Czech writer Karel Capek in his play R.U.R. (Rossums Universal Robots), whichwas published in 1920. The word robot comes from the Slavic word robota, which means slave/servant. The play begins in a factory that makes artificial people called robots, creatures who can be mistaken for humans – very similar to the modern ideas of androids. Karel Capek himself did not coin the word. He wrote a short letter in reference to an etymology in the \n",
    "Oxford English Dictionary in which he named his brother Josef Capek as its actual \n",
    "originator.According to the Oxford English Dictionary, the word robotics was first \n",
    "used in print by Isaac Asimov, in his science fiction short story \"Liar!\", \n",
    "published in May 1941 in Astounding Science Fiction. Asimov was unaware that he \n",
    "was coining the term  since the science and technology of electrical devices is \n",
    "electronics, he assumed robotics already referred to the science and technology \n",
    "of robots. In some of Asimovs other works, he states that the first use of the \n",
    "word robotics was in his short story Runaround (Astounding Science Fiction, March \n",
    "1942) where he introduced his concept of The Three Laws of Robotics. However, \n",
    "the original publication of \"Liar!\" predates that of \"Runaround\" by ten months, \n",
    "so the former is generally cited as the words origin.There are many types of robots; \n",
    "they are used in many different environments and for many different uses. Although \n",
    "being very diverse in application and form, they all share three basic similarities \n",
    "when it comes to their construction:Robots all have some kind of mechanical construction, a frame, form or shape designed to achieve a particular task. For example, a robot designed to travel across heavy dirt or mud, might use caterpillar tracks. The mechanical aspect is mostly the creators solution to completing the assigned task and dealing with the physics of the environment around it. Form follows function.Robots have electrical components which power and control the machinery. For example, the robot with caterpillar tracks would need some kind of power to move the tracker treads. That power comes in the form of electricity, which will have to travel through a wire and originate from a battery, a basic electrical circuit. Even petrol powered machines that get their power mainly from petrol still require an electric current to start the combustion process which is why most petrol powered machines like cars, have batteries. The electrical aspect of robots is used for movement (through motors), sensing (where electrical signals are used to measure things like heat, sound, position, and energy status) and operation (robots need some level of electrical energy supplied to their motors and sensors in order to activate and perform basic operations) All robots contain some level of computer programming code. A program is how a robot decides when or how to do something. In the caterpillar track example, a robot that needs to move across a muddy road may have the correct mechanical construction and receive the correct amount of power from its battery, but would not go anywhere without a program telling it to move. Programs are the core essence of a robot, it could have excellent mechanical and electrical construction, but if its program is poorly constructed its performance will be very poor (or it may not perform at all). There are three different types of robotic programs: remote control, artificial intelligence and hybrid. A robot with remote control programing has a preexisting set of commands that it will only perform if and when it receives a signal from a control source, typically a human being with a remote control. It is perhaps more appropriate to view devices controlled primarily by human commands as falling in the discipline of automation rather than robotics. Robots that use artificial intelligence interact with their environment on their own without a control source, and can determine reactions to objects and problems they encounter using their preexisting programming. Hybrid is a form of programming that incorporates both AI and RC functions.As more and more robots are designed for specific tasks this method of classification becomes more relevant. For example, many robots are designed for assembly work, which may not be readily adaptable for other applications. They are termed as \"assembly robots\". For seam welding, some suppliers provide complete welding systems with the robot i.e. the welding equipment along with other material handling facilities like turntables, etc. as an integrated unit. Such an integrated robotic system is called a \"welding robot\" even though its discrete manipulator unit could be adapted to a variety of tasks. Some robots are specifically designed for heavy load manipulation, and are labeled as \"heavy-duty robots\".one or two wheels. These can have certain advantages such as greater efficiency and reduced parts, as well as allowing a robot to navigate in confined places that a four-wheeled robot would not be able to.Two-wheeled balancing robots Balancing robots generally use a gyroscope to detect how much a robot is falling and then drive the wheels proportionally in the same direction, to counterbalance the fall at hundreds of times per second, based on the dynamics of an inverted pendulum.[71] Many different balancing robots have been designed.[72] While the Segway is not commonly thought of as a robot, it can be thought of as a component of a robot, when used as such Segway refer to them as RMP (Robotic Mobility Platform). An example of this use has been as NASA Robonaut that has been mounted on a Segway.One-wheeled balancing robots Main article: Self-balancing unicycle A one-wheeled balancing robot is an extension of a two-wheeled balancing robot so that it can move in any 2D direction using a round ball as its only wheel. Several one-wheeled balancing robots have been designed recently, such as Carnegie Mellon Universitys \"Ballbot\" that is the approximate height and width of a person, and Tohoku Gakuin University BallIP Because of the long, thin shape and ability to maneuver in tight spaces, they have the potential to function better than other robots in environments with people\n",
    "\"\"\""
   ]
  },
  {
   "cell_type": "code",
   "execution_count": 21,
   "id": "e8421c89",
   "metadata": {
    "ExecuteTime": {
     "end_time": "2021-12-04T05:34:56.878055Z",
     "start_time": "2021-12-04T05:34:56.622005Z"
    }
   },
   "outputs": [
    {
     "name": "stdout",
     "output_type": "stream",
     "text": [
      "before preprocessing n_tokens:  1626\n",
      "after preprocessing n_tokens:  744\n"
     ]
    }
   ],
   "source": [
    "# pass the text to model \n",
    "robotics_doc = nlp(robotics_data)\n",
    "\n",
    "print('before preprocessing n_tokens: ', len(robotics_doc))\n",
    "\n",
    "# removing stopwords and punctuation from the doc\n",
    "robotics_doc = [token for token in robotics_doc if not token.is_stop and not token.is_punct]\n",
    "\n",
    "print('after preprocessing n_tokens: ', len(robotics_doc))"
   ]
  },
  {
   "cell_type": "code",
   "execution_count": 22,
   "id": "227e7470",
   "metadata": {
    "ExecuteTime": {
     "end_time": "2021-12-04T05:36:13.530869Z",
     "start_time": "2021-12-04T05:36:13.525868Z"
    }
   },
   "outputs": [],
   "source": [
    "# lematizeing the tokens of a doc\n",
    "text = 'she played chess against rita she likes playing chess'"
   ]
  },
  {
   "cell_type": "code",
   "execution_count": 24,
   "id": "653011ab",
   "metadata": {
    "ExecuteTime": {
     "end_time": "2021-12-04T05:37:11.931070Z",
     "start_time": "2021-12-04T05:37:11.918069Z"
    }
   },
   "outputs": [
    {
     "name": "stdout",
     "output_type": "stream",
     "text": [
      "she\n",
      "play\n",
      "chess\n",
      "against\n",
      "rita\n",
      "she\n",
      "like\n",
      "play\n",
      "chess\n"
     ]
    }
   ],
   "source": [
    "doc = nlp(text)\n",
    "for token in doc:\n",
    "    print(token.lemma_)"
   ]
  },
  {
   "cell_type": "code",
   "execution_count": 25,
   "id": "1604248d",
   "metadata": {
    "ExecuteTime": {
     "end_time": "2021-12-04T05:39:51.199527Z",
     "start_time": "2021-12-04T05:39:51.181503Z"
    }
   },
   "outputs": [
    {
     "name": "stdout",
     "output_type": "stream",
     "text": [
      "4386335507830398018\n",
      "traveling\n"
     ]
    }
   ],
   "source": [
    "# string to hashes and back\n",
    "doc = nlp('I love traveling')\n",
    "\n",
    "# look up the hash for the word 'traveling'\n",
    "word_hash = nlp.vocab.strings['traveling']\n",
    "print(word_hash)\n",
    "\n",
    "# look up the word_hash to get the string\n",
    "word_string = nlp.vocab.strings[word_hash]\n",
    "\n",
    "print(word_string)"
   ]
  },
  {
   "cell_type": "code",
   "execution_count": 26,
   "id": "5fbb3e15",
   "metadata": {
    "ExecuteTime": {
     "end_time": "2021-12-04T05:41:52.521806Z",
     "start_time": "2021-12-04T05:41:52.493799Z"
    }
   },
   "outputs": [
    {
     "name": "stdout",
     "output_type": "stream",
     "text": [
      "DOC1: \n",
      "Raymond   5945540083247941101\n",
      "shirts   9181315343169869855\n",
      "are   5012629990875267006\n",
      "famous   17809293829314912000\n",
      "DOC2 \n",
      "I   4690420944186131903\n",
      "washed   5520327350569975027\n",
      "my   227504873216781231\n",
      "shirts   9181315343169869855\n"
     ]
    }
   ],
   "source": [
    "# Create two different doc with a common word\n",
    "doc1 = nlp('Raymond shirts are famous')\n",
    "doc2 = nlp('I washed my shirts ')\n",
    "\n",
    "#print hash value for each token in doc\n",
    "\n",
    "print('DOC1: ')\n",
    "for token in doc1:\n",
    "    hash_value = nlp.vocab.strings[token.text]\n",
    "    print(token.text, ' ', hash_value)\n",
    "    \n",
    "print('DOC2 ')\n",
    "for token in doc2:\n",
    "    hash_value = nlp.vocab.strings[token.text]\n",
    "    print(token.text, ' ', hash_value)"
   ]
  },
  {
   "cell_type": "markdown",
   "id": "2d4ed8de",
   "metadata": {},
   "source": [
    "you can verify that 'shirts' has the same hash value irrespective of which document it occurs in. This saves memory space."
   ]
  },
  {
   "cell_type": "markdown",
   "id": "d3503ed2",
   "metadata": {},
   "source": [
    "# Lexical attributes of spaCy"
   ]
  },
  {
   "cell_type": "code",
   "execution_count": 27,
   "id": "ae32549a",
   "metadata": {
    "ExecuteTime": {
     "end_time": "2021-12-04T05:44:14.405248Z",
     "start_time": "2021-12-04T05:44:14.389238Z"
    }
   },
   "outputs": [
    {
     "name": "stdout",
     "output_type": "stream",
     "text": [
      "2020\n",
      "2009\n"
     ]
    }
   ],
   "source": [
    "# printing the tokens which are like numbers:\n",
    "text = '2020 is far worse then 2009'\n",
    "doc = nlp(text)\n",
    "for token in doc:\n",
    "    if token.like_num:\n",
    "        print(token)"
   ]
  },
  {
   "cell_type": "code",
   "execution_count": 28,
   "id": "90fc1b46",
   "metadata": {
    "ExecuteTime": {
     "end_time": "2021-12-04T05:44:28.615402Z",
     "start_time": "2021-12-04T05:44:28.597384Z"
    }
   },
   "outputs": [],
   "source": [
    "production_text=' Production in chennai is 87 %. In Kolkata, produce it as low as 43 %. In Bangalore, production ia as good as 98 %.In mysore, production is average around 78 %'\n"
   ]
  },
  {
   "cell_type": "code",
   "execution_count": 29,
   "id": "f99d422f",
   "metadata": {
    "ExecuteTime": {
     "end_time": "2021-12-04T05:46:23.816022Z",
     "start_time": "2021-12-04T05:46:23.790003Z"
    }
   },
   "outputs": [
    {
     "name": "stdout",
     "output_type": "stream",
     "text": [
      "87\n",
      "43\n",
      "98\n",
      "78\n"
     ]
    }
   ],
   "source": [
    "# finding tokens which are numbers followed by %\n",
    "production_doc = nlp(production_text)\n",
    "\n",
    "for token in production_doc:\n",
    "    if token.like_num:\n",
    "        index_of_next_token = token.i + 1\n",
    "        next_token= production_doc[index_of_next_token]\n",
    "        if next_token.text == '%':\n",
    "            print(token.text)"
   ]
  },
  {
   "cell_type": "markdown",
   "id": "5eed4275",
   "metadata": {},
   "source": [
    "# Detecting Email Addresses"
   ]
  },
  {
   "cell_type": "code",
   "execution_count": 33,
   "id": "9ad3916a",
   "metadata": {
    "ExecuteTime": {
     "end_time": "2021-12-04T05:49:10.610354Z",
     "start_time": "2021-12-04T05:49:10.598341Z"
    }
   },
   "outputs": [],
   "source": [
    "# text containing employee details\n",
    "employee_text=\"\"\" name : Koushiki age: 45 email : koushiki@gmail.edu\n",
    "                 name : Gayathri age: 34 email: gayathri1999@gmail.com\n",
    "                 name : Ardra age: 60 email : ardra@gmail.gov\n",
    "                 name : pratham parmar age: 15 email : parmar15@yahoo.com\n",
    "                 name : Shashank age: 54 email: shank@rediffmail.tv\n",
    "                 name : Utkarsh age: 46 email :utkarsh@gmail.com\"\"\""
   ]
  },
  {
   "cell_type": "code",
   "execution_count": 34,
   "id": "8b53f6a5",
   "metadata": {
    "ExecuteTime": {
     "end_time": "2021-12-04T05:49:11.392350Z",
     "start_time": "2021-12-04T05:49:11.372344Z"
    }
   },
   "outputs": [],
   "source": [
    "# creating a spaCy doc\n",
    "employee_doc = nlp(employee_text)"
   ]
  },
  {
   "cell_type": "code",
   "execution_count": 35,
   "id": "acc92bf1",
   "metadata": {
    "ExecuteTime": {
     "end_time": "2021-12-04T05:49:12.525257Z",
     "start_time": "2021-12-04T05:49:12.517255Z"
    }
   },
   "outputs": [
    {
     "name": "stdout",
     "output_type": "stream",
     "text": [
      "koushiki@gmail.edu\n",
      "gayathri1999@gmail.com\n",
      "ardra@gmail.gov\n",
      "parmar15@yahoo.com\n",
      "shank@rediffmail.tv\n",
      "utkarsh@gmail.com\n"
     ]
    }
   ],
   "source": [
    "# prining the tokens which are email through 'like_email' attribute\n",
    "for token in employee_doc:\n",
    "    if token.like_email:\n",
    "        print(token.text)"
   ]
  },
  {
   "cell_type": "markdown",
   "id": "b92ba395",
   "metadata": {},
   "source": [
    "Likewise, spaCy provides a variety of token attributes. Below is a list of those attributes and the function they perform  \n",
    "token.is_alpha : Returns True if the token is an alphabet  \n",
    "token.is_ascii : Returns True if the token belongs to ascii characters  \n",
    "token.is_digit : Returns True if the token is a number(0-9)  \n",
    "token.is_upper : Returns True if the token is upper case alphabet  \n",
    "token.is_lower : Returns True if the token is lower case alphabet  \n",
    "token.is_space : Returns True if the token is a space ‘ ‘  \n",
    "token.is_bracket : Returns True if the token is a bracket  \n",
    "token.is_quote : Returns True if the token is a quotation mark  \n",
    "token.like_url : Returns True if the token is similar to a URl (link to website)  "
   ]
  },
  {
   "cell_type": "markdown",
   "id": "099eaf8c",
   "metadata": {},
   "source": [
    "# part of speach analysis with spaCy"
   ]
  },
  {
   "cell_type": "code",
   "execution_count": 46,
   "id": "7d8c1559",
   "metadata": {
    "ExecuteTime": {
     "end_time": "2021-12-04T05:52:20.033768Z",
     "start_time": "2021-12-04T05:52:20.013763Z"
    }
   },
   "outputs": [],
   "source": [
    "# POS tagging using spaCy\n",
    "\n",
    "my_text='Juan plays basketball,if time permits. He played in high school too.'\n",
    "\n",
    "my_doc = nlp(my_text)"
   ]
  },
  {
   "cell_type": "code",
   "execution_count": 47,
   "id": "8ec599f3",
   "metadata": {
    "ExecuteTime": {
     "end_time": "2021-12-04T05:52:20.767228Z",
     "start_time": "2021-12-04T05:52:20.748216Z"
    }
   },
   "outputs": [
    {
     "name": "stdout",
     "output_type": "stream",
     "text": [
      "Juan ----  PROPN\n",
      "plays ----  VERB\n",
      "basketball ----  NOUN\n",
      ", ----  PUNCT\n",
      "if ----  SCONJ\n",
      "time ----  NOUN\n",
      "permits ----  VERB\n",
      ". ----  PUNCT\n",
      "He ----  PRON\n",
      "played ----  VERB\n",
      "in ----  ADP\n",
      "high ----  ADJ\n",
      "school ----  NOUN\n",
      "too ----  ADV\n",
      ". ----  PUNCT\n"
     ]
    }
   ],
   "source": [
    "for token in my_doc:\n",
    "    print(token.text, '---- ', token.pos_)"
   ]
  },
  {
   "cell_type": "code",
   "execution_count": 48,
   "id": "b3faf529",
   "metadata": {
    "ExecuteTime": {
     "end_time": "2021-12-04T05:52:38.808852Z",
     "start_time": "2021-12-04T05:52:38.788833Z"
    }
   },
   "outputs": [
    {
     "data": {
      "text/plain": [
       "'subordinating conjunction'"
      ]
     },
     "execution_count": 48,
     "metadata": {},
     "output_type": "execute_result"
    }
   ],
   "source": [
    "spacy.explain('SCONJ')"
   ]
  },
  {
   "cell_type": "markdown",
   "id": "6efd59f9",
   "metadata": {},
   "source": [
    "# how pos tagging helps you in dealing with text based problems"
   ]
  },
  {
   "cell_type": "code",
   "execution_count": 49,
   "id": "c950f0c0",
   "metadata": {
    "ExecuteTime": {
     "end_time": "2021-12-04T05:53:17.001959Z",
     "start_time": "2021-12-04T05:53:16.989948Z"
    }
   },
   "outputs": [],
   "source": [
    "# Raw text document\n",
    "raw_text=\"\"\"I liked the movies etc The movie had good direction  The movie was amazing i.e.\n",
    "            The movie was average direction was not bad The cinematography was nice. i.e.\n",
    "            The movie was a bit lengthy  otherwise fantastic  etc etc\"\"\""
   ]
  },
  {
   "cell_type": "code",
   "execution_count": 51,
   "id": "b3488deb",
   "metadata": {
    "ExecuteTime": {
     "end_time": "2021-12-04T05:57:04.111160Z",
     "start_time": "2021-12-04T05:57:04.093151Z"
    }
   },
   "outputs": [
    {
     "name": "stdout",
     "output_type": "stream",
     "text": [
      "The junk values are: \n",
      "etc\n",
      "i.e.\n",
      "i.e.\n",
      "etc\n",
      "etc\n",
      "after removing junk: \n",
      "[I, liked, the, movies, The, movie, had, good, direction,  , The, movie, was, amazing, \n",
      "            , The, movie, was, average, direction, was, not, bad, The, cinematography, was, nice, ., \n",
      "            , The, movie, was, a, bit, lengthy,  , otherwise, fantastic,  ]\n"
     ]
    }
   ],
   "source": [
    "#create spaCy object\n",
    "raw_doc = nlp(raw_text)\n",
    "\n",
    "# X is the 'other' POS category\n",
    "# check if pos tag is X and printing them\n",
    "print('The junk values are: ')\n",
    "for token in raw_doc:\n",
    "    if token.pos_ == 'X':\n",
    "        print(token.text)\n",
    "\n",
    "print('after removing junk: ')\n",
    "#removing the tokens whose POS tag is junk.\n",
    "clean_doc= [token for token in raw_doc if not token.pos_ == 'X']\n",
    "print(clean_doc)"
   ]
  },
  {
   "cell_type": "code",
   "execution_count": 52,
   "id": "163d4520",
   "metadata": {
    "ExecuteTime": {
     "end_time": "2021-12-04T05:58:01.619085Z",
     "start_time": "2021-12-04T05:58:01.613084Z"
    }
   },
   "outputs": [
    {
     "name": "stdout",
     "output_type": "stream",
     "text": [
      "{95: 'PRON', 100: 'VERB', 90: 'DET', 92: 'NOUN', 101: 'X', 84: 'ADJ', 103: 'SPACE', 87: 'AUX', 94: 'PART', 97: 'PUNCT', 86: 'ADV'}\n"
     ]
    }
   ],
   "source": [
    "# creating a dictionary with parts of speeach &amp; corresponding token numbers.\n",
    "all_tags = {token.pos: token.pos_ for token in raw_doc}\n",
    "print(all_tags)"
   ]
  },
  {
   "cell_type": "code",
   "execution_count": 56,
   "id": "f1b3b3df",
   "metadata": {
    "ExecuteTime": {
     "end_time": "2021-12-04T06:00:45.744101Z",
     "start_time": "2021-12-04T06:00:45.717095Z"
    }
   },
   "outputs": [
    {
     "data": {
      "text/html": [
       "<span class=\"tex2jax_ignore\"><svg xmlns=\"http://www.w3.org/2000/svg\" xmlns:xlink=\"http://www.w3.org/1999/xlink\" xml:lang=\"en\" id=\"9cce5d2ab6e3436b97752c17920f6988-0\" class=\"displacy\" width=\"1450\" height=\"399.5\" direction=\"ltr\" style=\"max-width: none; height: 399.5px; color: #000000; background: #ffffff; font-family: Arial; direction: ltr\">\n",
       "<text class=\"displacy-token\" fill=\"currentColor\" text-anchor=\"middle\" y=\"309.5\">\n",
       "    <tspan class=\"displacy-word\" fill=\"currentColor\" x=\"50\">She</tspan>\n",
       "    <tspan class=\"displacy-tag\" dy=\"2em\" fill=\"currentColor\" x=\"50\">PRON</tspan>\n",
       "</text>\n",
       "\n",
       "<text class=\"displacy-token\" fill=\"currentColor\" text-anchor=\"middle\" y=\"309.5\">\n",
       "    <tspan class=\"displacy-word\" fill=\"currentColor\" x=\"225\">never</tspan>\n",
       "    <tspan class=\"displacy-tag\" dy=\"2em\" fill=\"currentColor\" x=\"225\">ADV</tspan>\n",
       "</text>\n",
       "\n",
       "<text class=\"displacy-token\" fill=\"currentColor\" text-anchor=\"middle\" y=\"309.5\">\n",
       "    <tspan class=\"displacy-word\" fill=\"currentColor\" x=\"400\">liked</tspan>\n",
       "    <tspan class=\"displacy-tag\" dy=\"2em\" fill=\"currentColor\" x=\"400\">VERB</tspan>\n",
       "</text>\n",
       "\n",
       "<text class=\"displacy-token\" fill=\"currentColor\" text-anchor=\"middle\" y=\"309.5\">\n",
       "    <tspan class=\"displacy-word\" fill=\"currentColor\" x=\"575\">playing,</tspan>\n",
       "    <tspan class=\"displacy-tag\" dy=\"2em\" fill=\"currentColor\" x=\"575\">VERB</tspan>\n",
       "</text>\n",
       "\n",
       "<text class=\"displacy-token\" fill=\"currentColor\" text-anchor=\"middle\" y=\"309.5\">\n",
       "    <tspan class=\"displacy-word\" fill=\"currentColor\" x=\"750\">reading</tspan>\n",
       "    <tspan class=\"displacy-tag\" dy=\"2em\" fill=\"currentColor\" x=\"750\">NOUN</tspan>\n",
       "</text>\n",
       "\n",
       "<text class=\"displacy-token\" fill=\"currentColor\" text-anchor=\"middle\" y=\"309.5\">\n",
       "    <tspan class=\"displacy-word\" fill=\"currentColor\" x=\"925\">was</tspan>\n",
       "    <tspan class=\"displacy-tag\" dy=\"2em\" fill=\"currentColor\" x=\"925\">AUX</tspan>\n",
       "</text>\n",
       "\n",
       "<text class=\"displacy-token\" fill=\"currentColor\" text-anchor=\"middle\" y=\"309.5\">\n",
       "    <tspan class=\"displacy-word\" fill=\"currentColor\" x=\"1100\">her</tspan>\n",
       "    <tspan class=\"displacy-tag\" dy=\"2em\" fill=\"currentColor\" x=\"1100\">PRON</tspan>\n",
       "</text>\n",
       "\n",
       "<text class=\"displacy-token\" fill=\"currentColor\" text-anchor=\"middle\" y=\"309.5\">\n",
       "    <tspan class=\"displacy-word\" fill=\"currentColor\" x=\"1275\">hobby.</tspan>\n",
       "    <tspan class=\"displacy-tag\" dy=\"2em\" fill=\"currentColor\" x=\"1275\">NOUN</tspan>\n",
       "</text>\n",
       "\n",
       "<g class=\"displacy-arrow\">\n",
       "    <path class=\"displacy-arc\" id=\"arrow-9cce5d2ab6e3436b97752c17920f6988-0-0\" stroke-width=\"2px\" d=\"M70,264.5 C70,89.5 395.0,89.5 395.0,264.5\" fill=\"none\" stroke=\"currentColor\"/>\n",
       "    <text dy=\"1.25em\" style=\"font-size: 0.8em; letter-spacing: 1px\">\n",
       "        <textPath xlink:href=\"#arrow-9cce5d2ab6e3436b97752c17920f6988-0-0\" class=\"displacy-label\" startOffset=\"50%\" side=\"left\" fill=\"currentColor\" text-anchor=\"middle\">nsubj</textPath>\n",
       "    </text>\n",
       "    <path class=\"displacy-arrowhead\" d=\"M70,266.5 L62,254.5 78,254.5\" fill=\"currentColor\"/>\n",
       "</g>\n",
       "\n",
       "<g class=\"displacy-arrow\">\n",
       "    <path class=\"displacy-arc\" id=\"arrow-9cce5d2ab6e3436b97752c17920f6988-0-1\" stroke-width=\"2px\" d=\"M245,264.5 C245,177.0 390.0,177.0 390.0,264.5\" fill=\"none\" stroke=\"currentColor\"/>\n",
       "    <text dy=\"1.25em\" style=\"font-size: 0.8em; letter-spacing: 1px\">\n",
       "        <textPath xlink:href=\"#arrow-9cce5d2ab6e3436b97752c17920f6988-0-1\" class=\"displacy-label\" startOffset=\"50%\" side=\"left\" fill=\"currentColor\" text-anchor=\"middle\">neg</textPath>\n",
       "    </text>\n",
       "    <path class=\"displacy-arrowhead\" d=\"M245,266.5 L237,254.5 253,254.5\" fill=\"currentColor\"/>\n",
       "</g>\n",
       "\n",
       "<g class=\"displacy-arrow\">\n",
       "    <path class=\"displacy-arc\" id=\"arrow-9cce5d2ab6e3436b97752c17920f6988-0-2\" stroke-width=\"2px\" d=\"M420,264.5 C420,2.0 925.0,2.0 925.0,264.5\" fill=\"none\" stroke=\"currentColor\"/>\n",
       "    <text dy=\"1.25em\" style=\"font-size: 0.8em; letter-spacing: 1px\">\n",
       "        <textPath xlink:href=\"#arrow-9cce5d2ab6e3436b97752c17920f6988-0-2\" class=\"displacy-label\" startOffset=\"50%\" side=\"left\" fill=\"currentColor\" text-anchor=\"middle\">ccomp</textPath>\n",
       "    </text>\n",
       "    <path class=\"displacy-arrowhead\" d=\"M420,266.5 L412,254.5 428,254.5\" fill=\"currentColor\"/>\n",
       "</g>\n",
       "\n",
       "<g class=\"displacy-arrow\">\n",
       "    <path class=\"displacy-arc\" id=\"arrow-9cce5d2ab6e3436b97752c17920f6988-0-3\" stroke-width=\"2px\" d=\"M420,264.5 C420,177.0 565.0,177.0 565.0,264.5\" fill=\"none\" stroke=\"currentColor\"/>\n",
       "    <text dy=\"1.25em\" style=\"font-size: 0.8em; letter-spacing: 1px\">\n",
       "        <textPath xlink:href=\"#arrow-9cce5d2ab6e3436b97752c17920f6988-0-3\" class=\"displacy-label\" startOffset=\"50%\" side=\"left\" fill=\"currentColor\" text-anchor=\"middle\">dobj</textPath>\n",
       "    </text>\n",
       "    <path class=\"displacy-arrowhead\" d=\"M565.0,266.5 L573.0,254.5 557.0,254.5\" fill=\"currentColor\"/>\n",
       "</g>\n",
       "\n",
       "<g class=\"displacy-arrow\">\n",
       "    <path class=\"displacy-arc\" id=\"arrow-9cce5d2ab6e3436b97752c17920f6988-0-4\" stroke-width=\"2px\" d=\"M770,264.5 C770,177.0 915.0,177.0 915.0,264.5\" fill=\"none\" stroke=\"currentColor\"/>\n",
       "    <text dy=\"1.25em\" style=\"font-size: 0.8em; letter-spacing: 1px\">\n",
       "        <textPath xlink:href=\"#arrow-9cce5d2ab6e3436b97752c17920f6988-0-4\" class=\"displacy-label\" startOffset=\"50%\" side=\"left\" fill=\"currentColor\" text-anchor=\"middle\">nsubj</textPath>\n",
       "    </text>\n",
       "    <path class=\"displacy-arrowhead\" d=\"M770,266.5 L762,254.5 778,254.5\" fill=\"currentColor\"/>\n",
       "</g>\n",
       "\n",
       "<g class=\"displacy-arrow\">\n",
       "    <path class=\"displacy-arc\" id=\"arrow-9cce5d2ab6e3436b97752c17920f6988-0-5\" stroke-width=\"2px\" d=\"M1120,264.5 C1120,177.0 1265.0,177.0 1265.0,264.5\" fill=\"none\" stroke=\"currentColor\"/>\n",
       "    <text dy=\"1.25em\" style=\"font-size: 0.8em; letter-spacing: 1px\">\n",
       "        <textPath xlink:href=\"#arrow-9cce5d2ab6e3436b97752c17920f6988-0-5\" class=\"displacy-label\" startOffset=\"50%\" side=\"left\" fill=\"currentColor\" text-anchor=\"middle\">poss</textPath>\n",
       "    </text>\n",
       "    <path class=\"displacy-arrowhead\" d=\"M1120,266.5 L1112,254.5 1128,254.5\" fill=\"currentColor\"/>\n",
       "</g>\n",
       "\n",
       "<g class=\"displacy-arrow\">\n",
       "    <path class=\"displacy-arc\" id=\"arrow-9cce5d2ab6e3436b97752c17920f6988-0-6\" stroke-width=\"2px\" d=\"M945,264.5 C945,89.5 1270.0,89.5 1270.0,264.5\" fill=\"none\" stroke=\"currentColor\"/>\n",
       "    <text dy=\"1.25em\" style=\"font-size: 0.8em; letter-spacing: 1px\">\n",
       "        <textPath xlink:href=\"#arrow-9cce5d2ab6e3436b97752c17920f6988-0-6\" class=\"displacy-label\" startOffset=\"50%\" side=\"left\" fill=\"currentColor\" text-anchor=\"middle\">attr</textPath>\n",
       "    </text>\n",
       "    <path class=\"displacy-arrowhead\" d=\"M1270.0,266.5 L1278.0,254.5 1262.0,254.5\" fill=\"currentColor\"/>\n",
       "</g>\n",
       "</svg></span>"
      ],
      "text/plain": [
       "<IPython.core.display.HTML object>"
      ]
     },
     "metadata": {},
     "output_type": "display_data"
    }
   ],
   "source": [
    "# importing displacy\n",
    "from spacy import displacy\n",
    "\n",
    "my_text = 'She never liked playing, reading was her hobby.'\n",
    "\n",
    "my_doc = nlp(my_text)\n",
    "\n",
    "# displaying tokens with their POS tags\n",
    "displacy.render(my_doc, style ='dep', jupyter = True)"
   ]
  },
  {
   "cell_type": "markdown",
   "id": "f4352000",
   "metadata": {},
   "source": [
    "# named entity recognition"
   ]
  },
  {
   "cell_type": "code",
   "execution_count": 57,
   "id": "9cec58f2",
   "metadata": {
    "ExecuteTime": {
     "end_time": "2021-12-04T06:03:26.250691Z",
     "start_time": "2021-12-04T06:03:26.229686Z"
    }
   },
   "outputs": [
    {
     "name": "stdout",
     "output_type": "stream",
     "text": [
      "(Tony Stark, Stark Enterprises, Emily Clark, Microsoft, Manchester, Bible, French)\n"
     ]
    }
   ],
   "source": [
    "# preparing the spaCy document\n",
    "text = 'Tony Stark owns the company Stark Enterprises. Emily Clark works at Microsoft and lives in Manchester. She loves to read the Bible and learn French' \n",
    "doc= nlp(text)\n",
    "\n",
    "# printing the named entities\n",
    "print(doc.ents)"
   ]
  },
  {
   "cell_type": "code",
   "execution_count": 58,
   "id": "b4e6a8fe",
   "metadata": {
    "ExecuteTime": {
     "end_time": "2021-12-04T06:04:16.552480Z",
     "start_time": "2021-12-04T06:04:16.533474Z"
    }
   },
   "outputs": [
    {
     "name": "stdout",
     "output_type": "stream",
     "text": [
      "Tony Stark ---  PERSON\n",
      "Stark Enterprises ---  ORG\n",
      "Emily Clark ---  PERSON\n",
      "Microsoft ---  ORG\n",
      "Manchester ---  PERSON\n",
      "Bible ---  WORK_OF_ART\n",
      "French ---  NORP\n"
     ]
    }
   ],
   "source": [
    "# printing labels of entities\n",
    "for entity in doc.ents:\n",
    "    print(entity.text, '--- ', entity.label_)"
   ]
  },
  {
   "cell_type": "code",
   "execution_count": 59,
   "id": "9a92236b",
   "metadata": {
    "ExecuteTime": {
     "end_time": "2021-12-04T06:05:01.326909Z",
     "start_time": "2021-12-04T06:05:01.307900Z"
    }
   },
   "outputs": [
    {
     "data": {
      "text/html": [
       "<span class=\"tex2jax_ignore\"><div class=\"entities\" style=\"line-height: 2.5; direction: ltr\">\n",
       "<mark class=\"entity\" style=\"background: #aa9cfc; padding: 0.45em 0.6em; margin: 0 0.25em; line-height: 1; border-radius: 0.35em;\">\n",
       "    Tony Stark\n",
       "    <span style=\"font-size: 0.8em; font-weight: bold; line-height: 1; border-radius: 0.35em; vertical-align: middle; margin-left: 0.5rem\">PERSON</span>\n",
       "</mark>\n",
       " owns the company \n",
       "<mark class=\"entity\" style=\"background: #7aecec; padding: 0.45em 0.6em; margin: 0 0.25em; line-height: 1; border-radius: 0.35em;\">\n",
       "    Stark Enterprises\n",
       "    <span style=\"font-size: 0.8em; font-weight: bold; line-height: 1; border-radius: 0.35em; vertical-align: middle; margin-left: 0.5rem\">ORG</span>\n",
       "</mark>\n",
       ". \n",
       "<mark class=\"entity\" style=\"background: #aa9cfc; padding: 0.45em 0.6em; margin: 0 0.25em; line-height: 1; border-radius: 0.35em;\">\n",
       "    Emily Clark\n",
       "    <span style=\"font-size: 0.8em; font-weight: bold; line-height: 1; border-radius: 0.35em; vertical-align: middle; margin-left: 0.5rem\">PERSON</span>\n",
       "</mark>\n",
       " works at \n",
       "<mark class=\"entity\" style=\"background: #7aecec; padding: 0.45em 0.6em; margin: 0 0.25em; line-height: 1; border-radius: 0.35em;\">\n",
       "    Microsoft\n",
       "    <span style=\"font-size: 0.8em; font-weight: bold; line-height: 1; border-radius: 0.35em; vertical-align: middle; margin-left: 0.5rem\">ORG</span>\n",
       "</mark>\n",
       " and lives in \n",
       "<mark class=\"entity\" style=\"background: #aa9cfc; padding: 0.45em 0.6em; margin: 0 0.25em; line-height: 1; border-radius: 0.35em;\">\n",
       "    Manchester\n",
       "    <span style=\"font-size: 0.8em; font-weight: bold; line-height: 1; border-radius: 0.35em; vertical-align: middle; margin-left: 0.5rem\">PERSON</span>\n",
       "</mark>\n",
       ". She loves to read the \n",
       "<mark class=\"entity\" style=\"background: #f0d0ff; padding: 0.45em 0.6em; margin: 0 0.25em; line-height: 1; border-radius: 0.35em;\">\n",
       "    Bible\n",
       "    <span style=\"font-size: 0.8em; font-weight: bold; line-height: 1; border-radius: 0.35em; vertical-align: middle; margin-left: 0.5rem\">WORK_OF_ART</span>\n",
       "</mark>\n",
       " and learn \n",
       "<mark class=\"entity\" style=\"background: #c887fb; padding: 0.45em 0.6em; margin: 0 0.25em; line-height: 1; border-radius: 0.35em;\">\n",
       "    French\n",
       "    <span style=\"font-size: 0.8em; font-weight: bold; line-height: 1; border-radius: 0.35em; vertical-align: middle; margin-left: 0.5rem\">NORP</span>\n",
       "</mark>\n",
       "</div></span>"
      ],
      "text/plain": [
       "<IPython.core.display.HTML object>"
      ]
     },
     "metadata": {},
     "output_type": "display_data"
    }
   ],
   "source": [
    "displacy.render(doc, style='ent', jupyter=True)"
   ]
  },
  {
   "cell_type": "markdown",
   "id": "60687253",
   "metadata": {},
   "source": [
    "# NER Application 1: Extracting brand names with Named Entity Recognition"
   ]
  },
  {
   "cell_type": "code",
   "execution_count": 60,
   "id": "b349f9a2",
   "metadata": {
    "ExecuteTime": {
     "end_time": "2021-12-04T06:06:02.588707Z",
     "start_time": "2021-12-04T06:06:02.573688Z"
    }
   },
   "outputs": [],
   "source": [
    "mobile_industry_article=\"\"\" 30 Major mobile phone brands Compete in India – A Case Study of Success and Failures\n",
    "Is the Indian mobile market a terrible War Zone? We have more than 30 brands competing with each other. Let’s find out some insights about the world second-largest mobile bazaar.There is a massive invasion by Chinese mobile brands in India in the last four years. Some of the brands have been able to make a mark while others like Meizu, Coolpad, ZTE, and LeEco are a failure.On one side, there are brands like Sony or HTC that have quit from the Indian market on the other side we have new brands like Realme or iQOO entering the marketing in recent months.The mobile market is so competitive that some of the brands like Micromax, which had over 18% share back in 2014, now have less than 5%. Even the market leader Samsung with a 34% market share in 2014, now has a 21% share whereas Xiaomi has become a market leader. The battle is fierce and to sustain and scale-up is going to be very difficult for any new entrant.new comers in Indian Mobile MarketiQOO –They have recently (March 2020) launched the iQOO 3 in India with its first 5G phone – iQOO 3. The new brand is part of the Vivo or the BBK electronics group that also owns several other brands like Oppo, Oneplus and Realme.Realme – Realme launched the first-ever phone – Realme 1 in November 2018 and has quickly became a popular brand in India. The brand is one of the highest sellers in online space and even reached a 16% market share threatening Xiaomi’s dominance.iVoomi – In 2017, we have seen the entry of some new Chinese mobile brands likeiVoomi which focuses on the sub 10k price range, and is a popular online player. They have an association with Flipkart.Techno &amp; Infinix – Transsion Group’s Tecno and Infinix brands debuted in India in mid-2017 and are focusing on the low end and mid-range phones in the price range of Rs. 5000 to Rs. 12000.10.OR &amp; Lephone – 10.OR has a partnership with Amazon India and is an exclusive online brand with phones like 10.OR D, G and E. However, the brand is not very aggressive currently.Kult – Kult is another player who launched a very aggressively priced Kult Beyond mobile in 2017 and followed up by launching 2-3 more models.However, most of these new brands are finding it difficult to strengthen their footing in India. As big brands like Xiaomi leave no stone unturned to make things difficult.Also, it is worth noting that there is less Chinese players coming to India now. As either all the big brands have already set shop or burnt their hands and retreated to the homeland China.Chinese/ Global  Brands Which failed or are at the Verge of Failing in India?\n",
    "There are a lot more failures in the market than the success stories. Let’s first look at the failures and then we will also discuss why some brands were able to succeed in India.HTC – The biggest surprise this year for me was the failure of HTC in India. The brand has been in the country for many years, in fact, they were the first brand to launch Android mobiles. Finally HTC decided to call it a day in July 2018.LeEco – LeEco looked promising and even threatening to Xiaomi when it came to India. The company launched a series of new phones and smart TVs at affordable rates. Unfortunately, poor financial planning back home caused the brand to fail in India too.LG – The company seems to have lost focus and are doing poorly in all segments. While the budget and mid-range offering are uncompetitive, the high-end models are not preferred by buyers.Sony – Absurd pricing and lack of ability to understand the Indian buyers have caused Sony to shrink mobile operations in India. In the last 2 years, there are far fewer launches and hardly any promotions or hype around the new products.Meizu – Meizu is also a struggling brand in India and is going nowhere with the current strategy. There are hardly any popular mobiles nor a retail presence.ZTE – The company was aggressive till last year with several new phones launching under the Nubia banner, but with recent issues in the US, they have even lost the plot in India.Coolpad – I still remember the first meeting with Coolpad CEO in Mumbai when the brand started operations. There were big dreams and ambitions, but the company has not been able to deliver and keep up with the rivals in the last 1 year.Gionee – Gionee was doing well in the retail, but the infighting in the company and loss of focus from the Chinese parent company has made it a failure. The company is planning a comeback. However, we will have to wait and see when that happens.\"\"\""
   ]
  },
  {
   "cell_type": "code",
   "execution_count": 61,
   "id": "dd45b43d",
   "metadata": {
    "ExecuteTime": {
     "end_time": "2021-12-04T06:10:16.191331Z",
     "start_time": "2021-12-04T06:10:16.052286Z"
    }
   },
   "outputs": [
    {
     "name": "stdout",
     "output_type": "stream",
     "text": [
      "['Sony', 'Realme', 'Samsung', 'Xiaomi', 'BBK', 'Oneplus', 'Realme', 'Realme', 'Flipkart', 'Techno &', 'Infinix – Transsion Group’s', 'Infinix', 'Lephone', 'Amazon India', 'Chinese/ Global  Brands Which', 'the Verge of Failing', 'Android', 'Sony', 'Sony']\n"
     ]
    }
   ],
   "source": [
    "# What companies are named in the above text? \n",
    "\n",
    "# creating spacy doc\n",
    "mobile_doc = nlp(mobile_industry_article)\n",
    "\n",
    "# list to store names of mobile companies\n",
    "list_of_org = [entity ]\n",
    "\n",
    "# appending entities which have the label 'ORG' to the list\n",
    "list_of_org = [entity.text for entity in mobile_doc.ents if entity.label_ =='ORG']\n",
    "\n",
    "print(list_of_org)\n"
   ]
  },
  {
   "cell_type": "markdown",
   "id": "583997ff",
   "metadata": {},
   "source": [
    "# NER Application 2: Automatically Masking Entities"
   ]
  },
  {
   "cell_type": "code",
   "execution_count": 62,
   "id": "29e8a9f5",
   "metadata": {
    "ExecuteTime": {
     "end_time": "2021-12-04T06:11:07.689349Z",
     "start_time": "2021-12-04T06:11:07.630336Z"
    }
   },
   "outputs": [],
   "source": [
    "# Creating a doc on news articles\n",
    "news_text=\"\"\"Indian man has allegedly duped nearly 50 businessmen in the UAE of USD 1.6 million and fled the country in the most unlikely way -- on a repatriation flight to Hyderabad, according to a media report on Saturday.Yogesh Ashok Yariava, the prime accused in the fraud, flew from Abu Dhabi to Hyderabad on a Vande Bharat repatriation flight on May 11 with around 170 evacuees, the Gulf News reported.Yariava, the 36-year-old owner of the fraudulent Royal Luck Foodstuff Trading, made bulk purchases worth 6 million dirhams (USD 1.6 million) against post-dated cheques from unsuspecting traders before fleeing to India, the daily said.\n",
    "The bought goods included facemasks, hand sanitisers, medical gloves (worth nearly 5,00,000 dirhams), rice and nuts (3,93,000 dirhams), tuna, pistachios and saffron (3,00,725 dirhams), French fries and mozzarella cheese (2,29,000 dirhams), frozen Indian beef (2,07,000 dirhams) and halwa and tahina (52,812 dirhams).\n",
    "The list of items and defrauded persons keeps getting longer as more and more victims come forward, the report said.\n",
    "The aggrieved traders have filed a case with the Bur Dubai police station.\n",
    "The traders said when the dud cheques started bouncing they rushed to the Royal Luck's office in Dubai but the shutters were down, even the fraudulent company's warehouses were empty.\"\"\"\n",
    "\n",
    "news_doc=nlp(news_text)"
   ]
  },
  {
   "cell_type": "code",
   "execution_count": 114,
   "id": "3e798abd",
   "metadata": {
    "ExecuteTime": {
     "end_time": "2021-12-04T06:41:52.705037Z",
     "start_time": "2021-12-04T06:41:52.701051Z"
    }
   },
   "outputs": [],
   "source": [
    "# function to identify if tokens are named entities and replace them with UNKNOWN\n",
    "\n",
    "def remove_details(word):\n",
    "    if word.ent_type_ in ['PERSON', 'ORG','GPE']:\n",
    "        return 'UNKNOWN'\n",
    "    else:\n",
    "        return word.text"
   ]
  },
  {
   "cell_type": "code",
   "execution_count": 122,
   "id": "ebaae4da",
   "metadata": {
    "ExecuteTime": {
     "end_time": "2021-12-04T06:43:34.931153Z",
     "start_time": "2021-12-04T06:43:34.918150Z"
    }
   },
   "outputs": [],
   "source": [
    "# function where each token of spacy doc is passed through remove_details()\n",
    "def update_article(doc):\n",
    "    #iterrating through all entities\n",
    "    with doc.retokenize() as retokenizer:   \n",
    "        for ent in doc.ents:\n",
    "            retokenizer.merge(ent)\n",
    "    # passing each token through remove_details function\n",
    "    tokens= list(map(remove_details, doc))\n",
    "\n",
    "    return ' '.join(list(tokens))"
   ]
  },
  {
   "cell_type": "code",
   "execution_count": 123,
   "id": "b2010b3d",
   "metadata": {
    "ExecuteTime": {
     "end_time": "2021-12-04T06:43:37.293075Z",
     "start_time": "2021-12-04T06:43:37.278060Z"
    }
   },
   "outputs": [],
   "source": [
    "# passing our news_doc to the function update_article()\n",
    "\n",
    "news_tokens = update_article(news_doc)"
   ]
  },
  {
   "cell_type": "code",
   "execution_count": 124,
   "id": "38169191",
   "metadata": {
    "ExecuteTime": {
     "end_time": "2021-12-04T06:43:39.248760Z",
     "start_time": "2021-12-04T06:43:39.245761Z"
    }
   },
   "outputs": [
    {
     "data": {
      "text/plain": [
       "str"
      ]
     },
     "execution_count": 124,
     "metadata": {},
     "output_type": "execute_result"
    }
   ],
   "source": [
    "type(news_tokens)"
   ]
  },
  {
   "cell_type": "code",
   "execution_count": 125,
   "id": "3e05bf02",
   "metadata": {
    "ExecuteTime": {
     "end_time": "2021-12-04T06:43:57.042303Z",
     "start_time": "2021-12-04T06:43:57.036306Z"
    }
   },
   "outputs": [
    {
     "name": "stdout",
     "output_type": "stream",
     "text": [
      "Indian man has allegedly duped nearly 50 businessmen in the UAE of USD 1.6 million and fled the country in the most unlikely way -- on a repatriation flight to UNKNOWN , according to a media report on Saturday . UNKNOWN , the prime accused in the fraud , flew from UNKNOWN to UNKNOWN on a Vande Bharat repatriation flight on May 11 with around 170 evacuees , UNKNOWN reported . Yariava , the 36-year-old owner of the fraudulent UNKNOWN , made bulk purchases worth 6 million dirhams ( USD 1.6 million ) against post - dated cheques from unsuspecting traders before fleeing to UNKNOWN , the daily said . \n",
      " The bought goods included facemasks , hand sanitisers , medical gloves ( worth nearly 5,00,000 dirhams ) , rice and nuts ( 3,93,000 dirhams ) , tuna , pistachios and saffron ( 3,00,725 dirhams ) , French fries and mozzarella cheese ( 2,29,000 dirhams ) , frozen Indian beef ( 2,07,000 dirhams ) and halwa and tahina ( 52,812 dirhams ) . \n",
      " The list of items and defrauded persons keeps getting longer as more and more victims come forward , the report said . \n",
      " The aggrieved traders have filed a case with the UNKNOWN police station . \n",
      " The traders said when the dud cheques started bouncing they rushed to the Royal Luck's office in UNKNOWN but the shutters were down , even the fraudulent company 's warehouses were empty .\n"
     ]
    }
   ],
   "source": [
    "print(news_tokens)"
   ]
  },
  {
   "cell_type": "code",
   "execution_count": null,
   "id": "140a3464",
   "metadata": {},
   "outputs": [],
   "source": []
  }
 ],
 "metadata": {
  "kernelspec": {
   "display_name": "spacy-env",
   "language": "python",
   "name": "spacy-env"
  },
  "language_info": {
   "codemirror_mode": {
    "name": "ipython",
    "version": 3
   },
   "file_extension": ".py",
   "mimetype": "text/x-python",
   "name": "python",
   "nbconvert_exporter": "python",
   "pygments_lexer": "ipython3",
   "version": "3.8.12"
  },
  "varInspector": {
   "cols": {
    "lenName": 16,
    "lenType": 16,
    "lenVar": 40
   },
   "kernels_config": {
    "python": {
     "delete_cmd_postfix": "",
     "delete_cmd_prefix": "del ",
     "library": "var_list.py",
     "varRefreshCmd": "print(var_dic_list())"
    },
    "r": {
     "delete_cmd_postfix": ") ",
     "delete_cmd_prefix": "rm(",
     "library": "var_list.r",
     "varRefreshCmd": "cat(var_dic_list()) "
    }
   },
   "types_to_exclude": [
    "module",
    "function",
    "builtin_function_or_method",
    "instance",
    "_Feature"
   ],
   "window_display": false
  }
 },
 "nbformat": 4,
 "nbformat_minor": 5
}
