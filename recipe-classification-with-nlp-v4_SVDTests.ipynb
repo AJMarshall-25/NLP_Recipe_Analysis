{
 "cells": [
  {
   "cell_type": "markdown",
   "metadata": {},
   "source": [
    "# What's for Dinner? Recipe Classification with NLP"
   ]
  },
  {
   "cell_type": "markdown",
   "metadata": {},
   "source": [
    " \n",
    "![](images/header.PNG)"
   ]
  },
  {
   "cell_type": "code",
   "execution_count": 1,
   "metadata": {
    "ExecuteTime": {
     "end_time": "2021-12-03T00:39:30.066953Z",
     "start_time": "2021-12-03T00:39:27.964420Z"
    },
    "execution": {
     "iopub.execute_input": "2021-12-01T03:12:23.844084Z",
     "iopub.status.busy": "2021-12-01T03:12:23.843863Z",
     "iopub.status.idle": "2021-12-01T03:12:25.600437Z",
     "shell.execute_reply": "2021-12-01T03:12:25.599524Z",
     "shell.execute_reply.started": "2021-12-01T03:12:23.844057Z"
    }
   },
   "outputs": [],
   "source": [
    "import pandas as pd\n",
    "import numpy as np\n",
    "import matplotlib.pyplot as plt\n",
    "from matplotlib.ticker import MaxNLocator\n",
    "\n",
    "import warnings\n",
    "warnings.filterwarnings('ignore') # supresses errors\n",
    "\n",
    "\n",
    "from wordcloud import WordCloud\n",
    "import ast # used for converting column values to lists post-import from csv\n",
    "\n",
    "from nltk import FreqDist\n",
    "\n",
    "pd.set_option(\"display.max_columns\", None)\n"
   ]
  },
  {
   "cell_type": "code",
   "execution_count": 2,
   "metadata": {
    "ExecuteTime": {
     "end_time": "2021-12-03T00:39:36.947740Z",
     "start_time": "2021-12-03T00:39:30.068976Z"
    },
    "execution": {
     "iopub.execute_input": "2021-12-01T03:12:25.602264Z",
     "iopub.status.busy": "2021-12-01T03:12:25.602044Z",
     "iopub.status.idle": "2021-12-01T03:12:47.241601Z",
     "shell.execute_reply": "2021-12-01T03:12:47.240647Z",
     "shell.execute_reply.started": "2021-12-01T03:12:25.602236Z"
    }
   },
   "outputs": [
    {
     "data": {
      "text/html": [
       "<div>\n",
       "<style scoped>\n",
       "    .dataframe tbody tr th:only-of-type {\n",
       "        vertical-align: middle;\n",
       "    }\n",
       "\n",
       "    .dataframe tbody tr th {\n",
       "        vertical-align: top;\n",
       "    }\n",
       "\n",
       "    .dataframe thead th {\n",
       "        text-align: right;\n",
       "    }\n",
       "</style>\n",
       "<table border=\"1\" class=\"dataframe\">\n",
       "  <thead>\n",
       "    <tr style=\"text-align: right;\">\n",
       "      <th></th>\n",
       "      <th>id</th>\n",
       "      <th>name</th>\n",
       "      <th>description</th>\n",
       "      <th>ingredients</th>\n",
       "      <th>ingredients_raw_str</th>\n",
       "      <th>serving_size</th>\n",
       "      <th>servings</th>\n",
       "      <th>steps</th>\n",
       "      <th>tags</th>\n",
       "      <th>search_terms</th>\n",
       "    </tr>\n",
       "  </thead>\n",
       "  <tbody>\n",
       "    <tr>\n",
       "      <th>0</th>\n",
       "      <td>96313</td>\n",
       "      <td>Grilled Garlic Cheese Grits</td>\n",
       "      <td>We love grits, this is another good way to ser...</td>\n",
       "      <td>['water', 'grits', 'salt', 'cheddar cheese', '...</td>\n",
       "      <td>[\"4   cups    water\",\"1   cup   uncooked old f...</td>\n",
       "      <td>1 (155 g)</td>\n",
       "      <td>8</td>\n",
       "      <td>['I a sauce pan, bring water to a boil; slowly...</td>\n",
       "      <td>['time-to-make', 'course', 'main-ingredient', ...</td>\n",
       "      <td>{'diabetic', 'low-calorie', 'vegetarian', 'low...</td>\n",
       "    </tr>\n",
       "    <tr>\n",
       "      <th>1</th>\n",
       "      <td>232037</td>\n",
       "      <td>Simple Shrimp and Andouille Jambalaya</td>\n",
       "      <td>Simple, easy and very tasty for when you are i...</td>\n",
       "      <td>['onion', 'red bell pepper', 'garlic cloves', ...</td>\n",
       "      <td>[\"1   medium    onion, chopped coarse \",\"1   m...</td>\n",
       "      <td>1 (366 g)</td>\n",
       "      <td>4</td>\n",
       "      <td>['In a food processor, pulse the onion, red pe...</td>\n",
       "      <td>['60-minutes-or-less', 'time-to-make', 'course...</td>\n",
       "      <td>{'dinner', 'shrimp'}</td>\n",
       "    </tr>\n",
       "    <tr>\n",
       "      <th>2</th>\n",
       "      <td>41090</td>\n",
       "      <td>black-and-white bean salad</td>\n",
       "      <td>NaN</td>\n",
       "      <td>['white beans', 'canned black beans', 'tomatoe...</td>\n",
       "      <td>[\"1   cup   canned white beans, rinsed and dra...</td>\n",
       "      <td>1 (807 g)</td>\n",
       "      <td>1</td>\n",
       "      <td>['In a large bowl, combine beans, tomato, onio...</td>\n",
       "      <td>['15-minutes-or-less', 'time-to-make', 'course...</td>\n",
       "      <td>{'vegetarian', 'salad', 'side', 'dinner', 'veg...</td>\n",
       "    </tr>\n",
       "    <tr>\n",
       "      <th>3</th>\n",
       "      <td>60656</td>\n",
       "      <td>Crock Pot Italian Zucchini</td>\n",
       "      <td>This is a good recipe for weight watchers. It ...</td>\n",
       "      <td>['zucchini', 'yellow squash', 'diced tomatoes'...</td>\n",
       "      <td>[\"2       zucchini, sliced \",\"2   small    yel...</td>\n",
       "      <td>1 (244 g)</td>\n",
       "      <td>4</td>\n",
       "      <td>['Put all ingredients in the crock pot and coo...</td>\n",
       "      <td>['weeknight', 'time-to-make', 'course', 'main-...</td>\n",
       "      <td>{'side', 'vegetarian', 'italian'}</td>\n",
       "    </tr>\n",
       "    <tr>\n",
       "      <th>4</th>\n",
       "      <td>232047</td>\n",
       "      <td>Beef Stew With Dried Cherries</td>\n",
       "      <td>This is a fabulous stew that came from one of ...</td>\n",
       "      <td>['beef stew meat', 'flour', 'salt', 'allspice'...</td>\n",
       "      <td>[\"3   lbs    beef stew meat\",\"3   tablespoons ...</td>\n",
       "      <td>1 (358 g)</td>\n",
       "      <td>8</td>\n",
       "      <td>['Preheat oven to 350°F.', \"Cut beef into 1 in...</td>\n",
       "      <td>['time-to-make', 'course', 'main-ingredient', ...</td>\n",
       "      <td>{'dinner'}</td>\n",
       "    </tr>\n",
       "  </tbody>\n",
       "</table>\n",
       "</div>"
      ],
      "text/plain": [
       "       id                                   name  \\\n",
       "0   96313            Grilled Garlic Cheese Grits   \n",
       "1  232037  Simple Shrimp and Andouille Jambalaya   \n",
       "2   41090             black-and-white bean salad   \n",
       "3   60656             Crock Pot Italian Zucchini   \n",
       "4  232047          Beef Stew With Dried Cherries   \n",
       "\n",
       "                                         description  \\\n",
       "0  We love grits, this is another good way to ser...   \n",
       "1  Simple, easy and very tasty for when you are i...   \n",
       "2                                                NaN   \n",
       "3  This is a good recipe for weight watchers. It ...   \n",
       "4  This is a fabulous stew that came from one of ...   \n",
       "\n",
       "                                         ingredients  \\\n",
       "0  ['water', 'grits', 'salt', 'cheddar cheese', '...   \n",
       "1  ['onion', 'red bell pepper', 'garlic cloves', ...   \n",
       "2  ['white beans', 'canned black beans', 'tomatoe...   \n",
       "3  ['zucchini', 'yellow squash', 'diced tomatoes'...   \n",
       "4  ['beef stew meat', 'flour', 'salt', 'allspice'...   \n",
       "\n",
       "                                 ingredients_raw_str serving_size  servings  \\\n",
       "0  [\"4   cups    water\",\"1   cup   uncooked old f...    1 (155 g)         8   \n",
       "1  [\"1   medium    onion, chopped coarse \",\"1   m...    1 (366 g)         4   \n",
       "2  [\"1   cup   canned white beans, rinsed and dra...    1 (807 g)         1   \n",
       "3  [\"2       zucchini, sliced \",\"2   small    yel...    1 (244 g)         4   \n",
       "4  [\"3   lbs    beef stew meat\",\"3   tablespoons ...    1 (358 g)         8   \n",
       "\n",
       "                                               steps  \\\n",
       "0  ['I a sauce pan, bring water to a boil; slowly...   \n",
       "1  ['In a food processor, pulse the onion, red pe...   \n",
       "2  ['In a large bowl, combine beans, tomato, onio...   \n",
       "3  ['Put all ingredients in the crock pot and coo...   \n",
       "4  ['Preheat oven to 350°F.', \"Cut beef into 1 in...   \n",
       "\n",
       "                                                tags  \\\n",
       "0  ['time-to-make', 'course', 'main-ingredient', ...   \n",
       "1  ['60-minutes-or-less', 'time-to-make', 'course...   \n",
       "2  ['15-minutes-or-less', 'time-to-make', 'course...   \n",
       "3  ['weeknight', 'time-to-make', 'course', 'main-...   \n",
       "4  ['time-to-make', 'course', 'main-ingredient', ...   \n",
       "\n",
       "                                        search_terms  \n",
       "0  {'diabetic', 'low-calorie', 'vegetarian', 'low...  \n",
       "1                               {'dinner', 'shrimp'}  \n",
       "2  {'vegetarian', 'salad', 'side', 'dinner', 'veg...  \n",
       "3                  {'side', 'vegetarian', 'italian'}  \n",
       "4                                         {'dinner'}  "
      ]
     },
     "execution_count": 2,
     "metadata": {},
     "output_type": "execute_result"
    }
   ],
   "source": [
    "df = pd.read_csv('data/foodcom_recipes_with_classification.csv')\n",
    "df.head()"
   ]
  },
  {
   "cell_type": "code",
   "execution_count": 3,
   "metadata": {
    "ExecuteTime": {
     "end_time": "2021-12-03T00:39:37.011756Z",
     "start_time": "2021-12-03T00:39:36.948748Z"
    },
    "execution": {
     "iopub.execute_input": "2021-12-01T03:12:53.720130Z",
     "iopub.status.busy": "2021-12-01T03:12:53.719821Z",
     "iopub.status.idle": "2021-12-01T03:12:53.814697Z",
     "shell.execute_reply": "2021-12-01T03:12:53.813840Z",
     "shell.execute_reply.started": "2021-12-01T03:12:53.720087Z"
    }
   },
   "outputs": [
    {
     "data": {
      "text/html": [
       "<div>\n",
       "<style scoped>\n",
       "    .dataframe tbody tr th:only-of-type {\n",
       "        vertical-align: middle;\n",
       "    }\n",
       "\n",
       "    .dataframe tbody tr th {\n",
       "        vertical-align: top;\n",
       "    }\n",
       "\n",
       "    .dataframe thead th {\n",
       "        text-align: right;\n",
       "    }\n",
       "</style>\n",
       "<table border=\"1\" class=\"dataframe\">\n",
       "  <thead>\n",
       "    <tr style=\"text-align: right;\">\n",
       "      <th></th>\n",
       "      <th>id</th>\n",
       "      <th>name</th>\n",
       "      <th>description</th>\n",
       "      <th>ingredients</th>\n",
       "      <th>ingredients_raw_str</th>\n",
       "      <th>serving_size</th>\n",
       "      <th>servings</th>\n",
       "      <th>steps</th>\n",
       "      <th>tags</th>\n",
       "      <th>search_terms</th>\n",
       "    </tr>\n",
       "  </thead>\n",
       "  <tbody>\n",
       "    <tr>\n",
       "      <th>729</th>\n",
       "      <td>245565</td>\n",
       "      <td>Serviette/Napkin Folding, Fleur De Lis in a Gl...</td>\n",
       "      <td>Between the teachings of my Grandmother, an Au...</td>\n",
       "      <td>['paper', 'cloth']</td>\n",
       "      <td>[\"1       paper, serviette  (large)\",\"1       ...</td>\n",
       "      <td>1 (0 g)</td>\n",
       "      <td>2</td>\n",
       "      <td>['Lay your serviette flat before you in a diam...</td>\n",
       "      <td>['15-minutes-or-less', 'time-to-make', 'prepar...</td>\n",
       "      <td>{'dinner'}</td>\n",
       "    </tr>\n",
       "    <tr>\n",
       "      <th>2674</th>\n",
       "      <td>246865</td>\n",
       "      <td>Serviette/Napkin Folding, Elegant Basic Roll V...</td>\n",
       "      <td>My interest in serviette folding was born on a...</td>\n",
       "      <td>['paper', 'cloth']</td>\n",
       "      <td>[\"1       paper, serviette  (large)\",\"1       ...</td>\n",
       "      <td>1 (0 g)</td>\n",
       "      <td>2</td>\n",
       "      <td>['Lay your serviette square out flat before yo...</td>\n",
       "      <td>['15-minutes-or-less', 'time-to-make', 'prepar...</td>\n",
       "      <td>{'dinner'}</td>\n",
       "    </tr>\n",
       "    <tr>\n",
       "      <th>4207</th>\n",
       "      <td>249824</td>\n",
       "      <td>Serviette/Napkin, Elegant Place Mat</td>\n",
       "      <td>My interest in serviette folding was born on a...</td>\n",
       "      <td>['paper', 'cloth']</td>\n",
       "      <td>[\"1       paper, serviette  (large)\",\"1       ...</td>\n",
       "      <td>1 (0 g)</td>\n",
       "      <td>2</td>\n",
       "      <td>['Lay your serviette square out flat before yo...</td>\n",
       "      <td>['15-minutes-or-less', 'time-to-make', 'prepar...</td>\n",
       "      <td>{'dinner'}</td>\n",
       "    </tr>\n",
       "    <tr>\n",
       "      <th>7838</th>\n",
       "      <td>250678</td>\n",
       "      <td>Serviette/Napkin Folding,  Symmetric Delight</td>\n",
       "      <td>Between the teachings of my grandmother, an au...</td>\n",
       "      <td>['paper', 'cloth']</td>\n",
       "      <td>[\"1       paper, serviette  (large)\",\"1       ...</td>\n",
       "      <td>1 (0 g)</td>\n",
       "      <td>2</td>\n",
       "      <td>['Lay your serviette square out flat before yo...</td>\n",
       "      <td>['15-minutes-or-less', 'time-to-make', 'prepar...</td>\n",
       "      <td>{'dinner'}</td>\n",
       "    </tr>\n",
       "    <tr>\n",
       "      <th>24305</th>\n",
       "      <td>251628</td>\n",
       "      <td>Serviette/Napkin, from the Heart</td>\n",
       "      <td>Between the teachings of my Grandmother, an Au...</td>\n",
       "      <td>['paper', 'cloth']</td>\n",
       "      <td>[\"1       paper, serviette  (large)\",\"1       ...</td>\n",
       "      <td>1 (0 g)</td>\n",
       "      <td>2</td>\n",
       "      <td>['Lay your serviette out flat before you in a ...</td>\n",
       "      <td>['15-minutes-or-less', 'time-to-make', 'prepar...</td>\n",
       "      <td>{'dinner'}</td>\n",
       "    </tr>\n",
       "  </tbody>\n",
       "</table>\n",
       "</div>"
      ],
      "text/plain": [
       "           id                                               name  \\\n",
       "729    245565  Serviette/Napkin Folding, Fleur De Lis in a Gl...   \n",
       "2674   246865  Serviette/Napkin Folding, Elegant Basic Roll V...   \n",
       "4207   249824                Serviette/Napkin, Elegant Place Mat   \n",
       "7838   250678       Serviette/Napkin Folding,  Symmetric Delight   \n",
       "24305  251628                   Serviette/Napkin, from the Heart   \n",
       "\n",
       "                                             description         ingredients  \\\n",
       "729    Between the teachings of my Grandmother, an Au...  ['paper', 'cloth']   \n",
       "2674   My interest in serviette folding was born on a...  ['paper', 'cloth']   \n",
       "4207   My interest in serviette folding was born on a...  ['paper', 'cloth']   \n",
       "7838   Between the teachings of my grandmother, an au...  ['paper', 'cloth']   \n",
       "24305  Between the teachings of my Grandmother, an Au...  ['paper', 'cloth']   \n",
       "\n",
       "                                     ingredients_raw_str serving_size  \\\n",
       "729    [\"1       paper, serviette  (large)\",\"1       ...      1 (0 g)   \n",
       "2674   [\"1       paper, serviette  (large)\",\"1       ...      1 (0 g)   \n",
       "4207   [\"1       paper, serviette  (large)\",\"1       ...      1 (0 g)   \n",
       "7838   [\"1       paper, serviette  (large)\",\"1       ...      1 (0 g)   \n",
       "24305  [\"1       paper, serviette  (large)\",\"1       ...      1 (0 g)   \n",
       "\n",
       "       servings                                              steps  \\\n",
       "729           2  ['Lay your serviette flat before you in a diam...   \n",
       "2674          2  ['Lay your serviette square out flat before yo...   \n",
       "4207          2  ['Lay your serviette square out flat before yo...   \n",
       "7838          2  ['Lay your serviette square out flat before yo...   \n",
       "24305         2  ['Lay your serviette out flat before you in a ...   \n",
       "\n",
       "                                                    tags search_terms  \n",
       "729    ['15-minutes-or-less', 'time-to-make', 'prepar...   {'dinner'}  \n",
       "2674   ['15-minutes-or-less', 'time-to-make', 'prepar...   {'dinner'}  \n",
       "4207   ['15-minutes-or-less', 'time-to-make', 'prepar...   {'dinner'}  \n",
       "7838   ['15-minutes-or-less', 'time-to-make', 'prepar...   {'dinner'}  \n",
       "24305  ['15-minutes-or-less', 'time-to-make', 'prepar...   {'dinner'}  "
      ]
     },
     "execution_count": 3,
     "metadata": {},
     "output_type": "execute_result"
    }
   ],
   "source": [
    "df_inedible = df[df['ingredients'] == \"['paper', 'cloth']\"]\n",
    "df_inedible.head()"
   ]
  },
  {
   "cell_type": "code",
   "execution_count": 4,
   "metadata": {
    "ExecuteTime": {
     "end_time": "2021-12-03T00:39:37.153104Z",
     "start_time": "2021-12-03T00:39:37.013759Z"
    },
    "execution": {
     "iopub.execute_input": "2021-12-01T03:12:53.818788Z",
     "iopub.status.busy": "2021-12-01T03:12:53.818523Z",
     "iopub.status.idle": "2021-12-01T03:12:54.038542Z",
     "shell.execute_reply": "2021-12-01T03:12:54.037813Z",
     "shell.execute_reply.started": "2021-12-01T03:12:53.818757Z"
    }
   },
   "outputs": [],
   "source": [
    "# removing napkin folding instructions from the dataframe\n",
    "\n",
    "df = df[df['ingredients'] != \"['paper', 'cloth']\"]"
   ]
  },
  {
   "cell_type": "code",
   "execution_count": 5,
   "metadata": {
    "ExecuteTime": {
     "end_time": "2021-12-03T00:39:40.485859Z",
     "start_time": "2021-12-03T00:39:37.155101Z"
    },
    "execution": {
     "iopub.execute_input": "2021-12-01T03:12:57.949178Z",
     "iopub.status.busy": "2021-12-01T03:12:57.948574Z",
     "iopub.status.idle": "2021-12-01T03:13:01.816567Z",
     "shell.execute_reply": "2021-12-01T03:13:01.815724Z",
     "shell.execute_reply.started": "2021-12-01T03:12:57.949125Z"
    },
    "scrolled": true
   },
   "outputs": [
    {
     "data": {
      "text/html": [
       "<div>\n",
       "<style scoped>\n",
       "    .dataframe tbody tr th:only-of-type {\n",
       "        vertical-align: middle;\n",
       "    }\n",
       "\n",
       "    .dataframe tbody tr th {\n",
       "        vertical-align: top;\n",
       "    }\n",
       "\n",
       "    .dataframe thead th {\n",
       "        text-align: right;\n",
       "    }\n",
       "</style>\n",
       "<table border=\"1\" class=\"dataframe\">\n",
       "  <thead>\n",
       "    <tr style=\"text-align: right;\">\n",
       "      <th></th>\n",
       "      <th>name</th>\n",
       "      <th>description</th>\n",
       "      <th>ingredients</th>\n",
       "      <th>ingredients_raw_str</th>\n",
       "      <th>serving_size</th>\n",
       "      <th>steps</th>\n",
       "      <th>tags</th>\n",
       "      <th>search_terms</th>\n",
       "    </tr>\n",
       "  </thead>\n",
       "  <tbody>\n",
       "    <tr>\n",
       "      <th>count</th>\n",
       "      <td>494880</td>\n",
       "      <td>485282</td>\n",
       "      <td>494880</td>\n",
       "      <td>494880</td>\n",
       "      <td>494880</td>\n",
       "      <td>494880</td>\n",
       "      <td>494880</td>\n",
       "      <td>494880</td>\n",
       "    </tr>\n",
       "    <tr>\n",
       "      <th>unique</th>\n",
       "      <td>412722</td>\n",
       "      <td>466871</td>\n",
       "      <td>489862</td>\n",
       "      <td>493851</td>\n",
       "      <td>5301</td>\n",
       "      <td>493091</td>\n",
       "      <td>418244</td>\n",
       "      <td>54344</td>\n",
       "    </tr>\n",
       "    <tr>\n",
       "      <th>top</th>\n",
       "      <td>Banana Bread</td>\n",
       "      <td>.</td>\n",
       "      <td>['eggs', 'water']</td>\n",
       "      <td>[\"1   cup    water\",\"1   cup    water\"]</td>\n",
       "      <td>1 (134 g)</td>\n",
       "      <td>['Blend all ingredients until smooth.']</td>\n",
       "      <td>['60-minutes-or-less', 'time-to-make', 'prepar...</td>\n",
       "      <td>{'dessert'}</td>\n",
       "    </tr>\n",
       "    <tr>\n",
       "      <th>freq</th>\n",
       "      <td>187</td>\n",
       "      <td>439</td>\n",
       "      <td>18</td>\n",
       "      <td>10</td>\n",
       "      <td>1436</td>\n",
       "      <td>32</td>\n",
       "      <td>626</td>\n",
       "      <td>23507</td>\n",
       "    </tr>\n",
       "  </tbody>\n",
       "</table>\n",
       "</div>"
      ],
      "text/plain": [
       "                name description        ingredients  \\\n",
       "count         494880      485282             494880   \n",
       "unique        412722      466871             489862   \n",
       "top     Banana Bread           .  ['eggs', 'water']   \n",
       "freq             187         439                 18   \n",
       "\n",
       "                            ingredients_raw_str serving_size  \\\n",
       "count                                    494880       494880   \n",
       "unique                                   493851         5301   \n",
       "top     [\"1   cup    water\",\"1   cup    water\"]    1 (134 g)   \n",
       "freq                                         10         1436   \n",
       "\n",
       "                                          steps  \\\n",
       "count                                    494880   \n",
       "unique                                   493091   \n",
       "top     ['Blend all ingredients until smooth.']   \n",
       "freq                                         32   \n",
       "\n",
       "                                                     tags search_terms  \n",
       "count                                              494880       494880  \n",
       "unique                                             418244        54344  \n",
       "top     ['60-minutes-or-less', 'time-to-make', 'prepar...  {'dessert'}  \n",
       "freq                                                  626        23507  "
      ]
     },
     "execution_count": 5,
     "metadata": {},
     "output_type": "execute_result"
    }
   ],
   "source": [
    "# since there are only 20 recipes that do not have their ingredients broken out these will\n",
    "# be dropped from the dataframe\n",
    "df = df[df['ingredients'] != \"[]\"]\n",
    "df.describe(include = 'object')\n"
   ]
  },
  {
   "cell_type": "markdown",
   "metadata": {},
   "source": [
    "Reading the descriptions of one of the duplicate recipes, a \"No-Knead Bread\", it looks like at least some of the duplicates come from Food.com users uplaoding recipes from other sources - in this case the New York Times.  "
   ]
  },
  {
   "cell_type": "code",
   "execution_count": 6,
   "metadata": {
    "ExecuteTime": {
     "end_time": "2021-12-03T00:39:42.912399Z",
     "start_time": "2021-12-03T00:39:40.487853Z"
    },
    "execution": {
     "iopub.execute_input": "2021-12-01T03:13:03.012078Z",
     "iopub.status.busy": "2021-12-01T03:13:03.011207Z",
     "iopub.status.idle": "2021-12-01T03:13:05.823940Z",
     "shell.execute_reply": "2021-12-01T03:13:05.823092Z",
     "shell.execute_reply.started": "2021-12-01T03:13:03.012030Z"
    }
   },
   "outputs": [
    {
     "data": {
      "text/plain": [
       "491822"
      ]
     },
     "execution_count": 6,
     "metadata": {},
     "output_type": "execute_result"
    }
   ],
   "source": [
    "# removing potential duplicate recipes. Code thanks to first answer on \n",
    "# https://stackoverflow.com/questions/49735683/python-removing-rows-on-count-condition\n",
    "df = df[df.groupby('steps').steps.transform('count')==1].copy() \n",
    "# add copy for future warning when you need to modify the sub df\n",
    "len(df)"
   ]
  },
  {
   "cell_type": "code",
   "execution_count": 7,
   "metadata": {
    "ExecuteTime": {
     "end_time": "2021-12-03T00:39:42.927409Z",
     "start_time": "2021-12-03T00:39:42.913399Z"
    },
    "execution": {
     "iopub.execute_input": "2021-12-01T03:14:19.705694Z",
     "iopub.status.busy": "2021-12-01T03:14:19.705085Z",
     "iopub.status.idle": "2021-12-01T03:14:19.712817Z",
     "shell.execute_reply": "2021-12-01T03:14:19.711974Z",
     "shell.execute_reply.started": "2021-12-01T03:14:19.705632Z"
    }
   },
   "outputs": [],
   "source": [
    "def lists_to_count(df, column, series = False):\n",
    "    ''' takes in a column of lists and returns counts for all unique values. \n",
    "    \n",
    "    Inputs:\n",
    "    df - dataframe with column being converted\n",
    "    column - column of lists\n",
    "    series - if set to True returns pandas Series instead of a FreqDist object \n",
    "    \n",
    "    Returns: \n",
    "    Series with unique value counts or FreqDist object, depending on setting of 'series' parameter\n",
    "    '''\n",
    "\n",
    "    all_col = df[column].explode()\n",
    "    col_count = FreqDist(all_col)\n",
    "    \n",
    "    if series:\n",
    "        return pd.Series(dict(col_count))\n",
    "    else:\n",
    "        return col_count"
   ]
  },
  {
   "cell_type": "markdown",
   "metadata": {},
   "source": [
    "### Tag Data Targets"
   ]
  },
  {
   "cell_type": "code",
   "execution_count": 8,
   "metadata": {
    "ExecuteTime": {
     "end_time": "2021-12-03T00:39:42.943412Z",
     "start_time": "2021-12-03T00:39:42.930397Z"
    },
    "execution": {
     "iopub.execute_input": "2021-12-01T03:14:43.078427Z",
     "iopub.status.busy": "2021-12-01T03:14:43.078184Z",
     "iopub.status.idle": "2021-12-01T03:14:43.085552Z",
     "shell.execute_reply": "2021-12-01T03:14:43.084725Z",
     "shell.execute_reply.started": "2021-12-01T03:14:43.078395Z"
    }
   },
   "outputs": [],
   "source": [
    "\n",
    "#function for visualizing the most common tokens within a frequency distribution\n",
    "\n",
    "def visualize_tokens(freq_dist, number, title):\n",
    "    '''\n",
    "    From Phase 4 Project: \n",
    "    https://github.com/CGPinDC/Tweet_NLP_Project/blob/main/Tweet_Sentiment_%20Analysis_Notebook.ipynb\n",
    "    \n",
    "    Inputs:\n",
    "    freq_dist: pass in frequency dictionary of tokens. \n",
    "    number: number as integer of the top tokens to return\n",
    "    \n",
    "    title: title of graph\n",
    "    '''\n",
    "    \n",
    "\n",
    "    # get tokens and frequency counts from freq_dist\n",
    "    top = list(zip(*freq_dist.most_common(number)))\n",
    "    tokens = top[0]\n",
    "    counts = top[1]\n",
    "    \n",
    "    print(f'Top Tokens: {tokens[:number]}')\n",
    "\n",
    "    # Set up plot and plot data\n",
    "    fig, ax = plt.subplots(figsize = (15, 10))\n",
    "    ax.bar(tokens, counts)\n",
    "\n",
    "    # Customize plot appearance\n",
    "    ax.set_title(title)\n",
    "    ax.set_ylabel(\"Count\")\n",
    "    ax.yaxis.set_major_locator(MaxNLocator(integer=True))\n",
    "    ax.tick_params(axis=\"x\", rotation=90)"
   ]
  },
  {
   "cell_type": "markdown",
   "metadata": {},
   "source": [
    "Since there are only 631 distinct tags I could review them one-by-one to select the ones that best fit into the \"easy\" category."
   ]
  },
  {
   "cell_type": "code",
   "execution_count": 13,
   "metadata": {
    "ExecuteTime": {
     "end_time": "2021-12-03T00:41:44.200522Z",
     "start_time": "2021-12-03T00:41:44.195529Z"
    }
   },
   "outputs": [],
   "source": [
    "\n",
    "def return_to_list(df, column_names):\n",
    "    ''' Takes in list of names of columns containing strings and the dataframe they sit in and returns converts each column's contents into a new\n",
    "    column, called '<original column name>_list', now as lists. May only work on strings that look like lists.... \n",
    "    \n",
    "    Inputs:\n",
    "    df = dataframe with columns being converted to lists\n",
    "    column_names = list of columns whose contents need to be transformed\n",
    "    \n",
    "    Returns: updated dataframe\n",
    "    '''\n",
    "    for col in column_names:\n",
    "        col_name = col + '_list'\n",
    "        df[col_name] = [ast.literal_eval(x) for x in df[col] ]\n",
    "    \n",
    "    return df"
   ]
  },
  {
   "cell_type": "code",
   "execution_count": 14,
   "metadata": {
    "ExecuteTime": {
     "end_time": "2021-12-03T00:41:46.293183Z",
     "start_time": "2021-12-03T00:41:46.275181Z"
    }
   },
   "outputs": [],
   "source": [
    "target_tags = ['easy','30-minutes-or-less', '3-steps-or-less', \n",
    "               '15-minutes-or-less', 'beginner-cook']\n",
    "tags_to_remove = ['bath-beauty', 'household-cleaners', 'homeopathy-remedies']"
   ]
  },
  {
   "cell_type": "code",
   "execution_count": 25,
   "metadata": {
    "ExecuteTime": {
     "end_time": "2021-12-03T00:44:57.812550Z",
     "start_time": "2021-12-03T00:44:34.707268Z"
    }
   },
   "outputs": [],
   "source": [
    "col_to_list=['tags', 'search_terms']\n",
    "df = return_to_list(df, col_to_list)"
   ]
  },
  {
   "cell_type": "code",
   "execution_count": 26,
   "metadata": {
    "ExecuteTime": {
     "end_time": "2021-12-03T00:44:58.536983Z",
     "start_time": "2021-12-03T00:44:57.846540Z"
    },
    "execution": {
     "iopub.execute_input": "2021-12-01T03:15:16.631480Z",
     "iopub.status.busy": "2021-12-01T03:15:16.630641Z",
     "iopub.status.idle": "2021-12-01T03:15:17.435743Z",
     "shell.execute_reply": "2021-12-01T03:15:17.435080Z",
     "shell.execute_reply.started": "2021-12-01T03:15:16.631440Z"
    }
   },
   "outputs": [
    {
     "data": {
      "text/plain": [
       "False    491759\n",
       "Name: remove, dtype: int64"
      ]
     },
     "execution_count": 26,
     "metadata": {},
     "output_type": "execute_result"
    }
   ],
   "source": [
    "# we'll remove the homeopathic and bath/beauty related recipes by indicating which\n",
    "# recipes contain the undesirable tags\n",
    "df['remove'] = df['tags_list'].map(lambda x: any(tag in x for tag in tags_to_remove))\n",
    "df['remove'].value_counts()"
   ]
  },
  {
   "cell_type": "code",
   "execution_count": 27,
   "metadata": {
    "ExecuteTime": {
     "end_time": "2021-12-03T00:44:58.857068Z",
     "start_time": "2021-12-03T00:44:58.570983Z"
    },
    "execution": {
     "iopub.execute_input": "2021-12-01T03:15:19.883570Z",
     "iopub.status.busy": "2021-12-01T03:15:19.882451Z",
     "iopub.status.idle": "2021-12-01T03:15:20.471449Z",
     "shell.execute_reply": "2021-12-01T03:15:20.470575Z",
     "shell.execute_reply.started": "2021-12-01T03:15:19.883444Z"
    }
   },
   "outputs": [
    {
     "data": {
      "text/plain": [
       "False    491759\n",
       "Name: remove, dtype: int64"
      ]
     },
     "execution_count": 27,
     "metadata": {},
     "output_type": "execute_result"
    }
   ],
   "source": [
    "df = df[df['remove'] != True]\n",
    "df['remove'].value_counts()"
   ]
  },
  {
   "cell_type": "markdown",
   "metadata": {},
   "source": [
    "### Search Term Targets"
   ]
  },
  {
   "cell_type": "code",
   "execution_count": 28,
   "metadata": {
    "ExecuteTime": {
     "end_time": "2021-12-03T00:44:58.904057Z",
     "start_time": "2021-12-03T00:44:58.889054Z"
    },
    "execution": {
     "iopub.execute_input": "2021-12-01T03:15:36.172391Z",
     "iopub.status.busy": "2021-12-01T03:15:36.172120Z",
     "iopub.status.idle": "2021-12-01T03:15:36.180928Z",
     "shell.execute_reply": "2021-12-01T03:15:36.180131Z",
     "shell.execute_reply.started": "2021-12-01T03:15:36.172355Z"
    }
   },
   "outputs": [],
   "source": [
    "# creating a list with the search term target label\n",
    "target_search_term = ['dinner']"
   ]
  },
  {
   "cell_type": "markdown",
   "metadata": {},
   "source": [
    "### Creating Target Variable"
   ]
  },
  {
   "cell_type": "code",
   "execution_count": 29,
   "metadata": {
    "ExecuteTime": {
     "end_time": "2021-12-03T00:44:59.571215Z",
     "start_time": "2021-12-03T00:44:58.937069Z"
    },
    "execution": {
     "iopub.execute_input": "2021-12-01T03:15:36.182963Z",
     "iopub.status.busy": "2021-12-01T03:15:36.182251Z",
     "iopub.status.idle": "2021-12-01T03:15:36.916686Z",
     "shell.execute_reply": "2021-12-01T03:15:36.915837Z",
     "shell.execute_reply.started": "2021-12-01T03:15:36.182918Z"
    }
   },
   "outputs": [
    {
     "data": {
      "text/plain": [
       "True     0.655059\n",
       "False    0.344941\n",
       "Name: target_tag, dtype: float64"
      ]
     },
     "execution_count": 29,
     "metadata": {},
     "output_type": "execute_result"
    }
   ],
   "source": [
    "# creating a column indicating if a target tag is present in the 'tags_list' column\n",
    "df['target_tag'] = df['tags_list'].map(lambda x: any(tag in x for tag in target_tags))\n",
    "df['target_tag'].value_counts(normalize=True)"
   ]
  },
  {
   "cell_type": "code",
   "execution_count": 30,
   "metadata": {
    "ExecuteTime": {
     "end_time": "2021-12-03T00:44:59.633235Z",
     "start_time": "2021-12-03T00:44:59.604217Z"
    },
    "execution": {
     "iopub.execute_input": "2021-12-01T03:15:36.920010Z",
     "iopub.status.busy": "2021-12-01T03:15:36.919596Z",
     "iopub.status.idle": "2021-12-01T03:15:36.967852Z",
     "shell.execute_reply": "2021-12-01T03:15:36.967008Z",
     "shell.execute_reply.started": "2021-12-01T03:15:36.919962Z"
    }
   },
   "outputs": [
    {
     "data": {
      "text/html": [
       "<div>\n",
       "<style scoped>\n",
       "    .dataframe tbody tr th:only-of-type {\n",
       "        vertical-align: middle;\n",
       "    }\n",
       "\n",
       "    .dataframe tbody tr th {\n",
       "        vertical-align: top;\n",
       "    }\n",
       "\n",
       "    .dataframe thead th {\n",
       "        text-align: right;\n",
       "    }\n",
       "</style>\n",
       "<table border=\"1\" class=\"dataframe\">\n",
       "  <thead>\n",
       "    <tr style=\"text-align: right;\">\n",
       "      <th></th>\n",
       "      <th>id</th>\n",
       "      <th>name</th>\n",
       "      <th>description</th>\n",
       "      <th>ingredients</th>\n",
       "      <th>ingredients_raw_str</th>\n",
       "      <th>serving_size</th>\n",
       "      <th>servings</th>\n",
       "      <th>steps</th>\n",
       "      <th>tags</th>\n",
       "      <th>search_terms</th>\n",
       "      <th>tags_list</th>\n",
       "      <th>remove</th>\n",
       "      <th>target_tag</th>\n",
       "      <th>search_terms_list</th>\n",
       "    </tr>\n",
       "  </thead>\n",
       "  <tbody>\n",
       "    <tr>\n",
       "      <th>0</th>\n",
       "      <td>96313</td>\n",
       "      <td>Grilled Garlic Cheese Grits</td>\n",
       "      <td>We love grits, this is another good way to ser...</td>\n",
       "      <td>['water', 'grits', 'salt', 'cheddar cheese', '...</td>\n",
       "      <td>[\"4   cups    water\",\"1   cup   uncooked old f...</td>\n",
       "      <td>1 (155 g)</td>\n",
       "      <td>8</td>\n",
       "      <td>['I a sauce pan, bring water to a boil; slowly...</td>\n",
       "      <td>['time-to-make', 'course', 'main-ingredient', ...</td>\n",
       "      <td>{'diabetic', 'low-calorie', 'vegetarian', 'low...</td>\n",
       "      <td>[time-to-make, course, main-ingredient, prepar...</td>\n",
       "      <td>False</td>\n",
       "      <td>False</td>\n",
       "      <td>{low-carb, vegetarian, side, diabetic, low-cal...</td>\n",
       "    </tr>\n",
       "    <tr>\n",
       "      <th>1</th>\n",
       "      <td>232037</td>\n",
       "      <td>Simple Shrimp and Andouille Jambalaya</td>\n",
       "      <td>Simple, easy and very tasty for when you are i...</td>\n",
       "      <td>['onion', 'red bell pepper', 'garlic cloves', ...</td>\n",
       "      <td>[\"1   medium    onion, chopped coarse \",\"1   m...</td>\n",
       "      <td>1 (366 g)</td>\n",
       "      <td>4</td>\n",
       "      <td>['In a food processor, pulse the onion, red pe...</td>\n",
       "      <td>['60-minutes-or-less', 'time-to-make', 'course...</td>\n",
       "      <td>{'dinner', 'shrimp'}</td>\n",
       "      <td>[60-minutes-or-less, time-to-make, course, mai...</td>\n",
       "      <td>False</td>\n",
       "      <td>True</td>\n",
       "      <td>{shrimp, dinner}</td>\n",
       "    </tr>\n",
       "    <tr>\n",
       "      <th>2</th>\n",
       "      <td>41090</td>\n",
       "      <td>black-and-white bean salad</td>\n",
       "      <td>NaN</td>\n",
       "      <td>['white beans', 'canned black beans', 'tomatoe...</td>\n",
       "      <td>[\"1   cup   canned white beans, rinsed and dra...</td>\n",
       "      <td>1 (807 g)</td>\n",
       "      <td>1</td>\n",
       "      <td>['In a large bowl, combine beans, tomato, onio...</td>\n",
       "      <td>['15-minutes-or-less', 'time-to-make', 'course...</td>\n",
       "      <td>{'vegetarian', 'salad', 'side', 'dinner', 'veg...</td>\n",
       "      <td>[15-minutes-or-less, time-to-make, course, mai...</td>\n",
       "      <td>False</td>\n",
       "      <td>True</td>\n",
       "      <td>{vegetarian, side, dinner, vegan, salad}</td>\n",
       "    </tr>\n",
       "    <tr>\n",
       "      <th>3</th>\n",
       "      <td>60656</td>\n",
       "      <td>Crock Pot Italian Zucchini</td>\n",
       "      <td>This is a good recipe for weight watchers. It ...</td>\n",
       "      <td>['zucchini', 'yellow squash', 'diced tomatoes'...</td>\n",
       "      <td>[\"2       zucchini, sliced \",\"2   small    yel...</td>\n",
       "      <td>1 (244 g)</td>\n",
       "      <td>4</td>\n",
       "      <td>['Put all ingredients in the crock pot and coo...</td>\n",
       "      <td>['weeknight', 'time-to-make', 'course', 'main-...</td>\n",
       "      <td>{'side', 'vegetarian', 'italian'}</td>\n",
       "      <td>[weeknight, time-to-make, course, main-ingredi...</td>\n",
       "      <td>False</td>\n",
       "      <td>True</td>\n",
       "      <td>{italian, vegetarian, side}</td>\n",
       "    </tr>\n",
       "    <tr>\n",
       "      <th>4</th>\n",
       "      <td>232047</td>\n",
       "      <td>Beef Stew With Dried Cherries</td>\n",
       "      <td>This is a fabulous stew that came from one of ...</td>\n",
       "      <td>['beef stew meat', 'flour', 'salt', 'allspice'...</td>\n",
       "      <td>[\"3   lbs    beef stew meat\",\"3   tablespoons ...</td>\n",
       "      <td>1 (358 g)</td>\n",
       "      <td>8</td>\n",
       "      <td>['Preheat oven to 350°F.', \"Cut beef into 1 in...</td>\n",
       "      <td>['time-to-make', 'course', 'main-ingredient', ...</td>\n",
       "      <td>{'dinner'}</td>\n",
       "      <td>[time-to-make, course, main-ingredient, prepar...</td>\n",
       "      <td>False</td>\n",
       "      <td>True</td>\n",
       "      <td>{dinner}</td>\n",
       "    </tr>\n",
       "  </tbody>\n",
       "</table>\n",
       "</div>"
      ],
      "text/plain": [
       "       id                                   name  \\\n",
       "0   96313            Grilled Garlic Cheese Grits   \n",
       "1  232037  Simple Shrimp and Andouille Jambalaya   \n",
       "2   41090             black-and-white bean salad   \n",
       "3   60656             Crock Pot Italian Zucchini   \n",
       "4  232047          Beef Stew With Dried Cherries   \n",
       "\n",
       "                                         description  \\\n",
       "0  We love grits, this is another good way to ser...   \n",
       "1  Simple, easy and very tasty for when you are i...   \n",
       "2                                                NaN   \n",
       "3  This is a good recipe for weight watchers. It ...   \n",
       "4  This is a fabulous stew that came from one of ...   \n",
       "\n",
       "                                         ingredients  \\\n",
       "0  ['water', 'grits', 'salt', 'cheddar cheese', '...   \n",
       "1  ['onion', 'red bell pepper', 'garlic cloves', ...   \n",
       "2  ['white beans', 'canned black beans', 'tomatoe...   \n",
       "3  ['zucchini', 'yellow squash', 'diced tomatoes'...   \n",
       "4  ['beef stew meat', 'flour', 'salt', 'allspice'...   \n",
       "\n",
       "                                 ingredients_raw_str serving_size  servings  \\\n",
       "0  [\"4   cups    water\",\"1   cup   uncooked old f...    1 (155 g)         8   \n",
       "1  [\"1   medium    onion, chopped coarse \",\"1   m...    1 (366 g)         4   \n",
       "2  [\"1   cup   canned white beans, rinsed and dra...    1 (807 g)         1   \n",
       "3  [\"2       zucchini, sliced \",\"2   small    yel...    1 (244 g)         4   \n",
       "4  [\"3   lbs    beef stew meat\",\"3   tablespoons ...    1 (358 g)         8   \n",
       "\n",
       "                                               steps  \\\n",
       "0  ['I a sauce pan, bring water to a boil; slowly...   \n",
       "1  ['In a food processor, pulse the onion, red pe...   \n",
       "2  ['In a large bowl, combine beans, tomato, onio...   \n",
       "3  ['Put all ingredients in the crock pot and coo...   \n",
       "4  ['Preheat oven to 350°F.', \"Cut beef into 1 in...   \n",
       "\n",
       "                                                tags  \\\n",
       "0  ['time-to-make', 'course', 'main-ingredient', ...   \n",
       "1  ['60-minutes-or-less', 'time-to-make', 'course...   \n",
       "2  ['15-minutes-or-less', 'time-to-make', 'course...   \n",
       "3  ['weeknight', 'time-to-make', 'course', 'main-...   \n",
       "4  ['time-to-make', 'course', 'main-ingredient', ...   \n",
       "\n",
       "                                        search_terms  \\\n",
       "0  {'diabetic', 'low-calorie', 'vegetarian', 'low...   \n",
       "1                               {'dinner', 'shrimp'}   \n",
       "2  {'vegetarian', 'salad', 'side', 'dinner', 'veg...   \n",
       "3                  {'side', 'vegetarian', 'italian'}   \n",
       "4                                         {'dinner'}   \n",
       "\n",
       "                                           tags_list  remove  target_tag  \\\n",
       "0  [time-to-make, course, main-ingredient, prepar...   False       False   \n",
       "1  [60-minutes-or-less, time-to-make, course, mai...   False        True   \n",
       "2  [15-minutes-or-less, time-to-make, course, mai...   False        True   \n",
       "3  [weeknight, time-to-make, course, main-ingredi...   False        True   \n",
       "4  [time-to-make, course, main-ingredient, prepar...   False        True   \n",
       "\n",
       "                                   search_terms_list  \n",
       "0  {low-carb, vegetarian, side, diabetic, low-cal...  \n",
       "1                                   {shrimp, dinner}  \n",
       "2           {vegetarian, side, dinner, vegan, salad}  \n",
       "3                        {italian, vegetarian, side}  \n",
       "4                                           {dinner}  "
      ]
     },
     "execution_count": 30,
     "metadata": {},
     "output_type": "execute_result"
    }
   ],
   "source": [
    "df.head()"
   ]
  },
  {
   "cell_type": "code",
   "execution_count": 31,
   "metadata": {
    "ExecuteTime": {
     "end_time": "2021-12-03T00:44:59.681232Z",
     "start_time": "2021-12-03T00:44:59.667229Z"
    },
    "execution": {
     "iopub.execute_input": "2021-12-01T03:15:36.969308Z",
     "iopub.status.busy": "2021-12-01T03:15:36.969097Z",
     "iopub.status.idle": "2021-12-01T03:15:36.973544Z",
     "shell.execute_reply": "2021-12-01T03:15:36.972743Z",
     "shell.execute_reply.started": "2021-12-01T03:15:36.969282Z"
    }
   },
   "outputs": [],
   "source": [
    "# small function to relabled the 'target_tag' value for recipes with '60-minutes-or-less' \n",
    "# tags\n",
    "def hour_check(x):\n",
    "    if '60-minutes-or-less' in x: \n",
    "        return False\n",
    "    else:\n",
    "        return True"
   ]
  },
  {
   "cell_type": "code",
   "execution_count": 32,
   "metadata": {
    "ExecuteTime": {
     "end_time": "2021-12-03T00:45:25.311716Z",
     "start_time": "2021-12-03T00:45:16.643285Z"
    },
    "execution": {
     "iopub.execute_input": "2021-12-01T03:15:36.975171Z",
     "iopub.status.busy": "2021-12-01T03:15:36.974830Z",
     "iopub.status.idle": "2021-12-01T03:15:50.694657Z",
     "shell.execute_reply": "2021-12-01T03:15:50.693743Z",
     "shell.execute_reply.started": "2021-12-01T03:15:36.975128Z"
    },
    "scrolled": true
   },
   "outputs": [],
   "source": [
    "# credit to first response on https://stackoverflow.com/questions/58562662/apply-function-on-subset-of-dataframe-rows-in-column-based-on-value-in-other-col\n",
    "# for helping me figure out how to re-label the 'target_tag' column\n",
    "df['target_tag'] = df.apply(lambda row:\n",
    "    hour_check(row.tags_list) if row.target_tag == True else row.target_tag, axis=1)"
   ]
  },
  {
   "cell_type": "code",
   "execution_count": 33,
   "metadata": {
    "ExecuteTime": {
     "end_time": "2021-12-03T00:45:25.694789Z",
     "start_time": "2021-12-03T00:45:25.344725Z"
    },
    "execution": {
     "iopub.execute_input": "2021-12-01T03:15:50.710257Z",
     "iopub.status.busy": "2021-12-01T03:15:50.709745Z",
     "iopub.status.idle": "2021-12-01T03:15:51.160236Z",
     "shell.execute_reply": "2021-12-01T03:15:51.159240Z",
     "shell.execute_reply.started": "2021-12-01T03:15:50.710212Z"
    }
   },
   "outputs": [
    {
     "data": {
      "text/plain": [
       "False    0.562975\n",
       "True     0.437025\n",
       "Name: target_search_term, dtype: float64"
      ]
     },
     "execution_count": 33,
     "metadata": {},
     "output_type": "execute_result"
    }
   ],
   "source": [
    "# identifying the recipes with the target search term\n",
    "df['target_search_term'] = df['search_terms_list'].map(lambda x: any(term in x for term in target_search_term))\n",
    "df['target_search_term'].value_counts(normalize=True)"
   ]
  },
  {
   "cell_type": "markdown",
   "metadata": {},
   "source": [
    "Once the recipes were labeled with the target conditions the below code identifies recipes that meet both the search term condition and the tag condition."
   ]
  },
  {
   "cell_type": "code",
   "execution_count": 34,
   "metadata": {
    "ExecuteTime": {
     "end_time": "2021-12-03T00:45:26.781444Z",
     "start_time": "2021-12-03T00:45:26.763437Z"
    },
    "execution": {
     "iopub.execute_input": "2021-12-01T03:15:51.161562Z",
     "iopub.status.busy": "2021-12-01T03:15:51.161336Z",
     "iopub.status.idle": "2021-12-01T03:15:51.166200Z",
     "shell.execute_reply": "2021-12-01T03:15:51.165434Z",
     "shell.execute_reply.started": "2021-12-01T03:15:51.161537Z"
    }
   },
   "outputs": [],
   "source": [
    "def target_check(x):\n",
    "    ''' dataframe specific function to set rows as meeting the conditions for the \n",
    "    target variable or not'''\n",
    "    if (x['target_tag'] == True) and (x['target_search_term'] == True):\n",
    "        return 1\n",
    "    else:\n",
    "        return 0"
   ]
  },
  {
   "cell_type": "code",
   "execution_count": 35,
   "metadata": {
    "ExecuteTime": {
     "end_time": "2021-12-03T00:45:33.420306Z",
     "start_time": "2021-12-03T00:45:28.139120Z"
    },
    "execution": {
     "iopub.execute_input": "2021-12-01T03:15:51.169027Z",
     "iopub.status.busy": "2021-12-01T03:15:51.168802Z",
     "iopub.status.idle": "2021-12-01T03:15:59.516404Z",
     "shell.execute_reply": "2021-12-01T03:15:59.515411Z",
     "shell.execute_reply.started": "2021-12-01T03:15:51.168998Z"
    }
   },
   "outputs": [
    {
     "data": {
      "text/html": [
       "<div>\n",
       "<style scoped>\n",
       "    .dataframe tbody tr th:only-of-type {\n",
       "        vertical-align: middle;\n",
       "    }\n",
       "\n",
       "    .dataframe tbody tr th {\n",
       "        vertical-align: top;\n",
       "    }\n",
       "\n",
       "    .dataframe thead th {\n",
       "        text-align: right;\n",
       "    }\n",
       "</style>\n",
       "<table border=\"1\" class=\"dataframe\">\n",
       "  <thead>\n",
       "    <tr style=\"text-align: right;\">\n",
       "      <th></th>\n",
       "      <th>id</th>\n",
       "      <th>name</th>\n",
       "      <th>description</th>\n",
       "      <th>ingredients</th>\n",
       "      <th>ingredients_raw_str</th>\n",
       "      <th>serving_size</th>\n",
       "      <th>servings</th>\n",
       "      <th>steps</th>\n",
       "      <th>tags</th>\n",
       "      <th>search_terms</th>\n",
       "      <th>tags_list</th>\n",
       "      <th>remove</th>\n",
       "      <th>target_tag</th>\n",
       "      <th>search_terms_list</th>\n",
       "      <th>target_search_term</th>\n",
       "      <th>target</th>\n",
       "    </tr>\n",
       "  </thead>\n",
       "  <tbody>\n",
       "    <tr>\n",
       "      <th>0</th>\n",
       "      <td>96313</td>\n",
       "      <td>Grilled Garlic Cheese Grits</td>\n",
       "      <td>We love grits, this is another good way to ser...</td>\n",
       "      <td>['water', 'grits', 'salt', 'cheddar cheese', '...</td>\n",
       "      <td>[\"4   cups    water\",\"1   cup   uncooked old f...</td>\n",
       "      <td>1 (155 g)</td>\n",
       "      <td>8</td>\n",
       "      <td>['I a sauce pan, bring water to a boil; slowly...</td>\n",
       "      <td>['time-to-make', 'course', 'main-ingredient', ...</td>\n",
       "      <td>{'diabetic', 'low-calorie', 'vegetarian', 'low...</td>\n",
       "      <td>[time-to-make, course, main-ingredient, prepar...</td>\n",
       "      <td>False</td>\n",
       "      <td>False</td>\n",
       "      <td>{low-carb, vegetarian, side, diabetic, low-cal...</td>\n",
       "      <td>False</td>\n",
       "      <td>0</td>\n",
       "    </tr>\n",
       "    <tr>\n",
       "      <th>1</th>\n",
       "      <td>232037</td>\n",
       "      <td>Simple Shrimp and Andouille Jambalaya</td>\n",
       "      <td>Simple, easy and very tasty for when you are i...</td>\n",
       "      <td>['onion', 'red bell pepper', 'garlic cloves', ...</td>\n",
       "      <td>[\"1   medium    onion, chopped coarse \",\"1   m...</td>\n",
       "      <td>1 (366 g)</td>\n",
       "      <td>4</td>\n",
       "      <td>['In a food processor, pulse the onion, red pe...</td>\n",
       "      <td>['60-minutes-or-less', 'time-to-make', 'course...</td>\n",
       "      <td>{'dinner', 'shrimp'}</td>\n",
       "      <td>[60-minutes-or-less, time-to-make, course, mai...</td>\n",
       "      <td>False</td>\n",
       "      <td>False</td>\n",
       "      <td>{shrimp, dinner}</td>\n",
       "      <td>True</td>\n",
       "      <td>0</td>\n",
       "    </tr>\n",
       "    <tr>\n",
       "      <th>2</th>\n",
       "      <td>41090</td>\n",
       "      <td>black-and-white bean salad</td>\n",
       "      <td>NaN</td>\n",
       "      <td>['white beans', 'canned black beans', 'tomatoe...</td>\n",
       "      <td>[\"1   cup   canned white beans, rinsed and dra...</td>\n",
       "      <td>1 (807 g)</td>\n",
       "      <td>1</td>\n",
       "      <td>['In a large bowl, combine beans, tomato, onio...</td>\n",
       "      <td>['15-minutes-or-less', 'time-to-make', 'course...</td>\n",
       "      <td>{'vegetarian', 'salad', 'side', 'dinner', 'veg...</td>\n",
       "      <td>[15-minutes-or-less, time-to-make, course, mai...</td>\n",
       "      <td>False</td>\n",
       "      <td>True</td>\n",
       "      <td>{vegetarian, side, dinner, vegan, salad}</td>\n",
       "      <td>True</td>\n",
       "      <td>1</td>\n",
       "    </tr>\n",
       "    <tr>\n",
       "      <th>3</th>\n",
       "      <td>60656</td>\n",
       "      <td>Crock Pot Italian Zucchini</td>\n",
       "      <td>This is a good recipe for weight watchers. It ...</td>\n",
       "      <td>['zucchini', 'yellow squash', 'diced tomatoes'...</td>\n",
       "      <td>[\"2       zucchini, sliced \",\"2   small    yel...</td>\n",
       "      <td>1 (244 g)</td>\n",
       "      <td>4</td>\n",
       "      <td>['Put all ingredients in the crock pot and coo...</td>\n",
       "      <td>['weeknight', 'time-to-make', 'course', 'main-...</td>\n",
       "      <td>{'side', 'vegetarian', 'italian'}</td>\n",
       "      <td>[weeknight, time-to-make, course, main-ingredi...</td>\n",
       "      <td>False</td>\n",
       "      <td>True</td>\n",
       "      <td>{italian, vegetarian, side}</td>\n",
       "      <td>False</td>\n",
       "      <td>0</td>\n",
       "    </tr>\n",
       "    <tr>\n",
       "      <th>4</th>\n",
       "      <td>232047</td>\n",
       "      <td>Beef Stew With Dried Cherries</td>\n",
       "      <td>This is a fabulous stew that came from one of ...</td>\n",
       "      <td>['beef stew meat', 'flour', 'salt', 'allspice'...</td>\n",
       "      <td>[\"3   lbs    beef stew meat\",\"3   tablespoons ...</td>\n",
       "      <td>1 (358 g)</td>\n",
       "      <td>8</td>\n",
       "      <td>['Preheat oven to 350°F.', \"Cut beef into 1 in...</td>\n",
       "      <td>['time-to-make', 'course', 'main-ingredient', ...</td>\n",
       "      <td>{'dinner'}</td>\n",
       "      <td>[time-to-make, course, main-ingredient, prepar...</td>\n",
       "      <td>False</td>\n",
       "      <td>True</td>\n",
       "      <td>{dinner}</td>\n",
       "      <td>True</td>\n",
       "      <td>1</td>\n",
       "    </tr>\n",
       "  </tbody>\n",
       "</table>\n",
       "</div>"
      ],
      "text/plain": [
       "       id                                   name  \\\n",
       "0   96313            Grilled Garlic Cheese Grits   \n",
       "1  232037  Simple Shrimp and Andouille Jambalaya   \n",
       "2   41090             black-and-white bean salad   \n",
       "3   60656             Crock Pot Italian Zucchini   \n",
       "4  232047          Beef Stew With Dried Cherries   \n",
       "\n",
       "                                         description  \\\n",
       "0  We love grits, this is another good way to ser...   \n",
       "1  Simple, easy and very tasty for when you are i...   \n",
       "2                                                NaN   \n",
       "3  This is a good recipe for weight watchers. It ...   \n",
       "4  This is a fabulous stew that came from one of ...   \n",
       "\n",
       "                                         ingredients  \\\n",
       "0  ['water', 'grits', 'salt', 'cheddar cheese', '...   \n",
       "1  ['onion', 'red bell pepper', 'garlic cloves', ...   \n",
       "2  ['white beans', 'canned black beans', 'tomatoe...   \n",
       "3  ['zucchini', 'yellow squash', 'diced tomatoes'...   \n",
       "4  ['beef stew meat', 'flour', 'salt', 'allspice'...   \n",
       "\n",
       "                                 ingredients_raw_str serving_size  servings  \\\n",
       "0  [\"4   cups    water\",\"1   cup   uncooked old f...    1 (155 g)         8   \n",
       "1  [\"1   medium    onion, chopped coarse \",\"1   m...    1 (366 g)         4   \n",
       "2  [\"1   cup   canned white beans, rinsed and dra...    1 (807 g)         1   \n",
       "3  [\"2       zucchini, sliced \",\"2   small    yel...    1 (244 g)         4   \n",
       "4  [\"3   lbs    beef stew meat\",\"3   tablespoons ...    1 (358 g)         8   \n",
       "\n",
       "                                               steps  \\\n",
       "0  ['I a sauce pan, bring water to a boil; slowly...   \n",
       "1  ['In a food processor, pulse the onion, red pe...   \n",
       "2  ['In a large bowl, combine beans, tomato, onio...   \n",
       "3  ['Put all ingredients in the crock pot and coo...   \n",
       "4  ['Preheat oven to 350°F.', \"Cut beef into 1 in...   \n",
       "\n",
       "                                                tags  \\\n",
       "0  ['time-to-make', 'course', 'main-ingredient', ...   \n",
       "1  ['60-minutes-or-less', 'time-to-make', 'course...   \n",
       "2  ['15-minutes-or-less', 'time-to-make', 'course...   \n",
       "3  ['weeknight', 'time-to-make', 'course', 'main-...   \n",
       "4  ['time-to-make', 'course', 'main-ingredient', ...   \n",
       "\n",
       "                                        search_terms  \\\n",
       "0  {'diabetic', 'low-calorie', 'vegetarian', 'low...   \n",
       "1                               {'dinner', 'shrimp'}   \n",
       "2  {'vegetarian', 'salad', 'side', 'dinner', 'veg...   \n",
       "3                  {'side', 'vegetarian', 'italian'}   \n",
       "4                                         {'dinner'}   \n",
       "\n",
       "                                           tags_list  remove  target_tag  \\\n",
       "0  [time-to-make, course, main-ingredient, prepar...   False       False   \n",
       "1  [60-minutes-or-less, time-to-make, course, mai...   False       False   \n",
       "2  [15-minutes-or-less, time-to-make, course, mai...   False        True   \n",
       "3  [weeknight, time-to-make, course, main-ingredi...   False        True   \n",
       "4  [time-to-make, course, main-ingredient, prepar...   False        True   \n",
       "\n",
       "                                   search_terms_list  target_search_term  \\\n",
       "0  {low-carb, vegetarian, side, diabetic, low-cal...               False   \n",
       "1                                   {shrimp, dinner}                True   \n",
       "2           {vegetarian, side, dinner, vegan, salad}                True   \n",
       "3                        {italian, vegetarian, side}               False   \n",
       "4                                           {dinner}                True   \n",
       "\n",
       "   target  \n",
       "0       0  \n",
       "1       0  \n",
       "2       1  \n",
       "3       0  \n",
       "4       1  "
      ]
     },
     "execution_count": 35,
     "metadata": {},
     "output_type": "execute_result"
    }
   ],
   "source": [
    "df['target'] = df.apply(target_check, axis=1)\n",
    "df.head()"
   ]
  },
  {
   "cell_type": "code",
   "execution_count": 36,
   "metadata": {
    "ExecuteTime": {
     "end_time": "2021-12-03T00:45:33.562110Z",
     "start_time": "2021-12-03T00:45:33.453301Z"
    },
    "execution": {
     "iopub.execute_input": "2021-12-01T03:15:59.532003Z",
     "iopub.status.busy": "2021-12-01T03:15:59.531762Z",
     "iopub.status.idle": "2021-12-01T03:15:59.676595Z",
     "shell.execute_reply": "2021-12-01T03:15:59.675931Z",
     "shell.execute_reply.started": "2021-12-01T03:15:59.531970Z"
    }
   },
   "outputs": [],
   "source": [
    "# final clean-up action (for now) \n",
    "df.drop(['remove'], axis=1, inplace = True)"
   ]
  },
  {
   "cell_type": "code",
   "execution_count": 37,
   "metadata": {
    "ExecuteTime": {
     "end_time": "2021-12-03T00:45:33.706127Z",
     "start_time": "2021-12-03T00:45:33.596103Z"
    },
    "execution": {
     "iopub.execute_input": "2021-12-01T03:16:00.492153Z",
     "iopub.status.busy": "2021-12-01T03:16:00.491935Z",
     "iopub.status.idle": "2021-12-01T03:16:00.622941Z",
     "shell.execute_reply": "2021-12-01T03:16:00.622160Z",
     "shell.execute_reply.started": "2021-12-01T03:16:00.492127Z"
    }
   },
   "outputs": [],
   "source": [
    "import seaborn as sns"
   ]
  },
  {
   "cell_type": "code",
   "execution_count": 38,
   "metadata": {
    "ExecuteTime": {
     "end_time": "2021-12-03T00:45:33.752141Z",
     "start_time": "2021-12-03T00:45:33.739134Z"
    },
    "execution": {
     "iopub.execute_input": "2021-12-01T03:16:22.952382Z",
     "iopub.status.busy": "2021-12-01T03:16:22.952116Z",
     "iopub.status.idle": "2021-12-01T03:16:22.956353Z",
     "shell.execute_reply": "2021-12-01T03:16:22.955403Z",
     "shell.execute_reply.started": "2021-12-01T03:16:22.952350Z"
    }
   },
   "outputs": [],
   "source": [
    "import re\n"
   ]
  },
  {
   "cell_type": "code",
   "execution_count": 39,
   "metadata": {
    "ExecuteTime": {
     "end_time": "2021-12-03T00:45:33.800158Z",
     "start_time": "2021-12-03T00:45:33.786152Z"
    },
    "execution": {
     "iopub.execute_input": "2021-12-01T03:16:22.957777Z",
     "iopub.status.busy": "2021-12-01T03:16:22.957550Z",
     "iopub.status.idle": "2021-12-01T03:16:22.968455Z",
     "shell.execute_reply": "2021-12-01T03:16:22.967891Z",
     "shell.execute_reply.started": "2021-12-01T03:16:22.957749Z"
    }
   },
   "outputs": [],
   "source": [
    "def basic_cleaning(df, column):\n",
    "    ''' Takes in a dataframe and the name of the column to be cleaned.  The contents of the column \n",
    "    which need to be strings, are converted to lowercase, have their punctuation and numbers removed,\n",
    "    and are finally stripped of whitespaces\n",
    "    \n",
    "    Input:\n",
    "    df - dataframe with column to be cleaned\n",
    "    column - column containing strings\n",
    "    \n",
    "    Returns: \n",
    "    Dataframe with new, cleaned, column added'''\n",
    "    new_col = 'cleaned_' +column\n",
    "    # convert to lowercase\n",
    "    df[new_col] = df[column].apply(lambda x: x.lower())\n",
    "    \n",
    "    # remove punctuation and non-characters\n",
    "    df[new_col] = df[new_col].apply(lambda x: re.sub(r'[^\\w\\s]','',x))\n",
    "    df[new_col] = df[new_col].apply(lambda x: re.sub('[0-9\\n]',' ',x))\n",
    "\n",
    "    #strip whitespace\n",
    "    df[new_col] = df[new_col].apply(lambda x: re.sub('[ ]{2,}',' ',x))\n",
    "    \n",
    "    return df"
   ]
  },
  {
   "cell_type": "code",
   "execution_count": 40,
   "metadata": {
    "ExecuteTime": {
     "end_time": "2021-12-03T00:45:49.388077Z",
     "start_time": "2021-12-03T00:45:34.827401Z"
    },
    "execution": {
     "iopub.execute_input": "2021-12-01T03:16:22.969931Z",
     "iopub.status.busy": "2021-12-01T03:16:22.969500Z",
     "iopub.status.idle": "2021-12-01T03:16:59.583057Z",
     "shell.execute_reply": "2021-12-01T03:16:59.582212Z",
     "shell.execute_reply.started": "2021-12-01T03:16:22.969893Z"
    }
   },
   "outputs": [],
   "source": [
    "# cleaning steps column \n",
    "df = basic_cleaning(df, 'steps')"
   ]
  },
  {
   "cell_type": "code",
   "execution_count": 41,
   "metadata": {
    "ExecuteTime": {
     "end_time": "2021-12-03T00:45:54.226425Z",
     "start_time": "2021-12-03T00:45:49.422089Z"
    },
    "execution": {
     "iopub.execute_input": "2021-12-01T03:16:59.603181Z",
     "iopub.status.busy": "2021-12-01T03:16:59.602590Z",
     "iopub.status.idle": "2021-12-01T03:17:11.398382Z",
     "shell.execute_reply": "2021-12-01T03:17:11.397638Z",
     "shell.execute_reply.started": "2021-12-01T03:16:59.603138Z"
    }
   },
   "outputs": [
    {
     "data": {
      "text/html": [
       "<div>\n",
       "<style scoped>\n",
       "    .dataframe tbody tr th:only-of-type {\n",
       "        vertical-align: middle;\n",
       "    }\n",
       "\n",
       "    .dataframe tbody tr th {\n",
       "        vertical-align: top;\n",
       "    }\n",
       "\n",
       "    .dataframe thead th {\n",
       "        text-align: right;\n",
       "    }\n",
       "</style>\n",
       "<table border=\"1\" class=\"dataframe\">\n",
       "  <thead>\n",
       "    <tr style=\"text-align: right;\">\n",
       "      <th></th>\n",
       "      <th>id</th>\n",
       "      <th>name</th>\n",
       "      <th>description</th>\n",
       "      <th>ingredients</th>\n",
       "      <th>ingredients_raw_str</th>\n",
       "      <th>serving_size</th>\n",
       "      <th>servings</th>\n",
       "      <th>steps</th>\n",
       "      <th>tags</th>\n",
       "      <th>search_terms</th>\n",
       "      <th>tags_list</th>\n",
       "      <th>target_tag</th>\n",
       "      <th>search_terms_list</th>\n",
       "      <th>target_search_term</th>\n",
       "      <th>target</th>\n",
       "      <th>cleaned_steps</th>\n",
       "      <th>step_tokens</th>\n",
       "    </tr>\n",
       "  </thead>\n",
       "  <tbody>\n",
       "    <tr>\n",
       "      <th>0</th>\n",
       "      <td>96313</td>\n",
       "      <td>Grilled Garlic Cheese Grits</td>\n",
       "      <td>We love grits, this is another good way to ser...</td>\n",
       "      <td>['water', 'grits', 'salt', 'cheddar cheese', '...</td>\n",
       "      <td>[\"4   cups    water\",\"1   cup   uncooked old f...</td>\n",
       "      <td>1 (155 g)</td>\n",
       "      <td>8</td>\n",
       "      <td>['I a sauce pan, bring water to a boil; slowly...</td>\n",
       "      <td>['time-to-make', 'course', 'main-ingredient', ...</td>\n",
       "      <td>{'diabetic', 'low-calorie', 'vegetarian', 'low...</td>\n",
       "      <td>[time-to-make, course, main-ingredient, prepar...</td>\n",
       "      <td>False</td>\n",
       "      <td>{low-carb, vegetarian, side, diabetic, low-cal...</td>\n",
       "      <td>False</td>\n",
       "      <td>0</td>\n",
       "      <td>i a sauce pan bring water to a boil slowly add...</td>\n",
       "      <td>[i, a, sauce, pan, bring, water, to, a, boil, ...</td>\n",
       "    </tr>\n",
       "    <tr>\n",
       "      <th>1</th>\n",
       "      <td>232037</td>\n",
       "      <td>Simple Shrimp and Andouille Jambalaya</td>\n",
       "      <td>Simple, easy and very tasty for when you are i...</td>\n",
       "      <td>['onion', 'red bell pepper', 'garlic cloves', ...</td>\n",
       "      <td>[\"1   medium    onion, chopped coarse \",\"1   m...</td>\n",
       "      <td>1 (366 g)</td>\n",
       "      <td>4</td>\n",
       "      <td>['In a food processor, pulse the onion, red pe...</td>\n",
       "      <td>['60-minutes-or-less', 'time-to-make', 'course...</td>\n",
       "      <td>{'dinner', 'shrimp'}</td>\n",
       "      <td>[60-minutes-or-less, time-to-make, course, mai...</td>\n",
       "      <td>False</td>\n",
       "      <td>{shrimp, dinner}</td>\n",
       "      <td>True</td>\n",
       "      <td>0</td>\n",
       "      <td>in a food processor pulse the onion red pepper...</td>\n",
       "      <td>[in, a, food, processor, pulse, the, onion, re...</td>\n",
       "    </tr>\n",
       "    <tr>\n",
       "      <th>2</th>\n",
       "      <td>41090</td>\n",
       "      <td>black-and-white bean salad</td>\n",
       "      <td>NaN</td>\n",
       "      <td>['white beans', 'canned black beans', 'tomatoe...</td>\n",
       "      <td>[\"1   cup   canned white beans, rinsed and dra...</td>\n",
       "      <td>1 (807 g)</td>\n",
       "      <td>1</td>\n",
       "      <td>['In a large bowl, combine beans, tomato, onio...</td>\n",
       "      <td>['15-minutes-or-less', 'time-to-make', 'course...</td>\n",
       "      <td>{'vegetarian', 'salad', 'side', 'dinner', 'veg...</td>\n",
       "      <td>[15-minutes-or-less, time-to-make, course, mai...</td>\n",
       "      <td>True</td>\n",
       "      <td>{vegetarian, side, dinner, vegan, salad}</td>\n",
       "      <td>True</td>\n",
       "      <td>1</td>\n",
       "      <td>in a large bowl combine beans tomato onion and...</td>\n",
       "      <td>[in, a, large, bowl, combine, beans, tomato, o...</td>\n",
       "    </tr>\n",
       "    <tr>\n",
       "      <th>3</th>\n",
       "      <td>60656</td>\n",
       "      <td>Crock Pot Italian Zucchini</td>\n",
       "      <td>This is a good recipe for weight watchers. It ...</td>\n",
       "      <td>['zucchini', 'yellow squash', 'diced tomatoes'...</td>\n",
       "      <td>[\"2       zucchini, sliced \",\"2   small    yel...</td>\n",
       "      <td>1 (244 g)</td>\n",
       "      <td>4</td>\n",
       "      <td>['Put all ingredients in the crock pot and coo...</td>\n",
       "      <td>['weeknight', 'time-to-make', 'course', 'main-...</td>\n",
       "      <td>{'side', 'vegetarian', 'italian'}</td>\n",
       "      <td>[weeknight, time-to-make, course, main-ingredi...</td>\n",
       "      <td>True</td>\n",
       "      <td>{italian, vegetarian, side}</td>\n",
       "      <td>False</td>\n",
       "      <td>0</td>\n",
       "      <td>put all ingredients in the crock pot and cook ...</td>\n",
       "      <td>[put, all, ingredients, in, the, crock, pot, a...</td>\n",
       "    </tr>\n",
       "    <tr>\n",
       "      <th>4</th>\n",
       "      <td>232047</td>\n",
       "      <td>Beef Stew With Dried Cherries</td>\n",
       "      <td>This is a fabulous stew that came from one of ...</td>\n",
       "      <td>['beef stew meat', 'flour', 'salt', 'allspice'...</td>\n",
       "      <td>[\"3   lbs    beef stew meat\",\"3   tablespoons ...</td>\n",
       "      <td>1 (358 g)</td>\n",
       "      <td>8</td>\n",
       "      <td>['Preheat oven to 350°F.', \"Cut beef into 1 in...</td>\n",
       "      <td>['time-to-make', 'course', 'main-ingredient', ...</td>\n",
       "      <td>{'dinner'}</td>\n",
       "      <td>[time-to-make, course, main-ingredient, prepar...</td>\n",
       "      <td>True</td>\n",
       "      <td>{dinner}</td>\n",
       "      <td>True</td>\n",
       "      <td>1</td>\n",
       "      <td>preheat oven to f cut beef into inch cubes com...</td>\n",
       "      <td>[preheat, oven, to, f, cut, beef, into, inch, ...</td>\n",
       "    </tr>\n",
       "  </tbody>\n",
       "</table>\n",
       "</div>"
      ],
      "text/plain": [
       "       id                                   name  \\\n",
       "0   96313            Grilled Garlic Cheese Grits   \n",
       "1  232037  Simple Shrimp and Andouille Jambalaya   \n",
       "2   41090             black-and-white bean salad   \n",
       "3   60656             Crock Pot Italian Zucchini   \n",
       "4  232047          Beef Stew With Dried Cherries   \n",
       "\n",
       "                                         description  \\\n",
       "0  We love grits, this is another good way to ser...   \n",
       "1  Simple, easy and very tasty for when you are i...   \n",
       "2                                                NaN   \n",
       "3  This is a good recipe for weight watchers. It ...   \n",
       "4  This is a fabulous stew that came from one of ...   \n",
       "\n",
       "                                         ingredients  \\\n",
       "0  ['water', 'grits', 'salt', 'cheddar cheese', '...   \n",
       "1  ['onion', 'red bell pepper', 'garlic cloves', ...   \n",
       "2  ['white beans', 'canned black beans', 'tomatoe...   \n",
       "3  ['zucchini', 'yellow squash', 'diced tomatoes'...   \n",
       "4  ['beef stew meat', 'flour', 'salt', 'allspice'...   \n",
       "\n",
       "                                 ingredients_raw_str serving_size  servings  \\\n",
       "0  [\"4   cups    water\",\"1   cup   uncooked old f...    1 (155 g)         8   \n",
       "1  [\"1   medium    onion, chopped coarse \",\"1   m...    1 (366 g)         4   \n",
       "2  [\"1   cup   canned white beans, rinsed and dra...    1 (807 g)         1   \n",
       "3  [\"2       zucchini, sliced \",\"2   small    yel...    1 (244 g)         4   \n",
       "4  [\"3   lbs    beef stew meat\",\"3   tablespoons ...    1 (358 g)         8   \n",
       "\n",
       "                                               steps  \\\n",
       "0  ['I a sauce pan, bring water to a boil; slowly...   \n",
       "1  ['In a food processor, pulse the onion, red pe...   \n",
       "2  ['In a large bowl, combine beans, tomato, onio...   \n",
       "3  ['Put all ingredients in the crock pot and coo...   \n",
       "4  ['Preheat oven to 350°F.', \"Cut beef into 1 in...   \n",
       "\n",
       "                                                tags  \\\n",
       "0  ['time-to-make', 'course', 'main-ingredient', ...   \n",
       "1  ['60-minutes-or-less', 'time-to-make', 'course...   \n",
       "2  ['15-minutes-or-less', 'time-to-make', 'course...   \n",
       "3  ['weeknight', 'time-to-make', 'course', 'main-...   \n",
       "4  ['time-to-make', 'course', 'main-ingredient', ...   \n",
       "\n",
       "                                        search_terms  \\\n",
       "0  {'diabetic', 'low-calorie', 'vegetarian', 'low...   \n",
       "1                               {'dinner', 'shrimp'}   \n",
       "2  {'vegetarian', 'salad', 'side', 'dinner', 'veg...   \n",
       "3                  {'side', 'vegetarian', 'italian'}   \n",
       "4                                         {'dinner'}   \n",
       "\n",
       "                                           tags_list  target_tag  \\\n",
       "0  [time-to-make, course, main-ingredient, prepar...       False   \n",
       "1  [60-minutes-or-less, time-to-make, course, mai...       False   \n",
       "2  [15-minutes-or-less, time-to-make, course, mai...        True   \n",
       "3  [weeknight, time-to-make, course, main-ingredi...        True   \n",
       "4  [time-to-make, course, main-ingredient, prepar...        True   \n",
       "\n",
       "                                   search_terms_list  target_search_term  \\\n",
       "0  {low-carb, vegetarian, side, diabetic, low-cal...               False   \n",
       "1                                   {shrimp, dinner}                True   \n",
       "2           {vegetarian, side, dinner, vegan, salad}                True   \n",
       "3                        {italian, vegetarian, side}               False   \n",
       "4                                           {dinner}                True   \n",
       "\n",
       "   target                                      cleaned_steps  \\\n",
       "0       0  i a sauce pan bring water to a boil slowly add...   \n",
       "1       0  in a food processor pulse the onion red pepper...   \n",
       "2       1  in a large bowl combine beans tomato onion and...   \n",
       "3       0  put all ingredients in the crock pot and cook ...   \n",
       "4       1  preheat oven to f cut beef into inch cubes com...   \n",
       "\n",
       "                                         step_tokens  \n",
       "0  [i, a, sauce, pan, bring, water, to, a, boil, ...  \n",
       "1  [in, a, food, processor, pulse, the, onion, re...  \n",
       "2  [in, a, large, bowl, combine, beans, tomato, o...  \n",
       "3  [put, all, ingredients, in, the, crock, pot, a...  \n",
       "4  [preheat, oven, to, f, cut, beef, into, inch, ...  "
      ]
     },
     "execution_count": 41,
     "metadata": {},
     "output_type": "execute_result"
    }
   ],
   "source": [
    "# tokenizing steps\n",
    "df['step_tokens'] = df['cleaned_steps'].apply(lambda x: x.split())\n",
    "df.head()"
   ]
  },
  {
   "cell_type": "code",
   "execution_count": 42,
   "metadata": {
    "ExecuteTime": {
     "end_time": "2021-12-03T00:46:34.856418Z",
     "start_time": "2021-12-03T00:45:54.260428Z"
    },
    "execution": {
     "iopub.execute_input": "2021-12-01T03:17:11.399852Z",
     "iopub.status.busy": "2021-12-01T03:17:11.399542Z",
     "iopub.status.idle": "2021-12-01T03:17:56.029175Z",
     "shell.execute_reply": "2021-12-01T03:17:56.028298Z",
     "shell.execute_reply.started": "2021-12-01T03:17:11.399823Z"
    }
   },
   "outputs": [],
   "source": [
    "# geting word counts\n",
    "token_count = lists_to_count(df, 'step_tokens', series = True).sort_values(ascending=False)"
   ]
  },
  {
   "cell_type": "code",
   "execution_count": 43,
   "metadata": {
    "ExecuteTime": {
     "end_time": "2021-12-03T00:46:34.904410Z",
     "start_time": "2021-12-03T00:46:34.890409Z"
    },
    "execution": {
     "iopub.execute_input": "2021-12-01T03:17:56.425110Z",
     "iopub.status.busy": "2021-12-01T03:17:56.424858Z",
     "iopub.status.idle": "2021-12-01T03:17:56.429235Z",
     "shell.execute_reply": "2021-12-01T03:17:56.428599Z",
     "shell.execute_reply.started": "2021-12-01T03:17:56.425079Z"
    }
   },
   "outputs": [],
   "source": [
    "from nltk.corpus import stopwords"
   ]
  },
  {
   "cell_type": "code",
   "execution_count": 44,
   "metadata": {
    "ExecuteTime": {
     "end_time": "2021-12-03T00:46:34.952434Z",
     "start_time": "2021-12-03T00:46:34.938421Z"
    },
    "execution": {
     "iopub.execute_input": "2021-12-01T03:17:56.430873Z",
     "iopub.status.busy": "2021-12-01T03:17:56.430399Z",
     "iopub.status.idle": "2021-12-01T03:17:56.450233Z",
     "shell.execute_reply": "2021-12-01T03:17:56.449219Z",
     "shell.execute_reply.started": "2021-12-01T03:17:56.430829Z"
    }
   },
   "outputs": [
    {
     "data": {
      "text/plain": [
       "['i', 'me', 'my', 'myself', 'we', 'our', 'ours', 'ourselves', 'you', \"you're\"]"
      ]
     },
     "execution_count": 44,
     "metadata": {},
     "output_type": "execute_result"
    }
   ],
   "source": [
    "# creating a list of the nltk's English-language stopwords\n",
    "stop_words = stopwords.words('english')\n",
    "stop_words[:10]"
   ]
  },
  {
   "cell_type": "code",
   "execution_count": 45,
   "metadata": {
    "ExecuteTime": {
     "end_time": "2021-12-03T00:46:35.000430Z",
     "start_time": "2021-12-03T00:46:34.986428Z"
    },
    "execution": {
     "iopub.execute_input": "2021-12-01T03:17:56.451822Z",
     "iopub.status.busy": "2021-12-01T03:17:56.451421Z",
     "iopub.status.idle": "2021-12-01T03:17:56.455964Z",
     "shell.execute_reply": "2021-12-01T03:17:56.455367Z",
     "shell.execute_reply.started": "2021-12-01T03:17:56.451783Z"
    }
   },
   "outputs": [],
   "source": [
    "# a small function to quickly remove stopwords from the 'step_tokens' column \n",
    "def remove_stop_words(count, stop_words):\n",
    "    for x in count.index:\n",
    "        if x in stop_words:\n",
    "            count = count.drop(x)\n",
    "    \n",
    "    return count"
   ]
  },
  {
   "cell_type": "code",
   "execution_count": 46,
   "metadata": {
    "ExecuteTime": {
     "end_time": "2021-12-03T00:46:46.073929Z",
     "start_time": "2021-12-03T00:46:35.035439Z"
    },
    "execution": {
     "iopub.execute_input": "2021-12-01T03:17:56.457293Z",
     "iopub.status.busy": "2021-12-01T03:17:56.456983Z",
     "iopub.status.idle": "2021-12-01T03:18:09.009868Z",
     "shell.execute_reply": "2021-12-01T03:18:09.009024Z",
     "shell.execute_reply.started": "2021-12-01T03:17:56.457265Z"
    }
   },
   "outputs": [],
   "source": [
    "token_count = remove_stop_words(token_count, stop_words)\n"
   ]
  },
  {
   "cell_type": "code",
   "execution_count": 47,
   "metadata": {
    "ExecuteTime": {
     "end_time": "2021-12-03T00:46:46.726082Z",
     "start_time": "2021-12-03T00:46:46.104930Z"
    }
   },
   "outputs": [
    {
     "name": "stdout",
     "output_type": "stream",
     "text": [
      "<class 'pandas.core.frame.DataFrame'>\n",
      "Int64Index: 491759 entries, 0 to 494962\n",
      "Data columns (total 17 columns):\n",
      " #   Column               Non-Null Count   Dtype \n",
      "---  ------               --------------   ----- \n",
      " 0   id                   491759 non-null  int64 \n",
      " 1   name                 491759 non-null  object\n",
      " 2   description          482239 non-null  object\n",
      " 3   ingredients          491759 non-null  object\n",
      " 4   ingredients_raw_str  491759 non-null  object\n",
      " 5   serving_size         491759 non-null  object\n",
      " 6   servings             491759 non-null  int64 \n",
      " 7   steps                491759 non-null  object\n",
      " 8   tags                 491759 non-null  object\n",
      " 9   search_terms         491759 non-null  object\n",
      " 10  tags_list            491759 non-null  object\n",
      " 11  target_tag           491759 non-null  bool  \n",
      " 12  search_terms_list    491759 non-null  object\n",
      " 13  target_search_term   491759 non-null  bool  \n",
      " 14  target               491759 non-null  int64 \n",
      " 15  cleaned_steps        491759 non-null  object\n",
      " 16  step_tokens          491759 non-null  object\n",
      "dtypes: bool(2), int64(3), object(12)\n",
      "memory usage: 61.0+ MB\n"
     ]
    }
   ],
   "source": [
    "df.info()"
   ]
  },
  {
   "cell_type": "code",
   "execution_count": 48,
   "metadata": {
    "ExecuteTime": {
     "end_time": "2021-12-03T00:46:46.883341Z",
     "start_time": "2021-12-03T00:46:46.759082Z"
    }
   },
   "outputs": [],
   "source": [
    "\n",
    "\n",
    "df.description = df.description.astype(str)"
   ]
  },
  {
   "cell_type": "code",
   "execution_count": 49,
   "metadata": {
    "ExecuteTime": {
     "end_time": "2021-12-03T00:46:54.859133Z",
     "start_time": "2021-12-03T00:46:46.915359Z"
    },
    "execution": {
     "iopub.execute_input": "2021-12-01T03:18:09.415584Z",
     "iopub.status.busy": "2021-12-01T03:18:09.415277Z",
     "iopub.status.idle": "2021-12-01T03:18:25.512665Z",
     "shell.execute_reply": "2021-12-01T03:18:25.511733Z",
     "shell.execute_reply.started": "2021-12-01T03:18:09.415541Z"
    },
    "scrolled": true
   },
   "outputs": [
    {
     "data": {
      "text/html": [
       "<div>\n",
       "<style scoped>\n",
       "    .dataframe tbody tr th:only-of-type {\n",
       "        vertical-align: middle;\n",
       "    }\n",
       "\n",
       "    .dataframe tbody tr th {\n",
       "        vertical-align: top;\n",
       "    }\n",
       "\n",
       "    .dataframe thead th {\n",
       "        text-align: right;\n",
       "    }\n",
       "</style>\n",
       "<table border=\"1\" class=\"dataframe\">\n",
       "  <thead>\n",
       "    <tr style=\"text-align: right;\">\n",
       "      <th></th>\n",
       "      <th>id</th>\n",
       "      <th>name</th>\n",
       "      <th>description</th>\n",
       "      <th>ingredients</th>\n",
       "      <th>ingredients_raw_str</th>\n",
       "      <th>serving_size</th>\n",
       "      <th>servings</th>\n",
       "      <th>steps</th>\n",
       "      <th>tags</th>\n",
       "      <th>search_terms</th>\n",
       "      <th>tags_list</th>\n",
       "      <th>target_tag</th>\n",
       "      <th>search_terms_list</th>\n",
       "      <th>target_search_term</th>\n",
       "      <th>target</th>\n",
       "      <th>cleaned_steps</th>\n",
       "      <th>step_tokens</th>\n",
       "      <th>cleaned_description</th>\n",
       "      <th>description_tokens</th>\n",
       "    </tr>\n",
       "  </thead>\n",
       "  <tbody>\n",
       "    <tr>\n",
       "      <th>0</th>\n",
       "      <td>96313</td>\n",
       "      <td>Grilled Garlic Cheese Grits</td>\n",
       "      <td>We love grits, this is another good way to ser...</td>\n",
       "      <td>['water', 'grits', 'salt', 'cheddar cheese', '...</td>\n",
       "      <td>[\"4   cups    water\",\"1   cup   uncooked old f...</td>\n",
       "      <td>1 (155 g)</td>\n",
       "      <td>8</td>\n",
       "      <td>['I a sauce pan, bring water to a boil; slowly...</td>\n",
       "      <td>['time-to-make', 'course', 'main-ingredient', ...</td>\n",
       "      <td>{'diabetic', 'low-calorie', 'vegetarian', 'low...</td>\n",
       "      <td>[time-to-make, course, main-ingredient, prepar...</td>\n",
       "      <td>False</td>\n",
       "      <td>{low-carb, vegetarian, side, diabetic, low-cal...</td>\n",
       "      <td>False</td>\n",
       "      <td>0</td>\n",
       "      <td>i a sauce pan bring water to a boil slowly add...</td>\n",
       "      <td>[i, a, sauce, pan, bring, water, to, a, boil, ...</td>\n",
       "      <td>we love grits this is another good way to serv...</td>\n",
       "      <td>[we, love, grits, this, is, another, good, way...</td>\n",
       "    </tr>\n",
       "    <tr>\n",
       "      <th>1</th>\n",
       "      <td>232037</td>\n",
       "      <td>Simple Shrimp and Andouille Jambalaya</td>\n",
       "      <td>Simple, easy and very tasty for when you are i...</td>\n",
       "      <td>['onion', 'red bell pepper', 'garlic cloves', ...</td>\n",
       "      <td>[\"1   medium    onion, chopped coarse \",\"1   m...</td>\n",
       "      <td>1 (366 g)</td>\n",
       "      <td>4</td>\n",
       "      <td>['In a food processor, pulse the onion, red pe...</td>\n",
       "      <td>['60-minutes-or-less', 'time-to-make', 'course...</td>\n",
       "      <td>{'dinner', 'shrimp'}</td>\n",
       "      <td>[60-minutes-or-less, time-to-make, course, mai...</td>\n",
       "      <td>False</td>\n",
       "      <td>{shrimp, dinner}</td>\n",
       "      <td>True</td>\n",
       "      <td>0</td>\n",
       "      <td>in a food processor pulse the onion red pepper...</td>\n",
       "      <td>[in, a, food, processor, pulse, the, onion, re...</td>\n",
       "      <td>simple easy and very tasty for when you are in...</td>\n",
       "      <td>[simple, easy, and, very, tasty, for, when, yo...</td>\n",
       "    </tr>\n",
       "    <tr>\n",
       "      <th>2</th>\n",
       "      <td>41090</td>\n",
       "      <td>black-and-white bean salad</td>\n",
       "      <td>nan</td>\n",
       "      <td>['white beans', 'canned black beans', 'tomatoe...</td>\n",
       "      <td>[\"1   cup   canned white beans, rinsed and dra...</td>\n",
       "      <td>1 (807 g)</td>\n",
       "      <td>1</td>\n",
       "      <td>['In a large bowl, combine beans, tomato, onio...</td>\n",
       "      <td>['15-minutes-or-less', 'time-to-make', 'course...</td>\n",
       "      <td>{'vegetarian', 'salad', 'side', 'dinner', 'veg...</td>\n",
       "      <td>[15-minutes-or-less, time-to-make, course, mai...</td>\n",
       "      <td>True</td>\n",
       "      <td>{vegetarian, side, dinner, vegan, salad}</td>\n",
       "      <td>True</td>\n",
       "      <td>1</td>\n",
       "      <td>in a large bowl combine beans tomato onion and...</td>\n",
       "      <td>[in, a, large, bowl, combine, beans, tomato, o...</td>\n",
       "      <td>nan</td>\n",
       "      <td>[nan]</td>\n",
       "    </tr>\n",
       "    <tr>\n",
       "      <th>3</th>\n",
       "      <td>60656</td>\n",
       "      <td>Crock Pot Italian Zucchini</td>\n",
       "      <td>This is a good recipe for weight watchers. It ...</td>\n",
       "      <td>['zucchini', 'yellow squash', 'diced tomatoes'...</td>\n",
       "      <td>[\"2       zucchini, sliced \",\"2   small    yel...</td>\n",
       "      <td>1 (244 g)</td>\n",
       "      <td>4</td>\n",
       "      <td>['Put all ingredients in the crock pot and coo...</td>\n",
       "      <td>['weeknight', 'time-to-make', 'course', 'main-...</td>\n",
       "      <td>{'side', 'vegetarian', 'italian'}</td>\n",
       "      <td>[weeknight, time-to-make, course, main-ingredi...</td>\n",
       "      <td>True</td>\n",
       "      <td>{italian, vegetarian, side}</td>\n",
       "      <td>False</td>\n",
       "      <td>0</td>\n",
       "      <td>put all ingredients in the crock pot and cook ...</td>\n",
       "      <td>[put, all, ingredients, in, the, crock, pot, a...</td>\n",
       "      <td>this is a good recipe for weight watchers it i...</td>\n",
       "      <td>[this, is, a, good, recipe, for, weight, watch...</td>\n",
       "    </tr>\n",
       "    <tr>\n",
       "      <th>4</th>\n",
       "      <td>232047</td>\n",
       "      <td>Beef Stew With Dried Cherries</td>\n",
       "      <td>This is a fabulous stew that came from one of ...</td>\n",
       "      <td>['beef stew meat', 'flour', 'salt', 'allspice'...</td>\n",
       "      <td>[\"3   lbs    beef stew meat\",\"3   tablespoons ...</td>\n",
       "      <td>1 (358 g)</td>\n",
       "      <td>8</td>\n",
       "      <td>['Preheat oven to 350°F.', \"Cut beef into 1 in...</td>\n",
       "      <td>['time-to-make', 'course', 'main-ingredient', ...</td>\n",
       "      <td>{'dinner'}</td>\n",
       "      <td>[time-to-make, course, main-ingredient, prepar...</td>\n",
       "      <td>True</td>\n",
       "      <td>{dinner}</td>\n",
       "      <td>True</td>\n",
       "      <td>1</td>\n",
       "      <td>preheat oven to f cut beef into inch cubes com...</td>\n",
       "      <td>[preheat, oven, to, f, cut, beef, into, inch, ...</td>\n",
       "      <td>this is a fabulous stew that came from one of ...</td>\n",
       "      <td>[this, is, a, fabulous, stew, that, came, from...</td>\n",
       "    </tr>\n",
       "  </tbody>\n",
       "</table>\n",
       "</div>"
      ],
      "text/plain": [
       "       id                                   name  \\\n",
       "0   96313            Grilled Garlic Cheese Grits   \n",
       "1  232037  Simple Shrimp and Andouille Jambalaya   \n",
       "2   41090             black-and-white bean salad   \n",
       "3   60656             Crock Pot Italian Zucchini   \n",
       "4  232047          Beef Stew With Dried Cherries   \n",
       "\n",
       "                                         description  \\\n",
       "0  We love grits, this is another good way to ser...   \n",
       "1  Simple, easy and very tasty for when you are i...   \n",
       "2                                                nan   \n",
       "3  This is a good recipe for weight watchers. It ...   \n",
       "4  This is a fabulous stew that came from one of ...   \n",
       "\n",
       "                                         ingredients  \\\n",
       "0  ['water', 'grits', 'salt', 'cheddar cheese', '...   \n",
       "1  ['onion', 'red bell pepper', 'garlic cloves', ...   \n",
       "2  ['white beans', 'canned black beans', 'tomatoe...   \n",
       "3  ['zucchini', 'yellow squash', 'diced tomatoes'...   \n",
       "4  ['beef stew meat', 'flour', 'salt', 'allspice'...   \n",
       "\n",
       "                                 ingredients_raw_str serving_size  servings  \\\n",
       "0  [\"4   cups    water\",\"1   cup   uncooked old f...    1 (155 g)         8   \n",
       "1  [\"1   medium    onion, chopped coarse \",\"1   m...    1 (366 g)         4   \n",
       "2  [\"1   cup   canned white beans, rinsed and dra...    1 (807 g)         1   \n",
       "3  [\"2       zucchini, sliced \",\"2   small    yel...    1 (244 g)         4   \n",
       "4  [\"3   lbs    beef stew meat\",\"3   tablespoons ...    1 (358 g)         8   \n",
       "\n",
       "                                               steps  \\\n",
       "0  ['I a sauce pan, bring water to a boil; slowly...   \n",
       "1  ['In a food processor, pulse the onion, red pe...   \n",
       "2  ['In a large bowl, combine beans, tomato, onio...   \n",
       "3  ['Put all ingredients in the crock pot and coo...   \n",
       "4  ['Preheat oven to 350°F.', \"Cut beef into 1 in...   \n",
       "\n",
       "                                                tags  \\\n",
       "0  ['time-to-make', 'course', 'main-ingredient', ...   \n",
       "1  ['60-minutes-or-less', 'time-to-make', 'course...   \n",
       "2  ['15-minutes-or-less', 'time-to-make', 'course...   \n",
       "3  ['weeknight', 'time-to-make', 'course', 'main-...   \n",
       "4  ['time-to-make', 'course', 'main-ingredient', ...   \n",
       "\n",
       "                                        search_terms  \\\n",
       "0  {'diabetic', 'low-calorie', 'vegetarian', 'low...   \n",
       "1                               {'dinner', 'shrimp'}   \n",
       "2  {'vegetarian', 'salad', 'side', 'dinner', 'veg...   \n",
       "3                  {'side', 'vegetarian', 'italian'}   \n",
       "4                                         {'dinner'}   \n",
       "\n",
       "                                           tags_list  target_tag  \\\n",
       "0  [time-to-make, course, main-ingredient, prepar...       False   \n",
       "1  [60-minutes-or-less, time-to-make, course, mai...       False   \n",
       "2  [15-minutes-or-less, time-to-make, course, mai...        True   \n",
       "3  [weeknight, time-to-make, course, main-ingredi...        True   \n",
       "4  [time-to-make, course, main-ingredient, prepar...        True   \n",
       "\n",
       "                                   search_terms_list  target_search_term  \\\n",
       "0  {low-carb, vegetarian, side, diabetic, low-cal...               False   \n",
       "1                                   {shrimp, dinner}                True   \n",
       "2           {vegetarian, side, dinner, vegan, salad}                True   \n",
       "3                        {italian, vegetarian, side}               False   \n",
       "4                                           {dinner}                True   \n",
       "\n",
       "   target                                      cleaned_steps  \\\n",
       "0       0  i a sauce pan bring water to a boil slowly add...   \n",
       "1       0  in a food processor pulse the onion red pepper...   \n",
       "2       1  in a large bowl combine beans tomato onion and...   \n",
       "3       0  put all ingredients in the crock pot and cook ...   \n",
       "4       1  preheat oven to f cut beef into inch cubes com...   \n",
       "\n",
       "                                         step_tokens  \\\n",
       "0  [i, a, sauce, pan, bring, water, to, a, boil, ...   \n",
       "1  [in, a, food, processor, pulse, the, onion, re...   \n",
       "2  [in, a, large, bowl, combine, beans, tomato, o...   \n",
       "3  [put, all, ingredients, in, the, crock, pot, a...   \n",
       "4  [preheat, oven, to, f, cut, beef, into, inch, ...   \n",
       "\n",
       "                                 cleaned_description  \\\n",
       "0  we love grits this is another good way to serv...   \n",
       "1  simple easy and very tasty for when you are in...   \n",
       "2                                                nan   \n",
       "3  this is a good recipe for weight watchers it i...   \n",
       "4  this is a fabulous stew that came from one of ...   \n",
       "\n",
       "                                  description_tokens  \n",
       "0  [we, love, grits, this, is, another, good, way...  \n",
       "1  [simple, easy, and, very, tasty, for, when, yo...  \n",
       "2                                              [nan]  \n",
       "3  [this, is, a, good, recipe, for, weight, watch...  \n",
       "4  [this, is, a, fabulous, stew, that, came, from...  "
      ]
     },
     "execution_count": 49,
     "metadata": {},
     "output_type": "execute_result"
    }
   ],
   "source": [
    "# cleaning and tokenizing 'description'\n",
    "df = basic_cleaning(df, 'description')\n",
    "df['description_tokens'] = df['cleaned_description'].apply(lambda x: x.split())\n",
    "df.head()"
   ]
  },
  {
   "cell_type": "code",
   "execution_count": 50,
   "metadata": {
    "ExecuteTime": {
     "end_time": "2021-12-03T00:47:08.628505Z",
     "start_time": "2021-12-03T00:46:54.893140Z"
    },
    "execution": {
     "iopub.execute_input": "2021-12-01T03:18:25.514201Z",
     "iopub.status.busy": "2021-12-01T03:18:25.513945Z",
     "iopub.status.idle": "2021-12-01T03:18:42.554628Z",
     "shell.execute_reply": "2021-12-01T03:18:42.553735Z",
     "shell.execute_reply.started": "2021-12-01T03:18:25.514169Z"
    }
   },
   "outputs": [],
   "source": [
    "# getting word count\n",
    "description_count = lists_to_count(df, 'description_tokens', series = True).sort_values(ascending=False)"
   ]
  },
  {
   "cell_type": "code",
   "execution_count": 51,
   "metadata": {
    "ExecuteTime": {
     "end_time": "2021-12-03T00:47:18.497837Z",
     "start_time": "2021-12-03T00:47:08.662494Z"
    },
    "execution": {
     "iopub.execute_input": "2021-12-01T03:18:42.939753Z",
     "iopub.status.busy": "2021-12-01T03:18:42.939481Z",
     "iopub.status.idle": "2021-12-01T03:18:54.057220Z",
     "shell.execute_reply": "2021-12-01T03:18:54.056021Z",
     "shell.execute_reply.started": "2021-12-01T03:18:42.939716Z"
    }
   },
   "outputs": [],
   "source": [
    "# remove stopwords from 'description_count'\n",
    "description_count = remove_stop_words(description_count, stop_words)\n"
   ]
  },
  {
   "cell_type": "markdown",
   "metadata": {},
   "source": [
    "## Baseline Model\n",
    "\n",
    "This model uses the length data generated earlier to ensure that NLP is an appropriate approach for predicting the difficulty level of a recipe. To begin with we'll create a dataframe that only uses the 'num' columns in the current dataframe."
   ]
  },
  {
   "cell_type": "code",
   "execution_count": 52,
   "metadata": {
    "ExecuteTime": {
     "end_time": "2021-12-03T00:47:18.721852Z",
     "start_time": "2021-12-03T00:47:18.530834Z"
    },
    "execution": {
     "iopub.execute_input": "2021-12-01T03:18:54.438632Z",
     "iopub.status.busy": "2021-12-01T03:18:54.438446Z",
     "iopub.status.idle": "2021-12-01T03:18:54.658718Z",
     "shell.execute_reply": "2021-12-01T03:18:54.657807Z",
     "shell.execute_reply.started": "2021-12-01T03:18:54.438608Z"
    }
   },
   "outputs": [],
   "source": [
    "\n",
    "\n",
    "from sklearn.model_selection import train_test_split\n",
    "from sklearn.preprocessing import StandardScaler\n",
    "from sklearn.linear_model import LogisticRegression\n",
    "from sklearn.model_selection import cross_validate\n",
    "from sklearn.model_selection import GridSearchCV\n",
    "from sklearn.metrics import roc_auc_score, plot_confusion_matrix, plot_roc_curve, accuracy_score, precision_score, recall_score, f1_score\n",
    "from sklearn.feature_extraction.text import CountVectorizer, TfidfVectorizer\n",
    "\n",
    "from imblearn.under_sampling import RandomUnderSampler\n"
   ]
  },
  {
   "cell_type": "code",
   "execution_count": 53,
   "metadata": {
    "ExecuteTime": {
     "end_time": "2021-12-03T00:47:18.784868Z",
     "start_time": "2021-12-03T00:47:18.770865Z"
    },
    "execution": {
     "iopub.execute_input": "2021-12-01T03:18:55.560460Z",
     "iopub.status.busy": "2021-12-01T03:18:55.559926Z",
     "iopub.status.idle": "2021-12-01T03:18:55.581256Z",
     "shell.execute_reply": "2021-12-01T03:18:55.580303Z",
     "shell.execute_reply.started": "2021-12-01T03:18:55.560415Z"
    }
   },
   "outputs": [],
   "source": [
    "def evaluate(estimator, X_tr, X_te, y_tr, y_te, cv=5):\n",
    "    '''\n",
    "Function takes in estimator, training data, test data, \n",
    "and the cross validation splitting strategy, and returns the accuracy, precision, recall, f1 and the ROC-AUC\n",
    "scores for the model as well as a confusion matrix visualization.  From Phase 3 Project: \n",
    "https://github.com/Nindorph/TanzanianWaterWells/blob/main/Modeling_Final.ipynb and Lindsey Berlin’s evaluate function\n",
    "found at: \n",
    "https://github.com/lindseyberlin/Cat-in-the-Dat-Project/blob/main/notebooks/Lindsey/EDA-Initial-Models.ipynb\n",
    "------------------------------------------------------------------------------------------\n",
    "Inputs: \n",
    "-Estimator - Estimator object  \n",
    "-X_tr – X_train dataframe\n",
    "-X_te – X_test dataframe\n",
    "-Y_tr – y_train dataframe\n",
    "-Y_te – y_test dataframe\n",
    "-Cv – If cross_val  set to true this determines the cross-validation splitting strategy.  \n",
    "        Takes in all value options for sklearn.model_selection_cross_val_score “cv” parameter:\n",
    "        - None, to use the default 5-fold cross validation,\n",
    "        - int, to specify the number of folds in a (Stratified)KFold,\n",
    "        - CV splitter,\n",
    "        - An iterable yielding (train, test) splits as arrays of indices\n",
    "\n",
    "\n",
    "Returns – nothing is returned \n",
    "\n",
    "\n",
    "    '''\n",
    "    #If no grid search is being performed, go through evaluation steps as normal, including cross validation\n",
    "    #Cross-Validate\n",
    "    output = cross_validate(estimator, X_tr, y_tr, cv=cv,\n",
    "                            scoring=['accuracy', 'precision','recall', 'f1', 'roc_auc'])\n",
    "    #Printing out the mean of all of our evaluating metrics across the cross validation. \n",
    "    #Accuracy, precisionc recall, f1, and roc auc\n",
    "    print('Results of Cross-Validation:\\n')\n",
    "    print(f'Average accuracy: {output[\"test_accuracy\"].mean()}\\\n",
    "    +/- {output[\"test_accuracy\"].std()}')\n",
    "    print(f'Average precision: {output[\"test_precision\"].mean()}\\\n",
    "    +/- {output[\"test_precision\"].std()}')\n",
    "    print(f'**Average recall: {output[\"test_recall\"].mean()}\\\n",
    "    +/- {output[\"test_recall\"].std()}')\n",
    "    print(f'Average f1 score: {output[\"test_f1\"].mean()}\\\n",
    "    +/- {output[\"test_f1\"].std()}')\n",
    "    print(f'Average roc_auc: {output[\"test_roc_auc\"].mean()}\\\n",
    "    +/- {output[\"test_roc_auc\"].std()}\\n')\n",
    "    print('+'*20)\n",
    "    \n",
    "        \n",
    "    #Fitting the estimator to our X and y train data\n",
    "    estimator.fit(X_tr, y_tr)\n",
    "    #getting predictions for X train\n",
    "    tr_preds = estimator.predict(X_tr)\n",
    "    #getting predictions for X test\n",
    "    te_preds = estimator.predict(X_te)\n",
    "        \n",
    "    #Creating a confusion matrix from our data with custom labels\n",
    "    print('\\nResults of Train-Test Split Validation:')\n",
    "    plot_confusion_matrix(estimator, X_te, y_te, cmap='mako')\n",
    "    plt.show()\n",
    "        \n",
    "    #Printing our final evaluating metrics across X train\n",
    "    #Evaluating using accuracy, precision, recall, f1, roc auc\n",
    "    print(\"\\nTraining Scores:\")\n",
    "    print(f\"Train accuracy: {accuracy_score(y_tr, tr_preds)}\")\n",
    "    print(f\"Train precision: {precision_score(y_tr, tr_preds)}\")\n",
    "    print(f\"**Train recall: {recall_score(y_tr, tr_preds)}\")\n",
    "    print(f\"Train f1 score: {f1_score(y_tr, tr_preds)}\")\n",
    "    print(f\"Train roc_auc: {roc_auc_score(y_tr, tr_preds)}\\n\")\n",
    "    print(\"<>\"*10)\n",
    "    #Printing our final evaluating metrics across X test\n",
    "    #Evaluating using accuracy, precision, recall, f1, roc auc\n",
    "    print(\"\\nTesting Scores:\")\n",
    "    print(f\"Test accuracy: {accuracy_score(y_te, te_preds)}\")\n",
    "    print(f\"Test precision: {precision_score(y_te, te_preds)}\")\n",
    "    print(f\"**Test recall: {recall_score(y_te, te_preds)}\")\n",
    "    print(f\"Test f1 score: {f1_score(y_te, te_preds)}\")\n",
    "    print(f\"Test roc_auc: {roc_auc_score(y_te, te_preds)}\")\n"
   ]
  },
  {
   "cell_type": "code",
   "execution_count": 54,
   "metadata": {
    "ExecuteTime": {
     "end_time": "2021-12-03T00:47:19.117941Z",
     "start_time": "2021-12-03T00:47:18.817874Z"
    },
    "execution": {
     "iopub.execute_input": "2021-12-01T03:18:58.597715Z",
     "iopub.status.busy": "2021-12-01T03:18:58.597454Z",
     "iopub.status.idle": "2021-12-01T03:18:58.648714Z",
     "shell.execute_reply": "2021-12-01T03:18:58.647771Z",
     "shell.execute_reply.started": "2021-12-01T03:18:58.597665Z"
    }
   },
   "outputs": [
    {
     "data": {
      "text/html": [
       "<div>\n",
       "<style scoped>\n",
       "    .dataframe tbody tr th:only-of-type {\n",
       "        vertical-align: middle;\n",
       "    }\n",
       "\n",
       "    .dataframe tbody tr th {\n",
       "        vertical-align: top;\n",
       "    }\n",
       "\n",
       "    .dataframe thead th {\n",
       "        text-align: right;\n",
       "    }\n",
       "</style>\n",
       "<table border=\"1\" class=\"dataframe\">\n",
       "  <thead>\n",
       "    <tr style=\"text-align: right;\">\n",
       "      <th></th>\n",
       "      <th>ingredients</th>\n",
       "      <th>description</th>\n",
       "      <th>steps</th>\n",
       "      <th>target</th>\n",
       "    </tr>\n",
       "  </thead>\n",
       "  <tbody>\n",
       "    <tr>\n",
       "      <th>0</th>\n",
       "      <td>['water', 'grits', 'salt', 'cheddar cheese', '...</td>\n",
       "      <td>We love grits, this is another good way to ser...</td>\n",
       "      <td>['I a sauce pan, bring water to a boil; slowly...</td>\n",
       "      <td>0</td>\n",
       "    </tr>\n",
       "    <tr>\n",
       "      <th>1</th>\n",
       "      <td>['onion', 'red bell pepper', 'garlic cloves', ...</td>\n",
       "      <td>Simple, easy and very tasty for when you are i...</td>\n",
       "      <td>['In a food processor, pulse the onion, red pe...</td>\n",
       "      <td>0</td>\n",
       "    </tr>\n",
       "    <tr>\n",
       "      <th>2</th>\n",
       "      <td>['white beans', 'canned black beans', 'tomatoe...</td>\n",
       "      <td>nan</td>\n",
       "      <td>['In a large bowl, combine beans, tomato, onio...</td>\n",
       "      <td>1</td>\n",
       "    </tr>\n",
       "    <tr>\n",
       "      <th>3</th>\n",
       "      <td>['zucchini', 'yellow squash', 'diced tomatoes'...</td>\n",
       "      <td>This is a good recipe for weight watchers. It ...</td>\n",
       "      <td>['Put all ingredients in the crock pot and coo...</td>\n",
       "      <td>0</td>\n",
       "    </tr>\n",
       "    <tr>\n",
       "      <th>4</th>\n",
       "      <td>['beef stew meat', 'flour', 'salt', 'allspice'...</td>\n",
       "      <td>This is a fabulous stew that came from one of ...</td>\n",
       "      <td>['Preheat oven to 350°F.', \"Cut beef into 1 in...</td>\n",
       "      <td>1</td>\n",
       "    </tr>\n",
       "  </tbody>\n",
       "</table>\n",
       "</div>"
      ],
      "text/plain": [
       "                                         ingredients  \\\n",
       "0  ['water', 'grits', 'salt', 'cheddar cheese', '...   \n",
       "1  ['onion', 'red bell pepper', 'garlic cloves', ...   \n",
       "2  ['white beans', 'canned black beans', 'tomatoe...   \n",
       "3  ['zucchini', 'yellow squash', 'diced tomatoes'...   \n",
       "4  ['beef stew meat', 'flour', 'salt', 'allspice'...   \n",
       "\n",
       "                                         description  \\\n",
       "0  We love grits, this is another good way to ser...   \n",
       "1  Simple, easy and very tasty for when you are i...   \n",
       "2                                                nan   \n",
       "3  This is a good recipe for weight watchers. It ...   \n",
       "4  This is a fabulous stew that came from one of ...   \n",
       "\n",
       "                                               steps  target  \n",
       "0  ['I a sauce pan, bring water to a boil; slowly...       0  \n",
       "1  ['In a food processor, pulse the onion, red pe...       0  \n",
       "2  ['In a large bowl, combine beans, tomato, onio...       1  \n",
       "3  ['Put all ingredients in the crock pot and coo...       0  \n",
       "4  ['Preheat oven to 350°F.', \"Cut beef into 1 in...       1  "
      ]
     },
     "execution_count": 54,
     "metadata": {},
     "output_type": "execute_result"
    }
   ],
   "source": [
    "# creating a dataframe with the text that will be used in the model as well as the target\n",
    "df_strings = df[['ingredients','description','steps','target']]\n",
    "df_strings.head()"
   ]
  },
  {
   "cell_type": "code",
   "execution_count": 55,
   "metadata": {
    "ExecuteTime": {
     "end_time": "2021-12-03T00:47:44.637413Z",
     "start_time": "2021-12-03T00:47:19.166953Z"
    },
    "execution": {
     "iopub.execute_input": "2021-12-01T03:18:58.650292Z",
     "iopub.status.busy": "2021-12-01T03:18:58.650080Z",
     "iopub.status.idle": "2021-12-01T03:20:14.582237Z",
     "shell.execute_reply": "2021-12-01T03:20:14.581073Z",
     "shell.execute_reply.started": "2021-12-01T03:18:58.650265Z"
    }
   },
   "outputs": [],
   "source": [
    "# use the basic_cleaning function on each non-list column of the dataframe \n",
    "df_strings = basic_cleaning(df_strings, 'description')\n",
    "df_strings = basic_cleaning(df_strings, 'steps')\n",
    "df_strings = basic_cleaning(df_strings, 'ingredients')"
   ]
  },
  {
   "cell_type": "code",
   "execution_count": 56,
   "metadata": {
    "ExecuteTime": {
     "end_time": "2021-12-03T00:47:44.921471Z",
     "start_time": "2021-12-03T00:47:44.687406Z"
    },
    "execution": {
     "iopub.execute_input": "2021-12-01T03:20:14.601778Z",
     "iopub.status.busy": "2021-12-01T03:20:14.601368Z",
     "iopub.status.idle": "2021-12-01T03:20:14.899567Z",
     "shell.execute_reply": "2021-12-01T03:20:14.898509Z",
     "shell.execute_reply.started": "2021-12-01T03:20:14.601734Z"
    }
   },
   "outputs": [
    {
     "data": {
      "text/html": [
       "<div>\n",
       "<style scoped>\n",
       "    .dataframe tbody tr th:only-of-type {\n",
       "        vertical-align: middle;\n",
       "    }\n",
       "\n",
       "    .dataframe tbody tr th {\n",
       "        vertical-align: top;\n",
       "    }\n",
       "\n",
       "    .dataframe thead th {\n",
       "        text-align: right;\n",
       "    }\n",
       "</style>\n",
       "<table border=\"1\" class=\"dataframe\">\n",
       "  <thead>\n",
       "    <tr style=\"text-align: right;\">\n",
       "      <th></th>\n",
       "      <th>target</th>\n",
       "      <th>cleaned_description</th>\n",
       "      <th>cleaned_steps</th>\n",
       "      <th>cleaned_ingredients</th>\n",
       "    </tr>\n",
       "  </thead>\n",
       "  <tbody>\n",
       "    <tr>\n",
       "      <th>0</th>\n",
       "      <td>0</td>\n",
       "      <td>we love grits this is another good way to serv...</td>\n",
       "      <td>i a sauce pan bring water to a boil slowly add...</td>\n",
       "      <td>water grits salt cheddar cheese garlic olive oil</td>\n",
       "    </tr>\n",
       "    <tr>\n",
       "      <th>1</th>\n",
       "      <td>0</td>\n",
       "      <td>simple easy and very tasty for when you are in...</td>\n",
       "      <td>in a food processor pulse the onion red pepper...</td>\n",
       "      <td>onion red bell pepper garlic cloves large shri...</td>\n",
       "    </tr>\n",
       "    <tr>\n",
       "      <th>2</th>\n",
       "      <td>1</td>\n",
       "      <td>nan</td>\n",
       "      <td>in a large bowl combine beans tomato onion and...</td>\n",
       "      <td>white beans canned black beans tomatoes onion ...</td>\n",
       "    </tr>\n",
       "    <tr>\n",
       "      <th>3</th>\n",
       "      <td>0</td>\n",
       "      <td>this is a good recipe for weight watchers it i...</td>\n",
       "      <td>put all ingredients in the crock pot and cook ...</td>\n",
       "      <td>zucchini yellow squash diced tomatoes onion ga...</td>\n",
       "    </tr>\n",
       "    <tr>\n",
       "      <th>4</th>\n",
       "      <td>1</td>\n",
       "      <td>this is a fabulous stew that came from one of ...</td>\n",
       "      <td>preheat oven to f cut beef into inch cubes com...</td>\n",
       "      <td>beef stew meat flour salt allspice cinnamon bl...</td>\n",
       "    </tr>\n",
       "    <tr>\n",
       "      <th>...</th>\n",
       "      <td>...</td>\n",
       "      <td>...</td>\n",
       "      <td>...</td>\n",
       "      <td>...</td>\n",
       "    </tr>\n",
       "    <tr>\n",
       "      <th>494958</th>\n",
       "      <td>0</td>\n",
       "      <td>the orange zest makes for a flavorful not over...</td>\n",
       "      <td>sift about cups of flour onto a piece of waxed...</td>\n",
       "      <td>unbleached flour baking soda butter orange zes...</td>\n",
       "    </tr>\n",
       "    <tr>\n",
       "      <th>494959</th>\n",
       "      <td>1</td>\n",
       "      <td>delicious and easy</td>\n",
       "      <td>place rosemary springs lemon half celery onion...</td>\n",
       "      <td>roasting chickens lemons rosemary sprigs papri...</td>\n",
       "    </tr>\n",
       "    <tr>\n",
       "      <th>494960</th>\n",
       "      <td>0</td>\n",
       "      <td>this is a recipe from the frugal gourmet cooki...</td>\n",
       "      <td>in a large pan heat oil and brown roast on bot...</td>\n",
       "      <td>boneless beef chuck roast olive oil tawny port...</td>\n",
       "    </tr>\n",
       "    <tr>\n",
       "      <th>494961</th>\n",
       "      <td>1</td>\n",
       "      <td>cabbage and sausage in tomato sauce</td>\n",
       "      <td>saute bacon in large pan until browned leave i...</td>\n",
       "      <td>cabbage condensed tomato soup kielbasa onions ...</td>\n",
       "    </tr>\n",
       "    <tr>\n",
       "      <th>494962</th>\n",
       "      <td>0</td>\n",
       "      <td>this recipe was given to my mom from a lady wh...</td>\n",
       "      <td>melt butter in skillet add squash onions salt ...</td>\n",
       "      <td>zucchini onion butter oregano basil salt and p...</td>\n",
       "    </tr>\n",
       "  </tbody>\n",
       "</table>\n",
       "<p>491759 rows × 4 columns</p>\n",
       "</div>"
      ],
      "text/plain": [
       "        target                                cleaned_description  \\\n",
       "0            0  we love grits this is another good way to serv...   \n",
       "1            0  simple easy and very tasty for when you are in...   \n",
       "2            1                                                nan   \n",
       "3            0  this is a good recipe for weight watchers it i...   \n",
       "4            1  this is a fabulous stew that came from one of ...   \n",
       "...        ...                                                ...   \n",
       "494958       0  the orange zest makes for a flavorful not over...   \n",
       "494959       1                                 delicious and easy   \n",
       "494960       0  this is a recipe from the frugal gourmet cooki...   \n",
       "494961       1                cabbage and sausage in tomato sauce   \n",
       "494962       0  this recipe was given to my mom from a lady wh...   \n",
       "\n",
       "                                            cleaned_steps  \\\n",
       "0       i a sauce pan bring water to a boil slowly add...   \n",
       "1       in a food processor pulse the onion red pepper...   \n",
       "2       in a large bowl combine beans tomato onion and...   \n",
       "3       put all ingredients in the crock pot and cook ...   \n",
       "4       preheat oven to f cut beef into inch cubes com...   \n",
       "...                                                   ...   \n",
       "494958  sift about cups of flour onto a piece of waxed...   \n",
       "494959  place rosemary springs lemon half celery onion...   \n",
       "494960  in a large pan heat oil and brown roast on bot...   \n",
       "494961  saute bacon in large pan until browned leave i...   \n",
       "494962  melt butter in skillet add squash onions salt ...   \n",
       "\n",
       "                                      cleaned_ingredients  \n",
       "0        water grits salt cheddar cheese garlic olive oil  \n",
       "1       onion red bell pepper garlic cloves large shri...  \n",
       "2       white beans canned black beans tomatoes onion ...  \n",
       "3       zucchini yellow squash diced tomatoes onion ga...  \n",
       "4       beef stew meat flour salt allspice cinnamon bl...  \n",
       "...                                                   ...  \n",
       "494958  unbleached flour baking soda butter orange zes...  \n",
       "494959  roasting chickens lemons rosemary sprigs papri...  \n",
       "494960  boneless beef chuck roast olive oil tawny port...  \n",
       "494961  cabbage condensed tomato soup kielbasa onions ...  \n",
       "494962  zucchini onion butter oregano basil salt and p...  \n",
       "\n",
       "[491759 rows x 4 columns]"
      ]
     },
     "execution_count": 56,
     "metadata": {},
     "output_type": "execute_result"
    }
   ],
   "source": [
    "# dropping unnecessary columns\n",
    "df_strings.drop(columns = ['ingredients','description','steps'], inplace=True)\n",
    "df_strings"
   ]
  },
  {
   "cell_type": "code",
   "execution_count": 57,
   "metadata": {
    "ExecuteTime": {
     "end_time": "2021-12-03T00:47:45.014486Z",
     "start_time": "2021-12-03T00:47:44.971469Z"
    },
    "execution": {
     "iopub.execute_input": "2021-12-01T03:20:14.901425Z",
     "iopub.status.busy": "2021-12-01T03:20:14.901127Z",
     "iopub.status.idle": "2021-12-01T03:20:14.949518Z",
     "shell.execute_reply": "2021-12-01T03:20:14.948733Z",
     "shell.execute_reply.started": "2021-12-01T03:20:14.901386Z"
    }
   },
   "outputs": [],
   "source": [
    "# splitting the data to X and y \n",
    "y = df_strings['target']\n",
    "X = df_strings.drop('target', axis=1)"
   ]
  },
  {
   "cell_type": "code",
   "execution_count": 58,
   "metadata": {
    "ExecuteTime": {
     "end_time": "2021-12-03T00:47:45.281554Z",
     "start_time": "2021-12-03T00:47:45.063505Z"
    },
    "execution": {
     "iopub.execute_input": "2021-12-01T03:20:14.951199Z",
     "iopub.status.busy": "2021-12-01T03:20:14.950883Z",
     "iopub.status.idle": "2021-12-01T03:20:15.363921Z",
     "shell.execute_reply": "2021-12-01T03:20:15.363155Z",
     "shell.execute_reply.started": "2021-12-01T03:20:14.951165Z"
    }
   },
   "outputs": [
    {
     "data": {
      "text/plain": [
       "1    100060\n",
       "0    100060\n",
       "Name: target, dtype: int64"
      ]
     },
     "execution_count": 58,
     "metadata": {},
     "output_type": "execute_result"
    }
   ],
   "source": [
    "# undersampling the data in the same manner used with the baseline model\n",
    "rus = RandomUnderSampler(random_state=50)\n",
    "X_res, y_res = rus.fit_resample(X, y)\n",
    "y_res.value_counts()"
   ]
  },
  {
   "cell_type": "code",
   "execution_count": 59,
   "metadata": {
    "ExecuteTime": {
     "end_time": "2021-12-03T00:47:45.407569Z",
     "start_time": "2021-12-03T00:47:45.328560Z"
    },
    "execution": {
     "iopub.execute_input": "2021-12-01T03:20:15.365471Z",
     "iopub.status.busy": "2021-12-01T03:20:15.365159Z",
     "iopub.status.idle": "2021-12-01T03:20:15.545256Z",
     "shell.execute_reply": "2021-12-01T03:20:15.544222Z",
     "shell.execute_reply.started": "2021-12-01T03:20:15.365440Z"
    }
   },
   "outputs": [],
   "source": [
    "# splitting the data, including creating a holdout set\n",
    "X_train, X_test, y_train, y_test = train_test_split(X_res, y_res, test_size = .3, \n",
    "                                                    random_state=50)\n",
    "X_test, X_holdout, y_test, y_holdout = train_test_split(X_test, y_test, test_size = .3,\n",
    "                                                        random_state=50)"
   ]
  },
  {
   "cell_type": "code",
   "execution_count": 60,
   "metadata": {
    "ExecuteTime": {
     "end_time": "2021-12-03T00:47:45.853681Z",
     "start_time": "2021-12-03T00:47:45.473583Z"
    },
    "execution": {
     "iopub.execute_input": "2021-12-01T03:20:15.549984Z",
     "iopub.status.busy": "2021-12-01T03:20:15.549741Z",
     "iopub.status.idle": "2021-12-01T03:20:16.218890Z",
     "shell.execute_reply": "2021-12-01T03:20:16.218258Z",
     "shell.execute_reply.started": "2021-12-01T03:20:15.549955Z"
    }
   },
   "outputs": [
    {
     "data": {
      "text/html": [
       "<div>\n",
       "<style scoped>\n",
       "    .dataframe tbody tr th:only-of-type {\n",
       "        vertical-align: middle;\n",
       "    }\n",
       "\n",
       "    .dataframe tbody tr th {\n",
       "        vertical-align: top;\n",
       "    }\n",
       "\n",
       "    .dataframe thead th {\n",
       "        text-align: right;\n",
       "    }\n",
       "</style>\n",
       "<table border=\"1\" class=\"dataframe\">\n",
       "  <thead>\n",
       "    <tr style=\"text-align: right;\">\n",
       "      <th></th>\n",
       "      <th>cleaned_description</th>\n",
       "      <th>cleaned_steps</th>\n",
       "      <th>cleaned_ingredients</th>\n",
       "      <th>combined</th>\n",
       "    </tr>\n",
       "  </thead>\n",
       "  <tbody>\n",
       "    <tr>\n",
       "      <th>44085</th>\n",
       "      <td>kids love this its absolutely yummy</td>\n",
       "      <td>whisk eggs in bowl until blended add milk whis...</td>\n",
       "      <td>white bread milk eggs crunchy peanut butter jelly</td>\n",
       "      <td>kids love this its absolutely yummy whisk eggs...</td>\n",
       "    </tr>\n",
       "    <tr>\n",
       "      <th>88070</th>\n",
       "      <td>this hearty soup has lots of possible variations</td>\n",
       "      <td>soak cannellini beans in quarts of water with ...</td>\n",
       "      <td>dried cannellini beans onions celery carrot ol...</td>\n",
       "      <td>this hearty soup has lots of possible variatio...</td>\n",
       "    </tr>\n",
       "    <tr>\n",
       "      <th>23043</th>\n",
       "      <td>i love lentils for their versatility found thi...</td>\n",
       "      <td>preheat oven to f combine water lentils and te...</td>\n",
       "      <td>water dried brown lentils salt onion ketchup m...</td>\n",
       "      <td>i love lentils for their versatility found thi...</td>\n",
       "    </tr>\n",
       "    <tr>\n",
       "      <th>66923</th>\n",
       "      <td>for a luxurious vegetable sidedish try this ri...</td>\n",
       "      <td>preheat the oven to f bring a large pan of wat...</td>\n",
       "      <td>spinach milk butter flour nutmeg salt freshly ...</td>\n",
       "      <td>for a luxurious vegetable sidedish try this ri...</td>\n",
       "    </tr>\n",
       "    <tr>\n",
       "      <th>2931</th>\n",
       "      <td>nan</td>\n",
       "      <td>preheat the oven to cream the butter and sugar...</td>\n",
       "      <td>butter granulated sugar egg lavender flowers f...</td>\n",
       "      <td>nan preheat the oven to cream the butter and s...</td>\n",
       "    </tr>\n",
       "  </tbody>\n",
       "</table>\n",
       "</div>"
      ],
      "text/plain": [
       "                                     cleaned_description  \\\n",
       "44085                kids love this its absolutely yummy   \n",
       "88070   this hearty soup has lots of possible variations   \n",
       "23043  i love lentils for their versatility found thi...   \n",
       "66923  for a luxurious vegetable sidedish try this ri...   \n",
       "2931                                                 nan   \n",
       "\n",
       "                                           cleaned_steps  \\\n",
       "44085  whisk eggs in bowl until blended add milk whis...   \n",
       "88070  soak cannellini beans in quarts of water with ...   \n",
       "23043  preheat oven to f combine water lentils and te...   \n",
       "66923  preheat the oven to f bring a large pan of wat...   \n",
       "2931   preheat the oven to cream the butter and sugar...   \n",
       "\n",
       "                                     cleaned_ingredients  \\\n",
       "44085  white bread milk eggs crunchy peanut butter jelly   \n",
       "88070  dried cannellini beans onions celery carrot ol...   \n",
       "23043  water dried brown lentils salt onion ketchup m...   \n",
       "66923  spinach milk butter flour nutmeg salt freshly ...   \n",
       "2931   butter granulated sugar egg lavender flowers f...   \n",
       "\n",
       "                                                combined  \n",
       "44085  kids love this its absolutely yummy whisk eggs...  \n",
       "88070  this hearty soup has lots of possible variatio...  \n",
       "23043  i love lentils for their versatility found thi...  \n",
       "66923  for a luxurious vegetable sidedish try this ri...  \n",
       "2931   nan preheat the oven to cream the butter and s...  "
      ]
     },
     "execution_count": 60,
     "metadata": {},
     "output_type": "execute_result"
    }
   ],
   "source": [
    "# creating a new column compatible with vectorizer inputs \n",
    "X_train['combined'] = X_train['cleaned_description'].str.cat(X_train[['cleaned_steps',\n",
    "                                                                      'cleaned_ingredients']],sep=\" \")\n",
    "\n",
    "X_train.head()"
   ]
  },
  {
   "cell_type": "code",
   "execution_count": 61,
   "metadata": {
    "ExecuteTime": {
     "end_time": "2021-12-03T00:47:46.041724Z",
     "start_time": "2021-12-03T00:47:45.919698Z"
    },
    "execution": {
     "iopub.execute_input": "2021-12-01T03:20:16.220535Z",
     "iopub.status.busy": "2021-12-01T03:20:16.220135Z",
     "iopub.status.idle": "2021-12-01T03:20:16.437249Z",
     "shell.execute_reply": "2021-12-01T03:20:16.436436Z",
     "shell.execute_reply.started": "2021-12-01T03:20:16.220487Z"
    }
   },
   "outputs": [
    {
     "data": {
      "text/html": [
       "<div>\n",
       "<style scoped>\n",
       "    .dataframe tbody tr th:only-of-type {\n",
       "        vertical-align: middle;\n",
       "    }\n",
       "\n",
       "    .dataframe tbody tr th {\n",
       "        vertical-align: top;\n",
       "    }\n",
       "\n",
       "    .dataframe thead th {\n",
       "        text-align: right;\n",
       "    }\n",
       "</style>\n",
       "<table border=\"1\" class=\"dataframe\">\n",
       "  <thead>\n",
       "    <tr style=\"text-align: right;\">\n",
       "      <th></th>\n",
       "      <th>cleaned_description</th>\n",
       "      <th>cleaned_steps</th>\n",
       "      <th>cleaned_ingredients</th>\n",
       "      <th>combined</th>\n",
       "    </tr>\n",
       "  </thead>\n",
       "  <tbody>\n",
       "    <tr>\n",
       "      <th>89380</th>\n",
       "      <td>when the corn crop is good i make sure to can ...</td>\n",
       "      <td>cut fresh corn of the cob combine in a big sto...</td>\n",
       "      <td>fresh corn water salt sugar</td>\n",
       "      <td>when the corn crop is good i make sure to can ...</td>\n",
       "    </tr>\n",
       "    <tr>\n",
       "      <th>13662</th>\n",
       "      <td>this is an old recipe it is extremely moist be...</td>\n",
       "      <td>peel the potatoes cover with water and boil un...</td>\n",
       "      <td>potatoes allpurpose flour ground ginger baking...</td>\n",
       "      <td>this is an old recipe it is extremely moist be...</td>\n",
       "    </tr>\n",
       "    <tr>\n",
       "      <th>49940</th>\n",
       "      <td>this is a very easy dish to prepare suitable f...</td>\n",
       "      <td>mix together sauce ingredients in a saucepan h...</td>\n",
       "      <td>beef flank steak onion chicken broth green bel...</td>\n",
       "      <td>this is a very easy dish to prepare suitable f...</td>\n",
       "    </tr>\n",
       "    <tr>\n",
       "      <th>162373</th>\n",
       "      <td>i noticed that there was almost nothing that h...</td>\n",
       "      <td>mix egg amp milk well if you are using herbs p...</td>\n",
       "      <td>popped corn egg substitute milk salt pepper fi...</td>\n",
       "      <td>i noticed that there was almost nothing that h...</td>\n",
       "    </tr>\n",
       "    <tr>\n",
       "      <th>90724</th>\n",
       "      <td>made with an oliveoil crust and a drizzle of h...</td>\n",
       "      <td>to make the tart dough using a pastry blendero...</td>\n",
       "      <td>flour unsalted butter salt fresh coarse ground...</td>\n",
       "      <td>made with an oliveoil crust and a drizzle of h...</td>\n",
       "    </tr>\n",
       "  </tbody>\n",
       "</table>\n",
       "</div>"
      ],
      "text/plain": [
       "                                      cleaned_description  \\\n",
       "89380   when the corn crop is good i make sure to can ...   \n",
       "13662   this is an old recipe it is extremely moist be...   \n",
       "49940   this is a very easy dish to prepare suitable f...   \n",
       "162373  i noticed that there was almost nothing that h...   \n",
       "90724   made with an oliveoil crust and a drizzle of h...   \n",
       "\n",
       "                                            cleaned_steps  \\\n",
       "89380   cut fresh corn of the cob combine in a big sto...   \n",
       "13662   peel the potatoes cover with water and boil un...   \n",
       "49940   mix together sauce ingredients in a saucepan h...   \n",
       "162373  mix egg amp milk well if you are using herbs p...   \n",
       "90724   to make the tart dough using a pastry blendero...   \n",
       "\n",
       "                                      cleaned_ingredients  \\\n",
       "89380                         fresh corn water salt sugar   \n",
       "13662   potatoes allpurpose flour ground ginger baking...   \n",
       "49940   beef flank steak onion chicken broth green bel...   \n",
       "162373  popped corn egg substitute milk salt pepper fi...   \n",
       "90724   flour unsalted butter salt fresh coarse ground...   \n",
       "\n",
       "                                                 combined  \n",
       "89380   when the corn crop is good i make sure to can ...  \n",
       "13662   this is an old recipe it is extremely moist be...  \n",
       "49940   this is a very easy dish to prepare suitable f...  \n",
       "162373  i noticed that there was almost nothing that h...  \n",
       "90724   made with an oliveoil crust and a drizzle of h...  "
      ]
     },
     "execution_count": 61,
     "metadata": {},
     "output_type": "execute_result"
    }
   ],
   "source": [
    "# repeating this with the test data\n",
    "X_test['combined'] = X_test['cleaned_description'].str.cat(X_test[['cleaned_steps',\n",
    "                                                                'cleaned_ingredients']],sep=\" \")\n",
    "X_test.head()"
   ]
  },
  {
   "cell_type": "markdown",
   "metadata": {},
   "source": [
    "## Modeling  \n",
    "\n",
    "To begin the modeling process basic, nlp appropriate,  models are created and run with both types of vectorized datasets.  This will identify which models deserve more attention and fine tuning. The iterative evaluation code has been removed from this section and only the highest performing models will be evaluated.  To see the full evaluation code please see the 'recipe-classification-with-nlp-v2.ipynb' file in the archive folder."
   ]
  },
  {
   "cell_type": "code",
   "execution_count": null,
   "metadata": {},
   "outputs": [],
   "source": []
  },
  {
   "cell_type": "code",
   "execution_count": 62,
   "metadata": {
    "ExecuteTime": {
     "end_time": "2021-12-03T00:47:46.137013Z",
     "start_time": "2021-12-03T00:47:46.108741Z"
    },
    "execution": {
     "iopub.execute_input": "2021-12-01T03:20:16.439623Z",
     "iopub.status.busy": "2021-12-01T03:20:16.438890Z",
     "iopub.status.idle": "2021-12-01T03:20:16.465345Z",
     "shell.execute_reply": "2021-12-01T03:20:16.464459Z",
     "shell.execute_reply.started": "2021-12-01T03:20:16.439583Z"
    },
    "run_control": {
     "marked": true
    }
   },
   "outputs": [],
   "source": [
    "from sklearn.naive_bayes import (\n",
    "    BernoulliNB,\n",
    "    ComplementNB,\n",
    "    MultinomialNB,\n",
    ")\n",
    "from sklearn.neighbors import KNeighborsClassifier\n",
    "from sklearn.tree import DecisionTreeClassifier\n",
    "from sklearn.ensemble import RandomForestClassifier, AdaBoostClassifier\n",
    "from sklearn.linear_model import LogisticRegression\n",
    "from sklearn.neural_network import MLPClassifier\n",
    "from sklearn.discriminant_analysis import QuadraticDiscriminantAnalysis\n"
   ]
  },
  {
   "cell_type": "markdown",
   "metadata": {},
   "source": [
    "### CountVectorizer"
   ]
  },
  {
   "cell_type": "code",
   "execution_count": 63,
   "metadata": {
    "ExecuteTime": {
     "end_time": "2021-12-03T00:47:46.216049Z",
     "start_time": "2021-12-03T00:47:46.202019Z"
    },
    "execution": {
     "iopub.execute_input": "2021-12-01T03:20:16.466866Z",
     "iopub.status.busy": "2021-12-01T03:20:16.466595Z",
     "iopub.status.idle": "2021-12-01T03:20:16.470712Z",
     "shell.execute_reply": "2021-12-01T03:20:16.470119Z",
     "shell.execute_reply.started": "2021-12-01T03:20:16.466834Z"
    }
   },
   "outputs": [],
   "source": [
    "# having the CountVectorizer remove stop words\n",
    "countvect = CountVectorizer(stop_words=stop_words, ngram_range=(1,1))"
   ]
  },
  {
   "cell_type": "code",
   "execution_count": 64,
   "metadata": {
    "ExecuteTime": {
     "end_time": "2021-12-03T00:48:01.927794Z",
     "start_time": "2021-12-03T00:47:46.281057Z"
    },
    "execution": {
     "iopub.execute_input": "2021-12-01T03:20:16.472317Z",
     "iopub.status.busy": "2021-12-01T03:20:16.471737Z",
     "iopub.status.idle": "2021-12-01T03:20:44.799281Z",
     "shell.execute_reply": "2021-12-01T03:20:44.798270Z",
     "shell.execute_reply.started": "2021-12-01T03:20:16.472280Z"
    }
   },
   "outputs": [],
   "source": [
    "X_train_CV = countvect.fit_transform(X_train.combined)\n",
    "X_test_CV = countvect.transform(X_test.combined)"
   ]
  },
  {
   "cell_type": "markdown",
   "metadata": {},
   "source": [
    "# SVD  \n",
    "\n",
    "Cousin to PCA, SVD is a dimensionaly reduction model that works well with sparse matrices. Per the TruncatedSVD documentation \"In particular, truncated SVD works on term count/tf-idf matrices as returned by the vectorizers in sklearn.feature_extraction.text.\""
   ]
  },
  {
   "cell_type": "code",
   "execution_count": 65,
   "metadata": {
    "ExecuteTime": {
     "end_time": "2021-12-03T00:48:02.100857Z",
     "start_time": "2021-12-03T00:48:02.086825Z"
    }
   },
   "outputs": [],
   "source": [
    "from sklearn.decomposition import TruncatedSVD"
   ]
  },
  {
   "cell_type": "code",
   "execution_count": 66,
   "metadata": {
    "ExecuteTime": {
     "end_time": "2021-12-03T00:48:02.275924Z",
     "start_time": "2021-12-03T00:48:02.261899Z"
    }
   },
   "outputs": [],
   "source": [
    "# going with documentation recommended n-compontents value of 100\n",
    "\n",
    "svd =TruncatedSVD(n_components=100)"
   ]
  },
  {
   "cell_type": "code",
   "execution_count": 67,
   "metadata": {
    "ExecuteTime": {
     "end_time": "2021-12-03T00:48:16.916399Z",
     "start_time": "2021-12-03T00:48:02.436943Z"
    }
   },
   "outputs": [],
   "source": [
    "X_train_CV_svd = svd.fit_transform(X_train_CV)\n"
   ]
  },
  {
   "cell_type": "code",
   "execution_count": 68,
   "metadata": {
    "ExecuteTime": {
     "end_time": "2021-12-03T00:48:17.279516Z",
     "start_time": "2021-12-03T00:48:17.091456Z"
    }
   },
   "outputs": [],
   "source": [
    "X_test_CV_svd = svd.transform(X_test_CV)"
   ]
  },
  {
   "cell_type": "code",
   "execution_count": 73,
   "metadata": {
    "ExecuteTime": {
     "end_time": "2021-12-03T00:56:28.127055Z",
     "start_time": "2021-12-03T00:56:28.109043Z"
    },
    "execution": {
     "iopub.execute_input": "2021-12-01T03:20:44.800918Z",
     "iopub.status.busy": "2021-12-01T03:20:44.800569Z",
     "iopub.status.idle": "2021-12-01T03:20:44.806931Z",
     "shell.execute_reply": "2021-12-01T03:20:44.806129Z",
     "shell.execute_reply.started": "2021-12-01T03:20:44.800882Z"
    }
   },
   "outputs": [],
   "source": [
    "# will not be running this list through basic evaluation but retaining it to show what models were tested\n",
    "classifiers = {\n",
    "    \"BernoulliNB\": BernoulliNB(),\n",
    "#     \"ComplementNB\": ComplementNB(),\n",
    "#     \"MultinomialNB\": MultinomialNB(),\n",
    "    \"DecisionTreeClassifier\": DecisionTreeClassifier(max_depth=3), #to keep the initial modeling quick\n",
    "    \"RandomForestClassifier\": RandomForestClassifier(max_depth=3),\n",
    "    # parameters in below LogisticRegression model determined by sklearn documentation on appropriate solvers for large\n",
    "    # datasets\n",
    "    \"LogisticRegression\": LogisticRegression(penalty = 'elasticnet',l1_ratio =.5, solver='saga'), \n",
    "    \"AdaBoostClassifier\": AdaBoostClassifier(),\n",
    "}"
   ]
  },
  {
   "cell_type": "code",
   "execution_count": 74,
   "metadata": {
    "ExecuteTime": {
     "end_time": "2021-12-03T01:08:24.433241Z",
     "start_time": "2021-12-03T00:56:31.115703Z"
    }
   },
   "outputs": [
    {
     "name": "stdout",
     "output_type": "stream",
     "text": [
      "BernoulliNB\n",
      "Results of Cross-Validation:\n",
      "\n",
      "Average accuracy: 0.6396304924050049    +/- 0.004161758526839594\n",
      "Average precision: 0.6382364902849254    +/- 0.004182724976687255\n",
      "**Average recall: 0.6442311479119395    +/- 0.00467312884676999\n",
      "Average f1 score: 0.6412168405303589    +/- 0.004211467888774822\n",
      "Average roc_auc: 0.6948535258657543    +/- 0.0044551544581247346\n",
      "\n",
      "++++++++++++++++++++\n",
      "\n",
      "Results of Train-Test Split Validation:\n"
     ]
    },
    {
     "data": {
      "image/png": "[encoded data removed]",
      "text/plain": [
       "<Figure size 432x288 with 2 Axes>"
      ]
     },
     "metadata": {
      "needs_background": "light"
     },
     "output_type": "display_data"
    },
    {
     "name": "stdout",
     "output_type": "stream",
     "text": [
      "\n",
      "Training Scores:\n",
      "Train accuracy: 0.6400873761457411\n",
      "Train precision: 0.6387139683303381\n",
      "**Train recall: 0.6445882067320737\n",
      "Train f1 score: 0.6416376430449926\n",
      "Train roc_auc: 0.6400885967361001\n",
      "\n",
      "<><><><><><><><><><>\n",
      "\n",
      "Testing Scores:\n",
      "Test accuracy: 0.6344080904223677\n",
      "Test precision: 0.6353862114495897\n",
      "**Test recall: 0.6383966644556051\n",
      "Test f1 score: 0.6368878805067121\n",
      "Test roc_auc: 0.6343902630084325\n",
      "DecisionTreeClassifier\n",
      "Results of Cross-Validation:\n",
      "\n",
      "Average accuracy: 0.64206474838123    +/- 0.003050611381993823\n",
      "Average precision: 0.6067651421694242    +/- 0.009788671038163591\n",
      "**Average recall: 0.8109772777727301    +/- 0.04239835567995422\n",
      "Average f1 score: 0.6933614399202226    +/- 0.009510183569035153\n",
      "Average roc_auc: 0.678980761692602    +/- 0.002518408695559104\n",
      "\n",
      "++++++++++++++++++++\n",
      "\n",
      "Results of Train-Test Split Validation:\n"
     ]
    },
    {
     "data": {
      "image/png": "[encoded data removed]",
      "text/plain": [
       "<Figure size 432x288 with 2 Axes>"
      ]
     },
     "metadata": {
      "needs_background": "light"
     },
     "output_type": "display_data"
    },
    {
     "name": "stdout",
     "output_type": "stream",
     "text": [
      "\n",
      "Training Scores:\n",
      "Train accuracy: 0.6422931955112646\n",
      "Train precision: 0.5997795370277583\n",
      "**Train recall: 0.8547477257472544\n",
      "Train f1 score: 0.7049165847137734\n",
      "Train roc_auc: 0.6423508115326529\n",
      "\n",
      "<><><><><><><><><><>\n",
      "\n",
      "Testing Scores:\n",
      "Test accuracy: 0.6351933372992267\n",
      "Test precision: 0.5957425644086343\n",
      "**Test recall: 0.8512745190940965\n",
      "Test f1 score: 0.7009460645664682\n",
      "Test roc_auc: 0.6342275363289211\n",
      "RandomForestClassifier\n",
      "Results of Cross-Validation:\n",
      "\n",
      "Average accuracy: 0.6534864563342232    +/- 0.0028012866505721305\n",
      "Average precision: 0.6162387849882056    +/- 0.004367793796027226\n",
      "**Average recall: 0.813732649038613    +/- 0.01400383593035006\n",
      "Average f1 score: 0.7012538494804218    +/- 0.0032288766067729746\n",
      "Average roc_auc: 0.7088035537936255    +/- 0.005465159052653167\n",
      "\n",
      "++++++++++++++++++++\n",
      "\n",
      "Results of Train-Test Split Validation:\n"
     ]
    },
    {
     "data": {
      "image/png": "[encoded data removed]",
      "text/plain": [
       "<Figure size 432x288 with 2 Axes>"
      ]
     },
     "metadata": {
      "needs_background": "light"
     },
     "output_type": "display_data"
    },
    {
     "name": "stdout",
     "output_type": "stream",
     "text": [
      "\n",
      "Training Scores:\n",
      "Train accuracy: 0.6574912195539819\n",
      "Train precision: 0.6207160929234072\n",
      "**Train recall: 0.8093340759464748\n",
      "Train f1 score: 0.7025861000223153\n",
      "Train roc_auc: 0.6575323981593608\n",
      "\n",
      "<><><><><><><><><><>\n",
      "\n",
      "Testing Scores:\n",
      "Test accuracy: 0.6528494943486021\n",
      "Test precision: 0.6184004941680898\n",
      "**Test recall: 0.8063583815028902\n",
      "Test f1 score: 0.699981491763835\n",
      "Test roc_auc: 0.6521633678153582\n",
      "LogisticRegression\n",
      "Results of Cross-Validation:\n",
      "\n",
      "Average accuracy: 0.6809200182307524    +/- 0.0014643624249208044\n",
      "Average precision: 0.6588210507015102    +/- 0.0022665929119438876\n",
      "**Average recall: 0.7501821226984569    +/- 0.0020812054565982267\n",
      "Average f1 score: 0.7015330028269903    +/- 0.0004743598792096614\n",
      "Average roc_auc: 0.7450715950715919    +/- 0.002432178720121168\n",
      "\n",
      "++++++++++++++++++++\n",
      "\n",
      "Results of Train-Test Split Validation:\n"
     ]
    },
    {
     "data": {
      "image/png": "[encoded data removed]",
      "text/plain": [
       "<Figure size 432x288 with 2 Axes>"
      ]
     },
     "metadata": {
      "needs_background": "light"
     },
     "output_type": "display_data"
    },
    {
     "name": "stdout",
     "output_type": "stream",
     "text": [
      "\n",
      "Training Scores:\n",
      "Train accuracy: 0.6816552925387624\n",
      "Train precision: 0.6594032096288867\n",
      "**Train recall: 0.7510960684346571\n",
      "Train f1 score: 0.7022692828959227\n",
      "Train roc_auc: 0.6816741243387942\n",
      "\n",
      "<><><><><><><><><><>\n",
      "\n",
      "Testing Scores:\n",
      "Test accuracy: 0.6786198691255205\n",
      "Test precision: 0.6590490540766784\n",
      "**Test recall: 0.7460437790201838\n",
      "Test f1 score: 0.6998533268145251\n",
      "Test roc_auc: 0.6783185098074291\n",
      "AdaBoostClassifier\n",
      "Results of Cross-Validation:\n",
      "\n",
      "Average accuracy: 0.6678350188666353    +/- 0.0020018545845856958\n",
      "Average precision: 0.6475893353299969    +/- 0.0020715978481223767\n",
      "**Average recall: 0.7360583118955863    +/- 0.00471501276445547\n",
      "Average f1 score: 0.6889859839382225    +/- 0.002258856438658772\n",
      "Average roc_auc: 0.7288608418564436    +/- 0.0025743249429681357\n",
      "\n",
      "++++++++++++++++++++\n",
      "\n",
      "Results of Train-Test Split Validation:\n"
     ]
    },
    {
     "data": {
      "image/png": "[encoded data removed]",
      "text/plain": [
       "<Figure size 432x288 with 2 Axes>"
      ]
     },
     "metadata": {
      "needs_background": "light"
     },
     "output_type": "display_data"
    },
    {
     "name": "stdout",
     "output_type": "stream",
     "text": [
      "\n",
      "Training Scores:\n",
      "Train accuracy: 0.6723465920447731\n",
      "Train precision: 0.6528615602980686\n",
      "**Train recall: 0.7357011267726319\n",
      "Train f1 score: 0.6918103014147491\n",
      "Train roc_auc: 0.6723637733033883\n",
      "\n",
      "<><><><><><><><><><>\n",
      "\n",
      "Testing Scores:\n",
      "Test accuracy: 0.6660321237358715\n",
      "Test precision: 0.6499046003815985\n",
      "**Test recall: 0.7262389841751161\n",
      "Test f1 score: 0.6859546664876598\n",
      "Test roc_auc: 0.6657630218929982\n"
     ]
    }
   ],
   "source": [
    "for name, sklearn_classifier in classifiers.items():\n",
    "    classifier = sklearn_classifier\n",
    "    print(name)\n",
    "    evaluate(classifier, X_train_CV_svd, X_test_CV_svd, y_train, y_test)"
   ]
  },
  {
   "cell_type": "markdown",
   "metadata": {},
   "source": [
    "### TfidfVectorizer"
   ]
  },
  {
   "cell_type": "code",
   "execution_count": 75,
   "metadata": {
    "ExecuteTime": {
     "end_time": "2021-12-03T01:20:11.532799Z",
     "start_time": "2021-12-03T01:19:55.008948Z"
    }
   },
   "outputs": [],
   "source": [
    "tfidf = TfidfVectorizer(stop_words = stop_words)\n",
    "X_train_tfidf = tfidf.fit_transform(X_train.combined)\n",
    "X_test_tfidf = tfidf.transform(X_test.combined)"
   ]
  },
  {
   "cell_type": "code",
   "execution_count": 76,
   "metadata": {
    "ExecuteTime": {
     "end_time": "2021-12-03T01:20:27.132509Z",
     "start_time": "2021-12-03T01:20:11.847859Z"
    }
   },
   "outputs": [],
   "source": [
    "svd =TruncatedSVD(n_components=100)\n",
    "X_train_tfidf_svd = svd.fit_transform(X_train_tfidf)\n",
    "X_test_tfidf_svd = svd.transform(X_test_tfidf)"
   ]
  },
  {
   "cell_type": "code",
   "execution_count": 77,
   "metadata": {
    "ExecuteTime": {
     "end_time": "2021-12-03T01:33:27.640897Z",
     "start_time": "2021-12-03T01:21:12.907544Z"
    }
   },
   "outputs": [
    {
     "name": "stdout",
     "output_type": "stream",
     "text": [
      "\n",
      "BernoulliNB\n",
      "Results of Cross-Validation:\n",
      "\n",
      "Average accuracy: 0.6464906989142005    +/- 0.002915301578089592\n",
      "Average precision: 0.6399834154429709    +/- 0.0034517470615544757\n",
      "**Average recall: 0.6693657863449226    +/- 0.003813784591241572\n",
      "Average f1 score: 0.6543346815636195    +/- 0.0025377766083032054\n",
      "Average roc_auc: 0.7057406783713779    +/- 0.0041255268327628014\n",
      "\n",
      "++++++++++++++++++++\n",
      "\n",
      "Results of Train-Test Split Validation:\n"
     ]
    },
    {
     "data": {
      "image/png": "[encoded data removed]",
      "text/plain": [
       "<Figure size 432x288 with 2 Axes>"
      ]
     },
     "metadata": {
      "needs_background": "light"
     },
     "output_type": "display_data"
    },
    {
     "name": "stdout",
     "output_type": "stream",
     "text": [
      "\n",
      "Training Scores:\n",
      "Train accuracy: 0.6468547442962794\n",
      "Train precision: 0.6403030923612534\n",
      "**Train recall: 0.6697656484298017\n",
      "Train f1 score: 0.6547030739592932\n",
      "Train roc_auc: 0.6468609575558466\n",
      "\n",
      "<><><><><><><><><><>\n",
      "\n",
      "Testing Scores:\n",
      "Test accuracy: 0.6427126710291493\n",
      "Test precision: 0.6381743115103671\n",
      "**Test recall: 0.6664455605041221\n",
      "Test f1 score: 0.6520036155468514\n",
      "Test roc_auc: 0.642606594009889\n",
      "\n",
      "DecisionTreeClassifier\n",
      "Results of Cross-Validation:\n",
      "\n",
      "Average accuracy: 0.6393592259814843    +/- 0.0015500929559554009\n",
      "Average precision: 0.6074967404161301    +/- 0.018505637708938445\n",
      "**Average recall: 0.8065595396266134    +/- 0.11501036521641876\n",
      "Average f1 score: 0.6877626991648726    +/- 0.03289243257128327\n",
      "Average roc_auc: 0.6928662830864077    +/- 0.0022595201783555826\n",
      "\n",
      "++++++++++++++++++++\n",
      "\n",
      "Results of Train-Test Split Validation:\n"
     ]
    },
    {
     "data": {
      "image/png": "[encoded data removed]",
      "text/plain": [
       "<Figure size 432x288 with 2 Axes>"
      ]
     },
     "metadata": {
      "needs_background": "light"
     },
     "output_type": "display_data"
    },
    {
     "name": "stdout",
     "output_type": "stream",
     "text": [
      "\n",
      "Training Scores:\n",
      "Train accuracy: 0.6415650609634219\n",
      "Train precision: 0.5939616413408457\n",
      "**Train recall: 0.8942633134827128\n",
      "Train f1 score: 0.7138142708137407\n",
      "Train roc_auc: 0.641633590770274\n",
      "\n",
      "<><><><><><><><><><>\n",
      "\n",
      "Testing Scores:\n",
      "Test accuracy: 0.6368352171326591\n",
      "Test precision: 0.5920778975231613\n",
      "**Test recall: 0.8902207902965982\n",
      "Test f1 score: 0.7111657834973506\n",
      "Test roc_auc: 0.635702679674328\n",
      "\n",
      "RandomForestClassifier\n",
      "Results of Cross-Validation:\n",
      "\n",
      "Average accuracy: 0.6516375987415    +/- 0.0037518705272941914\n",
      "Average precision: 0.6168967756233164    +/- 0.004382447746574295\n",
      "**Average recall: 0.8003234002301174    +/- 0.021367871521142966\n",
      "Average f1 score: 0.6965673061270777    +/- 0.0067332101047643525\n",
      "Average roc_auc: 0.7169535330655901    +/- 0.0024342747347081595\n",
      "\n",
      "++++++++++++++++++++\n",
      "\n",
      "Results of Train-Test Split Validation:\n"
     ]
    },
    {
     "data": {
      "image/png": "[encoded data removed]",
      "text/plain": [
       "<Figure size 432x288 with 2 Axes>"
      ]
     },
     "metadata": {
      "needs_background": "light"
     },
     "output_type": "display_data"
    },
    {
     "name": "stdout",
     "output_type": "stream",
     "text": [
      "\n",
      "Training Scores:\n",
      "Train accuracy: 0.6527583449930042\n",
      "Train precision: 0.6232049420279833\n",
      "**Train recall: 0.7722176998986048\n",
      "Train f1 score: 0.6897550210792849\n",
      "Train roc_auc: 0.6527907414438572\n",
      "\n",
      "<><><><><><><><><><>\n",
      "\n",
      "Testing Scores:\n",
      "Test accuracy: 0.6471861986912552\n",
      "Test precision: 0.6193680848636934\n",
      "**Test recall: 0.7718184402539562\n",
      "Test f1 score: 0.6872402809711646\n",
      "Test roc_auc: 0.6466291398172119\n",
      "\n",
      "LogisticRegression\n",
      "Results of Cross-Validation:\n",
      "\n",
      "Average accuracy: 0.6877088091881557    +/- 0.0009559627233414696\n",
      "Average precision: 0.6722289983503387    +/- 0.001304764096657402\n",
      "**Average recall: 0.7323308676737539    +/- 0.002121234902112529\n",
      "Average f1 score: 0.7009910571714262    +/- 0.0009227472022978596\n",
      "Average roc_auc: 0.757263107923228    +/- 0.0016955847919416247\n",
      "\n",
      "++++++++++++++++++++\n",
      "\n",
      "Results of Train-Test Split Validation:\n"
     ]
    },
    {
     "data": {
      "image/png": "[encoded data removed]",
      "text/plain": [
       "<Figure size 432x288 with 2 Axes>"
      ]
     },
     "metadata": {
      "needs_background": "light"
     },
     "output_type": "display_data"
    },
    {
     "name": "stdout",
     "output_type": "stream",
     "text": [
      "\n",
      "Training Scores:\n",
      "Train accuracy: 0.6887367579452328\n",
      "Train precision: 0.673159605704698\n",
      "**Train recall: 0.7333876012167431\n",
      "Train f1 score: 0.7019841296963317\n",
      "Train roc_auc: 0.6887488669077393\n",
      "\n",
      "<><><><><><><><><><>\n",
      "\n",
      "Testing Scores:\n",
      "Test accuracy: 0.6862581796549673\n",
      "Test precision: 0.6738357547294035\n",
      "**Test recall: 0.7273761015824884\n",
      "Test f1 score: 0.6995830390302809\n",
      "Test roc_auc: 0.6860743981309834\n",
      "\n",
      "AdaBoostClassifier\n",
      "Results of Cross-Validation:\n",
      "\n",
      "Average accuracy: 0.6764369862676384    +/- 0.003152239517472067\n",
      "Average precision: 0.656166917730778    +/- 0.0037573143938152867\n",
      "**Average recall: 0.7410565013250154    +/- 0.003190408840812372\n",
      "Average f1 score: 0.6960222609698262    +/- 0.002281738118087123\n",
      "Average roc_auc: 0.7426329199703944    +/- 0.002779676903472106\n",
      "\n",
      "++++++++++++++++++++\n",
      "\n",
      "Results of Train-Test Split Validation:\n"
     ]
    },
    {
     "data": {
      "image/png": "[encoded data removed]",
      "text/plain": [
       "<Figure size 432x288 with 2 Axes>"
      ]
     },
     "metadata": {
      "needs_background": "light"
     },
     "output_type": "display_data"
    },
    {
     "name": "stdout",
     "output_type": "stream",
     "text": [
      "\n",
      "Training Scores:\n",
      "Train accuracy: 0.6813768881528226\n",
      "Train precision: 0.6611324778188188\n",
      "**Train recall: 0.7438413092840924\n",
      "Train f1 score: 0.7000524172412402\n",
      "Train roc_auc: 0.6813938280195316\n",
      "\n",
      "<><><><><><><><><><>\n",
      "\n",
      "Testing Scores:\n",
      "Test accuracy: 0.6763593099345627\n",
      "Test precision: 0.6587822113146871\n",
      "**Test recall: 0.737657538140813\n",
      "Test f1 score: 0.6959923109591184\n",
      "Test roc_auc: 0.6760853300914879\n"
     ]
    }
   ],
   "source": [
    "for name, sklearn_classifier in classifiers.items():\n",
    "    classifier = sklearn_classifier\n",
    "    print(\"\")\n",
    "    print(name)\n",
    "    evaluate(classifier, X_train_tfidf_svd, X_test_tfidf_svd, y_train, y_test)"
   ]
  },
  {
   "cell_type": "code",
   "execution_count": null,
   "metadata": {},
   "outputs": [],
   "source": []
  }
 ],
 "metadata": {
  "kernelspec": {
   "display_name": "Python 3",
   "language": "python",
   "name": "python3"
  },
  "language_info": {
   "codemirror_mode": {
    "name": "ipython",
    "version": 3
   },
   "file_extension": ".py",
   "mimetype": "text/x-python",
   "name": "python",
   "nbconvert_exporter": "python",
   "pygments_lexer": "ipython3",
   "version": "3.8.5"
  },
  "varInspector": {
   "cols": {
    "lenName": 16,
    "lenType": 16,
    "lenVar": 40
   },
   "kernels_config": {
    "python": {
     "delete_cmd_postfix": "",
     "delete_cmd_prefix": "del ",
     "library": "var_list.py",
     "varRefreshCmd": "print(var_dic_list())"
    },
    "r": {
     "delete_cmd_postfix": ") ",
     "delete_cmd_prefix": "rm(",
     "library": "var_list.r",
     "varRefreshCmd": "cat(var_dic_list()) "
    }
   },
   "types_to_exclude": [
    "module",
    "function",
    "builtin_function_or_method",
    "instance",
    "_Feature"
   ],
   "window_display": false
  }
 },
 "nbformat": 4,
 "nbformat_minor": 4
}
