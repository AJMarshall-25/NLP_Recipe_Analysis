{
 "cells": [
  {
   "cell_type": "markdown",
   "metadata": {},
   "source": [
    "# Modeling\n",
    "\n",
    "- Baseline - move the end of the EDA notebook to the start of this\n",
    "- Preprocessing - need to try bag of words, Word to Vec, other tokenization schemes\n",
    "    - pipelines!!\n",
    "- Modeling\n",
    "    - combine Ph3 evaluate and Ph4 score-tracker functions \n",
    "    - Focus on precision (you don't want false positives!!!)\n",
    "    "
   ]
  },
  {
   "cell_type": "code",
   "execution_count": 1,
   "metadata": {},
   "outputs": [],
   "source": [
    "import pandas as pd\n",
    "import numpy as np\n",
    "import matplotlib.pyplot as plt\n",
    "import seaborn as sns\n",
    "\n",
    "from wordcloud import WordCloud\n",
    "import ast #converting column values to lists post-import from csv\n",
    "\n",
    "from nltk import FreqDist\n",
    "\n",
    "from sklearn.preprocessing import StandardScaler\n",
    "from sklearn.model_selection import train_test_split\n",
    "from sklearn.linear_model import LogisticRegression\n",
    "from sklearn.model_selection import cross_validate\n",
    "from sklearn.metrics import accuracy_score, precision_score, recall_score, f1_score, roc_auc_score\n",
    "from sklearn.metrics import roc_auc_score, plot_confusion_matrix, plot_roc_curve\n",
    "from sklearn.model_selection import GridSearchCV\n",
    "\n",
    "from imblearn.over_sampling import SMOTE"
   ]
  },
  {
   "cell_type": "code",
   "execution_count": 8,
   "metadata": {},
   "outputs": [
    {
     "data": {
      "text/html": [
       "<div>\n",
       "<style scoped>\n",
       "    .dataframe tbody tr th:only-of-type {\n",
       "        vertical-align: middle;\n",
       "    }\n",
       "\n",
       "    .dataframe tbody tr th {\n",
       "        vertical-align: top;\n",
       "    }\n",
       "\n",
       "    .dataframe thead th {\n",
       "        text-align: right;\n",
       "    }\n",
       "</style>\n",
       "<table border=\"1\" class=\"dataframe\">\n",
       "  <thead>\n",
       "    <tr style=\"text-align: right;\">\n",
       "      <th></th>\n",
       "      <th>num_ingredients</th>\n",
       "      <th>num_steps</th>\n",
       "      <th>num_char_description</th>\n",
       "    </tr>\n",
       "  </thead>\n",
       "  <tbody>\n",
       "    <tr>\n",
       "      <th>0</th>\n",
       "      <td>6</td>\n",
       "      <td>4</td>\n",
       "      <td>301</td>\n",
       "    </tr>\n",
       "    <tr>\n",
       "      <th>1</th>\n",
       "      <td>13</td>\n",
       "      <td>10</td>\n",
       "      <td>138</td>\n",
       "    </tr>\n",
       "    <tr>\n",
       "      <th>2</th>\n",
       "      <td>9</td>\n",
       "      <td>1</td>\n",
       "      <td>57</td>\n",
       "    </tr>\n",
       "    <tr>\n",
       "      <th>3</th>\n",
       "      <td>14</td>\n",
       "      <td>6</td>\n",
       "      <td>392</td>\n",
       "    </tr>\n",
       "    <tr>\n",
       "      <th>4</th>\n",
       "      <td>8</td>\n",
       "      <td>4</td>\n",
       "      <td>164</td>\n",
       "    </tr>\n",
       "  </tbody>\n",
       "</table>\n",
       "</div>"
      ],
      "text/plain": [
       "   num_ingredients  num_steps  num_char_description\n",
       "0                6          4                   301\n",
       "1               13         10                   138\n",
       "2                9          1                    57\n",
       "3               14          6                   392\n",
       "4                8          4                   164"
      ]
     },
     "execution_count": 8,
     "metadata": {},
     "output_type": "execute_result"
    }
   ],
   "source": [
    "X_numbers_df = pd.read_csv('data/X_numbers_only.csv', index_col=0)\n",
    "X_numbers_df.head()\n"
   ]
  },
  {
   "cell_type": "code",
   "execution_count": 9,
   "metadata": {},
   "outputs": [
    {
     "data": {
      "text/plain": [
       "pandas.core.frame.DataFrame"
      ]
     },
     "execution_count": 9,
     "metadata": {},
     "output_type": "execute_result"
    }
   ],
   "source": [
    "y_numbers_df = pd.read_csv('data/y_numbers_only.csv', index_col=0)\n",
    "type(y_numbers_df)"
   ]
  },
  {
   "cell_type": "code",
   "execution_count": 11,
   "metadata": {},
   "outputs": [
    {
     "data": {
      "text/html": [
       "<div>\n",
       "<style scoped>\n",
       "    .dataframe tbody tr th:only-of-type {\n",
       "        vertical-align: middle;\n",
       "    }\n",
       "\n",
       "    .dataframe tbody tr th {\n",
       "        vertical-align: top;\n",
       "    }\n",
       "\n",
       "    .dataframe thead th {\n",
       "        text-align: right;\n",
       "    }\n",
       "</style>\n",
       "<table border=\"1\" class=\"dataframe\">\n",
       "  <thead>\n",
       "    <tr style=\"text-align: right;\">\n",
       "      <th></th>\n",
       "      <th>target</th>\n",
       "    </tr>\n",
       "  </thead>\n",
       "  <tbody>\n",
       "    <tr>\n",
       "      <th>0</th>\n",
       "      <td>0</td>\n",
       "    </tr>\n",
       "    <tr>\n",
       "      <th>1</th>\n",
       "      <td>0</td>\n",
       "    </tr>\n",
       "    <tr>\n",
       "      <th>2</th>\n",
       "      <td>0</td>\n",
       "    </tr>\n",
       "    <tr>\n",
       "      <th>3</th>\n",
       "      <td>1</td>\n",
       "    </tr>\n",
       "    <tr>\n",
       "      <th>4</th>\n",
       "      <td>0</td>\n",
       "    </tr>\n",
       "  </tbody>\n",
       "</table>\n",
       "</div>"
      ],
      "text/plain": [
       "   target\n",
       "0       0\n",
       "1       0\n",
       "2       0\n",
       "3       1\n",
       "4       0"
      ]
     },
     "execution_count": 11,
     "metadata": {},
     "output_type": "execute_result"
    }
   ],
   "source": [
    "y_numbers_df.head()"
   ]
  },
  {
   "cell_type": "code",
   "execution_count": 12,
   "metadata": {},
   "outputs": [],
   "source": [
    "X_train, X_test, y_train, y_test = train_test_split(X_numbers_df, y_numbers_df, test_size = .3)"
   ]
  },
  {
   "cell_type": "code",
   "execution_count": 13,
   "metadata": {},
   "outputs": [],
   "source": [
    "scalar = StandardScaler()"
   ]
  },
  {
   "cell_type": "code",
   "execution_count": 14,
   "metadata": {},
   "outputs": [
    {
     "data": {
      "text/plain": [
       "array([[ 4.33934563, -0.16064771, -0.26144084],\n",
       "       [ 0.14014313, -1.33412657, -0.69238251],\n",
       "       [ 1.37520269,  0.5434396 , -0.21954373],\n",
       "       ...,\n",
       "       [-0.84790452, -0.86473502, -0.27341144],\n",
       "       [ 0.38715504, -0.39534348, -0.08786712],\n",
       "       [ 0.14014313,  0.77813537,  0.85182513]])"
      ]
     },
     "execution_count": 14,
     "metadata": {},
     "output_type": "execute_result"
    }
   ],
   "source": [
    "X_train_numbers_scaled = scalar.fit_transform(X_train, y_train)\n",
    "X_train_numbers_scaled"
   ]
  },
  {
   "cell_type": "code",
   "execution_count": 15,
   "metadata": {},
   "outputs": [
    {
     "data": {
      "text/plain": [
       "array([[-0.10686879,  0.30874383,  0.0438095 ],\n",
       "       [-0.10686879, -0.39534348, -0.6445001 ],\n",
       "       [ 0.14014313, -1.0994308 ,  0.47475117],\n",
       "       ...,\n",
       "       [-0.60089261, -0.39534348, -0.06991121],\n",
       "       [-1.09491643, -0.16064771, -0.59661769],\n",
       "       [-0.10686879,  1.24752691, -0.662456  ]])"
      ]
     },
     "execution_count": 15,
     "metadata": {},
     "output_type": "execute_result"
    }
   ],
   "source": [
    "X_test_numbers_scaled = scalar.transform(X_test)\n",
    "X_test_numbers_scaled"
   ]
  },
  {
   "cell_type": "code",
   "execution_count": 16,
   "metadata": {},
   "outputs": [],
   "source": [
    "sm = SMOTE()\n",
    "X_train_num_sc_bal, y_train_num_sc_bal = sm.fit_resample(X_train_numbers_scaled, y_train)"
   ]
  },
  {
   "cell_type": "code",
   "execution_count": 17,
   "metadata": {},
   "outputs": [
    {
     "data": {
      "text/plain": [
       "541352"
      ]
     },
     "execution_count": 17,
     "metadata": {},
     "output_type": "execute_result"
    }
   ],
   "source": [
    "len(X_train_num_sc_bal)"
   ]
  },
  {
   "cell_type": "code",
   "execution_count": 18,
   "metadata": {},
   "outputs": [
    {
     "data": {
      "text/plain": [
       "541352"
      ]
     },
     "execution_count": 18,
     "metadata": {},
     "output_type": "execute_result"
    }
   ],
   "source": [
    "len(y_train_num_sc_bal)"
   ]
  },
  {
   "cell_type": "code",
   "execution_count": 19,
   "metadata": {},
   "outputs": [],
   "source": [
    "X_test_num_sc_bal, y_test_num_sc_bal = sm.fit_resample(X_test_numbers_scaled, y_test)"
   ]
  },
  {
   "cell_type": "code",
   "execution_count": 20,
   "metadata": {},
   "outputs": [
    {
     "data": {
      "text/plain": [
       "target\n",
       "1         116013\n",
       "0         116013\n",
       "dtype: int64"
      ]
     },
     "execution_count": 20,
     "metadata": {},
     "output_type": "execute_result"
    }
   ],
   "source": [
    "y_test_num_sc_bal.value_counts()"
   ]
  },
  {
   "cell_type": "code",
   "execution_count": 21,
   "metadata": {},
   "outputs": [],
   "source": [
    "def evaluate(estimator, X_tr, X_te, y_tr, y_te, cv=5, grid_search=False):\n",
    "    '''\n",
    "Function takes in estimator, training data, test data, a Boolean value indicating if the estimator is a grid search, \n",
    "and the cross validation splitting strategy if the estimator is not a grid search, \n",
    "and returns the accuracy, precision, recall, f1, and the ROC-AUC scores for the model \n",
    "and a confusion matrix visualization.  From Phase 3 Project: https://github.com/Nindorph/TanzanianWaterWells/blob/main/Modeling_Final.ipynb\n",
    "\n",
    "If ‘grid_search parameter is set to “True” then the function will not perform cross validation on the model. \n",
    "Based off of Lindsey Berlin’s evaluate function found at: \n",
    "https://github.com/lindseyberlin/Cat-in-the-Dat-Project/blob/main/notebooks/Lindsey/EDA-Initial-Models.ipynb\n",
    "------------------------------------------------------------------------------------------\n",
    "Inputs: \n",
    "-Estimator - Estimator object  \n",
    "-X_tr – X_train dataframe\n",
    "-X_te – X_test dataframe\n",
    "-Y_tr – y_train dataframe\n",
    "-Y_te – y_test dataframe\n",
    "-Cv – If cross_val  set to true this determines the cross-validation splitting strategy.  \n",
    "        Takes in all value options for sklearn.model_selection_cross_val_score “cv” parameter:\n",
    "        - None, to use the default 5-fold cross validation,\n",
    "        - int, to specify the number of folds in a (Stratified)KFold,\n",
    "        - CV splitter,\n",
    "        - An iterable yielding (train, test) splits as arrays of indices\n",
    "- grid_search – “ Boolean indicating whether a the estimator is a GridSearchCV object, \n",
    "        if set to “False” a cross validation will be performed with the number of iterations set by the “cv” parameter.  \n",
    "        Default value is “False”.\n",
    "\n",
    "Returns – nothing is returned \n",
    "\n",
    "\n",
    "    '''\n",
    "    #If no grid search is being performed, go through evaluation steps as normal, including cross validation\n",
    "    if grid_search == False:\n",
    "        #Cross-Validate\n",
    "        output = cross_validate(estimator, X_tr, y_tr, cv=cv,\n",
    "                                scoring=['accuracy', 'precision','recall', 'f1', 'roc_auc'])\n",
    "        #Printing out the mean of all of our evaluating metrics across the cross validation. \n",
    "        #Accuracy, precisionc recall, f1, and roc auc\n",
    "        print('Results of Cross-Validation:\\n')\n",
    "        print(f'Average accuracy: {output[\"test_accuracy\"].mean()}\\\n",
    "        +/- {output[\"test_accuracy\"].std()}')\n",
    "        print(f'Average precision: {output[\"test_precision\"].mean()}\\\n",
    "        +/- {output[\"test_precision\"].std()}')\n",
    "        print(f'**Average recall: {output[\"test_recall\"].mean()}\\\n",
    "        +/- {output[\"test_recall\"].std()}')\n",
    "        print(f'Average f1 score: {output[\"test_f1\"].mean()}\\\n",
    "        +/- {output[\"test_f1\"].std()}')\n",
    "        print(f'Average roc_auc: {output[\"test_roc_auc\"].mean()}\\\n",
    "        +/- {output[\"test_roc_auc\"].std()}\\n')\n",
    "        print('+'*20)\n",
    "    \n",
    "        \n",
    "        #Fitting the estimator to our X and y train data\n",
    "        estimator.fit(X_tr, y_tr)\n",
    "        #getting predictions for X train\n",
    "        tr_preds = estimator.predict(X_tr)\n",
    "        #getting predictions for X test\n",
    "        te_preds = estimator.predict(X_te)\n",
    "        \n",
    "        #Creating a confusion matrix from our data with custom labels\n",
    "        categories = ['Functional', 'Non-Functional']\n",
    "        print('\\nResults of Train-Test Split Validation:')\n",
    "        plot_confusion_matrix(estimator, X_te, y_te, display_labels= categories,\n",
    "                              cmap='mako')\n",
    "        \n",
    "        #Printing our final evaluating metrics across X train\n",
    "        #Evaluating using accuracy, precision, recall, f1, roc auc\n",
    "        print(\"\\nTraining Scores:\")\n",
    "        print(f\"Train accuracy: {accuracy_score(y_tr, tr_preds)}\")\n",
    "        print(f\"Train precision: {precision_score(y_tr, tr_preds)}\")\n",
    "        print(f\"**Train recall: {recall_score(y_tr, tr_preds)}\")\n",
    "        print(f\"Train f1 score: {f1_score(y_tr, tr_preds)}\")\n",
    "        print(f\"Train roc_auc: {roc_auc_score(y_tr, tr_preds)}\\n\")\n",
    "        print(\"<>\"*10)\n",
    "        #Printing our final evaluating metrics across X test\n",
    "        #Evaluating using accuracy, precision, recall, f1, roc auc\n",
    "        print(\"\\nTesting Scores:\")\n",
    "        print(f\"Test accuracy: {accuracy_score(y_te, te_preds)}\")\n",
    "        print(f\"Test precision: {precision_score(y_te, te_preds)}\")\n",
    "        print(f\"**Test recall: {recall_score(y_te, te_preds)}\")\n",
    "        print(f\"Test f1 score: {f1_score(y_te, te_preds)}\")\n",
    "        print(f\"Test roc_auc: {roc_auc_score(y_te, te_preds)}\")\n",
    "    \n",
    "    #If a grid search is being performed, do not perform a cross validate.\n",
    "    else:\n",
    "        #Fitting the estimator to our X and y train data\n",
    "        estimator.fit(X_tr, y_tr)\n",
    "        #getting predictions for X train\n",
    "        tr_preds = estimator.predict(X_tr)\n",
    "        #getting predictions for X test\n",
    "        te_preds = estimator.predict(X_te)\n",
    "        \n",
    "        #Creating a confusion matrix from our data with custom labels\n",
    "        categories = ['Functional', 'Non-Functional']\n",
    "        print('\\nResults of Train-Test Split Validation:')\n",
    "        plot_confusion_matrix(estimator, X_te, y_te, display_labels= categories,\n",
    "                              cmap='mako')\n",
    "        \n",
    "        #Printing our final evaluating metrics across X train \n",
    "        #Evaluating using accuracy, precision, recall, f1, roc auc\n",
    "        print(\"\\nTraining Scores:\")\n",
    "        print(f\"Train accuracy: {accuracy_score(y_tr, tr_preds)}\")\n",
    "        print(f\"Train precision: {precision_score(y_tr, tr_preds)}\")\n",
    "        print(f\"Train recall: {recall_score(y_tr, tr_preds)}\")\n",
    "        print(f\"Train f1 score: {f1_score(y_tr, tr_preds)}\")\n",
    "        print(f\"Train roc_auc: {roc_auc_score(y_tr, tr_preds)}\\n\")\n",
    "        print(\"<>\"*10)\n",
    "        \n",
    "        #Printing our final evaluating metrics across X test\n",
    "        #Evaluating using accuracy, precision, recall, f1, roc auc\n",
    "        print(\"\\nTesting Scores:\")\n",
    "        print(f\"Test accuracy: {accuracy_score(y_te, te_preds)}\")\n",
    "        print(f\"Test precision: {precision_score(y_te, te_preds)}\")\n",
    "        print(f\"Test recall: {recall_score(y_te, te_preds)}\")\n",
    "        print(f\"Test f1 score: {f1_score(y_te, te_preds)}\")\n",
    "        print(f\"Test roc_auc: {roc_auc_score(y_te, te_preds)}\")\n",
    "        \n",
    "        print('\\nGrid Search Results (you animal):\\n')\n",
    "        return pd.DataFrame(estimator.cv_results_)"
   ]
  },
  {
   "cell_type": "code",
   "execution_count": 22,
   "metadata": {},
   "outputs": [],
   "source": [
    "logreg = LogisticRegression()"
   ]
  },
  {
   "cell_type": "code",
   "execution_count": 23,
   "metadata": {},
   "outputs": [
    {
     "name": "stderr",
     "output_type": "stream",
     "text": [
      "C:\\Users\\alexm\\anaconda3\\envs\\learn-env\\lib\\site-packages\\sklearn\\utils\\validation.py:72: DataConversionWarning: A column-vector y was passed when a 1d array was expected. Please change the shape of y to (n_samples, ), for example using ravel().\n",
      "  return f(**kwargs)\n",
      "C:\\Users\\alexm\\anaconda3\\envs\\learn-env\\lib\\site-packages\\sklearn\\utils\\validation.py:72: DataConversionWarning: A column-vector y was passed when a 1d array was expected. Please change the shape of y to (n_samples, ), for example using ravel().\n",
      "  return f(**kwargs)\n",
      "C:\\Users\\alexm\\anaconda3\\envs\\learn-env\\lib\\site-packages\\sklearn\\utils\\validation.py:72: DataConversionWarning: A column-vector y was passed when a 1d array was expected. Please change the shape of y to (n_samples, ), for example using ravel().\n",
      "  return f(**kwargs)\n",
      "C:\\Users\\alexm\\anaconda3\\envs\\learn-env\\lib\\site-packages\\sklearn\\utils\\validation.py:72: DataConversionWarning: A column-vector y was passed when a 1d array was expected. Please change the shape of y to (n_samples, ), for example using ravel().\n",
      "  return f(**kwargs)\n",
      "C:\\Users\\alexm\\anaconda3\\envs\\learn-env\\lib\\site-packages\\sklearn\\utils\\validation.py:72: DataConversionWarning: A column-vector y was passed when a 1d array was expected. Please change the shape of y to (n_samples, ), for example using ravel().\n",
      "  return f(**kwargs)\n"
     ]
    },
    {
     "name": "stdout",
     "output_type": "stream",
     "text": [
      "Results of Cross-Validation:\n",
      "\n",
      "Average accuracy: 0.5573656311948996        +/- 0.0013369300572363106\n",
      "Average precision: 0.549305867266036        +/- 0.0011794796609864685\n",
      "**Average recall: 0.6391072761697332        +/- 0.0010823400109380465\n",
      "Average f1 score: 0.5908135244105172        +/- 0.001109575375668234\n",
      "Average roc_auc: 0.5744671406672129        +/- 0.0017850404340462901\n",
      "\n",
      "++++++++++++++++++++\n"
     ]
    },
    {
     "name": "stderr",
     "output_type": "stream",
     "text": [
      "C:\\Users\\alexm\\anaconda3\\envs\\learn-env\\lib\\site-packages\\sklearn\\utils\\validation.py:72: DataConversionWarning: A column-vector y was passed when a 1d array was expected. Please change the shape of y to (n_samples, ), for example using ravel().\n",
      "  return f(**kwargs)\n"
     ]
    },
    {
     "name": "stdout",
     "output_type": "stream",
     "text": [
      "\n",
      "Results of Train-Test Split Validation:\n",
      "\n",
      "Training Scores:\n",
      "Train accuracy: 0.5575041747328909\n",
      "Train precision: 0.5494120709578291\n",
      "**Train recall: 0.6393880506583517\n",
      "Train f1 score: 0.5909950826389838\n",
      "Train roc_auc: 0.5575041747328909\n",
      "\n",
      "<><><><><><><><><><>\n",
      "\n",
      "Testing Scores:\n",
      "Test accuracy: 0.5601053330230232\n",
      "Test precision: 0.5515441817832379\n",
      "**Test recall: 0.6431520605449389\n",
      "Test f1 score: 0.593835929883205\n",
      "Test roc_auc: 0.5601053330230233\n"
     ]
    },
    {
     "data": {
      "image/png": "[encoded data removed]",
      "text/plain": [
       "<Figure size 432x288 with 2 Axes>"
      ]
     },
     "metadata": {
      "needs_background": "light"
     },
     "output_type": "display_data"
    }
   ],
   "source": [
    "evaluate(logreg, X_train_num_sc_bal, X_test_num_sc_bal, y_train_num_sc_bal, y_test_num_sc_bal)"
   ]
  },
  {
   "cell_type": "code",
   "execution_count": 24,
   "metadata": {},
   "outputs": [],
   "source": [
    "# numbers-only model performance is slightly above 50%, so room for the \"real\" model to be better"
   ]
  },
  {
   "cell_type": "markdown",
   "metadata": {},
   "source": [
    "## Preprocessing"
   ]
  },
  {
   "cell_type": "code",
   "execution_count": null,
   "metadata": {},
   "outputs": [],
   "source": []
  }
 ],
 "metadata": {
  "kernelspec": {
   "display_name": "Python (learn-env)",
   "language": "python",
   "name": "learn-env"
  },
  "language_info": {
   "codemirror_mode": {
    "name": "ipython",
    "version": 3
   },
   "file_extension": ".py",
   "mimetype": "text/x-python",
   "name": "python",
   "nbconvert_exporter": "python",
   "pygments_lexer": "ipython3",
   "version": "3.8.5"
  },
  "varInspector": {
   "cols": {
    "lenName": 16,
    "lenType": 16,
    "lenVar": 40
   },
   "kernels_config": {
    "python": {
     "delete_cmd_postfix": "",
     "delete_cmd_prefix": "del ",
     "library": "var_list.py",
     "varRefreshCmd": "print(var_dic_list())"
    },
    "r": {
     "delete_cmd_postfix": ") ",
     "delete_cmd_prefix": "rm(",
     "library": "var_list.r",
     "varRefreshCmd": "cat(var_dic_list()) "
    }
   },
   "types_to_exclude": [
    "module",
    "function",
    "builtin_function_or_method",
    "instance",
    "_Feature"
   ],
   "window_display": false
  }
 },
 "nbformat": 4,
 "nbformat_minor": 4
}
