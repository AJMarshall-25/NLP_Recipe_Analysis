{
 "cells": [
  {
   "cell_type": "markdown",
   "metadata": {},
   "source": [
    "# Modeling\n",
    "\n",
    "- Baseline - move the end of the EDA notebook to the start of this\n",
    "- Preprocessing - need to try bag of words, Word to Vec, other tokenization schemes\n",
    "    - pipelines!!\n",
    "- Modeling\n",
    "    - combine Ph3 evaluate and Ph4 score-tracker functions \n",
    "    - Focus on precision (you don't want false positives!!!)\n",
    "    "
   ]
  },
  {
   "cell_type": "code",
   "execution_count": 166,
   "metadata": {},
   "outputs": [],
   "source": [
    "import pandas as pd\n",
    "import numpy as np\n",
    "import matplotlib.pyplot as plt\n",
    "import seaborn as sns\n",
    "\n",
    "import regex as re\n",
    "from wordcloud import WordCloud\n",
    "import ast #converting column values to lists post-import from csv\n",
    "\n",
    "from nltk import FreqDist\n",
    "from nltk.corpus import stopwords\n",
    "\n",
    "\n",
    "from sklearn.preprocessing import StandardScaler\n",
    "from sklearn.feature_extraction.text import CountVectorizer, TfidfVectorizer\n",
    "from sklearn.model_selection import train_test_split\n",
    "from sklearn.linear_model import LogisticRegression\n",
    "from sklearn.model_selection import cross_validate\n",
    "from sklearn.metrics import accuracy_score, precision_score, recall_score, f1_score, roc_auc_score\n",
    "from sklearn.metrics import roc_auc_score, plot_confusion_matrix, plot_roc_curve\n",
    "from sklearn.model_selection import GridSearchCV\n",
    "\n",
    "from imblearn.under_sampling import RandomUnderSampler\n",
    "from imblearn.over_sampling import SMOTE"
   ]
  },
  {
   "cell_type": "code",
   "execution_count": 8,
   "metadata": {},
   "outputs": [
    {
     "data": {
      "text/html": [
       "<div>\n",
       "<style scoped>\n",
       "    .dataframe tbody tr th:only-of-type {\n",
       "        vertical-align: middle;\n",
       "    }\n",
       "\n",
       "    .dataframe tbody tr th {\n",
       "        vertical-align: top;\n",
       "    }\n",
       "\n",
       "    .dataframe thead th {\n",
       "        text-align: right;\n",
       "    }\n",
       "</style>\n",
       "<table border=\"1\" class=\"dataframe\">\n",
       "  <thead>\n",
       "    <tr style=\"text-align: right;\">\n",
       "      <th></th>\n",
       "      <th>num_ingredients</th>\n",
       "      <th>num_steps</th>\n",
       "      <th>num_char_description</th>\n",
       "    </tr>\n",
       "  </thead>\n",
       "  <tbody>\n",
       "    <tr>\n",
       "      <th>0</th>\n",
       "      <td>6</td>\n",
       "      <td>4</td>\n",
       "      <td>301</td>\n",
       "    </tr>\n",
       "    <tr>\n",
       "      <th>1</th>\n",
       "      <td>13</td>\n",
       "      <td>10</td>\n",
       "      <td>138</td>\n",
       "    </tr>\n",
       "    <tr>\n",
       "      <th>2</th>\n",
       "      <td>9</td>\n",
       "      <td>1</td>\n",
       "      <td>57</td>\n",
       "    </tr>\n",
       "    <tr>\n",
       "      <th>3</th>\n",
       "      <td>14</td>\n",
       "      <td>6</td>\n",
       "      <td>392</td>\n",
       "    </tr>\n",
       "    <tr>\n",
       "      <th>4</th>\n",
       "      <td>8</td>\n",
       "      <td>4</td>\n",
       "      <td>164</td>\n",
       "    </tr>\n",
       "  </tbody>\n",
       "</table>\n",
       "</div>"
      ],
      "text/plain": [
       "   num_ingredients  num_steps  num_char_description\n",
       "0                6          4                   301\n",
       "1               13         10                   138\n",
       "2                9          1                    57\n",
       "3               14          6                   392\n",
       "4                8          4                   164"
      ]
     },
     "execution_count": 8,
     "metadata": {},
     "output_type": "execute_result"
    }
   ],
   "source": [
    "X_numbers_df = pd.read_csv('data/X_numbers_only.csv', index_col=0)\n",
    "X_numbers_df.head()\n"
   ]
  },
  {
   "cell_type": "code",
   "execution_count": 9,
   "metadata": {},
   "outputs": [
    {
     "data": {
      "text/plain": [
       "pandas.core.frame.DataFrame"
      ]
     },
     "execution_count": 9,
     "metadata": {},
     "output_type": "execute_result"
    }
   ],
   "source": [
    "y_numbers_df = pd.read_csv('data/y_numbers_only.csv', index_col=0)\n",
    "type(y_numbers_df)"
   ]
  },
  {
   "cell_type": "code",
   "execution_count": 11,
   "metadata": {},
   "outputs": [
    {
     "data": {
      "text/html": [
       "<div>\n",
       "<style scoped>\n",
       "    .dataframe tbody tr th:only-of-type {\n",
       "        vertical-align: middle;\n",
       "    }\n",
       "\n",
       "    .dataframe tbody tr th {\n",
       "        vertical-align: top;\n",
       "    }\n",
       "\n",
       "    .dataframe thead th {\n",
       "        text-align: right;\n",
       "    }\n",
       "</style>\n",
       "<table border=\"1\" class=\"dataframe\">\n",
       "  <thead>\n",
       "    <tr style=\"text-align: right;\">\n",
       "      <th></th>\n",
       "      <th>target</th>\n",
       "    </tr>\n",
       "  </thead>\n",
       "  <tbody>\n",
       "    <tr>\n",
       "      <th>0</th>\n",
       "      <td>0</td>\n",
       "    </tr>\n",
       "    <tr>\n",
       "      <th>1</th>\n",
       "      <td>0</td>\n",
       "    </tr>\n",
       "    <tr>\n",
       "      <th>2</th>\n",
       "      <td>0</td>\n",
       "    </tr>\n",
       "    <tr>\n",
       "      <th>3</th>\n",
       "      <td>1</td>\n",
       "    </tr>\n",
       "    <tr>\n",
       "      <th>4</th>\n",
       "      <td>0</td>\n",
       "    </tr>\n",
       "  </tbody>\n",
       "</table>\n",
       "</div>"
      ],
      "text/plain": [
       "   target\n",
       "0       0\n",
       "1       0\n",
       "2       0\n",
       "3       1\n",
       "4       0"
      ]
     },
     "execution_count": 11,
     "metadata": {},
     "output_type": "execute_result"
    }
   ],
   "source": [
    "y_numbers_df.head()"
   ]
  },
  {
   "cell_type": "code",
   "execution_count": 12,
   "metadata": {},
   "outputs": [],
   "source": [
    "X_train, X_test, y_train, y_test = train_test_split(X_numbers_df, y_numbers_df, test_size = .3)"
   ]
  },
  {
   "cell_type": "code",
   "execution_count": 13,
   "metadata": {},
   "outputs": [],
   "source": [
    "scalar = StandardScaler()"
   ]
  },
  {
   "cell_type": "code",
   "execution_count": 14,
   "metadata": {},
   "outputs": [
    {
     "data": {
      "text/plain": [
       "array([[ 4.33934563, -0.16064771, -0.26144084],\n",
       "       [ 0.14014313, -1.33412657, -0.69238251],\n",
       "       [ 1.37520269,  0.5434396 , -0.21954373],\n",
       "       ...,\n",
       "       [-0.84790452, -0.86473502, -0.27341144],\n",
       "       [ 0.38715504, -0.39534348, -0.08786712],\n",
       "       [ 0.14014313,  0.77813537,  0.85182513]])"
      ]
     },
     "execution_count": 14,
     "metadata": {},
     "output_type": "execute_result"
    }
   ],
   "source": [
    "X_train_numbers_scaled = scalar.fit_transform(X_train, y_train)\n",
    "X_train_numbers_scaled"
   ]
  },
  {
   "cell_type": "code",
   "execution_count": 15,
   "metadata": {},
   "outputs": [
    {
     "data": {
      "text/plain": [
       "array([[-0.10686879,  0.30874383,  0.0438095 ],\n",
       "       [-0.10686879, -0.39534348, -0.6445001 ],\n",
       "       [ 0.14014313, -1.0994308 ,  0.47475117],\n",
       "       ...,\n",
       "       [-0.60089261, -0.39534348, -0.06991121],\n",
       "       [-1.09491643, -0.16064771, -0.59661769],\n",
       "       [-0.10686879,  1.24752691, -0.662456  ]])"
      ]
     },
     "execution_count": 15,
     "metadata": {},
     "output_type": "execute_result"
    }
   ],
   "source": [
    "X_test_numbers_scaled = scalar.transform(X_test)\n",
    "X_test_numbers_scaled"
   ]
  },
  {
   "cell_type": "code",
   "execution_count": 16,
   "metadata": {},
   "outputs": [],
   "source": [
    "sm = SMOTE()\n",
    "X_train_num_sc_bal, y_train_num_sc_bal = sm.fit_resample(X_train_numbers_scaled, y_train)"
   ]
  },
  {
   "cell_type": "code",
   "execution_count": 17,
   "metadata": {},
   "outputs": [
    {
     "data": {
      "text/plain": [
       "541352"
      ]
     },
     "execution_count": 17,
     "metadata": {},
     "output_type": "execute_result"
    }
   ],
   "source": [
    "len(X_train_num_sc_bal)"
   ]
  },
  {
   "cell_type": "code",
   "execution_count": 18,
   "metadata": {},
   "outputs": [
    {
     "data": {
      "text/plain": [
       "541352"
      ]
     },
     "execution_count": 18,
     "metadata": {},
     "output_type": "execute_result"
    }
   ],
   "source": [
    "len(y_train_num_sc_bal)"
   ]
  },
  {
   "cell_type": "code",
   "execution_count": 19,
   "metadata": {},
   "outputs": [],
   "source": [
    "X_test_num_sc_bal, y_test_num_sc_bal = sm.fit_resample(X_test_numbers_scaled, y_test)"
   ]
  },
  {
   "cell_type": "code",
   "execution_count": 20,
   "metadata": {},
   "outputs": [
    {
     "data": {
      "text/plain": [
       "target\n",
       "1         116013\n",
       "0         116013\n",
       "dtype: int64"
      ]
     },
     "execution_count": 20,
     "metadata": {},
     "output_type": "execute_result"
    }
   ],
   "source": [
    "y_test_num_sc_bal.value_counts()"
   ]
  },
  {
   "cell_type": "code",
   "execution_count": 21,
   "metadata": {},
   "outputs": [],
   "source": [
    "def evaluate(estimator, X_tr, X_te, y_tr, y_te, cv=5, grid_search=False):\n",
    "    '''\n",
    "Function takes in estimator, training data, test data, a Boolean value indicating if the estimator is a grid search, \n",
    "and the cross validation splitting strategy if the estimator is not a grid search, \n",
    "and returns the accuracy, precision, recall, f1, and the ROC-AUC scores for the model \n",
    "and a confusion matrix visualization.  From Phase 3 Project: https://github.com/Nindorph/TanzanianWaterWells/blob/main/Modeling_Final.ipynb\n",
    "\n",
    "If ‘grid_search parameter is set to “True” then the function will not perform cross validation on the model. \n",
    "Based off of Lindsey Berlin’s evaluate function found at: \n",
    "https://github.com/lindseyberlin/Cat-in-the-Dat-Project/blob/main/notebooks/Lindsey/EDA-Initial-Models.ipynb\n",
    "------------------------------------------------------------------------------------------\n",
    "Inputs: \n",
    "-Estimator - Estimator object  \n",
    "-X_tr – X_train dataframe\n",
    "-X_te – X_test dataframe\n",
    "-Y_tr – y_train dataframe\n",
    "-Y_te – y_test dataframe\n",
    "-Cv – If cross_val  set to true this determines the cross-validation splitting strategy.  \n",
    "        Takes in all value options for sklearn.model_selection_cross_val_score “cv” parameter:\n",
    "        - None, to use the default 5-fold cross validation,\n",
    "        - int, to specify the number of folds in a (Stratified)KFold,\n",
    "        - CV splitter,\n",
    "        - An iterable yielding (train, test) splits as arrays of indices\n",
    "- grid_search – “ Boolean indicating whether a the estimator is a GridSearchCV object, \n",
    "        if set to “False” a cross validation will be performed with the number of iterations set by the “cv” parameter.  \n",
    "        Default value is “False”.\n",
    "\n",
    "Returns – nothing is returned \n",
    "\n",
    "\n",
    "    '''\n",
    "    #If no grid search is being performed, go through evaluation steps as normal, including cross validation\n",
    "    if grid_search == False:\n",
    "        #Cross-Validate\n",
    "        output = cross_validate(estimator, X_tr, y_tr, cv=cv,\n",
    "                                scoring=['accuracy', 'precision','recall', 'f1', 'roc_auc'])\n",
    "        #Printing out the mean of all of our evaluating metrics across the cross validation. \n",
    "        #Accuracy, precisionc recall, f1, and roc auc\n",
    "        print('Results of Cross-Validation:\\n')\n",
    "        print(f'Average accuracy: {output[\"test_accuracy\"].mean()}\\\n",
    "        +/- {output[\"test_accuracy\"].std()}')\n",
    "        print(f'Average precision: {output[\"test_precision\"].mean()}\\\n",
    "        +/- {output[\"test_precision\"].std()}')\n",
    "        print(f'**Average recall: {output[\"test_recall\"].mean()}\\\n",
    "        +/- {output[\"test_recall\"].std()}')\n",
    "        print(f'Average f1 score: {output[\"test_f1\"].mean()}\\\n",
    "        +/- {output[\"test_f1\"].std()}')\n",
    "        print(f'Average roc_auc: {output[\"test_roc_auc\"].mean()}\\\n",
    "        +/- {output[\"test_roc_auc\"].std()}\\n')\n",
    "        print('+'*20)\n",
    "    \n",
    "        \n",
    "        #Fitting the estimator to our X and y train data\n",
    "        estimator.fit(X_tr, y_tr)\n",
    "        #getting predictions for X train\n",
    "        tr_preds = estimator.predict(X_tr)\n",
    "        #getting predictions for X test\n",
    "        te_preds = estimator.predict(X_te)\n",
    "        \n",
    "        #Creating a confusion matrix from our data with custom labels\n",
    "        categories = ['Functional', 'Non-Functional']\n",
    "        print('\\nResults of Train-Test Split Validation:')\n",
    "        plot_confusion_matrix(estimator, X_te, y_te, display_labels= categories,\n",
    "                              cmap='mako')\n",
    "        \n",
    "        #Printing our final evaluating metrics across X train\n",
    "        #Evaluating using accuracy, precision, recall, f1, roc auc\n",
    "        print(\"\\nTraining Scores:\")\n",
    "        print(f\"Train accuracy: {accuracy_score(y_tr, tr_preds)}\")\n",
    "        print(f\"Train precision: {precision_score(y_tr, tr_preds)}\")\n",
    "        print(f\"**Train recall: {recall_score(y_tr, tr_preds)}\")\n",
    "        print(f\"Train f1 score: {f1_score(y_tr, tr_preds)}\")\n",
    "        print(f\"Train roc_auc: {roc_auc_score(y_tr, tr_preds)}\\n\")\n",
    "        print(\"<>\"*10)\n",
    "        #Printing our final evaluating metrics across X test\n",
    "        #Evaluating using accuracy, precision, recall, f1, roc auc\n",
    "        print(\"\\nTesting Scores:\")\n",
    "        print(f\"Test accuracy: {accuracy_score(y_te, te_preds)}\")\n",
    "        print(f\"Test precision: {precision_score(y_te, te_preds)}\")\n",
    "        print(f\"**Test recall: {recall_score(y_te, te_preds)}\")\n",
    "        print(f\"Test f1 score: {f1_score(y_te, te_preds)}\")\n",
    "        print(f\"Test roc_auc: {roc_auc_score(y_te, te_preds)}\")\n",
    "    \n",
    "    #If a grid search is being performed, do not perform a cross validate.\n",
    "    else:\n",
    "        #Fitting the estimator to our X and y train data\n",
    "        estimator.fit(X_tr, y_tr)\n",
    "        #getting predictions for X train\n",
    "        tr_preds = estimator.predict(X_tr)\n",
    "        #getting predictions for X test\n",
    "        te_preds = estimator.predict(X_te)\n",
    "        \n",
    "        #Creating a confusion matrix from our data with custom labels\n",
    "        categories = ['Functional', 'Non-Functional']\n",
    "        print('\\nResults of Train-Test Split Validation:')\n",
    "        plot_confusion_matrix(estimator, X_te, y_te, display_labels= categories,\n",
    "                              cmap='mako')\n",
    "        \n",
    "        #Printing our final evaluating metrics across X train \n",
    "        #Evaluating using accuracy, precision, recall, f1, roc auc\n",
    "        print(\"\\nTraining Scores:\")\n",
    "        print(f\"Train accuracy: {accuracy_score(y_tr, tr_preds)}\")\n",
    "        print(f\"Train precision: {precision_score(y_tr, tr_preds)}\")\n",
    "        print(f\"Train recall: {recall_score(y_tr, tr_preds)}\")\n",
    "        print(f\"Train f1 score: {f1_score(y_tr, tr_preds)}\")\n",
    "        print(f\"Train roc_auc: {roc_auc_score(y_tr, tr_preds)}\\n\")\n",
    "        print(\"<>\"*10)\n",
    "        \n",
    "        #Printing our final evaluating metrics across X test\n",
    "        #Evaluating using accuracy, precision, recall, f1, roc auc\n",
    "        print(\"\\nTesting Scores:\")\n",
    "        print(f\"Test accuracy: {accuracy_score(y_te, te_preds)}\")\n",
    "        print(f\"Test precision: {precision_score(y_te, te_preds)}\")\n",
    "        print(f\"Test recall: {recall_score(y_te, te_preds)}\")\n",
    "        print(f\"Test f1 score: {f1_score(y_te, te_preds)}\")\n",
    "        print(f\"Test roc_auc: {roc_auc_score(y_te, te_preds)}\")\n",
    "        \n",
    "        print('\\nGrid Search Results (you animal):\\n')\n",
    "        return pd.DataFrame(estimator.cv_results_)"
   ]
  },
  {
   "cell_type": "code",
   "execution_count": 22,
   "metadata": {},
   "outputs": [],
   "source": [
    "logreg = LogisticRegression()"
   ]
  },
  {
   "cell_type": "code",
   "execution_count": 23,
   "metadata": {},
   "outputs": [
    {
     "name": "stderr",
     "output_type": "stream",
     "text": [
      "C:\\Users\\alexm\\anaconda3\\envs\\learn-env\\lib\\site-packages\\sklearn\\utils\\validation.py:72: DataConversionWarning: A column-vector y was passed when a 1d array was expected. Please change the shape of y to (n_samples, ), for example using ravel().\n",
      "  return f(**kwargs)\n",
      "C:\\Users\\alexm\\anaconda3\\envs\\learn-env\\lib\\site-packages\\sklearn\\utils\\validation.py:72: DataConversionWarning: A column-vector y was passed when a 1d array was expected. Please change the shape of y to (n_samples, ), for example using ravel().\n",
      "  return f(**kwargs)\n",
      "C:\\Users\\alexm\\anaconda3\\envs\\learn-env\\lib\\site-packages\\sklearn\\utils\\validation.py:72: DataConversionWarning: A column-vector y was passed when a 1d array was expected. Please change the shape of y to (n_samples, ), for example using ravel().\n",
      "  return f(**kwargs)\n",
      "C:\\Users\\alexm\\anaconda3\\envs\\learn-env\\lib\\site-packages\\sklearn\\utils\\validation.py:72: DataConversionWarning: A column-vector y was passed when a 1d array was expected. Please change the shape of y to (n_samples, ), for example using ravel().\n",
      "  return f(**kwargs)\n",
      "C:\\Users\\alexm\\anaconda3\\envs\\learn-env\\lib\\site-packages\\sklearn\\utils\\validation.py:72: DataConversionWarning: A column-vector y was passed when a 1d array was expected. Please change the shape of y to (n_samples, ), for example using ravel().\n",
      "  return f(**kwargs)\n"
     ]
    },
    {
     "name": "stdout",
     "output_type": "stream",
     "text": [
      "Results of Cross-Validation:\n",
      "\n",
      "Average accuracy: 0.5573656311948996        +/- 0.0013369300572363106\n",
      "Average precision: 0.549305867266036        +/- 0.0011794796609864685\n",
      "**Average recall: 0.6391072761697332        +/- 0.0010823400109380465\n",
      "Average f1 score: 0.5908135244105172        +/- 0.001109575375668234\n",
      "Average roc_auc: 0.5744671406672129        +/- 0.0017850404340462901\n",
      "\n",
      "++++++++++++++++++++\n"
     ]
    },
    {
     "name": "stderr",
     "output_type": "stream",
     "text": [
      "C:\\Users\\alexm\\anaconda3\\envs\\learn-env\\lib\\site-packages\\sklearn\\utils\\validation.py:72: DataConversionWarning: A column-vector y was passed when a 1d array was expected. Please change the shape of y to (n_samples, ), for example using ravel().\n",
      "  return f(**kwargs)\n"
     ]
    },
    {
     "name": "stdout",
     "output_type": "stream",
     "text": [
      "\n",
      "Results of Train-Test Split Validation:\n",
      "\n",
      "Training Scores:\n",
      "Train accuracy: 0.5575041747328909\n",
      "Train precision: 0.5494120709578291\n",
      "**Train recall: 0.6393880506583517\n",
      "Train f1 score: 0.5909950826389838\n",
      "Train roc_auc: 0.5575041747328909\n",
      "\n",
      "<><><><><><><><><><>\n",
      "\n",
      "Testing Scores:\n",
      "Test accuracy: 0.5601053330230232\n",
      "Test precision: 0.5515441817832379\n",
      "**Test recall: 0.6431520605449389\n",
      "Test f1 score: 0.593835929883205\n",
      "Test roc_auc: 0.5601053330230233\n"
     ]
    },
    {
     "data": {
      "image/png": "[encoded data removed]",
      "text/plain": [
       "<Figure size 432x288 with 2 Axes>"
      ]
     },
     "metadata": {
      "needs_background": "light"
     },
     "output_type": "display_data"
    }
   ],
   "source": [
    "evaluate(logreg, X_train_num_sc_bal, X_test_num_sc_bal, y_train_num_sc_bal, y_test_num_sc_bal)"
   ]
  },
  {
   "cell_type": "code",
   "execution_count": 24,
   "metadata": {},
   "outputs": [],
   "source": [
    "# numbers-only model performance is slightly above 50%, so room for the \"real\" model to be better"
   ]
  },
  {
   "cell_type": "markdown",
   "metadata": {},
   "source": [
    "## Preprocessing"
   ]
  },
  {
   "cell_type": "code",
   "execution_count": 26,
   "metadata": {},
   "outputs": [],
   "source": [
    "def return_to_list(df, column_names):\n",
    "    ''' Takes in list of names of columns containing strings and the dataframe they sit in and returns converts each column's contents into a new\n",
    "    column, called '<original column name>_list', now as lists. May only work on strings that look like lists.... \n",
    "    \n",
    "    Inputs:\n",
    "    df = dataframe with columns being converted to lists\n",
    "    column_names = list of columns whose contents need to be transformed\n",
    "    \n",
    "    Returns: updated dataframe\n",
    "    '''\n",
    "    for col in column_names:\n",
    "        col_name = col + '_list'\n",
    "        df[col_name] = [ast.literal_eval(x) for x in df[col] ]\n",
    "    \n",
    "    return df"
   ]
  },
  {
   "cell_type": "code",
   "execution_count": 119,
   "metadata": {},
   "outputs": [],
   "source": [
    "df = pd.read_csv('data/data_with_target_tokens.csv', index_col=0)"
   ]
  },
  {
   "cell_type": "code",
   "execution_count": 120,
   "metadata": {},
   "outputs": [
    {
     "data": {
      "text/html": [
       "<div>\n",
       "<style scoped>\n",
       "    .dataframe tbody tr th:only-of-type {\n",
       "        vertical-align: middle;\n",
       "    }\n",
       "\n",
       "    .dataframe tbody tr th {\n",
       "        vertical-align: top;\n",
       "    }\n",
       "\n",
       "    .dataframe thead th {\n",
       "        text-align: right;\n",
       "    }\n",
       "</style>\n",
       "<table border=\"1\" class=\"dataframe\">\n",
       "  <thead>\n",
       "    <tr style=\"text-align: right;\">\n",
       "      <th></th>\n",
       "      <th>Unnamed: 0.1</th>\n",
       "      <th>id</th>\n",
       "      <th>name</th>\n",
       "      <th>description</th>\n",
       "      <th>ingredients</th>\n",
       "      <th>ingredients_raw_str</th>\n",
       "      <th>serving_size</th>\n",
       "      <th>servings</th>\n",
       "      <th>steps</th>\n",
       "      <th>tags</th>\n",
       "      <th>...</th>\n",
       "      <th>tags_list</th>\n",
       "      <th>search_terms_list</th>\n",
       "      <th>num_ingredients</th>\n",
       "      <th>num_steps</th>\n",
       "      <th>num_char_description</th>\n",
       "      <th>cleaned_steps</th>\n",
       "      <th>clean_tweet</th>\n",
       "      <th>step_tokens</th>\n",
       "      <th>cleaned_description</th>\n",
       "      <th>description_tokens</th>\n",
       "    </tr>\n",
       "  </thead>\n",
       "  <tbody>\n",
       "    <tr>\n",
       "      <th>0</th>\n",
       "      <td>0</td>\n",
       "      <td>96313</td>\n",
       "      <td>Grilled Garlic Cheese Grits</td>\n",
       "      <td>We love grits, this is another good way to ser...</td>\n",
       "      <td>['water', 'grits', 'salt', 'cheddar cheese', '...</td>\n",
       "      <td>[\"4   cups    water\",\"1   cup   uncooked old f...</td>\n",
       "      <td>1 (155 g)</td>\n",
       "      <td>8</td>\n",
       "      <td>['I a sauce pan, bring water to a boil; slowly...</td>\n",
       "      <td>['time-to-make', 'course', 'main-ingredient', ...</td>\n",
       "      <td>...</td>\n",
       "      <td>['time-to-make', 'course', 'main-ingredient', ...</td>\n",
       "      <td>['low-calorie', 'low-carb', 'diabetic', 'veget...</td>\n",
       "      <td>6</td>\n",
       "      <td>4</td>\n",
       "      <td>301</td>\n",
       "      <td>i a sauce pan bring water to a boil slowly add...</td>\n",
       "      <td>['i a sauce pan, bring water to a boil; slowly...</td>\n",
       "      <td>['i', 'a', 'sauce', 'pan', 'bring', 'water', '...</td>\n",
       "      <td>we love grits this is another good way to serv...</td>\n",
       "      <td>['we', 'love', 'grits', 'this', 'is', 'another...</td>\n",
       "    </tr>\n",
       "    <tr>\n",
       "      <th>1</th>\n",
       "      <td>1</td>\n",
       "      <td>232037</td>\n",
       "      <td>Simple Shrimp and Andouille Jambalaya</td>\n",
       "      <td>Simple, easy and very tasty for when you are i...</td>\n",
       "      <td>['onion', 'red bell pepper', 'garlic cloves', ...</td>\n",
       "      <td>[\"1   medium    onion, chopped coarse \",\"1   m...</td>\n",
       "      <td>1 (366 g)</td>\n",
       "      <td>4</td>\n",
       "      <td>['In a food processor, pulse the onion, red pe...</td>\n",
       "      <td>['60-minutes-or-less', 'time-to-make', 'course...</td>\n",
       "      <td>...</td>\n",
       "      <td>['60-minutes-or-less', 'time-to-make', 'course...</td>\n",
       "      <td>['shrimp', 'dinner']</td>\n",
       "      <td>13</td>\n",
       "      <td>10</td>\n",
       "      <td>138</td>\n",
       "      <td>in a food processor pulse the onion red pepper...</td>\n",
       "      <td>['in a food processor, pulse the onion, red pe...</td>\n",
       "      <td>['in', 'a', 'food', 'processor', 'pulse', 'the...</td>\n",
       "      <td>simple easy and very tasty for when you are in...</td>\n",
       "      <td>['simple', 'easy', 'and', 'very', 'tasty', 'fo...</td>\n",
       "    </tr>\n",
       "    <tr>\n",
       "      <th>2</th>\n",
       "      <td>3</td>\n",
       "      <td>60656</td>\n",
       "      <td>Crock Pot Italian Zucchini</td>\n",
       "      <td>This is a good recipe for weight watchers. It ...</td>\n",
       "      <td>['zucchini', 'yellow squash', 'diced tomatoes'...</td>\n",
       "      <td>[\"2       zucchini, sliced \",\"2   small    yel...</td>\n",
       "      <td>1 (244 g)</td>\n",
       "      <td>4</td>\n",
       "      <td>['Put all ingredients in the crock pot and coo...</td>\n",
       "      <td>['weeknight', 'time-to-make', 'course', 'main-...</td>\n",
       "      <td>...</td>\n",
       "      <td>['weeknight', 'time-to-make', 'course', 'main-...</td>\n",
       "      <td>['italian', 'vegetarian', 'side']</td>\n",
       "      <td>9</td>\n",
       "      <td>1</td>\n",
       "      <td>57</td>\n",
       "      <td>put all ingredients in the crock pot and cook ...</td>\n",
       "      <td>['put all ingredients in the crock pot and coo...</td>\n",
       "      <td>['put', 'all', 'ingredients', 'in', 'the', 'cr...</td>\n",
       "      <td>this is a good recipe for weight watchers it i...</td>\n",
       "      <td>['this', 'is', 'a', 'good', 'recipe', 'for', '...</td>\n",
       "    </tr>\n",
       "    <tr>\n",
       "      <th>3</th>\n",
       "      <td>4</td>\n",
       "      <td>232047</td>\n",
       "      <td>Beef Stew With Dried Cherries</td>\n",
       "      <td>This is a fabulous stew that came from one of ...</td>\n",
       "      <td>['beef stew meat', 'flour', 'salt', 'allspice'...</td>\n",
       "      <td>[\"3   lbs    beef stew meat\",\"3   tablespoons ...</td>\n",
       "      <td>1 (358 g)</td>\n",
       "      <td>8</td>\n",
       "      <td>['Preheat oven to 350°F.', \"Cut beef into 1 in...</td>\n",
       "      <td>['time-to-make', 'course', 'main-ingredient', ...</td>\n",
       "      <td>...</td>\n",
       "      <td>['time-to-make', 'course', 'main-ingredient', ...</td>\n",
       "      <td>['dinner']</td>\n",
       "      <td>14</td>\n",
       "      <td>6</td>\n",
       "      <td>392</td>\n",
       "      <td>preheat oven to f cut beef into inch cubes com...</td>\n",
       "      <td>['preheat oven to °f.', \"cut beef into inch cu...</td>\n",
       "      <td>['preheat', 'oven', 'to', 'f', 'cut', 'beef', ...</td>\n",
       "      <td>this is a fabulous stew that came from one of ...</td>\n",
       "      <td>['this', 'is', 'a', 'fabulous', 'stew', 'that'...</td>\n",
       "    </tr>\n",
       "    <tr>\n",
       "      <th>4</th>\n",
       "      <td>5</td>\n",
       "      <td>232050</td>\n",
       "      <td>Hot Sweet Almond Brittle</td>\n",
       "      <td>This is one of our standard holiday gift recip...</td>\n",
       "      <td>['slivered almonds', 'cider vinegar', 'sugar',...</td>\n",
       "      <td>[\"12   ounces    slivered almonds\",\"1/4  cup  ...</td>\n",
       "      <td>1 (832 g)</td>\n",
       "      <td>1</td>\n",
       "      <td>['Preheat oven to 375°F  Place almonds in sing...</td>\n",
       "      <td>['time-to-make', 'course', 'preparation', 'des...</td>\n",
       "      <td>...</td>\n",
       "      <td>['time-to-make', 'course', 'preparation', 'des...</td>\n",
       "      <td>['dessert']</td>\n",
       "      <td>8</td>\n",
       "      <td>4</td>\n",
       "      <td>164</td>\n",
       "      <td>preheat oven to f place almonds in single laye...</td>\n",
       "      <td>['preheat oven to °f place almonds in single l...</td>\n",
       "      <td>['preheat', 'oven', 'to', 'f', 'place', 'almon...</td>\n",
       "      <td>this is one of our standard holiday gift recip...</td>\n",
       "      <td>['this', 'is', 'one', 'of', 'our', 'standard',...</td>\n",
       "    </tr>\n",
       "  </tbody>\n",
       "</table>\n",
       "<p>5 rows × 27 columns</p>\n",
       "</div>"
      ],
      "text/plain": [
       "   Unnamed: 0.1      id                                   name  \\\n",
       "0             0   96313            Grilled Garlic Cheese Grits   \n",
       "1             1  232037  Simple Shrimp and Andouille Jambalaya   \n",
       "2             3   60656             Crock Pot Italian Zucchini   \n",
       "3             4  232047          Beef Stew With Dried Cherries   \n",
       "4             5  232050               Hot Sweet Almond Brittle   \n",
       "\n",
       "                                         description  \\\n",
       "0  We love grits, this is another good way to ser...   \n",
       "1  Simple, easy and very tasty for when you are i...   \n",
       "2  This is a good recipe for weight watchers. It ...   \n",
       "3  This is a fabulous stew that came from one of ...   \n",
       "4  This is one of our standard holiday gift recip...   \n",
       "\n",
       "                                         ingredients  \\\n",
       "0  ['water', 'grits', 'salt', 'cheddar cheese', '...   \n",
       "1  ['onion', 'red bell pepper', 'garlic cloves', ...   \n",
       "2  ['zucchini', 'yellow squash', 'diced tomatoes'...   \n",
       "3  ['beef stew meat', 'flour', 'salt', 'allspice'...   \n",
       "4  ['slivered almonds', 'cider vinegar', 'sugar',...   \n",
       "\n",
       "                                 ingredients_raw_str serving_size  servings  \\\n",
       "0  [\"4   cups    water\",\"1   cup   uncooked old f...    1 (155 g)         8   \n",
       "1  [\"1   medium    onion, chopped coarse \",\"1   m...    1 (366 g)         4   \n",
       "2  [\"2       zucchini, sliced \",\"2   small    yel...    1 (244 g)         4   \n",
       "3  [\"3   lbs    beef stew meat\",\"3   tablespoons ...    1 (358 g)         8   \n",
       "4  [\"12   ounces    slivered almonds\",\"1/4  cup  ...    1 (832 g)         1   \n",
       "\n",
       "                                               steps  \\\n",
       "0  ['I a sauce pan, bring water to a boil; slowly...   \n",
       "1  ['In a food processor, pulse the onion, red pe...   \n",
       "2  ['Put all ingredients in the crock pot and coo...   \n",
       "3  ['Preheat oven to 350°F.', \"Cut beef into 1 in...   \n",
       "4  ['Preheat oven to 375°F  Place almonds in sing...   \n",
       "\n",
       "                                                tags  ...  \\\n",
       "0  ['time-to-make', 'course', 'main-ingredient', ...  ...   \n",
       "1  ['60-minutes-or-less', 'time-to-make', 'course...  ...   \n",
       "2  ['weeknight', 'time-to-make', 'course', 'main-...  ...   \n",
       "3  ['time-to-make', 'course', 'main-ingredient', ...  ...   \n",
       "4  ['time-to-make', 'course', 'preparation', 'des...  ...   \n",
       "\n",
       "                                           tags_list  \\\n",
       "0  ['time-to-make', 'course', 'main-ingredient', ...   \n",
       "1  ['60-minutes-or-less', 'time-to-make', 'course...   \n",
       "2  ['weeknight', 'time-to-make', 'course', 'main-...   \n",
       "3  ['time-to-make', 'course', 'main-ingredient', ...   \n",
       "4  ['time-to-make', 'course', 'preparation', 'des...   \n",
       "\n",
       "                                   search_terms_list  num_ingredients  \\\n",
       "0  ['low-calorie', 'low-carb', 'diabetic', 'veget...                6   \n",
       "1                               ['shrimp', 'dinner']               13   \n",
       "2                  ['italian', 'vegetarian', 'side']                9   \n",
       "3                                         ['dinner']               14   \n",
       "4                                        ['dessert']                8   \n",
       "\n",
       "   num_steps num_char_description  \\\n",
       "0          4                  301   \n",
       "1         10                  138   \n",
       "2          1                   57   \n",
       "3          6                  392   \n",
       "4          4                  164   \n",
       "\n",
       "                                       cleaned_steps  \\\n",
       "0  i a sauce pan bring water to a boil slowly add...   \n",
       "1  in a food processor pulse the onion red pepper...   \n",
       "2  put all ingredients in the crock pot and cook ...   \n",
       "3  preheat oven to f cut beef into inch cubes com...   \n",
       "4  preheat oven to f place almonds in single laye...   \n",
       "\n",
       "                                         clean_tweet  \\\n",
       "0  ['i a sauce pan, bring water to a boil; slowly...   \n",
       "1  ['in a food processor, pulse the onion, red pe...   \n",
       "2  ['put all ingredients in the crock pot and coo...   \n",
       "3  ['preheat oven to °f.', \"cut beef into inch cu...   \n",
       "4  ['preheat oven to °f place almonds in single l...   \n",
       "\n",
       "                                         step_tokens  \\\n",
       "0  ['i', 'a', 'sauce', 'pan', 'bring', 'water', '...   \n",
       "1  ['in', 'a', 'food', 'processor', 'pulse', 'the...   \n",
       "2  ['put', 'all', 'ingredients', 'in', 'the', 'cr...   \n",
       "3  ['preheat', 'oven', 'to', 'f', 'cut', 'beef', ...   \n",
       "4  ['preheat', 'oven', 'to', 'f', 'place', 'almon...   \n",
       "\n",
       "                                 cleaned_description  \\\n",
       "0  we love grits this is another good way to serv...   \n",
       "1  simple easy and very tasty for when you are in...   \n",
       "2  this is a good recipe for weight watchers it i...   \n",
       "3  this is a fabulous stew that came from one of ...   \n",
       "4  this is one of our standard holiday gift recip...   \n",
       "\n",
       "                                  description_tokens  \n",
       "0  ['we', 'love', 'grits', 'this', 'is', 'another...  \n",
       "1  ['simple', 'easy', 'and', 'very', 'tasty', 'fo...  \n",
       "2  ['this', 'is', 'a', 'good', 'recipe', 'for', '...  \n",
       "3  ['this', 'is', 'a', 'fabulous', 'stew', 'that'...  \n",
       "4  ['this', 'is', 'one', 'of', 'our', 'standard',...  \n",
       "\n",
       "[5 rows x 27 columns]"
      ]
     },
     "execution_count": 120,
     "metadata": {},
     "output_type": "execute_result"
    }
   ],
   "source": [
    "df.head()"
   ]
  },
  {
   "cell_type": "code",
   "execution_count": 121,
   "metadata": {},
   "outputs": [
    {
     "name": "stdout",
     "output_type": "stream",
     "text": [
      "<class 'pandas.core.frame.DataFrame'>\n",
      "Int64Index: 485306 entries, 0 to 485305\n",
      "Data columns (total 27 columns):\n",
      " #   Column                    Non-Null Count   Dtype \n",
      "---  ------                    --------------   ----- \n",
      " 0   Unnamed: 0.1              485306 non-null  int64 \n",
      " 1   id                        485306 non-null  int64 \n",
      " 2   name                      485306 non-null  object\n",
      " 3   description               485306 non-null  object\n",
      " 4   ingredients               485306 non-null  object\n",
      " 5   ingredients_raw_str       485306 non-null  object\n",
      " 6   serving_size              485306 non-null  object\n",
      " 7   servings                  485306 non-null  int64 \n",
      " 8   steps                     485306 non-null  object\n",
      " 9   tags                      485306 non-null  object\n",
      " 10  search_terms              485306 non-null  object\n",
      " 11  target_tag                485306 non-null  bool  \n",
      " 12  target_search_term        485306 non-null  bool  \n",
      " 13  target                    485306 non-null  int64 \n",
      " 14  ingredients_list          485306 non-null  object\n",
      " 15  ingredients_raw_str_list  485306 non-null  object\n",
      " 16  steps_list                485306 non-null  object\n",
      " 17  tags_list                 485306 non-null  object\n",
      " 18  search_terms_list         485306 non-null  object\n",
      " 19  num_ingredients           485306 non-null  int64 \n",
      " 20  num_steps                 485306 non-null  int64 \n",
      " 21  num_char_description      485306 non-null  int64 \n",
      " 22  cleaned_steps             485302 non-null  object\n",
      " 23  clean_tweet               485306 non-null  object\n",
      " 24  step_tokens               485306 non-null  object\n",
      " 25  cleaned_description       484571 non-null  object\n",
      " 26  description_tokens        485306 non-null  object\n",
      "dtypes: bool(2), int64(7), object(18)\n",
      "memory usage: 97.2+ MB\n"
     ]
    }
   ],
   "source": [
    "df.info()"
   ]
  },
  {
   "cell_type": "code",
   "execution_count": 122,
   "metadata": {},
   "outputs": [],
   "source": [
    "df_strings = df[['description','steps','search_terms_list','tags_list', 'target']]"
   ]
  },
  {
   "cell_type": "code",
   "execution_count": 123,
   "metadata": {},
   "outputs": [
    {
     "data": {
      "text/html": [
       "<div>\n",
       "<style scoped>\n",
       "    .dataframe tbody tr th:only-of-type {\n",
       "        vertical-align: middle;\n",
       "    }\n",
       "\n",
       "    .dataframe tbody tr th {\n",
       "        vertical-align: top;\n",
       "    }\n",
       "\n",
       "    .dataframe thead th {\n",
       "        text-align: right;\n",
       "    }\n",
       "</style>\n",
       "<table border=\"1\" class=\"dataframe\">\n",
       "  <thead>\n",
       "    <tr style=\"text-align: right;\">\n",
       "      <th></th>\n",
       "      <th>description</th>\n",
       "      <th>steps</th>\n",
       "      <th>search_terms_list</th>\n",
       "      <th>tags_list</th>\n",
       "      <th>target</th>\n",
       "    </tr>\n",
       "  </thead>\n",
       "  <tbody>\n",
       "    <tr>\n",
       "      <th>0</th>\n",
       "      <td>We love grits, this is another good way to ser...</td>\n",
       "      <td>['I a sauce pan, bring water to a boil; slowly...</td>\n",
       "      <td>['low-calorie', 'low-carb', 'diabetic', 'veget...</td>\n",
       "      <td>['time-to-make', 'course', 'main-ingredient', ...</td>\n",
       "      <td>0</td>\n",
       "    </tr>\n",
       "    <tr>\n",
       "      <th>1</th>\n",
       "      <td>Simple, easy and very tasty for when you are i...</td>\n",
       "      <td>['In a food processor, pulse the onion, red pe...</td>\n",
       "      <td>['shrimp', 'dinner']</td>\n",
       "      <td>['60-minutes-or-less', 'time-to-make', 'course...</td>\n",
       "      <td>0</td>\n",
       "    </tr>\n",
       "    <tr>\n",
       "      <th>2</th>\n",
       "      <td>This is a good recipe for weight watchers. It ...</td>\n",
       "      <td>['Put all ingredients in the crock pot and coo...</td>\n",
       "      <td>['italian', 'vegetarian', 'side']</td>\n",
       "      <td>['weeknight', 'time-to-make', 'course', 'main-...</td>\n",
       "      <td>0</td>\n",
       "    </tr>\n",
       "    <tr>\n",
       "      <th>3</th>\n",
       "      <td>This is a fabulous stew that came from one of ...</td>\n",
       "      <td>['Preheat oven to 350°F.', \"Cut beef into 1 in...</td>\n",
       "      <td>['dinner']</td>\n",
       "      <td>['time-to-make', 'course', 'main-ingredient', ...</td>\n",
       "      <td>1</td>\n",
       "    </tr>\n",
       "    <tr>\n",
       "      <th>4</th>\n",
       "      <td>This is one of our standard holiday gift recip...</td>\n",
       "      <td>['Preheat oven to 375°F  Place almonds in sing...</td>\n",
       "      <td>['dessert']</td>\n",
       "      <td>['time-to-make', 'course', 'preparation', 'des...</td>\n",
       "      <td>0</td>\n",
       "    </tr>\n",
       "  </tbody>\n",
       "</table>\n",
       "</div>"
      ],
      "text/plain": [
       "                                         description  \\\n",
       "0  We love grits, this is another good way to ser...   \n",
       "1  Simple, easy and very tasty for when you are i...   \n",
       "2  This is a good recipe for weight watchers. It ...   \n",
       "3  This is a fabulous stew that came from one of ...   \n",
       "4  This is one of our standard holiday gift recip...   \n",
       "\n",
       "                                               steps  \\\n",
       "0  ['I a sauce pan, bring water to a boil; slowly...   \n",
       "1  ['In a food processor, pulse the onion, red pe...   \n",
       "2  ['Put all ingredients in the crock pot and coo...   \n",
       "3  ['Preheat oven to 350°F.', \"Cut beef into 1 in...   \n",
       "4  ['Preheat oven to 375°F  Place almonds in sing...   \n",
       "\n",
       "                                   search_terms_list  \\\n",
       "0  ['low-calorie', 'low-carb', 'diabetic', 'veget...   \n",
       "1                               ['shrimp', 'dinner']   \n",
       "2                  ['italian', 'vegetarian', 'side']   \n",
       "3                                         ['dinner']   \n",
       "4                                        ['dessert']   \n",
       "\n",
       "                                           tags_list  target  \n",
       "0  ['time-to-make', 'course', 'main-ingredient', ...       0  \n",
       "1  ['60-minutes-or-less', 'time-to-make', 'course...       0  \n",
       "2  ['weeknight', 'time-to-make', 'course', 'main-...       0  \n",
       "3  ['time-to-make', 'course', 'main-ingredient', ...       1  \n",
       "4  ['time-to-make', 'course', 'preparation', 'des...       0  "
      ]
     },
     "execution_count": 123,
     "metadata": {},
     "output_type": "execute_result"
    }
   ],
   "source": [
    "df_strings.head()"
   ]
  },
  {
   "cell_type": "code",
   "execution_count": 124,
   "metadata": {},
   "outputs": [],
   "source": [
    "def basic_cleaning(df, column):\n",
    "    new_col = 'cleaned_' +column\n",
    "    # convert to lowercase\n",
    "    df[new_col] = df[column].apply(lambda x: x.lower())\n",
    "    \n",
    "    # remove punctuation and non-characters\n",
    "    df[new_col] = df[new_col].apply(lambda x: re.sub(r'[^\\w\\s]','',x))\n",
    "    df[new_col] = df[new_col].apply(lambda x: re.sub('[0-9\\n]',' ',x))\n",
    "\n",
    "    #strip whitespace\n",
    "    df[new_col] = df[new_col].apply(lambda x: re.sub('[ ]{2,}',' ',x))\n",
    "    \n",
    "    return df"
   ]
  },
  {
   "cell_type": "code",
   "execution_count": 125,
   "metadata": {
    "scrolled": true
   },
   "outputs": [
    {
     "name": "stderr",
     "output_type": "stream",
     "text": [
      "<ipython-input-124-105abf01fa32>:4: SettingWithCopyWarning: \n",
      "A value is trying to be set on a copy of a slice from a DataFrame.\n",
      "Try using .loc[row_indexer,col_indexer] = value instead\n",
      "\n",
      "See the caveats in the documentation: https://pandas.pydata.org/pandas-docs/stable/user_guide/indexing.html#returning-a-view-versus-a-copy\n",
      "  df[new_col] = df[column].apply(lambda x: x.lower())\n",
      "<ipython-input-124-105abf01fa32>:7: SettingWithCopyWarning: \n",
      "A value is trying to be set on a copy of a slice from a DataFrame.\n",
      "Try using .loc[row_indexer,col_indexer] = value instead\n",
      "\n",
      "See the caveats in the documentation: https://pandas.pydata.org/pandas-docs/stable/user_guide/indexing.html#returning-a-view-versus-a-copy\n",
      "  df[new_col] = df[new_col].apply(lambda x: re.sub(r'[^\\w\\s]','',x))\n",
      "<ipython-input-124-105abf01fa32>:8: SettingWithCopyWarning: \n",
      "A value is trying to be set on a copy of a slice from a DataFrame.\n",
      "Try using .loc[row_indexer,col_indexer] = value instead\n",
      "\n",
      "See the caveats in the documentation: https://pandas.pydata.org/pandas-docs/stable/user_guide/indexing.html#returning-a-view-versus-a-copy\n",
      "  df[new_col] = df[new_col].apply(lambda x: re.sub('[0-9\\n]',' ',x))\n",
      "<ipython-input-124-105abf01fa32>:11: SettingWithCopyWarning: \n",
      "A value is trying to be set on a copy of a slice from a DataFrame.\n",
      "Try using .loc[row_indexer,col_indexer] = value instead\n",
      "\n",
      "See the caveats in the documentation: https://pandas.pydata.org/pandas-docs/stable/user_guide/indexing.html#returning-a-view-versus-a-copy\n",
      "  df[new_col] = df[new_col].apply(lambda x: re.sub('[ ]{2,}',' ',x))\n"
     ]
    }
   ],
   "source": [
    "df_strings = basic_cleaning(df_strings, 'description')"
   ]
  },
  {
   "cell_type": "code",
   "execution_count": 126,
   "metadata": {
    "scrolled": true
   },
   "outputs": [
    {
     "name": "stderr",
     "output_type": "stream",
     "text": [
      "<ipython-input-124-105abf01fa32>:4: SettingWithCopyWarning: \n",
      "A value is trying to be set on a copy of a slice from a DataFrame.\n",
      "Try using .loc[row_indexer,col_indexer] = value instead\n",
      "\n",
      "See the caveats in the documentation: https://pandas.pydata.org/pandas-docs/stable/user_guide/indexing.html#returning-a-view-versus-a-copy\n",
      "  df[new_col] = df[column].apply(lambda x: x.lower())\n",
      "<ipython-input-124-105abf01fa32>:7: SettingWithCopyWarning: \n",
      "A value is trying to be set on a copy of a slice from a DataFrame.\n",
      "Try using .loc[row_indexer,col_indexer] = value instead\n",
      "\n",
      "See the caveats in the documentation: https://pandas.pydata.org/pandas-docs/stable/user_guide/indexing.html#returning-a-view-versus-a-copy\n",
      "  df[new_col] = df[new_col].apply(lambda x: re.sub(r'[^\\w\\s]','',x))\n",
      "<ipython-input-124-105abf01fa32>:8: SettingWithCopyWarning: \n",
      "A value is trying to be set on a copy of a slice from a DataFrame.\n",
      "Try using .loc[row_indexer,col_indexer] = value instead\n",
      "\n",
      "See the caveats in the documentation: https://pandas.pydata.org/pandas-docs/stable/user_guide/indexing.html#returning-a-view-versus-a-copy\n",
      "  df[new_col] = df[new_col].apply(lambda x: re.sub('[0-9\\n]',' ',x))\n",
      "<ipython-input-124-105abf01fa32>:11: SettingWithCopyWarning: \n",
      "A value is trying to be set on a copy of a slice from a DataFrame.\n",
      "Try using .loc[row_indexer,col_indexer] = value instead\n",
      "\n",
      "See the caveats in the documentation: https://pandas.pydata.org/pandas-docs/stable/user_guide/indexing.html#returning-a-view-versus-a-copy\n",
      "  df[new_col] = df[new_col].apply(lambda x: re.sub('[ ]{2,}',' ',x))\n"
     ]
    }
   ],
   "source": [
    "df_strings = basic_cleaning(df_strings, 'steps')"
   ]
  },
  {
   "cell_type": "code",
   "execution_count": 132,
   "metadata": {},
   "outputs": [
    {
     "name": "stderr",
     "output_type": "stream",
     "text": [
      "<ipython-input-132-f851b9416c32>:1: SettingWithCopyWarning: \n",
      "A value is trying to be set on a copy of a slice from a DataFrame.\n",
      "Try using .loc[row_indexer,col_indexer] = value instead\n",
      "\n",
      "See the caveats in the documentation: https://pandas.pydata.org/pandas-docs/stable/user_guide/indexing.html#returning-a-view-versus-a-copy\n",
      "  df_strings['search_terms_list'] = df_strings['search_terms_list'].apply(lambda x: re.sub('[\\'\\'\\[\\],-]','',x))\n"
     ]
    }
   ],
   "source": [
    "df_strings['search_terms_list'] = df_strings['search_terms_list'].apply(lambda x: re.sub('[\\'\\'\\[\\],-]','',x))\n"
   ]
  },
  {
   "cell_type": "code",
   "execution_count": 134,
   "metadata": {},
   "outputs": [
    {
     "name": "stderr",
     "output_type": "stream",
     "text": [
      "<ipython-input-134-4f17ec630256>:1: SettingWithCopyWarning: \n",
      "A value is trying to be set on a copy of a slice from a DataFrame.\n",
      "Try using .loc[row_indexer,col_indexer] = value instead\n",
      "\n",
      "See the caveats in the documentation: https://pandas.pydata.org/pandas-docs/stable/user_guide/indexing.html#returning-a-view-versus-a-copy\n",
      "  df_strings['tags_list'] = df_strings['tags_list'].apply(lambda x: re.sub('[\\'\\'\\[\\],-]','',x))\n"
     ]
    }
   ],
   "source": [
    "df_strings['tags_list'] = df_strings['tags_list'].apply(lambda x: re.sub('[\\'\\'\\[\\],-]','',x))\n"
   ]
  },
  {
   "cell_type": "code",
   "execution_count": 117,
   "metadata": {},
   "outputs": [
    {
     "name": "stderr",
     "output_type": "stream",
     "text": [
      "<ipython-input-96-105abf01fa32>:4: SettingWithCopyWarning: \n",
      "A value is trying to be set on a copy of a slice from a DataFrame.\n",
      "Try using .loc[row_indexer,col_indexer] = value instead\n",
      "\n",
      "See the caveats in the documentation: https://pandas.pydata.org/pandas-docs/stable/user_guide/indexing.html#returning-a-view-versus-a-copy\n",
      "  df[new_col] = df[column].apply(lambda x: x.lower())\n",
      "<ipython-input-96-105abf01fa32>:7: SettingWithCopyWarning: \n",
      "A value is trying to be set on a copy of a slice from a DataFrame.\n",
      "Try using .loc[row_indexer,col_indexer] = value instead\n",
      "\n",
      "See the caveats in the documentation: https://pandas.pydata.org/pandas-docs/stable/user_guide/indexing.html#returning-a-view-versus-a-copy\n",
      "  df[new_col] = df[new_col].apply(lambda x: re.sub(r'[^\\w\\s]','',x))\n",
      "<ipython-input-96-105abf01fa32>:8: SettingWithCopyWarning: \n",
      "A value is trying to be set on a copy of a slice from a DataFrame.\n",
      "Try using .loc[row_indexer,col_indexer] = value instead\n",
      "\n",
      "See the caveats in the documentation: https://pandas.pydata.org/pandas-docs/stable/user_guide/indexing.html#returning-a-view-versus-a-copy\n",
      "  df[new_col] = df[new_col].apply(lambda x: re.sub('[0-9\\n]',' ',x))\n",
      "<ipython-input-96-105abf01fa32>:11: SettingWithCopyWarning: \n",
      "A value is trying to be set on a copy of a slice from a DataFrame.\n",
      "Try using .loc[row_indexer,col_indexer] = value instead\n",
      "\n",
      "See the caveats in the documentation: https://pandas.pydata.org/pandas-docs/stable/user_guide/indexing.html#returning-a-view-versus-a-copy\n",
      "  df[new_col] = df[new_col].apply(lambda x: re.sub('[ ]{2,}',' ',x))\n"
     ]
    }
   ],
   "source": [
    "df_strings = basic_cleaning(df_strings, 'tags_list')"
   ]
  },
  {
   "cell_type": "code",
   "execution_count": 135,
   "metadata": {
    "run_control": {
     "marked": false
    },
    "scrolled": true
   },
   "outputs": [
    {
     "data": {
      "text/html": [
       "<div>\n",
       "<style scoped>\n",
       "    .dataframe tbody tr th:only-of-type {\n",
       "        vertical-align: middle;\n",
       "    }\n",
       "\n",
       "    .dataframe tbody tr th {\n",
       "        vertical-align: top;\n",
       "    }\n",
       "\n",
       "    .dataframe thead th {\n",
       "        text-align: right;\n",
       "    }\n",
       "</style>\n",
       "<table border=\"1\" class=\"dataframe\">\n",
       "  <thead>\n",
       "    <tr style=\"text-align: right;\">\n",
       "      <th></th>\n",
       "      <th>description</th>\n",
       "      <th>steps</th>\n",
       "      <th>search_terms_list</th>\n",
       "      <th>tags_list</th>\n",
       "      <th>target</th>\n",
       "      <th>cleaned_description</th>\n",
       "      <th>cleaned_steps</th>\n",
       "    </tr>\n",
       "  </thead>\n",
       "  <tbody>\n",
       "    <tr>\n",
       "      <th>0</th>\n",
       "      <td>We love grits, this is another good way to ser...</td>\n",
       "      <td>['I a sauce pan, bring water to a boil; slowly...</td>\n",
       "      <td>lowcalorie lowcarb diabetic vegetarian side</td>\n",
       "      <td>timetomake course mainingredient preparation o...</td>\n",
       "      <td>0</td>\n",
       "      <td>we love grits this is another good way to serv...</td>\n",
       "      <td>i a sauce pan bring water to a boil slowly add...</td>\n",
       "    </tr>\n",
       "    <tr>\n",
       "      <th>1</th>\n",
       "      <td>Simple, easy and very tasty for when you are i...</td>\n",
       "      <td>['In a food processor, pulse the onion, red pe...</td>\n",
       "      <td>shrimp dinner</td>\n",
       "      <td>60minutesorless timetomake course mainingredie...</td>\n",
       "      <td>0</td>\n",
       "      <td>simple easy and very tasty for when you are in...</td>\n",
       "      <td>in a food processor pulse the onion red pepper...</td>\n",
       "    </tr>\n",
       "    <tr>\n",
       "      <th>2</th>\n",
       "      <td>This is a good recipe for weight watchers. It ...</td>\n",
       "      <td>['Put all ingredients in the crock pot and coo...</td>\n",
       "      <td>italian vegetarian side</td>\n",
       "      <td>weeknight timetomake course mainingredient pre...</td>\n",
       "      <td>0</td>\n",
       "      <td>this is a good recipe for weight watchers it i...</td>\n",
       "      <td>put all ingredients in the crock pot and cook ...</td>\n",
       "    </tr>\n",
       "    <tr>\n",
       "      <th>3</th>\n",
       "      <td>This is a fabulous stew that came from one of ...</td>\n",
       "      <td>['Preheat oven to 350°F.', \"Cut beef into 1 in...</td>\n",
       "      <td>dinner</td>\n",
       "      <td>timetomake course mainingredient preparation m...</td>\n",
       "      <td>1</td>\n",
       "      <td>this is a fabulous stew that came from one of ...</td>\n",
       "      <td>preheat oven to f cut beef into inch cubes com...</td>\n",
       "    </tr>\n",
       "    <tr>\n",
       "      <th>4</th>\n",
       "      <td>This is one of our standard holiday gift recip...</td>\n",
       "      <td>['Preheat oven to 375°F  Place almonds in sing...</td>\n",
       "      <td>dessert</td>\n",
       "      <td>timetomake course preparation desserts candy d...</td>\n",
       "      <td>0</td>\n",
       "      <td>this is one of our standard holiday gift recip...</td>\n",
       "      <td>preheat oven to f place almonds in single laye...</td>\n",
       "    </tr>\n",
       "  </tbody>\n",
       "</table>\n",
       "</div>"
      ],
      "text/plain": [
       "                                         description  \\\n",
       "0  We love grits, this is another good way to ser...   \n",
       "1  Simple, easy and very tasty for when you are i...   \n",
       "2  This is a good recipe for weight watchers. It ...   \n",
       "3  This is a fabulous stew that came from one of ...   \n",
       "4  This is one of our standard holiday gift recip...   \n",
       "\n",
       "                                               steps  \\\n",
       "0  ['I a sauce pan, bring water to a boil; slowly...   \n",
       "1  ['In a food processor, pulse the onion, red pe...   \n",
       "2  ['Put all ingredients in the crock pot and coo...   \n",
       "3  ['Preheat oven to 350°F.', \"Cut beef into 1 in...   \n",
       "4  ['Preheat oven to 375°F  Place almonds in sing...   \n",
       "\n",
       "                             search_terms_list  \\\n",
       "0  lowcalorie lowcarb diabetic vegetarian side   \n",
       "1                                shrimp dinner   \n",
       "2                      italian vegetarian side   \n",
       "3                                       dinner   \n",
       "4                                      dessert   \n",
       "\n",
       "                                           tags_list  target  \\\n",
       "0  timetomake course mainingredient preparation o...       0   \n",
       "1  60minutesorless timetomake course mainingredie...       0   \n",
       "2  weeknight timetomake course mainingredient pre...       0   \n",
       "3  timetomake course mainingredient preparation m...       1   \n",
       "4  timetomake course preparation desserts candy d...       0   \n",
       "\n",
       "                                 cleaned_description  \\\n",
       "0  we love grits this is another good way to serv...   \n",
       "1  simple easy and very tasty for when you are in...   \n",
       "2  this is a good recipe for weight watchers it i...   \n",
       "3  this is a fabulous stew that came from one of ...   \n",
       "4  this is one of our standard holiday gift recip...   \n",
       "\n",
       "                                       cleaned_steps  \n",
       "0  i a sauce pan bring water to a boil slowly add...  \n",
       "1  in a food processor pulse the onion red pepper...  \n",
       "2  put all ingredients in the crock pot and cook ...  \n",
       "3  preheat oven to f cut beef into inch cubes com...  \n",
       "4  preheat oven to f place almonds in single laye...  "
      ]
     },
     "execution_count": 135,
     "metadata": {},
     "output_type": "execute_result"
    }
   ],
   "source": [
    "df_strings.head()"
   ]
  },
  {
   "cell_type": "code",
   "execution_count": 137,
   "metadata": {},
   "outputs": [
    {
     "name": "stderr",
     "output_type": "stream",
     "text": [
      "C:\\Users\\alexm\\anaconda3\\envs\\learn-env\\lib\\site-packages\\pandas\\core\\frame.py:4163: SettingWithCopyWarning: \n",
      "A value is trying to be set on a copy of a slice from a DataFrame\n",
      "\n",
      "See the caveats in the documentation: https://pandas.pydata.org/pandas-docs/stable/user_guide/indexing.html#returning-a-view-versus-a-copy\n",
      "  return super().drop(\n"
     ]
    },
    {
     "data": {
      "text/html": [
       "<div>\n",
       "<style scoped>\n",
       "    .dataframe tbody tr th:only-of-type {\n",
       "        vertical-align: middle;\n",
       "    }\n",
       "\n",
       "    .dataframe tbody tr th {\n",
       "        vertical-align: top;\n",
       "    }\n",
       "\n",
       "    .dataframe thead th {\n",
       "        text-align: right;\n",
       "    }\n",
       "</style>\n",
       "<table border=\"1\" class=\"dataframe\">\n",
       "  <thead>\n",
       "    <tr style=\"text-align: right;\">\n",
       "      <th></th>\n",
       "      <th>search_terms_list</th>\n",
       "      <th>tags_list</th>\n",
       "      <th>target</th>\n",
       "      <th>cleaned_description</th>\n",
       "      <th>cleaned_steps</th>\n",
       "    </tr>\n",
       "  </thead>\n",
       "  <tbody>\n",
       "    <tr>\n",
       "      <th>0</th>\n",
       "      <td>lowcalorie lowcarb diabetic vegetarian side</td>\n",
       "      <td>timetomake course mainingredient preparation o...</td>\n",
       "      <td>0</td>\n",
       "      <td>we love grits this is another good way to serv...</td>\n",
       "      <td>i a sauce pan bring water to a boil slowly add...</td>\n",
       "    </tr>\n",
       "    <tr>\n",
       "      <th>1</th>\n",
       "      <td>shrimp dinner</td>\n",
       "      <td>60minutesorless timetomake course mainingredie...</td>\n",
       "      <td>0</td>\n",
       "      <td>simple easy and very tasty for when you are in...</td>\n",
       "      <td>in a food processor pulse the onion red pepper...</td>\n",
       "    </tr>\n",
       "    <tr>\n",
       "      <th>2</th>\n",
       "      <td>italian vegetarian side</td>\n",
       "      <td>weeknight timetomake course mainingredient pre...</td>\n",
       "      <td>0</td>\n",
       "      <td>this is a good recipe for weight watchers it i...</td>\n",
       "      <td>put all ingredients in the crock pot and cook ...</td>\n",
       "    </tr>\n",
       "    <tr>\n",
       "      <th>3</th>\n",
       "      <td>dinner</td>\n",
       "      <td>timetomake course mainingredient preparation m...</td>\n",
       "      <td>1</td>\n",
       "      <td>this is a fabulous stew that came from one of ...</td>\n",
       "      <td>preheat oven to f cut beef into inch cubes com...</td>\n",
       "    </tr>\n",
       "    <tr>\n",
       "      <th>4</th>\n",
       "      <td>dessert</td>\n",
       "      <td>timetomake course preparation desserts candy d...</td>\n",
       "      <td>0</td>\n",
       "      <td>this is one of our standard holiday gift recip...</td>\n",
       "      <td>preheat oven to f place almonds in single laye...</td>\n",
       "    </tr>\n",
       "    <tr>\n",
       "      <th>...</th>\n",
       "      <td>...</td>\n",
       "      <td>...</td>\n",
       "      <td>...</td>\n",
       "      <td>...</td>\n",
       "      <td>...</td>\n",
       "    </tr>\n",
       "    <tr>\n",
       "      <th>485301</th>\n",
       "      <td>bread breakfast</td>\n",
       "      <td>30minutesorless timetomake course preparation ...</td>\n",
       "      <td>0</td>\n",
       "      <td>the orange zest makes for a flavorful not over...</td>\n",
       "      <td>sift about cups of flour onto a piece of waxed...</td>\n",
       "    </tr>\n",
       "    <tr>\n",
       "      <th>485302</th>\n",
       "      <td>dinner chicken</td>\n",
       "      <td>mainingredient preparation occasion poultry ea...</td>\n",
       "      <td>1</td>\n",
       "      <td>delicious and easy</td>\n",
       "      <td>place rosemary springs lemon half celery onion...</td>\n",
       "    </tr>\n",
       "    <tr>\n",
       "      <th>485303</th>\n",
       "      <td>lowcarb dinner roast lowsodium</td>\n",
       "      <td>weeknight timetomake course preparation maindi...</td>\n",
       "      <td>0</td>\n",
       "      <td>this is a recipe from the frugal gourmet cooki...</td>\n",
       "      <td>in a large pan heat oil and brown roast on bot...</td>\n",
       "    </tr>\n",
       "    <tr>\n",
       "      <th>485304</th>\n",
       "      <td>dinner</td>\n",
       "      <td>timetomake course preparation maindish easy on...</td>\n",
       "      <td>1</td>\n",
       "      <td>cabbage and sausage in tomato sauce</td>\n",
       "      <td>saute bacon in large pan until browned leave i...</td>\n",
       "    </tr>\n",
       "    <tr>\n",
       "      <th>485305</th>\n",
       "      <td>pie southern dinner side</td>\n",
       "      <td>60minutesorless timetomake course mainingredie...</td>\n",
       "      <td>0</td>\n",
       "      <td>this recipe was given to my mom from a lady wh...</td>\n",
       "      <td>melt butter in skillet add squash onions salt ...</td>\n",
       "    </tr>\n",
       "  </tbody>\n",
       "</table>\n",
       "<p>485306 rows × 5 columns</p>\n",
       "</div>"
      ],
      "text/plain": [
       "                                  search_terms_list  \\\n",
       "0       lowcalorie lowcarb diabetic vegetarian side   \n",
       "1                                     shrimp dinner   \n",
       "2                           italian vegetarian side   \n",
       "3                                            dinner   \n",
       "4                                           dessert   \n",
       "...                                             ...   \n",
       "485301                              bread breakfast   \n",
       "485302                               dinner chicken   \n",
       "485303               lowcarb dinner roast lowsodium   \n",
       "485304                                       dinner   \n",
       "485305                     pie southern dinner side   \n",
       "\n",
       "                                                tags_list  target  \\\n",
       "0       timetomake course mainingredient preparation o...       0   \n",
       "1       60minutesorless timetomake course mainingredie...       0   \n",
       "2       weeknight timetomake course mainingredient pre...       0   \n",
       "3       timetomake course mainingredient preparation m...       1   \n",
       "4       timetomake course preparation desserts candy d...       0   \n",
       "...                                                   ...     ...   \n",
       "485301  30minutesorless timetomake course preparation ...       0   \n",
       "485302  mainingredient preparation occasion poultry ea...       1   \n",
       "485303  weeknight timetomake course preparation maindi...       0   \n",
       "485304  timetomake course preparation maindish easy on...       1   \n",
       "485305  60minutesorless timetomake course mainingredie...       0   \n",
       "\n",
       "                                      cleaned_description  \\\n",
       "0       we love grits this is another good way to serv...   \n",
       "1       simple easy and very tasty for when you are in...   \n",
       "2       this is a good recipe for weight watchers it i...   \n",
       "3       this is a fabulous stew that came from one of ...   \n",
       "4       this is one of our standard holiday gift recip...   \n",
       "...                                                   ...   \n",
       "485301  the orange zest makes for a flavorful not over...   \n",
       "485302                                 delicious and easy   \n",
       "485303  this is a recipe from the frugal gourmet cooki...   \n",
       "485304                cabbage and sausage in tomato sauce   \n",
       "485305  this recipe was given to my mom from a lady wh...   \n",
       "\n",
       "                                            cleaned_steps  \n",
       "0       i a sauce pan bring water to a boil slowly add...  \n",
       "1       in a food processor pulse the onion red pepper...  \n",
       "2       put all ingredients in the crock pot and cook ...  \n",
       "3       preheat oven to f cut beef into inch cubes com...  \n",
       "4       preheat oven to f place almonds in single laye...  \n",
       "...                                                   ...  \n",
       "485301  sift about cups of flour onto a piece of waxed...  \n",
       "485302  place rosemary springs lemon half celery onion...  \n",
       "485303  in a large pan heat oil and brown roast on bot...  \n",
       "485304  saute bacon in large pan until browned leave i...  \n",
       "485305  melt butter in skillet add squash onions salt ...  \n",
       "\n",
       "[485306 rows x 5 columns]"
      ]
     },
     "execution_count": 137,
     "metadata": {},
     "output_type": "execute_result"
    }
   ],
   "source": [
    "df_strings.drop(columns = ['description','steps'], inplace=True)\n",
    "df_strings"
   ]
  },
  {
   "cell_type": "code",
   "execution_count": 148,
   "metadata": {},
   "outputs": [],
   "source": [
    "y = df_strings['target']\n",
    "X = df_strings.drop('target', axis=1)"
   ]
  },
  {
   "cell_type": "markdown",
   "metadata": {},
   "source": [
    "have enough examples that I am comfortable undersampling the majority class to balance the dataset"
   ]
  },
  {
   "cell_type": "code",
   "execution_count": 149,
   "metadata": {},
   "outputs": [
    {
     "data": {
      "text/plain": [
       "1    98617\n",
       "0    98617\n",
       "Name: target, dtype: int64"
      ]
     },
     "execution_count": 149,
     "metadata": {},
     "output_type": "execute_result"
    }
   ],
   "source": [
    "rus = RandomUnderSampler(random_state=50)\n",
    "X_res, y_res = rus.fit_resample(X, y)\n",
    "y_res.value_counts()"
   ]
  },
  {
   "cell_type": "code",
   "execution_count": 150,
   "metadata": {},
   "outputs": [],
   "source": [
    "X_train, X_test, y_train, y_test = train_test_split(X_res, y_res, test_size = .3, random_state=50)"
   ]
  },
  {
   "cell_type": "code",
   "execution_count": 151,
   "metadata": {},
   "outputs": [],
   "source": [
    "X_test, X_holdout, y_test, y_holdout = train_test_split(X_test, y_test, test_size = .3, random_state=50)"
   ]
  },
  {
   "cell_type": "code",
   "execution_count": 152,
   "metadata": {},
   "outputs": [
    {
     "data": {
      "text/plain": [
       "0    69052\n",
       "1    69011\n",
       "Name: target, dtype: int64"
      ]
     },
     "execution_count": 152,
     "metadata": {},
     "output_type": "execute_result"
    }
   ],
   "source": [
    "y_train.value_counts()"
   ]
  },
  {
   "cell_type": "code",
   "execution_count": 153,
   "metadata": {},
   "outputs": [],
   "source": [
    "X_train.to_csv('data/X_train.csv')\n",
    "X_test.to_csv('data/X_test.csv')\n",
    "X_holdout.to_csv('data/X_holdout.csv')\n",
    "y_train.to_csv('data/y_train.csv')\n",
    "y_test.to_csv('data/y_test.csv')\n",
    "y_holdout.to_csv('data/y_holdout.csv')"
   ]
  },
  {
   "cell_type": "markdown",
   "metadata": {},
   "source": [
    "## Vectorization"
   ]
  },
  {
   "cell_type": "code",
   "execution_count": 154,
   "metadata": {},
   "outputs": [
    {
     "data": {
      "text/html": [
       "<div>\n",
       "<style scoped>\n",
       "    .dataframe tbody tr th:only-of-type {\n",
       "        vertical-align: middle;\n",
       "    }\n",
       "\n",
       "    .dataframe tbody tr th {\n",
       "        vertical-align: top;\n",
       "    }\n",
       "\n",
       "    .dataframe thead th {\n",
       "        text-align: right;\n",
       "    }\n",
       "</style>\n",
       "<table border=\"1\" class=\"dataframe\">\n",
       "  <thead>\n",
       "    <tr style=\"text-align: right;\">\n",
       "      <th></th>\n",
       "      <th>search_terms_list</th>\n",
       "      <th>tags_list</th>\n",
       "      <th>cleaned_description</th>\n",
       "      <th>cleaned_steps</th>\n",
       "    </tr>\n",
       "  </thead>\n",
       "  <tbody>\n",
       "    <tr>\n",
       "      <th>142491</th>\n",
       "      <td>dinner pasta</td>\n",
       "      <td>30minutesorless timetomake course mainingredie...</td>\n",
       "      <td>a basic dish to know how to make</td>\n",
       "      <td>for the tomato sauce heat oil in a large fryin...</td>\n",
       "    </tr>\n",
       "    <tr>\n",
       "      <th>5862</th>\n",
       "      <td>dessert pie lowsodium</td>\n",
       "      <td>course mainingredient preparation piesandtarts...</td>\n",
       "      <td>from clean home journal\\r forget that tennesse...</td>\n",
       "      <td>fill the pan of your double boiler with water ...</td>\n",
       "    </tr>\n",
       "    <tr>\n",
       "      <th>31349</th>\n",
       "      <td>dinner</td>\n",
       "      <td>60minutesorless timetomake course mainingredie...</td>\n",
       "      <td>it calls for basic simple ingredients but it t...</td>\n",
       "      <td>heat pan and add onion smoked sausage and pota...</td>\n",
       "    </tr>\n",
       "    <tr>\n",
       "      <th>65078</th>\n",
       "      <td>glutenfree lactosefree</td>\n",
       "      <td>lactose 15minutesorless timetomake preparation...</td>\n",
       "      <td>this flour mix is the best ive found for makin...</td>\n",
       "      <td>blend amp store in fridge or freezer use in an...</td>\n",
       "    </tr>\n",
       "    <tr>\n",
       "      <th>87053</th>\n",
       "      <td>dessert german cookie</td>\n",
       "      <td>30minutesorless timetomake course mainingredie...</td>\n",
       "      <td>this is recipe on back of bakers chocolate pac...</td>\n",
       "      <td>preheat oven to grease several baking sheets o...</td>\n",
       "    </tr>\n",
       "  </tbody>\n",
       "</table>\n",
       "</div>"
      ],
      "text/plain": [
       "             search_terms_list  \\\n",
       "142491            dinner pasta   \n",
       "5862     dessert pie lowsodium   \n",
       "31349                   dinner   \n",
       "65078   glutenfree lactosefree   \n",
       "87053    dessert german cookie   \n",
       "\n",
       "                                                tags_list  \\\n",
       "142491  30minutesorless timetomake course mainingredie...   \n",
       "5862    course mainingredient preparation piesandtarts...   \n",
       "31349   60minutesorless timetomake course mainingredie...   \n",
       "65078   lactose 15minutesorless timetomake preparation...   \n",
       "87053   30minutesorless timetomake course mainingredie...   \n",
       "\n",
       "                                      cleaned_description  \\\n",
       "142491                   a basic dish to know how to make   \n",
       "5862    from clean home journal\\r forget that tennesse...   \n",
       "31349   it calls for basic simple ingredients but it t...   \n",
       "65078   this flour mix is the best ive found for makin...   \n",
       "87053   this is recipe on back of bakers chocolate pac...   \n",
       "\n",
       "                                            cleaned_steps  \n",
       "142491  for the tomato sauce heat oil in a large fryin...  \n",
       "5862    fill the pan of your double boiler with water ...  \n",
       "31349   heat pan and add onion smoked sausage and pota...  \n",
       "65078   blend amp store in fridge or freezer use in an...  \n",
       "87053   preheat oven to grease several baking sheets o...  "
      ]
     },
     "execution_count": 154,
     "metadata": {},
     "output_type": "execute_result"
    }
   ],
   "source": [
    "X_train.head()"
   ]
  },
  {
   "cell_type": "code",
   "execution_count": 159,
   "metadata": {},
   "outputs": [
    {
     "name": "stderr",
     "output_type": "stream",
     "text": [
      "<ipython-input-159-7529109befed>:1: SettingWithCopyWarning: \n",
      "A value is trying to be set on a copy of a slice from a DataFrame.\n",
      "Try using .loc[row_indexer,col_indexer] = value instead\n",
      "\n",
      "See the caveats in the documentation: https://pandas.pydata.org/pandas-docs/stable/user_guide/indexing.html#returning-a-view-versus-a-copy\n",
      "  X_train['combined'] = X_train['search_terms_list'].str.cat(X_train[['tags_list','cleaned_description','cleaned_steps']],sep=\" \")\n"
     ]
    },
    {
     "data": {
      "text/html": [
       "<div>\n",
       "<style scoped>\n",
       "    .dataframe tbody tr th:only-of-type {\n",
       "        vertical-align: middle;\n",
       "    }\n",
       "\n",
       "    .dataframe tbody tr th {\n",
       "        vertical-align: top;\n",
       "    }\n",
       "\n",
       "    .dataframe thead th {\n",
       "        text-align: right;\n",
       "    }\n",
       "</style>\n",
       "<table border=\"1\" class=\"dataframe\">\n",
       "  <thead>\n",
       "    <tr style=\"text-align: right;\">\n",
       "      <th></th>\n",
       "      <th>search_terms_list</th>\n",
       "      <th>tags_list</th>\n",
       "      <th>cleaned_description</th>\n",
       "      <th>cleaned_steps</th>\n",
       "      <th>combined</th>\n",
       "    </tr>\n",
       "  </thead>\n",
       "  <tbody>\n",
       "    <tr>\n",
       "      <th>142491</th>\n",
       "      <td>dinner pasta</td>\n",
       "      <td>30minutesorless timetomake course mainingredie...</td>\n",
       "      <td>a basic dish to know how to make</td>\n",
       "      <td>for the tomato sauce heat oil in a large fryin...</td>\n",
       "      <td>dinner pasta 30minutesorless timetomake course...</td>\n",
       "    </tr>\n",
       "    <tr>\n",
       "      <th>5862</th>\n",
       "      <td>dessert pie lowsodium</td>\n",
       "      <td>course mainingredient preparation piesandtarts...</td>\n",
       "      <td>from clean home journal\\r forget that tennesse...</td>\n",
       "      <td>fill the pan of your double boiler with water ...</td>\n",
       "      <td>dessert pie lowsodium course mainingredient pr...</td>\n",
       "    </tr>\n",
       "    <tr>\n",
       "      <th>31349</th>\n",
       "      <td>dinner</td>\n",
       "      <td>60minutesorless timetomake course mainingredie...</td>\n",
       "      <td>it calls for basic simple ingredients but it t...</td>\n",
       "      <td>heat pan and add onion smoked sausage and pota...</td>\n",
       "      <td>dinner 60minutesorless timetomake course maini...</td>\n",
       "    </tr>\n",
       "    <tr>\n",
       "      <th>65078</th>\n",
       "      <td>glutenfree lactosefree</td>\n",
       "      <td>lactose 15minutesorless timetomake preparation...</td>\n",
       "      <td>this flour mix is the best ive found for makin...</td>\n",
       "      <td>blend amp store in fridge or freezer use in an...</td>\n",
       "      <td>glutenfree lactosefree lactose 15minutesorless...</td>\n",
       "    </tr>\n",
       "    <tr>\n",
       "      <th>87053</th>\n",
       "      <td>dessert german cookie</td>\n",
       "      <td>30minutesorless timetomake course mainingredie...</td>\n",
       "      <td>this is recipe on back of bakers chocolate pac...</td>\n",
       "      <td>preheat oven to grease several baking sheets o...</td>\n",
       "      <td>dessert german cookie 30minutesorless timetoma...</td>\n",
       "    </tr>\n",
       "  </tbody>\n",
       "</table>\n",
       "</div>"
      ],
      "text/plain": [
       "             search_terms_list  \\\n",
       "142491            dinner pasta   \n",
       "5862     dessert pie lowsodium   \n",
       "31349                   dinner   \n",
       "65078   glutenfree lactosefree   \n",
       "87053    dessert german cookie   \n",
       "\n",
       "                                                tags_list  \\\n",
       "142491  30minutesorless timetomake course mainingredie...   \n",
       "5862    course mainingredient preparation piesandtarts...   \n",
       "31349   60minutesorless timetomake course mainingredie...   \n",
       "65078   lactose 15minutesorless timetomake preparation...   \n",
       "87053   30minutesorless timetomake course mainingredie...   \n",
       "\n",
       "                                      cleaned_description  \\\n",
       "142491                   a basic dish to know how to make   \n",
       "5862    from clean home journal\\r forget that tennesse...   \n",
       "31349   it calls for basic simple ingredients but it t...   \n",
       "65078   this flour mix is the best ive found for makin...   \n",
       "87053   this is recipe on back of bakers chocolate pac...   \n",
       "\n",
       "                                            cleaned_steps  \\\n",
       "142491  for the tomato sauce heat oil in a large fryin...   \n",
       "5862    fill the pan of your double boiler with water ...   \n",
       "31349   heat pan and add onion smoked sausage and pota...   \n",
       "65078   blend amp store in fridge or freezer use in an...   \n",
       "87053   preheat oven to grease several baking sheets o...   \n",
       "\n",
       "                                                 combined  \n",
       "142491  dinner pasta 30minutesorless timetomake course...  \n",
       "5862    dessert pie lowsodium course mainingredient pr...  \n",
       "31349   dinner 60minutesorless timetomake course maini...  \n",
       "65078   glutenfree lactosefree lactose 15minutesorless...  \n",
       "87053   dessert german cookie 30minutesorless timetoma...  "
      ]
     },
     "execution_count": 159,
     "metadata": {},
     "output_type": "execute_result"
    }
   ],
   "source": [
    "X_train['combined'] = X_train['search_terms_list'].str.cat(X_train[['tags_list','cleaned_description','cleaned_steps']],sep=\" \")\n",
    "\n",
    "X_train.head()"
   ]
  },
  {
   "cell_type": "code",
   "execution_count": 170,
   "metadata": {},
   "outputs": [
    {
     "data": {
      "text/html": [
       "<div>\n",
       "<style scoped>\n",
       "    .dataframe tbody tr th:only-of-type {\n",
       "        vertical-align: middle;\n",
       "    }\n",
       "\n",
       "    .dataframe tbody tr th {\n",
       "        vertical-align: top;\n",
       "    }\n",
       "\n",
       "    .dataframe thead th {\n",
       "        text-align: right;\n",
       "    }\n",
       "</style>\n",
       "<table border=\"1\" class=\"dataframe\">\n",
       "  <thead>\n",
       "    <tr style=\"text-align: right;\">\n",
       "      <th></th>\n",
       "      <th>search_terms_list</th>\n",
       "      <th>tags_list</th>\n",
       "      <th>cleaned_description</th>\n",
       "      <th>cleaned_steps</th>\n",
       "      <th>combined</th>\n",
       "    </tr>\n",
       "  </thead>\n",
       "  <tbody>\n",
       "    <tr>\n",
       "      <th>20493</th>\n",
       "      <td>lowsodium appetizer dessert snack lowcarb</td>\n",
       "      <td>15minutesorless timetomake course preparation ...</td>\n",
       "      <td>easy fun and refreshing snack</td>\n",
       "      <td>mix cream cheese and jalapenos together cut th...</td>\n",
       "      <td>lowsodium appetizer dessert snack lowcarb 15mi...</td>\n",
       "    </tr>\n",
       "    <tr>\n",
       "      <th>108483</th>\n",
       "      <td>lowcalorie lowsodium appetizer dinner mexican ...</td>\n",
       "      <td>15minutesorless timetomake course mainingredie...</td>\n",
       "      <td>spicy and sweet hot and coldthis is great serv...</td>\n",
       "      <td>mix the ingredients together cover and chill o...</td>\n",
       "      <td>lowcalorie lowsodium appetizer dinner mexican ...</td>\n",
       "    </tr>\n",
       "    <tr>\n",
       "      <th>186997</th>\n",
       "      <td>lowcarb dinner appetizer</td>\n",
       "      <td>30minutesorless timetomake course mainingredie...</td>\n",
       "      <td>this delicious dip was made on a whim when i n...</td>\n",
       "      <td>mix all ingredients together in a large bowl t...</td>\n",
       "      <td>lowcarb dinner appetizer 30minutesorless timet...</td>\n",
       "    </tr>\n",
       "    <tr>\n",
       "      <th>132214</th>\n",
       "      <td>dinner</td>\n",
       "      <td>15minutesorless timetomake course preparation ...</td>\n",
       "      <td>this recipe was named after jamaicas highest m...</td>\n",
       "      <td>combine all the ingredients and shake well ser...</td>\n",
       "      <td>dinner 15minutesorless timetomake course prepa...</td>\n",
       "    </tr>\n",
       "    <tr>\n",
       "      <th>12553</th>\n",
       "      <td>sandwich lunch vegetarian</td>\n",
       "      <td>15minutesorless timetomake course mainingredie...</td>\n",
       "      <td>from a local restaurant the original sandwich ...</td>\n",
       "      <td>decide if you want your bread toasted first sp...</td>\n",
       "      <td>sandwich lunch vegetarian 15minutesorless time...</td>\n",
       "    </tr>\n",
       "  </tbody>\n",
       "</table>\n",
       "</div>"
      ],
      "text/plain": [
       "                                        search_terms_list  \\\n",
       "20493           lowsodium appetizer dessert snack lowcarb   \n",
       "108483  lowcalorie lowsodium appetizer dinner mexican ...   \n",
       "186997                           lowcarb dinner appetizer   \n",
       "132214                                             dinner   \n",
       "12553                           sandwich lunch vegetarian   \n",
       "\n",
       "                                                tags_list  \\\n",
       "20493   15minutesorless timetomake course preparation ...   \n",
       "108483  15minutesorless timetomake course mainingredie...   \n",
       "186997  30minutesorless timetomake course mainingredie...   \n",
       "132214  15minutesorless timetomake course preparation ...   \n",
       "12553   15minutesorless timetomake course mainingredie...   \n",
       "\n",
       "                                      cleaned_description  \\\n",
       "20493                       easy fun and refreshing snack   \n",
       "108483  spicy and sweet hot and coldthis is great serv...   \n",
       "186997  this delicious dip was made on a whim when i n...   \n",
       "132214  this recipe was named after jamaicas highest m...   \n",
       "12553   from a local restaurant the original sandwich ...   \n",
       "\n",
       "                                            cleaned_steps  \\\n",
       "20493   mix cream cheese and jalapenos together cut th...   \n",
       "108483  mix the ingredients together cover and chill o...   \n",
       "186997  mix all ingredients together in a large bowl t...   \n",
       "132214  combine all the ingredients and shake well ser...   \n",
       "12553   decide if you want your bread toasted first sp...   \n",
       "\n",
       "                                                 combined  \n",
       "20493   lowsodium appetizer dessert snack lowcarb 15mi...  \n",
       "108483  lowcalorie lowsodium appetizer dinner mexican ...  \n",
       "186997  lowcarb dinner appetizer 30minutesorless timet...  \n",
       "132214  dinner 15minutesorless timetomake course prepa...  \n",
       "12553   sandwich lunch vegetarian 15minutesorless time...  "
      ]
     },
     "execution_count": 170,
     "metadata": {},
     "output_type": "execute_result"
    }
   ],
   "source": [
    "X_test['combined'] = X_test['search_terms_list'].str.cat(X_test[['tags_list','cleaned_description','cleaned_steps']],sep=\" \")\n",
    "\n",
    "X_test.head()"
   ]
  },
  {
   "cell_type": "code",
   "execution_count": 167,
   "metadata": {},
   "outputs": [
    {
     "data": {
      "text/plain": [
       "['i',\n",
       " 'me',\n",
       " 'my',\n",
       " 'myself',\n",
       " 'we',\n",
       " 'our',\n",
       " 'ours',\n",
       " 'ourselves',\n",
       " 'you',\n",
       " \"you're\",\n",
       " \"you've\",\n",
       " \"you'll\",\n",
       " \"you'd\",\n",
       " 'your',\n",
       " 'yours',\n",
       " 'yourself',\n",
       " 'yourselves',\n",
       " 'he',\n",
       " 'him',\n",
       " 'his',\n",
       " 'himself',\n",
       " 'she',\n",
       " \"she's\",\n",
       " 'her',\n",
       " 'hers',\n",
       " 'herself',\n",
       " 'it',\n",
       " \"it's\",\n",
       " 'its',\n",
       " 'itself',\n",
       " 'they',\n",
       " 'them',\n",
       " 'their',\n",
       " 'theirs',\n",
       " 'themselves',\n",
       " 'what',\n",
       " 'which',\n",
       " 'who',\n",
       " 'whom',\n",
       " 'this',\n",
       " 'that',\n",
       " \"that'll\",\n",
       " 'these',\n",
       " 'those',\n",
       " 'am',\n",
       " 'is',\n",
       " 'are',\n",
       " 'was',\n",
       " 'were',\n",
       " 'be',\n",
       " 'been',\n",
       " 'being',\n",
       " 'have',\n",
       " 'has',\n",
       " 'had',\n",
       " 'having',\n",
       " 'do',\n",
       " 'does',\n",
       " 'did',\n",
       " 'doing',\n",
       " 'a',\n",
       " 'an',\n",
       " 'the',\n",
       " 'and',\n",
       " 'but',\n",
       " 'if',\n",
       " 'or',\n",
       " 'because',\n",
       " 'as',\n",
       " 'until',\n",
       " 'while',\n",
       " 'of',\n",
       " 'at',\n",
       " 'by',\n",
       " 'for',\n",
       " 'with',\n",
       " 'about',\n",
       " 'against',\n",
       " 'between',\n",
       " 'into',\n",
       " 'through',\n",
       " 'during',\n",
       " 'before',\n",
       " 'after',\n",
       " 'above',\n",
       " 'below',\n",
       " 'to',\n",
       " 'from',\n",
       " 'up',\n",
       " 'down',\n",
       " 'in',\n",
       " 'out',\n",
       " 'on',\n",
       " 'off',\n",
       " 'over',\n",
       " 'under',\n",
       " 'again',\n",
       " 'further',\n",
       " 'then',\n",
       " 'once',\n",
       " 'here',\n",
       " 'there',\n",
       " 'when',\n",
       " 'where',\n",
       " 'why',\n",
       " 'how',\n",
       " 'all',\n",
       " 'any',\n",
       " 'both',\n",
       " 'each',\n",
       " 'few',\n",
       " 'more',\n",
       " 'most',\n",
       " 'other',\n",
       " 'some',\n",
       " 'such',\n",
       " 'no',\n",
       " 'nor',\n",
       " 'not',\n",
       " 'only',\n",
       " 'own',\n",
       " 'same',\n",
       " 'so',\n",
       " 'than',\n",
       " 'too',\n",
       " 'very',\n",
       " 's',\n",
       " 't',\n",
       " 'can',\n",
       " 'will',\n",
       " 'just',\n",
       " 'don',\n",
       " \"don't\",\n",
       " 'should',\n",
       " \"should've\",\n",
       " 'now',\n",
       " 'd',\n",
       " 'll',\n",
       " 'm',\n",
       " 'o',\n",
       " 're',\n",
       " 've',\n",
       " 'y',\n",
       " 'ain',\n",
       " 'aren',\n",
       " \"aren't\",\n",
       " 'couldn',\n",
       " \"couldn't\",\n",
       " 'didn',\n",
       " \"didn't\",\n",
       " 'doesn',\n",
       " \"doesn't\",\n",
       " 'hadn',\n",
       " \"hadn't\",\n",
       " 'hasn',\n",
       " \"hasn't\",\n",
       " 'haven',\n",
       " \"haven't\",\n",
       " 'isn',\n",
       " \"isn't\",\n",
       " 'ma',\n",
       " 'mightn',\n",
       " \"mightn't\",\n",
       " 'mustn',\n",
       " \"mustn't\",\n",
       " 'needn',\n",
       " \"needn't\",\n",
       " 'shan',\n",
       " \"shan't\",\n",
       " 'shouldn',\n",
       " \"shouldn't\",\n",
       " 'wasn',\n",
       " \"wasn't\",\n",
       " 'weren',\n",
       " \"weren't\",\n",
       " 'won',\n",
       " \"won't\",\n",
       " 'wouldn',\n",
       " \"wouldn't\"]"
      ]
     },
     "execution_count": 167,
     "metadata": {},
     "output_type": "execute_result"
    }
   ],
   "source": [
    "stop_words = stopwords.words('english')\n",
    "stop_words"
   ]
  },
  {
   "cell_type": "markdown",
   "metadata": {},
   "source": [
    "## CountVectorizer"
   ]
  },
  {
   "cell_type": "code",
   "execution_count": 168,
   "metadata": {},
   "outputs": [],
   "source": [
    "countvect = CountVectorizer(stop_words=stop_words, ngram_range=(1,2))"
   ]
  },
  {
   "cell_type": "code",
   "execution_count": 171,
   "metadata": {},
   "outputs": [],
   "source": [
    "X_train_CV = countvect.fit_transform(X_train.combined)\n",
    "X_test_CV = countvect.transform(X_test.combined)"
   ]
  },
  {
   "cell_type": "code",
   "execution_count": 172,
   "metadata": {},
   "outputs": [
    {
     "data": {
      "text/plain": [
       "scipy.sparse.csr.csr_matrix"
      ]
     },
     "execution_count": 172,
     "metadata": {},
     "output_type": "execute_result"
    }
   ],
   "source": [
    "type(X_train_CV)"
   ]
  },
  {
   "cell_type": "code",
   "execution_count": 173,
   "metadata": {},
   "outputs": [
    {
     "data": {
      "text/plain": [
       "<138063x2020733 sparse matrix of type '<class 'numpy.int64'>'\n",
       "\twith 23716171 stored elements in Compressed Sparse Row format>"
      ]
     },
     "execution_count": 173,
     "metadata": {},
     "output_type": "execute_result"
    }
   ],
   "source": [
    "X_train_CV"
   ]
  },
  {
   "cell_type": "code",
   "execution_count": null,
   "metadata": {},
   "outputs": [],
   "source": []
  },
  {
   "cell_type": "code",
   "execution_count": 174,
   "metadata": {},
   "outputs": [],
   "source": [
    "from sklearn.naive_bayes import (\n",
    "    BernoulliNB,\n",
    "    ComplementNB,\n",
    "    MultinomialNB,\n",
    ")\n",
    "from sklearn.neighbors import KNeighborsClassifier\n",
    "from sklearn.tree import DecisionTreeClassifier\n",
    "from sklearn.ensemble import RandomForestClassifier, AdaBoostClassifier\n",
    "from sklearn.linear_model import LogisticRegression\n",
    "from sklearn.neural_network import MLPClassifier\n",
    "from sklearn.discriminant_analysis import QuadraticDiscriminantAnalysis\n",
    "from sklearn.metrics import plot_confusion_matrix\n"
   ]
  },
  {
   "cell_type": "code",
   "execution_count": 175,
   "metadata": {},
   "outputs": [],
   "source": [
    "classifiers = {\n",
    "    \"BernoulliNB\": BernoulliNB(),\n",
    "    \"ComplementNB\": ComplementNB(),\n",
    "    \"MultinomialNB\": MultinomialNB(),\n",
    "    \"KNeighborsClassifier\": KNeighborsClassifier(),\n",
    "    \"DecisionTreeClassifier\": DecisionTreeClassifier(),\n",
    "    \"RandomForestClassifier\": RandomForestClassifier(),\n",
    "    \"LogisticRegression\": LogisticRegression(),\n",
    "    \"AdaBoostClassifier\": AdaBoostClassifier(),\n",
    "}"
   ]
  },
  {
   "cell_type": "code",
   "execution_count": 176,
   "metadata": {},
   "outputs": [
    {
     "name": "stdout",
     "output_type": "stream",
     "text": [
      "Train score: 89.79% - BernoulliNB\n",
      "Test score: 82.61% - BernoulliNB\n",
      "Train score: 86.73% - ComplementNB\n",
      "Test score: 78.94% - ComplementNB\n",
      "Train score: 86.73% - MultinomialNB\n",
      "Test score: 78.94% - MultinomialNB\n",
      "Train score: 85.08% - KNeighborsClassifier\n",
      "Test score: 78.13% - KNeighborsClassifier\n",
      "Train score: 100.00% - DecisionTreeClassifier\n",
      "Test score: 99.17% - DecisionTreeClassifier\n",
      "Train score: 100.00% - RandomForestClassifier\n",
      "Test score: 90.24% - RandomForestClassifier\n"
     ]
    },
    {
     "name": "stderr",
     "output_type": "stream",
     "text": [
      "C:\\Users\\alexm\\anaconda3\\envs\\learn-env\\lib\\site-packages\\sklearn\\linear_model\\_logistic.py:762: ConvergenceWarning: lbfgs failed to converge (status=1):\n",
      "STOP: TOTAL NO. of ITERATIONS REACHED LIMIT.\n",
      "\n",
      "Increase the number of iterations (max_iter) or scale the data as shown in:\n",
      "    https://scikit-learn.org/stable/modules/preprocessing.html\n",
      "Please also refer to the documentation for alternative solver options:\n",
      "    https://scikit-learn.org/stable/modules/linear_model.html#logistic-regression\n",
      "  n_iter_i = _check_optimize_result(\n"
     ]
    },
    {
     "name": "stdout",
     "output_type": "stream",
     "text": [
      "Train score: 100.00% - LogisticRegression\n",
      "Test score: 98.84% - LogisticRegression\n"
     ]
    },
    {
     "name": "stderr",
     "output_type": "stream",
     "text": [
      "C:\\Users\\alexm\\anaconda3\\envs\\learn-env\\lib\\site-packages\\sklearn\\neural_network\\_multilayer_perceptron.py:587: UserWarning: Training interrupted by user.\n",
      "  warnings.warn(\"Training interrupted by user.\")\n"
     ]
    },
    {
     "ename": "KeyboardInterrupt",
     "evalue": "",
     "output_type": "error",
     "traceback": [
      "\u001b[1;31m---------------------------------------------------------------------------\u001b[0m",
      "\u001b[1;31mKeyboardInterrupt\u001b[0m                         Traceback (most recent call last)",
      "\u001b[1;32m<ipython-input-176-2d711b6592a9>\u001b[0m in \u001b[0;36m<module>\u001b[1;34m\u001b[0m\n\u001b[0;32m      2\u001b[0m      \u001b[0mclassifier\u001b[0m \u001b[1;33m=\u001b[0m \u001b[0msklearn_classifier\u001b[0m\u001b[1;33m\u001b[0m\u001b[1;33m\u001b[0m\u001b[0m\n\u001b[0;32m      3\u001b[0m      \u001b[0mclassifier\u001b[0m\u001b[1;33m.\u001b[0m\u001b[0mfit\u001b[0m\u001b[1;33m(\u001b[0m\u001b[0mX_train_CV\u001b[0m\u001b[1;33m,\u001b[0m \u001b[0my_train\u001b[0m\u001b[1;33m)\u001b[0m\u001b[1;33m\u001b[0m\u001b[1;33m\u001b[0m\u001b[0m\n\u001b[1;32m----> 4\u001b[1;33m      \u001b[0maccuracy\u001b[0m \u001b[1;33m=\u001b[0m \u001b[0mclassifier\u001b[0m\u001b[1;33m.\u001b[0m\u001b[0mscore\u001b[0m\u001b[1;33m(\u001b[0m\u001b[0mX_train_CV\u001b[0m\u001b[1;33m,\u001b[0m \u001b[0my_train\u001b[0m\u001b[1;33m)\u001b[0m\u001b[1;33m\u001b[0m\u001b[1;33m\u001b[0m\u001b[0m\n\u001b[0m\u001b[0;32m      5\u001b[0m      \u001b[0mprint\u001b[0m\u001b[1;33m(\u001b[0m\u001b[1;34mF\"Train score: {accuracy:.2%} - {name}\"\u001b[0m\u001b[1;33m)\u001b[0m\u001b[1;33m\u001b[0m\u001b[1;33m\u001b[0m\u001b[0m\n\u001b[0;32m      6\u001b[0m \u001b[1;33m\u001b[0m\u001b[0m\n",
      "\u001b[1;32m~\\anaconda3\\envs\\learn-env\\lib\\site-packages\\sklearn\\base.py\u001b[0m in \u001b[0;36mscore\u001b[1;34m(self, X, y, sample_weight)\u001b[0m\n\u001b[0;32m    497\u001b[0m         \"\"\"\n\u001b[0;32m    498\u001b[0m         \u001b[1;32mfrom\u001b[0m \u001b[1;33m.\u001b[0m\u001b[0mmetrics\u001b[0m \u001b[1;32mimport\u001b[0m \u001b[0maccuracy_score\u001b[0m\u001b[1;33m\u001b[0m\u001b[1;33m\u001b[0m\u001b[0m\n\u001b[1;32m--> 499\u001b[1;33m         \u001b[1;32mreturn\u001b[0m \u001b[0maccuracy_score\u001b[0m\u001b[1;33m(\u001b[0m\u001b[0my\u001b[0m\u001b[1;33m,\u001b[0m \u001b[0mself\u001b[0m\u001b[1;33m.\u001b[0m\u001b[0mpredict\u001b[0m\u001b[1;33m(\u001b[0m\u001b[0mX\u001b[0m\u001b[1;33m)\u001b[0m\u001b[1;33m,\u001b[0m \u001b[0msample_weight\u001b[0m\u001b[1;33m=\u001b[0m\u001b[0msample_weight\u001b[0m\u001b[1;33m)\u001b[0m\u001b[1;33m\u001b[0m\u001b[1;33m\u001b[0m\u001b[0m\n\u001b[0m\u001b[0;32m    500\u001b[0m \u001b[1;33m\u001b[0m\u001b[0m\n\u001b[0;32m    501\u001b[0m     \u001b[1;32mdef\u001b[0m \u001b[0m_more_tags\u001b[0m\u001b[1;33m(\u001b[0m\u001b[0mself\u001b[0m\u001b[1;33m)\u001b[0m\u001b[1;33m:\u001b[0m\u001b[1;33m\u001b[0m\u001b[1;33m\u001b[0m\u001b[0m\n",
      "\u001b[1;32m~\\anaconda3\\envs\\learn-env\\lib\\site-packages\\sklearn\\neural_network\\_multilayer_perceptron.py\u001b[0m in \u001b[0;36mpredict\u001b[1;34m(self, X)\u001b[0m\n\u001b[0;32m   1002\u001b[0m         \"\"\"\n\u001b[0;32m   1003\u001b[0m         \u001b[0mcheck_is_fitted\u001b[0m\u001b[1;33m(\u001b[0m\u001b[0mself\u001b[0m\u001b[1;33m)\u001b[0m\u001b[1;33m\u001b[0m\u001b[1;33m\u001b[0m\u001b[0m\n\u001b[1;32m-> 1004\u001b[1;33m         \u001b[0my_pred\u001b[0m \u001b[1;33m=\u001b[0m \u001b[0mself\u001b[0m\u001b[1;33m.\u001b[0m\u001b[0m_predict\u001b[0m\u001b[1;33m(\u001b[0m\u001b[0mX\u001b[0m\u001b[1;33m)\u001b[0m\u001b[1;33m\u001b[0m\u001b[1;33m\u001b[0m\u001b[0m\n\u001b[0m\u001b[0;32m   1005\u001b[0m \u001b[1;33m\u001b[0m\u001b[0m\n\u001b[0;32m   1006\u001b[0m         \u001b[1;32mif\u001b[0m \u001b[0mself\u001b[0m\u001b[1;33m.\u001b[0m\u001b[0mn_outputs_\u001b[0m \u001b[1;33m==\u001b[0m \u001b[1;36m1\u001b[0m\u001b[1;33m:\u001b[0m\u001b[1;33m\u001b[0m\u001b[1;33m\u001b[0m\u001b[0m\n",
      "\u001b[1;32m~\\anaconda3\\envs\\learn-env\\lib\\site-packages\\sklearn\\neural_network\\_multilayer_perceptron.py\u001b[0m in \u001b[0;36m_predict\u001b[1;34m(self, X)\u001b[0m\n\u001b[0;32m    697\u001b[0m                                          layer_units[i + 1])))\n\u001b[0;32m    698\u001b[0m         \u001b[1;31m# forward propagate\u001b[0m\u001b[1;33m\u001b[0m\u001b[1;33m\u001b[0m\u001b[1;33m\u001b[0m\u001b[0m\n\u001b[1;32m--> 699\u001b[1;33m         \u001b[0mself\u001b[0m\u001b[1;33m.\u001b[0m\u001b[0m_forward_pass\u001b[0m\u001b[1;33m(\u001b[0m\u001b[0mactivations\u001b[0m\u001b[1;33m)\u001b[0m\u001b[1;33m\u001b[0m\u001b[1;33m\u001b[0m\u001b[0m\n\u001b[0m\u001b[0;32m    700\u001b[0m         \u001b[0my_pred\u001b[0m \u001b[1;33m=\u001b[0m \u001b[0mactivations\u001b[0m\u001b[1;33m[\u001b[0m\u001b[1;33m-\u001b[0m\u001b[1;36m1\u001b[0m\u001b[1;33m]\u001b[0m\u001b[1;33m\u001b[0m\u001b[1;33m\u001b[0m\u001b[0m\n\u001b[0;32m    701\u001b[0m \u001b[1;33m\u001b[0m\u001b[0m\n",
      "\u001b[1;32m~\\anaconda3\\envs\\learn-env\\lib\\site-packages\\sklearn\\neural_network\\_multilayer_perceptron.py\u001b[0m in \u001b[0;36m_forward_pass\u001b[1;34m(self, activations)\u001b[0m\n\u001b[0;32m    102\u001b[0m         \u001b[1;31m# Iterate over the hidden layers\u001b[0m\u001b[1;33m\u001b[0m\u001b[1;33m\u001b[0m\u001b[1;33m\u001b[0m\u001b[0m\n\u001b[0;32m    103\u001b[0m         \u001b[1;32mfor\u001b[0m \u001b[0mi\u001b[0m \u001b[1;32min\u001b[0m \u001b[0mrange\u001b[0m\u001b[1;33m(\u001b[0m\u001b[0mself\u001b[0m\u001b[1;33m.\u001b[0m\u001b[0mn_layers_\u001b[0m \u001b[1;33m-\u001b[0m \u001b[1;36m1\u001b[0m\u001b[1;33m)\u001b[0m\u001b[1;33m:\u001b[0m\u001b[1;33m\u001b[0m\u001b[1;33m\u001b[0m\u001b[0m\n\u001b[1;32m--> 104\u001b[1;33m             activations[i + 1] = safe_sparse_dot(activations[i],\n\u001b[0m\u001b[0;32m    105\u001b[0m                                                  self.coefs_[i])\n\u001b[0;32m    106\u001b[0m             \u001b[0mactivations\u001b[0m\u001b[1;33m[\u001b[0m\u001b[0mi\u001b[0m \u001b[1;33m+\u001b[0m \u001b[1;36m1\u001b[0m\u001b[1;33m]\u001b[0m \u001b[1;33m+=\u001b[0m \u001b[0mself\u001b[0m\u001b[1;33m.\u001b[0m\u001b[0mintercepts_\u001b[0m\u001b[1;33m[\u001b[0m\u001b[0mi\u001b[0m\u001b[1;33m]\u001b[0m\u001b[1;33m\u001b[0m\u001b[1;33m\u001b[0m\u001b[0m\n",
      "\u001b[1;32m~\\anaconda3\\envs\\learn-env\\lib\\site-packages\\sklearn\\utils\\validation.py\u001b[0m in \u001b[0;36minner_f\u001b[1;34m(*args, **kwargs)\u001b[0m\n\u001b[0;32m     70\u001b[0m                           FutureWarning)\n\u001b[0;32m     71\u001b[0m         \u001b[0mkwargs\u001b[0m\u001b[1;33m.\u001b[0m\u001b[0mupdate\u001b[0m\u001b[1;33m(\u001b[0m\u001b[1;33m{\u001b[0m\u001b[0mk\u001b[0m\u001b[1;33m:\u001b[0m \u001b[0marg\u001b[0m \u001b[1;32mfor\u001b[0m \u001b[0mk\u001b[0m\u001b[1;33m,\u001b[0m \u001b[0marg\u001b[0m \u001b[1;32min\u001b[0m \u001b[0mzip\u001b[0m\u001b[1;33m(\u001b[0m\u001b[0msig\u001b[0m\u001b[1;33m.\u001b[0m\u001b[0mparameters\u001b[0m\u001b[1;33m,\u001b[0m \u001b[0margs\u001b[0m\u001b[1;33m)\u001b[0m\u001b[1;33m}\u001b[0m\u001b[1;33m)\u001b[0m\u001b[1;33m\u001b[0m\u001b[1;33m\u001b[0m\u001b[0m\n\u001b[1;32m---> 72\u001b[1;33m         \u001b[1;32mreturn\u001b[0m \u001b[0mf\u001b[0m\u001b[1;33m(\u001b[0m\u001b[1;33m**\u001b[0m\u001b[0mkwargs\u001b[0m\u001b[1;33m)\u001b[0m\u001b[1;33m\u001b[0m\u001b[1;33m\u001b[0m\u001b[0m\n\u001b[0m\u001b[0;32m     73\u001b[0m     \u001b[1;32mreturn\u001b[0m \u001b[0minner_f\u001b[0m\u001b[1;33m\u001b[0m\u001b[1;33m\u001b[0m\u001b[0m\n\u001b[0;32m     74\u001b[0m \u001b[1;33m\u001b[0m\u001b[0m\n",
      "\u001b[1;32m~\\anaconda3\\envs\\learn-env\\lib\\site-packages\\sklearn\\utils\\extmath.py\u001b[0m in \u001b[0;36msafe_sparse_dot\u001b[1;34m(a, b, dense_output)\u001b[0m\n\u001b[0;32m    151\u001b[0m             \u001b[0mret\u001b[0m \u001b[1;33m=\u001b[0m \u001b[0mnp\u001b[0m\u001b[1;33m.\u001b[0m\u001b[0mdot\u001b[0m\u001b[1;33m(\u001b[0m\u001b[0ma\u001b[0m\u001b[1;33m,\u001b[0m \u001b[0mb\u001b[0m\u001b[1;33m)\u001b[0m\u001b[1;33m\u001b[0m\u001b[1;33m\u001b[0m\u001b[0m\n\u001b[0;32m    152\u001b[0m     \u001b[1;32melse\u001b[0m\u001b[1;33m:\u001b[0m\u001b[1;33m\u001b[0m\u001b[1;33m\u001b[0m\u001b[0m\n\u001b[1;32m--> 153\u001b[1;33m         \u001b[0mret\u001b[0m \u001b[1;33m=\u001b[0m \u001b[0ma\u001b[0m \u001b[1;33m@\u001b[0m \u001b[0mb\u001b[0m\u001b[1;33m\u001b[0m\u001b[1;33m\u001b[0m\u001b[0m\n\u001b[0m\u001b[0;32m    154\u001b[0m \u001b[1;33m\u001b[0m\u001b[0m\n\u001b[0;32m    155\u001b[0m     if (sparse.issparse(a) and sparse.issparse(b)\n",
      "\u001b[1;32m~\\anaconda3\\envs\\learn-env\\lib\\site-packages\\scipy\\sparse\\base.py\u001b[0m in \u001b[0;36m__matmul__\u001b[1;34m(self, other)\u001b[0m\n\u001b[0;32m    558\u001b[0m             raise ValueError(\"Scalar operands are not allowed, \"\n\u001b[0;32m    559\u001b[0m                              \"use '*' instead\")\n\u001b[1;32m--> 560\u001b[1;33m         \u001b[1;32mreturn\u001b[0m \u001b[0mself\u001b[0m\u001b[1;33m.\u001b[0m\u001b[0m__mul__\u001b[0m\u001b[1;33m(\u001b[0m\u001b[0mother\u001b[0m\u001b[1;33m)\u001b[0m\u001b[1;33m\u001b[0m\u001b[1;33m\u001b[0m\u001b[0m\n\u001b[0m\u001b[0;32m    561\u001b[0m \u001b[1;33m\u001b[0m\u001b[0m\n\u001b[0;32m    562\u001b[0m     \u001b[1;32mdef\u001b[0m \u001b[0m__rmatmul__\u001b[0m\u001b[1;33m(\u001b[0m\u001b[0mself\u001b[0m\u001b[1;33m,\u001b[0m \u001b[0mother\u001b[0m\u001b[1;33m)\u001b[0m\u001b[1;33m:\u001b[0m\u001b[1;33m\u001b[0m\u001b[1;33m\u001b[0m\u001b[0m\n",
      "\u001b[1;32m~\\anaconda3\\envs\\learn-env\\lib\\site-packages\\scipy\\sparse\\base.py\u001b[0m in \u001b[0;36m__mul__\u001b[1;34m(self, other)\u001b[0m\n\u001b[0;32m    469\u001b[0m                 \u001b[1;32mreturn\u001b[0m \u001b[0mself\u001b[0m\u001b[1;33m.\u001b[0m\u001b[0m_mul_vector\u001b[0m\u001b[1;33m(\u001b[0m\u001b[0mother\u001b[0m\u001b[1;33m.\u001b[0m\u001b[0mravel\u001b[0m\u001b[1;33m(\u001b[0m\u001b[1;33m)\u001b[0m\u001b[1;33m)\u001b[0m\u001b[1;33m.\u001b[0m\u001b[0mreshape\u001b[0m\u001b[1;33m(\u001b[0m\u001b[0mM\u001b[0m\u001b[1;33m,\u001b[0m \u001b[1;36m1\u001b[0m\u001b[1;33m)\u001b[0m\u001b[1;33m\u001b[0m\u001b[1;33m\u001b[0m\u001b[0m\n\u001b[0;32m    470\u001b[0m             \u001b[1;32melif\u001b[0m \u001b[0mother\u001b[0m\u001b[1;33m.\u001b[0m\u001b[0mndim\u001b[0m \u001b[1;33m==\u001b[0m \u001b[1;36m2\u001b[0m \u001b[1;32mand\u001b[0m \u001b[0mother\u001b[0m\u001b[1;33m.\u001b[0m\u001b[0mshape\u001b[0m\u001b[1;33m[\u001b[0m\u001b[1;36m0\u001b[0m\u001b[1;33m]\u001b[0m \u001b[1;33m==\u001b[0m \u001b[0mN\u001b[0m\u001b[1;33m:\u001b[0m\u001b[1;33m\u001b[0m\u001b[1;33m\u001b[0m\u001b[0m\n\u001b[1;32m--> 471\u001b[1;33m                 \u001b[1;32mreturn\u001b[0m \u001b[0mself\u001b[0m\u001b[1;33m.\u001b[0m\u001b[0m_mul_multivector\u001b[0m\u001b[1;33m(\u001b[0m\u001b[0mother\u001b[0m\u001b[1;33m)\u001b[0m\u001b[1;33m\u001b[0m\u001b[1;33m\u001b[0m\u001b[0m\n\u001b[0m\u001b[0;32m    472\u001b[0m \u001b[1;33m\u001b[0m\u001b[0m\n\u001b[0;32m    473\u001b[0m         \u001b[1;32mif\u001b[0m \u001b[0misscalarlike\u001b[0m\u001b[1;33m(\u001b[0m\u001b[0mother\u001b[0m\u001b[1;33m)\u001b[0m\u001b[1;33m:\u001b[0m\u001b[1;33m\u001b[0m\u001b[1;33m\u001b[0m\u001b[0m\n",
      "\u001b[1;32m~\\anaconda3\\envs\\learn-env\\lib\\site-packages\\scipy\\sparse\\compressed.py\u001b[0m in \u001b[0;36m_mul_multivector\u001b[1;34m(self, other)\u001b[0m\n\u001b[0;32m    487\u001b[0m         \u001b[1;31m# csr_matvecs or csc_matvecs\u001b[0m\u001b[1;33m\u001b[0m\u001b[1;33m\u001b[0m\u001b[1;33m\u001b[0m\u001b[0m\n\u001b[0;32m    488\u001b[0m         \u001b[0mfn\u001b[0m \u001b[1;33m=\u001b[0m \u001b[0mgetattr\u001b[0m\u001b[1;33m(\u001b[0m\u001b[0m_sparsetools\u001b[0m\u001b[1;33m,\u001b[0m \u001b[0mself\u001b[0m\u001b[1;33m.\u001b[0m\u001b[0mformat\u001b[0m \u001b[1;33m+\u001b[0m \u001b[1;34m'_matvecs'\u001b[0m\u001b[1;33m)\u001b[0m\u001b[1;33m\u001b[0m\u001b[1;33m\u001b[0m\u001b[0m\n\u001b[1;32m--> 489\u001b[1;33m         fn(M, N, n_vecs, self.indptr, self.indices, self.data,\n\u001b[0m\u001b[0;32m    490\u001b[0m            other.ravel(), result.ravel())\n\u001b[0;32m    491\u001b[0m \u001b[1;33m\u001b[0m\u001b[0m\n",
      "\u001b[1;31mKeyboardInterrupt\u001b[0m: "
     ]
    },
    {
     "data": {
      "image/png": "[encoded data removed]",
      "text/plain": [
       "<Figure size 864x864 with 2 Axes>"
      ]
     },
     "metadata": {
      "needs_background": "light"
     },
     "output_type": "display_data"
    },
    {
     "data": {
      "image/png": "[encoded data removed]",
      "text/plain": [
       "<Figure size 864x864 with 2 Axes>"
      ]
     },
     "metadata": {
      "needs_background": "light"
     },
     "output_type": "display_data"
    },
    {
     "data": {
      "image/png": "[encoded data removed]",
      "text/plain": [
       "<Figure size 864x864 with 2 Axes>"
      ]
     },
     "metadata": {
      "needs_background": "light"
     },
     "output_type": "display_data"
    },
    {
     "data": {
      "image/png": "[encoded data removed]",
      "text/plain": [
       "<Figure size 864x864 with 2 Axes>"
      ]
     },
     "metadata": {
      "needs_background": "light"
     },
     "output_type": "display_data"
    },
    {
     "data": {
      "image/png": "[encoded data removed]",
      "text/plain": [
       "<Figure size 864x864 with 2 Axes>"
      ]
     },
     "metadata": {
      "needs_background": "light"
     },
     "output_type": "display_data"
    },
    {
     "data": {
      "image/png": "[encoded data removed]",
      "text/plain": [
       "<Figure size 864x864 with 2 Axes>"
      ]
     },
     "metadata": {
      "needs_background": "light"
     },
     "output_type": "display_data"
    },
    {
     "data": {
      "image/png": "[encoded data removed]",
      "text/plain": [
       "<Figure size 864x864 with 2 Axes>"
      ]
     },
     "metadata": {
      "needs_background": "light"
     },
     "output_type": "display_data"
    }
   ],
   "source": [
    "for name, sklearn_classifier in classifiers.items():\n",
    "     classifier = sklearn_classifier\n",
    "     classifier.fit(X_train_CV, y_train)\n",
    "     accuracy = classifier.score(X_train_CV, y_train)\n",
    "     print(F\"Train score: {accuracy:.2%} - {name}\")\n",
    "     \n",
    "     fig, ax = plt.subplots(figsize =(12,12))\n",
    "     plot_confusion_matrix(classifier, X_test_CV, y_test, ax=ax, cmap='summer')\n",
    "     ax.set_title(classifier); \n",
    "    \n",
    "     accuracy = classifier.score(X_test_CV, y_test)\n",
    "     print(F\"Test score: {accuracy:.2%} - {name}\")"
   ]
  },
  {
   "cell_type": "markdown",
   "metadata": {},
   "source": [
    "running through a bunch of simple models to see what the best starting point appears to be before properly evaluating them/tuning their parameters."
   ]
  },
  {
   "cell_type": "code",
   "execution_count": null,
   "metadata": {},
   "outputs": [],
   "source": []
  }
 ],
 "metadata": {
  "kernelspec": {
   "display_name": "Python (learn-env)",
   "language": "python",
   "name": "learn-env"
  },
  "language_info": {
   "codemirror_mode": {
    "name": "ipython",
    "version": 3
   },
   "file_extension": ".py",
   "mimetype": "text/x-python",
   "name": "python",
   "nbconvert_exporter": "python",
   "pygments_lexer": "ipython3",
   "version": "3.8.5"
  },
  "varInspector": {
   "cols": {
    "lenName": 16,
    "lenType": 16,
    "lenVar": 40
   },
   "kernels_config": {
    "python": {
     "delete_cmd_postfix": "",
     "delete_cmd_prefix": "del ",
     "library": "var_list.py",
     "varRefreshCmd": "print(var_dic_list())"
    },
    "r": {
     "delete_cmd_postfix": ") ",
     "delete_cmd_prefix": "rm(",
     "library": "var_list.r",
     "varRefreshCmd": "cat(var_dic_list()) "
    }
   },
   "types_to_exclude": [
    "module",
    "function",
    "builtin_function_or_method",
    "instance",
    "_Feature"
   ],
   "window_display": false
  }
 },
 "nbformat": 4,
 "nbformat_minor": 4
}
