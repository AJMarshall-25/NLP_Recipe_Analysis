{
 "cells": [
  {
   "cell_type": "code",
   "execution_count": 1,
   "id": "73806428",
   "metadata": {
    "ExecuteTime": {
     "end_time": "2021-12-06T05:09:58.323749Z",
     "start_time": "2021-12-06T05:09:54.364458Z"
    },
    "run_control": {
     "marked": true
    }
   },
   "outputs": [],
   "source": [
    "import ast # used for converting column values to lists post-import from csv\n",
    "import re\n",
    "import warnings\n",
    "import pandas as pd\n",
    "import numpy as np\n",
    "import seaborn as sns\n",
    "import matplotlib.pyplot as plt\n",
    "from matplotlib.ticker import MaxNLocator\n",
    "%matplotlib inline\n",
    "\n",
    "from wordcloud import WordCloud\n",
    "\n",
    "import spacy\n",
    "\n",
    "from nltk import FreqDist\n",
    "from nltk.corpus import stopwords\n",
    "\n",
    "from sklearn.model_selection import train_test_split\n",
    "from sklearn.preprocessing import StandardScaler\n",
    "from sklearn.pipeline import Pipeline\n",
    "from sklearn.linear_model import LogisticRegression\n",
    "from sklearn.model_selection import cross_validate\n",
    "from sklearn.model_selection import GridSearchCV\n",
    "from sklearn.metrics import (roc_auc_score, plot_confusion_matrix, plot_roc_curve, accuracy_score,\n",
    "                             precision_score, recall_score, f1_score)\n",
    "from sklearn.feature_extraction.text import CountVectorizer, TfidfVectorizer\n",
    "from sklearn.naive_bayes import BernoulliNB, ComplementNB, MultinomialNB\n",
    "from sklearn.tree import DecisionTreeClassifier\n",
    "from sklearn.ensemble import RandomForestClassifier, AdaBoostClassifier\n",
    "from sklearn.linear_model import LogisticRegression\n",
    "\n",
    "from imblearn.under_sampling import RandomUnderSampler\n",
    "\n",
    "pd.set_option(\"display.max_columns\", None)"
   ]
  },
  {
   "cell_type": "code",
   "execution_count": 2,
   "id": "43ae2dd3",
   "metadata": {
    "ExecuteTime": {
     "end_time": "2021-12-06T05:10:20.790101Z",
     "start_time": "2021-12-06T05:09:58.325744Z"
    }
   },
   "outputs": [],
   "source": [
    "df = pd.read_csv('data/recipes_for_preprocessing.cvs')"
   ]
  },
  {
   "cell_type": "code",
   "execution_count": 3,
   "id": "8d54c720",
   "metadata": {
    "ExecuteTime": {
     "end_time": "2021-12-06T05:10:21.364162Z",
     "start_time": "2021-12-06T05:10:20.792057Z"
    }
   },
   "outputs": [
    {
     "name": "stdout",
     "output_type": "stream",
     "text": [
      "<class 'pandas.core.frame.DataFrame'>\n",
      "RangeIndex: 482279 entries, 0 to 482278\n",
      "Data columns (total 26 columns):\n",
      " #   Column                    Non-Null Count   Dtype \n",
      "---  ------                    --------------   ----- \n",
      " 0   Unnamed: 0                482279 non-null  int64 \n",
      " 1   id                        482279 non-null  int64 \n",
      " 2   name                      482279 non-null  object\n",
      " 3   description               482279 non-null  object\n",
      " 4   ingredients               482279 non-null  object\n",
      " 5   ingredients_raw_str       482279 non-null  object\n",
      " 6   serving_size              482279 non-null  object\n",
      " 7   servings                  482279 non-null  int64 \n",
      " 8   steps                     482279 non-null  object\n",
      " 9   tags                      482279 non-null  object\n",
      " 10  search_terms              482279 non-null  object\n",
      " 11  ingredients_list          482279 non-null  object\n",
      " 12  ingredients_raw_str_list  482279 non-null  object\n",
      " 13  steps_list                482279 non-null  object\n",
      " 14  tags_list                 482279 non-null  object\n",
      " 15  search_terms_list         482279 non-null  object\n",
      " 16  target_tag                482279 non-null  bool  \n",
      " 17  target_search_term        482279 non-null  bool  \n",
      " 18  target                    482279 non-null  int64 \n",
      " 19  num_ingredients           482279 non-null  int64 \n",
      " 20  num_steps                 482279 non-null  int64 \n",
      " 21  num_char_description      482279 non-null  int64 \n",
      " 22  cleaned_steps             482279 non-null  object\n",
      " 23  step_tokens               482279 non-null  object\n",
      " 24  cleaned_description       481557 non-null  object\n",
      " 25  description_tokens        482279 non-null  object\n",
      "dtypes: bool(2), int64(7), object(17)\n",
      "memory usage: 89.2+ MB\n"
     ]
    }
   ],
   "source": [
    "df.info()"
   ]
  },
  {
   "cell_type": "code",
   "execution_count": 39,
   "id": "3ab82046",
   "metadata": {
    "ExecuteTime": {
     "end_time": "2021-12-06T05:29:48.714552Z",
     "start_time": "2021-12-06T05:29:48.695540Z"
    }
   },
   "outputs": [
    {
     "data": {
      "text/html": [
       "<div>\n",
       "<style scoped>\n",
       "    .dataframe tbody tr th:only-of-type {\n",
       "        vertical-align: middle;\n",
       "    }\n",
       "\n",
       "    .dataframe tbody tr th {\n",
       "        vertical-align: top;\n",
       "    }\n",
       "\n",
       "    .dataframe thead th {\n",
       "        text-align: right;\n",
       "    }\n",
       "</style>\n",
       "<table border=\"1\" class=\"dataframe\">\n",
       "  <thead>\n",
       "    <tr style=\"text-align: right;\">\n",
       "      <th></th>\n",
       "      <th>Unnamed: 0</th>\n",
       "      <th>id</th>\n",
       "      <th>name</th>\n",
       "      <th>description</th>\n",
       "      <th>ingredients</th>\n",
       "      <th>ingredients_raw_str</th>\n",
       "      <th>serving_size</th>\n",
       "      <th>servings</th>\n",
       "      <th>steps</th>\n",
       "      <th>tags</th>\n",
       "      <th>search_terms</th>\n",
       "      <th>ingredients_list</th>\n",
       "      <th>ingredients_raw_str_list</th>\n",
       "      <th>steps_list</th>\n",
       "      <th>tags_list</th>\n",
       "      <th>search_terms_list</th>\n",
       "      <th>target_tag</th>\n",
       "      <th>target_search_term</th>\n",
       "      <th>target</th>\n",
       "      <th>num_ingredients</th>\n",
       "      <th>num_steps</th>\n",
       "      <th>num_char_description</th>\n",
       "      <th>cleaned_steps</th>\n",
       "      <th>step_tokens</th>\n",
       "      <th>cleaned_description</th>\n",
       "      <th>description_tokens</th>\n",
       "    </tr>\n",
       "  </thead>\n",
       "  <tbody>\n",
       "    <tr>\n",
       "      <th>0</th>\n",
       "      <td>0</td>\n",
       "      <td>96313</td>\n",
       "      <td>Grilled Garlic Cheese Grits</td>\n",
       "      <td>We love grits, this is another good way to ser...</td>\n",
       "      <td>['water', 'grits', 'salt', 'cheddar cheese', '...</td>\n",
       "      <td>[\"4   cups    water\",\"1   cup   uncooked old f...</td>\n",
       "      <td>1 (155 g)</td>\n",
       "      <td>8</td>\n",
       "      <td>['I a sauce pan, bring water to a boil; slowly...</td>\n",
       "      <td>['time-to-make', 'course', 'main-ingredient', ...</td>\n",
       "      <td>{'diabetic', 'low-calorie', 'vegetarian', 'low...</td>\n",
       "      <td>['water', 'grits', 'salt', 'cheddar cheese', '...</td>\n",
       "      <td>['4   cups    water', '1   cup   uncooked old ...</td>\n",
       "      <td>['I a sauce pan, bring water to a boil; slowly...</td>\n",
       "      <td>['time-to-make', 'course', 'main-ingredient', ...</td>\n",
       "      <td>['low-calorie', 'diabetic', 'side', 'vegetaria...</td>\n",
       "      <td>False</td>\n",
       "      <td>False</td>\n",
       "      <td>0</td>\n",
       "      <td>6</td>\n",
       "      <td>4</td>\n",
       "      <td>301</td>\n",
       "      <td>i a sauce pan bring water to a boil slowly add...</td>\n",
       "      <td>['i', 'a', 'sauce', 'pan', 'bring', 'water', '...</td>\n",
       "      <td>we love grits this is another good way to serv...</td>\n",
       "      <td>['we', 'love', 'grits', 'this', 'is', 'another...</td>\n",
       "    </tr>\n",
       "    <tr>\n",
       "      <th>1</th>\n",
       "      <td>1</td>\n",
       "      <td>232037</td>\n",
       "      <td>Simple Shrimp and Andouille Jambalaya</td>\n",
       "      <td>Simple, easy and very tasty for when you are i...</td>\n",
       "      <td>['onion', 'red bell pepper', 'garlic cloves', ...</td>\n",
       "      <td>[\"1   medium    onion, chopped coarse \",\"1   m...</td>\n",
       "      <td>1 (366 g)</td>\n",
       "      <td>4</td>\n",
       "      <td>['In a food processor, pulse the onion, red pe...</td>\n",
       "      <td>['60-minutes-or-less', 'time-to-make', 'course...</td>\n",
       "      <td>{'dinner', 'shrimp'}</td>\n",
       "      <td>['onion', 'red bell pepper', 'garlic cloves', ...</td>\n",
       "      <td>['1   medium    onion, chopped coarse ', '1   ...</td>\n",
       "      <td>['In a food processor, pulse the onion, red pe...</td>\n",
       "      <td>['60-minutes-or-less', 'time-to-make', 'course...</td>\n",
       "      <td>['dinner', 'shrimp']</td>\n",
       "      <td>False</td>\n",
       "      <td>True</td>\n",
       "      <td>0</td>\n",
       "      <td>13</td>\n",
       "      <td>10</td>\n",
       "      <td>138</td>\n",
       "      <td>in a food processor pulse the onion red pepper...</td>\n",
       "      <td>['in', 'a', 'food', 'processor', 'pulse', 'the...</td>\n",
       "      <td>simple easy and very tasty for when you are in...</td>\n",
       "      <td>['simple', 'easy', 'and', 'very', 'tasty', 'fo...</td>\n",
       "    </tr>\n",
       "    <tr>\n",
       "      <th>2</th>\n",
       "      <td>3</td>\n",
       "      <td>60656</td>\n",
       "      <td>Crock Pot Italian Zucchini</td>\n",
       "      <td>This is a good recipe for weight watchers. It ...</td>\n",
       "      <td>['zucchini', 'yellow squash', 'diced tomatoes'...</td>\n",
       "      <td>[\"2       zucchini, sliced \",\"2   small    yel...</td>\n",
       "      <td>1 (244 g)</td>\n",
       "      <td>4</td>\n",
       "      <td>['Put all ingredients in the crock pot and coo...</td>\n",
       "      <td>['weeknight', 'time-to-make', 'course', 'main-...</td>\n",
       "      <td>{'side', 'vegetarian', 'italian'}</td>\n",
       "      <td>['zucchini', 'yellow squash', 'diced tomatoes'...</td>\n",
       "      <td>['2       zucchini, sliced ', '2   small    ye...</td>\n",
       "      <td>['Put all ingredients in the crock pot and coo...</td>\n",
       "      <td>['weeknight', 'time-to-make', 'course', 'main-...</td>\n",
       "      <td>['italian', 'side', 'vegetarian']</td>\n",
       "      <td>True</td>\n",
       "      <td>False</td>\n",
       "      <td>0</td>\n",
       "      <td>9</td>\n",
       "      <td>1</td>\n",
       "      <td>57</td>\n",
       "      <td>put all ingredients in the crock pot and cook ...</td>\n",
       "      <td>['put', 'all', 'ingredients', 'in', 'the', 'cr...</td>\n",
       "      <td>this is a good recipe for weight watchers it i...</td>\n",
       "      <td>['this', 'is', 'a', 'good', 'recipe', 'for', '...</td>\n",
       "    </tr>\n",
       "    <tr>\n",
       "      <th>3</th>\n",
       "      <td>4</td>\n",
       "      <td>232047</td>\n",
       "      <td>Beef Stew With Dried Cherries</td>\n",
       "      <td>This is a fabulous stew that came from one of ...</td>\n",
       "      <td>['beef stew meat', 'flour', 'salt', 'allspice'...</td>\n",
       "      <td>[\"3   lbs    beef stew meat\",\"3   tablespoons ...</td>\n",
       "      <td>1 (358 g)</td>\n",
       "      <td>8</td>\n",
       "      <td>['Preheat oven to 350°F.', \"Cut beef into 1 in...</td>\n",
       "      <td>['time-to-make', 'course', 'main-ingredient', ...</td>\n",
       "      <td>{'dinner'}</td>\n",
       "      <td>['beef stew meat', 'flour', 'salt', 'allspice'...</td>\n",
       "      <td>['3   lbs    beef stew meat', '3   tablespoons...</td>\n",
       "      <td>['Preheat oven to 350°F.', \"Cut beef into 1 in...</td>\n",
       "      <td>['time-to-make', 'course', 'main-ingredient', ...</td>\n",
       "      <td>['dinner']</td>\n",
       "      <td>True</td>\n",
       "      <td>True</td>\n",
       "      <td>1</td>\n",
       "      <td>14</td>\n",
       "      <td>6</td>\n",
       "      <td>392</td>\n",
       "      <td>preheat oven to f cut beef into inch cubes com...</td>\n",
       "      <td>['preheat', 'oven', 'to', 'f', 'cut', 'beef', ...</td>\n",
       "      <td>this is a fabulous stew that came from one of ...</td>\n",
       "      <td>['this', 'is', 'a', 'fabulous', 'stew', 'that'...</td>\n",
       "    </tr>\n",
       "    <tr>\n",
       "      <th>4</th>\n",
       "      <td>5</td>\n",
       "      <td>232050</td>\n",
       "      <td>Hot Sweet Almond Brittle</td>\n",
       "      <td>This is one of our standard holiday gift recip...</td>\n",
       "      <td>['slivered almonds', 'cider vinegar', 'sugar',...</td>\n",
       "      <td>[\"12   ounces    slivered almonds\",\"1/4  cup  ...</td>\n",
       "      <td>1 (832 g)</td>\n",
       "      <td>1</td>\n",
       "      <td>['Preheat oven to 375°F  Place almonds in sing...</td>\n",
       "      <td>['time-to-make', 'course', 'preparation', 'des...</td>\n",
       "      <td>{'dessert'}</td>\n",
       "      <td>['slivered almonds', 'cider vinegar', 'sugar',...</td>\n",
       "      <td>['12   ounces    slivered almonds', '1/4  cup ...</td>\n",
       "      <td>['Preheat oven to 375°F  Place almonds in sing...</td>\n",
       "      <td>['time-to-make', 'course', 'preparation', 'des...</td>\n",
       "      <td>['dessert']</td>\n",
       "      <td>False</td>\n",
       "      <td>False</td>\n",
       "      <td>0</td>\n",
       "      <td>8</td>\n",
       "      <td>4</td>\n",
       "      <td>164</td>\n",
       "      <td>preheat oven to f place almonds in single laye...</td>\n",
       "      <td>['preheat', 'oven', 'to', 'f', 'place', 'almon...</td>\n",
       "      <td>this is one of our standard holiday gift recip...</td>\n",
       "      <td>['this', 'is', 'one', 'of', 'our', 'standard',...</td>\n",
       "    </tr>\n",
       "  </tbody>\n",
       "</table>\n",
       "</div>"
      ],
      "text/plain": [
       "   Unnamed: 0      id                                   name  \\\n",
       "0           0   96313            Grilled Garlic Cheese Grits   \n",
       "1           1  232037  Simple Shrimp and Andouille Jambalaya   \n",
       "2           3   60656             Crock Pot Italian Zucchini   \n",
       "3           4  232047          Beef Stew With Dried Cherries   \n",
       "4           5  232050               Hot Sweet Almond Brittle   \n",
       "\n",
       "                                         description  \\\n",
       "0  We love grits, this is another good way to ser...   \n",
       "1  Simple, easy and very tasty for when you are i...   \n",
       "2  This is a good recipe for weight watchers. It ...   \n",
       "3  This is a fabulous stew that came from one of ...   \n",
       "4  This is one of our standard holiday gift recip...   \n",
       "\n",
       "                                         ingredients  \\\n",
       "0  ['water', 'grits', 'salt', 'cheddar cheese', '...   \n",
       "1  ['onion', 'red bell pepper', 'garlic cloves', ...   \n",
       "2  ['zucchini', 'yellow squash', 'diced tomatoes'...   \n",
       "3  ['beef stew meat', 'flour', 'salt', 'allspice'...   \n",
       "4  ['slivered almonds', 'cider vinegar', 'sugar',...   \n",
       "\n",
       "                                 ingredients_raw_str serving_size  servings  \\\n",
       "0  [\"4   cups    water\",\"1   cup   uncooked old f...    1 (155 g)         8   \n",
       "1  [\"1   medium    onion, chopped coarse \",\"1   m...    1 (366 g)         4   \n",
       "2  [\"2       zucchini, sliced \",\"2   small    yel...    1 (244 g)         4   \n",
       "3  [\"3   lbs    beef stew meat\",\"3   tablespoons ...    1 (358 g)         8   \n",
       "4  [\"12   ounces    slivered almonds\",\"1/4  cup  ...    1 (832 g)         1   \n",
       "\n",
       "                                               steps  \\\n",
       "0  ['I a sauce pan, bring water to a boil; slowly...   \n",
       "1  ['In a food processor, pulse the onion, red pe...   \n",
       "2  ['Put all ingredients in the crock pot and coo...   \n",
       "3  ['Preheat oven to 350°F.', \"Cut beef into 1 in...   \n",
       "4  ['Preheat oven to 375°F  Place almonds in sing...   \n",
       "\n",
       "                                                tags  \\\n",
       "0  ['time-to-make', 'course', 'main-ingredient', ...   \n",
       "1  ['60-minutes-or-less', 'time-to-make', 'course...   \n",
       "2  ['weeknight', 'time-to-make', 'course', 'main-...   \n",
       "3  ['time-to-make', 'course', 'main-ingredient', ...   \n",
       "4  ['time-to-make', 'course', 'preparation', 'des...   \n",
       "\n",
       "                                        search_terms  \\\n",
       "0  {'diabetic', 'low-calorie', 'vegetarian', 'low...   \n",
       "1                               {'dinner', 'shrimp'}   \n",
       "2                  {'side', 'vegetarian', 'italian'}   \n",
       "3                                         {'dinner'}   \n",
       "4                                        {'dessert'}   \n",
       "\n",
       "                                    ingredients_list  \\\n",
       "0  ['water', 'grits', 'salt', 'cheddar cheese', '...   \n",
       "1  ['onion', 'red bell pepper', 'garlic cloves', ...   \n",
       "2  ['zucchini', 'yellow squash', 'diced tomatoes'...   \n",
       "3  ['beef stew meat', 'flour', 'salt', 'allspice'...   \n",
       "4  ['slivered almonds', 'cider vinegar', 'sugar',...   \n",
       "\n",
       "                            ingredients_raw_str_list  \\\n",
       "0  ['4   cups    water', '1   cup   uncooked old ...   \n",
       "1  ['1   medium    onion, chopped coarse ', '1   ...   \n",
       "2  ['2       zucchini, sliced ', '2   small    ye...   \n",
       "3  ['3   lbs    beef stew meat', '3   tablespoons...   \n",
       "4  ['12   ounces    slivered almonds', '1/4  cup ...   \n",
       "\n",
       "                                          steps_list  \\\n",
       "0  ['I a sauce pan, bring water to a boil; slowly...   \n",
       "1  ['In a food processor, pulse the onion, red pe...   \n",
       "2  ['Put all ingredients in the crock pot and coo...   \n",
       "3  ['Preheat oven to 350°F.', \"Cut beef into 1 in...   \n",
       "4  ['Preheat oven to 375°F  Place almonds in sing...   \n",
       "\n",
       "                                           tags_list  \\\n",
       "0  ['time-to-make', 'course', 'main-ingredient', ...   \n",
       "1  ['60-minutes-or-less', 'time-to-make', 'course...   \n",
       "2  ['weeknight', 'time-to-make', 'course', 'main-...   \n",
       "3  ['time-to-make', 'course', 'main-ingredient', ...   \n",
       "4  ['time-to-make', 'course', 'preparation', 'des...   \n",
       "\n",
       "                                   search_terms_list  target_tag  \\\n",
       "0  ['low-calorie', 'diabetic', 'side', 'vegetaria...       False   \n",
       "1                               ['dinner', 'shrimp']       False   \n",
       "2                  ['italian', 'side', 'vegetarian']        True   \n",
       "3                                         ['dinner']        True   \n",
       "4                                        ['dessert']       False   \n",
       "\n",
       "   target_search_term  target  num_ingredients  num_steps  \\\n",
       "0               False       0                6          4   \n",
       "1                True       0               13         10   \n",
       "2               False       0                9          1   \n",
       "3                True       1               14          6   \n",
       "4               False       0                8          4   \n",
       "\n",
       "   num_char_description                                      cleaned_steps  \\\n",
       "0                   301  i a sauce pan bring water to a boil slowly add...   \n",
       "1                   138  in a food processor pulse the onion red pepper...   \n",
       "2                    57  put all ingredients in the crock pot and cook ...   \n",
       "3                   392  preheat oven to f cut beef into inch cubes com...   \n",
       "4                   164  preheat oven to f place almonds in single laye...   \n",
       "\n",
       "                                         step_tokens  \\\n",
       "0  ['i', 'a', 'sauce', 'pan', 'bring', 'water', '...   \n",
       "1  ['in', 'a', 'food', 'processor', 'pulse', 'the...   \n",
       "2  ['put', 'all', 'ingredients', 'in', 'the', 'cr...   \n",
       "3  ['preheat', 'oven', 'to', 'f', 'cut', 'beef', ...   \n",
       "4  ['preheat', 'oven', 'to', 'f', 'place', 'almon...   \n",
       "\n",
       "                                 cleaned_description  \\\n",
       "0  we love grits this is another good way to serv...   \n",
       "1  simple easy and very tasty for when you are in...   \n",
       "2  this is a good recipe for weight watchers it i...   \n",
       "3  this is a fabulous stew that came from one of ...   \n",
       "4  this is one of our standard holiday gift recip...   \n",
       "\n",
       "                                  description_tokens  \n",
       "0  ['we', 'love', 'grits', 'this', 'is', 'another...  \n",
       "1  ['simple', 'easy', 'and', 'very', 'tasty', 'fo...  \n",
       "2  ['this', 'is', 'a', 'good', 'recipe', 'for', '...  \n",
       "3  ['this', 'is', 'a', 'fabulous', 'stew', 'that'...  \n",
       "4  ['this', 'is', 'one', 'of', 'our', 'standard',...  "
      ]
     },
     "execution_count": 39,
     "metadata": {},
     "output_type": "execute_result"
    }
   ],
   "source": [
    "df.head()"
   ]
  },
  {
   "cell_type": "markdown",
   "id": "9462c543",
   "metadata": {},
   "source": [
    "### Little side test on lenght of string - should revisit, will improve data"
   ]
  },
  {
   "cell_type": "code",
   "execution_count": 8,
   "id": "b148701d",
   "metadata": {
    "ExecuteTime": {
     "end_time": "2021-12-06T05:11:02.431699Z",
     "start_time": "2021-12-06T05:11:02.423697Z"
    },
    "scrolled": true
   },
   "outputs": [],
   "source": [
    "# def is_empty(x):\n",
    "#     if len(x) <= 25:\n",
    "#         return 1\n",
    "#     else:\n",
    "#         return 0"
   ]
  },
  {
   "cell_type": "code",
   "execution_count": null,
   "id": "1959830b",
   "metadata": {
    "ExecuteTime": {
     "end_time": "2021-12-06T01:02:21.085964Z",
     "start_time": "2021-12-06T01:02:20.812895Z"
    }
   },
   "outputs": [],
   "source": [
    "# df_strings['is_empty'] = df_strings['combined'].apply(lambda x: is_empty(x))"
   ]
  },
  {
   "cell_type": "code",
   "execution_count": null,
   "id": "a3940119",
   "metadata": {
    "ExecuteTime": {
     "end_time": "2021-12-06T01:02:21.863125Z",
     "start_time": "2021-12-06T01:02:21.853124Z"
    }
   },
   "outputs": [],
   "source": [
    "# df_strings['is_empty'].value_counts()"
   ]
  },
  {
   "cell_type": "code",
   "execution_count": null,
   "id": "a4429b86",
   "metadata": {
    "ExecuteTime": {
     "end_time": "2021-12-06T01:03:16.535396Z",
     "start_time": "2021-12-06T01:03:16.516383Z"
    },
    "scrolled": true
   },
   "outputs": [],
   "source": [
    "# print(df_strings[df_strings['is_empty']==1])"
   ]
  },
  {
   "cell_type": "code",
   "execution_count": null,
   "id": "1989c6b7",
   "metadata": {
    "ExecuteTime": {
     "end_time": "2021-12-05T23:59:27.438591Z",
     "start_time": "2021-12-05T23:59:27.422602Z"
    }
   },
   "outputs": [],
   "source": [
    "# df_strings['combined'].iloc[56]"
   ]
  },
  {
   "cell_type": "code",
   "execution_count": 59,
   "id": "57db126a",
   "metadata": {
    "ExecuteTime": {
     "end_time": "2021-12-06T05:56:04.338861Z",
     "start_time": "2021-12-06T05:56:03.982524Z"
    }
   },
   "outputs": [],
   "source": [
    "df['combined'] = df['description'] + ' ' + df['steps']"
   ]
  },
  {
   "cell_type": "code",
   "execution_count": 65,
   "id": "e1585721",
   "metadata": {
    "ExecuteTime": {
     "end_time": "2021-12-06T05:57:40.418208Z",
     "start_time": "2021-12-06T05:57:40.390209Z"
    }
   },
   "outputs": [
    {
     "data": {
      "text/html": [
       "<div>\n",
       "<style scoped>\n",
       "    .dataframe tbody tr th:only-of-type {\n",
       "        vertical-align: middle;\n",
       "    }\n",
       "\n",
       "    .dataframe tbody tr th {\n",
       "        vertical-align: top;\n",
       "    }\n",
       "\n",
       "    .dataframe thead th {\n",
       "        text-align: right;\n",
       "    }\n",
       "</style>\n",
       "<table border=\"1\" class=\"dataframe\">\n",
       "  <thead>\n",
       "    <tr style=\"text-align: right;\">\n",
       "      <th></th>\n",
       "      <th>Unnamed: 0</th>\n",
       "      <th>id</th>\n",
       "      <th>name</th>\n",
       "      <th>description</th>\n",
       "      <th>ingredients</th>\n",
       "      <th>ingredients_raw_str</th>\n",
       "      <th>serving_size</th>\n",
       "      <th>servings</th>\n",
       "      <th>steps</th>\n",
       "      <th>tags</th>\n",
       "      <th>search_terms</th>\n",
       "      <th>ingredients_list</th>\n",
       "      <th>ingredients_raw_str_list</th>\n",
       "      <th>steps_list</th>\n",
       "      <th>tags_list</th>\n",
       "      <th>search_terms_list</th>\n",
       "      <th>target_tag</th>\n",
       "      <th>target_search_term</th>\n",
       "      <th>target</th>\n",
       "      <th>num_ingredients</th>\n",
       "      <th>num_steps</th>\n",
       "      <th>num_char_description</th>\n",
       "      <th>cleaned_steps</th>\n",
       "      <th>step_tokens</th>\n",
       "      <th>cleaned_description</th>\n",
       "      <th>description_tokens</th>\n",
       "      <th>combined</th>\n",
       "    </tr>\n",
       "  </thead>\n",
       "  <tbody>\n",
       "    <tr>\n",
       "      <th>0</th>\n",
       "      <td>0</td>\n",
       "      <td>96313</td>\n",
       "      <td>Grilled Garlic Cheese Grits</td>\n",
       "      <td>We love grits, this is another good way to ser...</td>\n",
       "      <td>['water', 'grits', 'salt', 'cheddar cheese', '...</td>\n",
       "      <td>[\"4   cups    water\",\"1   cup   uncooked old f...</td>\n",
       "      <td>1 (155 g)</td>\n",
       "      <td>8</td>\n",
       "      <td>['I a sauce pan, bring water to a boil; slowly...</td>\n",
       "      <td>['time-to-make', 'course', 'main-ingredient', ...</td>\n",
       "      <td>{'diabetic', 'low-calorie', 'vegetarian', 'low...</td>\n",
       "      <td>['water', 'grits', 'salt', 'cheddar cheese', '...</td>\n",
       "      <td>['4   cups    water', '1   cup   uncooked old ...</td>\n",
       "      <td>['I a sauce pan, bring water to a boil; slowly...</td>\n",
       "      <td>['time-to-make', 'course', 'main-ingredient', ...</td>\n",
       "      <td>['low-calorie', 'diabetic', 'side', 'vegetaria...</td>\n",
       "      <td>False</td>\n",
       "      <td>False</td>\n",
       "      <td>0</td>\n",
       "      <td>6</td>\n",
       "      <td>4</td>\n",
       "      <td>301</td>\n",
       "      <td>i a sauce pan bring water to a boil slowly add...</td>\n",
       "      <td>['i', 'a', 'sauce', 'pan', 'bring', 'water', '...</td>\n",
       "      <td>we love grits this is another good way to serv...</td>\n",
       "      <td>['we', 'love', 'grits', 'this', 'is', 'another...</td>\n",
       "      <td>We love grits, this is another good way to ser...</td>\n",
       "    </tr>\n",
       "    <tr>\n",
       "      <th>1</th>\n",
       "      <td>1</td>\n",
       "      <td>232037</td>\n",
       "      <td>Simple Shrimp and Andouille Jambalaya</td>\n",
       "      <td>Simple, easy and very tasty for when you are i...</td>\n",
       "      <td>['onion', 'red bell pepper', 'garlic cloves', ...</td>\n",
       "      <td>[\"1   medium    onion, chopped coarse \",\"1   m...</td>\n",
       "      <td>1 (366 g)</td>\n",
       "      <td>4</td>\n",
       "      <td>['In a food processor, pulse the onion, red pe...</td>\n",
       "      <td>['60-minutes-or-less', 'time-to-make', 'course...</td>\n",
       "      <td>{'dinner', 'shrimp'}</td>\n",
       "      <td>['onion', 'red bell pepper', 'garlic cloves', ...</td>\n",
       "      <td>['1   medium    onion, chopped coarse ', '1   ...</td>\n",
       "      <td>['In a food processor, pulse the onion, red pe...</td>\n",
       "      <td>['60-minutes-or-less', 'time-to-make', 'course...</td>\n",
       "      <td>['dinner', 'shrimp']</td>\n",
       "      <td>False</td>\n",
       "      <td>True</td>\n",
       "      <td>0</td>\n",
       "      <td>13</td>\n",
       "      <td>10</td>\n",
       "      <td>138</td>\n",
       "      <td>in a food processor pulse the onion red pepper...</td>\n",
       "      <td>['in', 'a', 'food', 'processor', 'pulse', 'the...</td>\n",
       "      <td>simple easy and very tasty for when you are in...</td>\n",
       "      <td>['simple', 'easy', 'and', 'very', 'tasty', 'fo...</td>\n",
       "      <td>Simple, easy and very tasty for when you are i...</td>\n",
       "    </tr>\n",
       "    <tr>\n",
       "      <th>2</th>\n",
       "      <td>3</td>\n",
       "      <td>60656</td>\n",
       "      <td>Crock Pot Italian Zucchini</td>\n",
       "      <td>This is a good recipe for weight watchers. It ...</td>\n",
       "      <td>['zucchini', 'yellow squash', 'diced tomatoes'...</td>\n",
       "      <td>[\"2       zucchini, sliced \",\"2   small    yel...</td>\n",
       "      <td>1 (244 g)</td>\n",
       "      <td>4</td>\n",
       "      <td>['Put all ingredients in the crock pot and coo...</td>\n",
       "      <td>['weeknight', 'time-to-make', 'course', 'main-...</td>\n",
       "      <td>{'side', 'vegetarian', 'italian'}</td>\n",
       "      <td>['zucchini', 'yellow squash', 'diced tomatoes'...</td>\n",
       "      <td>['2       zucchini, sliced ', '2   small    ye...</td>\n",
       "      <td>['Put all ingredients in the crock pot and coo...</td>\n",
       "      <td>['weeknight', 'time-to-make', 'course', 'main-...</td>\n",
       "      <td>['italian', 'side', 'vegetarian']</td>\n",
       "      <td>True</td>\n",
       "      <td>False</td>\n",
       "      <td>0</td>\n",
       "      <td>9</td>\n",
       "      <td>1</td>\n",
       "      <td>57</td>\n",
       "      <td>put all ingredients in the crock pot and cook ...</td>\n",
       "      <td>['put', 'all', 'ingredients', 'in', 'the', 'cr...</td>\n",
       "      <td>this is a good recipe for weight watchers it i...</td>\n",
       "      <td>['this', 'is', 'a', 'good', 'recipe', 'for', '...</td>\n",
       "      <td>This is a good recipe for weight watchers. It ...</td>\n",
       "    </tr>\n",
       "    <tr>\n",
       "      <th>3</th>\n",
       "      <td>4</td>\n",
       "      <td>232047</td>\n",
       "      <td>Beef Stew With Dried Cherries</td>\n",
       "      <td>This is a fabulous stew that came from one of ...</td>\n",
       "      <td>['beef stew meat', 'flour', 'salt', 'allspice'...</td>\n",
       "      <td>[\"3   lbs    beef stew meat\",\"3   tablespoons ...</td>\n",
       "      <td>1 (358 g)</td>\n",
       "      <td>8</td>\n",
       "      <td>['Preheat oven to 350°F.', \"Cut beef into 1 in...</td>\n",
       "      <td>['time-to-make', 'course', 'main-ingredient', ...</td>\n",
       "      <td>{'dinner'}</td>\n",
       "      <td>['beef stew meat', 'flour', 'salt', 'allspice'...</td>\n",
       "      <td>['3   lbs    beef stew meat', '3   tablespoons...</td>\n",
       "      <td>['Preheat oven to 350°F.', \"Cut beef into 1 in...</td>\n",
       "      <td>['time-to-make', 'course', 'main-ingredient', ...</td>\n",
       "      <td>['dinner']</td>\n",
       "      <td>True</td>\n",
       "      <td>True</td>\n",
       "      <td>1</td>\n",
       "      <td>14</td>\n",
       "      <td>6</td>\n",
       "      <td>392</td>\n",
       "      <td>preheat oven to f cut beef into inch cubes com...</td>\n",
       "      <td>['preheat', 'oven', 'to', 'f', 'cut', 'beef', ...</td>\n",
       "      <td>this is a fabulous stew that came from one of ...</td>\n",
       "      <td>['this', 'is', 'a', 'fabulous', 'stew', 'that'...</td>\n",
       "      <td>This is a fabulous stew that came from one of ...</td>\n",
       "    </tr>\n",
       "    <tr>\n",
       "      <th>4</th>\n",
       "      <td>5</td>\n",
       "      <td>232050</td>\n",
       "      <td>Hot Sweet Almond Brittle</td>\n",
       "      <td>This is one of our standard holiday gift recip...</td>\n",
       "      <td>['slivered almonds', 'cider vinegar', 'sugar',...</td>\n",
       "      <td>[\"12   ounces    slivered almonds\",\"1/4  cup  ...</td>\n",
       "      <td>1 (832 g)</td>\n",
       "      <td>1</td>\n",
       "      <td>['Preheat oven to 375°F  Place almonds in sing...</td>\n",
       "      <td>['time-to-make', 'course', 'preparation', 'des...</td>\n",
       "      <td>{'dessert'}</td>\n",
       "      <td>['slivered almonds', 'cider vinegar', 'sugar',...</td>\n",
       "      <td>['12   ounces    slivered almonds', '1/4  cup ...</td>\n",
       "      <td>['Preheat oven to 375°F  Place almonds in sing...</td>\n",
       "      <td>['time-to-make', 'course', 'preparation', 'des...</td>\n",
       "      <td>['dessert']</td>\n",
       "      <td>False</td>\n",
       "      <td>False</td>\n",
       "      <td>0</td>\n",
       "      <td>8</td>\n",
       "      <td>4</td>\n",
       "      <td>164</td>\n",
       "      <td>preheat oven to f place almonds in single laye...</td>\n",
       "      <td>['preheat', 'oven', 'to', 'f', 'place', 'almon...</td>\n",
       "      <td>this is one of our standard holiday gift recip...</td>\n",
       "      <td>['this', 'is', 'one', 'of', 'our', 'standard',...</td>\n",
       "      <td>This is one of our standard holiday gift recip...</td>\n",
       "    </tr>\n",
       "  </tbody>\n",
       "</table>\n",
       "</div>"
      ],
      "text/plain": [
       "   Unnamed: 0      id                                   name  \\\n",
       "0           0   96313            Grilled Garlic Cheese Grits   \n",
       "1           1  232037  Simple Shrimp and Andouille Jambalaya   \n",
       "2           3   60656             Crock Pot Italian Zucchini   \n",
       "3           4  232047          Beef Stew With Dried Cherries   \n",
       "4           5  232050               Hot Sweet Almond Brittle   \n",
       "\n",
       "                                         description  \\\n",
       "0  We love grits, this is another good way to ser...   \n",
       "1  Simple, easy and very tasty for when you are i...   \n",
       "2  This is a good recipe for weight watchers. It ...   \n",
       "3  This is a fabulous stew that came from one of ...   \n",
       "4  This is one of our standard holiday gift recip...   \n",
       "\n",
       "                                         ingredients  \\\n",
       "0  ['water', 'grits', 'salt', 'cheddar cheese', '...   \n",
       "1  ['onion', 'red bell pepper', 'garlic cloves', ...   \n",
       "2  ['zucchini', 'yellow squash', 'diced tomatoes'...   \n",
       "3  ['beef stew meat', 'flour', 'salt', 'allspice'...   \n",
       "4  ['slivered almonds', 'cider vinegar', 'sugar',...   \n",
       "\n",
       "                                 ingredients_raw_str serving_size  servings  \\\n",
       "0  [\"4   cups    water\",\"1   cup   uncooked old f...    1 (155 g)         8   \n",
       "1  [\"1   medium    onion, chopped coarse \",\"1   m...    1 (366 g)         4   \n",
       "2  [\"2       zucchini, sliced \",\"2   small    yel...    1 (244 g)         4   \n",
       "3  [\"3   lbs    beef stew meat\",\"3   tablespoons ...    1 (358 g)         8   \n",
       "4  [\"12   ounces    slivered almonds\",\"1/4  cup  ...    1 (832 g)         1   \n",
       "\n",
       "                                               steps  \\\n",
       "0  ['I a sauce pan, bring water to a boil; slowly...   \n",
       "1  ['In a food processor, pulse the onion, red pe...   \n",
       "2  ['Put all ingredients in the crock pot and coo...   \n",
       "3  ['Preheat oven to 350°F.', \"Cut beef into 1 in...   \n",
       "4  ['Preheat oven to 375°F  Place almonds in sing...   \n",
       "\n",
       "                                                tags  \\\n",
       "0  ['time-to-make', 'course', 'main-ingredient', ...   \n",
       "1  ['60-minutes-or-less', 'time-to-make', 'course...   \n",
       "2  ['weeknight', 'time-to-make', 'course', 'main-...   \n",
       "3  ['time-to-make', 'course', 'main-ingredient', ...   \n",
       "4  ['time-to-make', 'course', 'preparation', 'des...   \n",
       "\n",
       "                                        search_terms  \\\n",
       "0  {'diabetic', 'low-calorie', 'vegetarian', 'low...   \n",
       "1                               {'dinner', 'shrimp'}   \n",
       "2                  {'side', 'vegetarian', 'italian'}   \n",
       "3                                         {'dinner'}   \n",
       "4                                        {'dessert'}   \n",
       "\n",
       "                                    ingredients_list  \\\n",
       "0  ['water', 'grits', 'salt', 'cheddar cheese', '...   \n",
       "1  ['onion', 'red bell pepper', 'garlic cloves', ...   \n",
       "2  ['zucchini', 'yellow squash', 'diced tomatoes'...   \n",
       "3  ['beef stew meat', 'flour', 'salt', 'allspice'...   \n",
       "4  ['slivered almonds', 'cider vinegar', 'sugar',...   \n",
       "\n",
       "                            ingredients_raw_str_list  \\\n",
       "0  ['4   cups    water', '1   cup   uncooked old ...   \n",
       "1  ['1   medium    onion, chopped coarse ', '1   ...   \n",
       "2  ['2       zucchini, sliced ', '2   small    ye...   \n",
       "3  ['3   lbs    beef stew meat', '3   tablespoons...   \n",
       "4  ['12   ounces    slivered almonds', '1/4  cup ...   \n",
       "\n",
       "                                          steps_list  \\\n",
       "0  ['I a sauce pan, bring water to a boil; slowly...   \n",
       "1  ['In a food processor, pulse the onion, red pe...   \n",
       "2  ['Put all ingredients in the crock pot and coo...   \n",
       "3  ['Preheat oven to 350°F.', \"Cut beef into 1 in...   \n",
       "4  ['Preheat oven to 375°F  Place almonds in sing...   \n",
       "\n",
       "                                           tags_list  \\\n",
       "0  ['time-to-make', 'course', 'main-ingredient', ...   \n",
       "1  ['60-minutes-or-less', 'time-to-make', 'course...   \n",
       "2  ['weeknight', 'time-to-make', 'course', 'main-...   \n",
       "3  ['time-to-make', 'course', 'main-ingredient', ...   \n",
       "4  ['time-to-make', 'course', 'preparation', 'des...   \n",
       "\n",
       "                                   search_terms_list  target_tag  \\\n",
       "0  ['low-calorie', 'diabetic', 'side', 'vegetaria...       False   \n",
       "1                               ['dinner', 'shrimp']       False   \n",
       "2                  ['italian', 'side', 'vegetarian']        True   \n",
       "3                                         ['dinner']        True   \n",
       "4                                        ['dessert']       False   \n",
       "\n",
       "   target_search_term  target  num_ingredients  num_steps  \\\n",
       "0               False       0                6          4   \n",
       "1                True       0               13         10   \n",
       "2               False       0                9          1   \n",
       "3                True       1               14          6   \n",
       "4               False       0                8          4   \n",
       "\n",
       "   num_char_description                                      cleaned_steps  \\\n",
       "0                   301  i a sauce pan bring water to a boil slowly add...   \n",
       "1                   138  in a food processor pulse the onion red pepper...   \n",
       "2                    57  put all ingredients in the crock pot and cook ...   \n",
       "3                   392  preheat oven to f cut beef into inch cubes com...   \n",
       "4                   164  preheat oven to f place almonds in single laye...   \n",
       "\n",
       "                                         step_tokens  \\\n",
       "0  ['i', 'a', 'sauce', 'pan', 'bring', 'water', '...   \n",
       "1  ['in', 'a', 'food', 'processor', 'pulse', 'the...   \n",
       "2  ['put', 'all', 'ingredients', 'in', 'the', 'cr...   \n",
       "3  ['preheat', 'oven', 'to', 'f', 'cut', 'beef', ...   \n",
       "4  ['preheat', 'oven', 'to', 'f', 'place', 'almon...   \n",
       "\n",
       "                                 cleaned_description  \\\n",
       "0  we love grits this is another good way to serv...   \n",
       "1  simple easy and very tasty for when you are in...   \n",
       "2  this is a good recipe for weight watchers it i...   \n",
       "3  this is a fabulous stew that came from one of ...   \n",
       "4  this is one of our standard holiday gift recip...   \n",
       "\n",
       "                                  description_tokens  \\\n",
       "0  ['we', 'love', 'grits', 'this', 'is', 'another...   \n",
       "1  ['simple', 'easy', 'and', 'very', 'tasty', 'fo...   \n",
       "2  ['this', 'is', 'a', 'good', 'recipe', 'for', '...   \n",
       "3  ['this', 'is', 'a', 'fabulous', 'stew', 'that'...   \n",
       "4  ['this', 'is', 'one', 'of', 'our', 'standard',...   \n",
       "\n",
       "                                            combined  \n",
       "0  We love grits, this is another good way to ser...  \n",
       "1  Simple, easy and very tasty for when you are i...  \n",
       "2  This is a good recipe for weight watchers. It ...  \n",
       "3  This is a fabulous stew that came from one of ...  \n",
       "4  This is one of our standard holiday gift recip...  "
      ]
     },
     "execution_count": 65,
     "metadata": {},
     "output_type": "execute_result"
    }
   ],
   "source": [
    "df.head()"
   ]
  },
  {
   "cell_type": "code",
   "execution_count": 60,
   "id": "2ef0b8c0",
   "metadata": {
    "ExecuteTime": {
     "end_time": "2021-12-06T05:56:07.315117Z",
     "start_time": "2021-12-06T05:56:07.301115Z"
    }
   },
   "outputs": [],
   "source": [
    "y = df['target']"
   ]
  },
  {
   "cell_type": "code",
   "execution_count": 69,
   "id": "1e665e53",
   "metadata": {
    "ExecuteTime": {
     "end_time": "2021-12-06T06:00:34.004593Z",
     "start_time": "2021-12-06T06:00:33.981571Z"
    }
   },
   "outputs": [],
   "source": [
    "X = pd.DataFrame(df['combined'], index = df.index)"
   ]
  },
  {
   "cell_type": "code",
   "execution_count": 70,
   "id": "ad7160d6",
   "metadata": {
    "ExecuteTime": {
     "end_time": "2021-12-06T06:00:36.048915Z",
     "start_time": "2021-12-06T06:00:36.038915Z"
    }
   },
   "outputs": [
    {
     "data": {
      "text/html": [
       "<div>\n",
       "<style scoped>\n",
       "    .dataframe tbody tr th:only-of-type {\n",
       "        vertical-align: middle;\n",
       "    }\n",
       "\n",
       "    .dataframe tbody tr th {\n",
       "        vertical-align: top;\n",
       "    }\n",
       "\n",
       "    .dataframe thead th {\n",
       "        text-align: right;\n",
       "    }\n",
       "</style>\n",
       "<table border=\"1\" class=\"dataframe\">\n",
       "  <thead>\n",
       "    <tr style=\"text-align: right;\">\n",
       "      <th></th>\n",
       "      <th>combined</th>\n",
       "    </tr>\n",
       "  </thead>\n",
       "  <tbody>\n",
       "    <tr>\n",
       "      <th>0</th>\n",
       "      <td>We love grits, this is another good way to ser...</td>\n",
       "    </tr>\n",
       "    <tr>\n",
       "      <th>1</th>\n",
       "      <td>Simple, easy and very tasty for when you are i...</td>\n",
       "    </tr>\n",
       "    <tr>\n",
       "      <th>2</th>\n",
       "      <td>This is a good recipe for weight watchers. It ...</td>\n",
       "    </tr>\n",
       "    <tr>\n",
       "      <th>3</th>\n",
       "      <td>This is a fabulous stew that came from one of ...</td>\n",
       "    </tr>\n",
       "    <tr>\n",
       "      <th>4</th>\n",
       "      <td>This is one of our standard holiday gift recip...</td>\n",
       "    </tr>\n",
       "  </tbody>\n",
       "</table>\n",
       "</div>"
      ],
      "text/plain": [
       "                                            combined\n",
       "0  We love grits, this is another good way to ser...\n",
       "1  Simple, easy and very tasty for when you are i...\n",
       "2  This is a good recipe for weight watchers. It ...\n",
       "3  This is a fabulous stew that came from one of ...\n",
       "4  This is one of our standard holiday gift recip..."
      ]
     },
     "execution_count": 70,
     "metadata": {},
     "output_type": "execute_result"
    }
   ],
   "source": [
    "X.head()"
   ]
  },
  {
   "cell_type": "code",
   "execution_count": 79,
   "id": "fdeab279",
   "metadata": {
    "ExecuteTime": {
     "end_time": "2021-12-06T06:04:23.200617Z",
     "start_time": "2021-12-06T06:04:23.190612Z"
    }
   },
   "outputs": [
    {
     "data": {
      "text/plain": [
       "482279"
      ]
     },
     "execution_count": 79,
     "metadata": {},
     "output_type": "execute_result"
    }
   ],
   "source": [
    "len(y)"
   ]
  },
  {
   "cell_type": "code",
   "execution_count": 93,
   "id": "c39aae6a",
   "metadata": {
    "ExecuteTime": {
     "end_time": "2021-12-06T06:09:31.038983Z",
     "start_time": "2021-12-06T06:09:30.950964Z"
    }
   },
   "outputs": [
    {
     "data": {
      "text/plain": [
       "50000"
      ]
     },
     "execution_count": 93,
     "metadata": {},
     "output_type": "execute_result"
    }
   ],
   "source": [
    "df_sample = df.sample(50000)\n",
    "len(df_sample)"
   ]
  },
  {
   "cell_type": "code",
   "execution_count": 97,
   "id": "5899c5ce",
   "metadata": {
    "ExecuteTime": {
     "end_time": "2021-12-06T06:11:18.642042Z",
     "start_time": "2021-12-06T06:11:18.622032Z"
    }
   },
   "outputs": [
    {
     "data": {
      "text/html": [
       "<div>\n",
       "<style scoped>\n",
       "    .dataframe tbody tr th:only-of-type {\n",
       "        vertical-align: middle;\n",
       "    }\n",
       "\n",
       "    .dataframe tbody tr th {\n",
       "        vertical-align: top;\n",
       "    }\n",
       "\n",
       "    .dataframe thead th {\n",
       "        text-align: right;\n",
       "    }\n",
       "</style>\n",
       "<table border=\"1\" class=\"dataframe\">\n",
       "  <thead>\n",
       "    <tr style=\"text-align: right;\">\n",
       "      <th></th>\n",
       "      <th>Unnamed: 0</th>\n",
       "      <th>id</th>\n",
       "      <th>name</th>\n",
       "      <th>description</th>\n",
       "      <th>ingredients</th>\n",
       "      <th>ingredients_raw_str</th>\n",
       "      <th>serving_size</th>\n",
       "      <th>servings</th>\n",
       "      <th>steps</th>\n",
       "      <th>tags</th>\n",
       "      <th>search_terms</th>\n",
       "      <th>ingredients_list</th>\n",
       "      <th>ingredients_raw_str_list</th>\n",
       "      <th>steps_list</th>\n",
       "      <th>tags_list</th>\n",
       "      <th>search_terms_list</th>\n",
       "      <th>target_tag</th>\n",
       "      <th>target_search_term</th>\n",
       "      <th>target</th>\n",
       "      <th>num_ingredients</th>\n",
       "      <th>num_steps</th>\n",
       "      <th>num_char_description</th>\n",
       "      <th>cleaned_steps</th>\n",
       "      <th>step_tokens</th>\n",
       "      <th>cleaned_description</th>\n",
       "      <th>description_tokens</th>\n",
       "      <th>combined</th>\n",
       "    </tr>\n",
       "  </thead>\n",
       "  <tbody>\n",
       "    <tr>\n",
       "      <th>187279</th>\n",
       "      <td>191352</td>\n",
       "      <td>206466</td>\n",
       "      <td>Shredded Chicken and Walnut Sauce</td>\n",
       "      <td>This is from a Penzey's cooking magazine.  I t...</td>\n",
       "      <td>['boneless skinless chicken breasts', 'water',...</td>\n",
       "      <td>[\"4       boneless skinless chicken breasts or...</td>\n",
       "      <td>1 (127 g)</td>\n",
       "      <td>10</td>\n",
       "      <td>['In a large pan, simmer the chicken with wate...</td>\n",
       "      <td>['time-to-make', 'course', 'main-ingredient', ...</td>\n",
       "      <td>{'healthy', 'low-carb', 'dinner', 'turkish', '...</td>\n",
       "      <td>['boneless skinless chicken breasts', 'water',...</td>\n",
       "      <td>['4       boneless skinless chicken breasts or...</td>\n",
       "      <td>['In a large pan, simmer the chicken with wate...</td>\n",
       "      <td>['time-to-make', 'course', 'main-ingredient', ...</td>\n",
       "      <td>['dinner', 'turkish', 'healthy', 'chicken', 'l...</td>\n",
       "      <td>False</td>\n",
       "      <td>True</td>\n",
       "      <td>0</td>\n",
       "      <td>9</td>\n",
       "      <td>10</td>\n",
       "      <td>79</td>\n",
       "      <td>in a large pan simmer the chicken with water a...</td>\n",
       "      <td>['in', 'a', 'large', 'pan', 'simmer', 'the', '...</td>\n",
       "      <td>this is from a penzeys cooking magazine i thin...</td>\n",
       "      <td>['this', 'is', 'from', 'a', 'penzeys', 'cookin...</td>\n",
       "      <td>This is from a Penzey's cooking magazine.  I t...</td>\n",
       "    </tr>\n",
       "    <tr>\n",
       "      <th>245863</th>\n",
       "      <td>251634</td>\n",
       "      <td>280930</td>\n",
       "      <td>Smoked Gouda Chicken</td>\n",
       "      <td>In Summer of 99, new to CO, I caught the endin...</td>\n",
       "      <td>['boneless skinless chicken breasts', 'flour',...</td>\n",
       "      <td>[\"3       boneless skinless chicken breasts, p...</td>\n",
       "      <td>1 (309 g)</td>\n",
       "      <td>3</td>\n",
       "      <td>['In a large skilled, heat up about 3 Tablespo...</td>\n",
       "      <td>['60-minutes-or-less', 'time-to-make', 'course...</td>\n",
       "      <td>{'dinner', 'chicken'}</td>\n",
       "      <td>['boneless skinless chicken breasts', 'flour',...</td>\n",
       "      <td>['3       boneless skinless chicken breasts, p...</td>\n",
       "      <td>['In a large skilled, heat up about 3 Tablespo...</td>\n",
       "      <td>['60-minutes-or-less', 'time-to-make', 'course...</td>\n",
       "      <td>['dinner', 'chicken']</td>\n",
       "      <td>False</td>\n",
       "      <td>True</td>\n",
       "      <td>0</td>\n",
       "      <td>11</td>\n",
       "      <td>7</td>\n",
       "      <td>195</td>\n",
       "      <td>in a large skilled heat up about tablespoons b...</td>\n",
       "      <td>['in', 'a', 'large', 'skilled', 'heat', 'up', ...</td>\n",
       "      <td>in summer of new to co i caught the ending of ...</td>\n",
       "      <td>['in', 'summer', 'of', 'new', 'to', 'co', 'i',...</td>\n",
       "      <td>In Summer of 99, new to CO, I caught the endin...</td>\n",
       "    </tr>\n",
       "    <tr>\n",
       "      <th>83501</th>\n",
       "      <td>85900</td>\n",
       "      <td>251709</td>\n",
       "      <td>Bone Crackers</td>\n",
       "      <td>Easy to make and very tasty halloween chips</td>\n",
       "      <td>['flour tortillas', 'butter', 'garlic salt']</td>\n",
       "      <td>[\"2 (13 1/2  ounce) packages   flour tortillas...</td>\n",
       "      <td>1 (14 g)</td>\n",
       "      <td>60</td>\n",
       "      <td>['Cut tortillas with a 3 1/2-inch bone-shaped ...</td>\n",
       "      <td>['60-minutes-or-less', 'time-to-make', 'course...</td>\n",
       "      <td>{'appetizer', 'bread'}</td>\n",
       "      <td>['flour tortillas', 'butter', 'garlic salt']</td>\n",
       "      <td>['2 (13 1/2  ounce) packages   flour tortillas...</td>\n",
       "      <td>['Cut tortillas with a 3 1/2-inch bone-shaped ...</td>\n",
       "      <td>['60-minutes-or-less', 'time-to-make', 'course...</td>\n",
       "      <td>['appetizer', 'bread']</td>\n",
       "      <td>False</td>\n",
       "      <td>False</td>\n",
       "      <td>0</td>\n",
       "      <td>3</td>\n",
       "      <td>3</td>\n",
       "      <td>43</td>\n",
       "      <td>cut tortillas with a inch boneshaped cookie cu...</td>\n",
       "      <td>['cut', 'tortillas', 'with', 'a', 'inch', 'bon...</td>\n",
       "      <td>easy to make and very tasty halloween chips</td>\n",
       "      <td>['easy', 'to', 'make', 'and', 'very', 'tasty',...</td>\n",
       "      <td>Easy to make and very tasty halloween chips ['...</td>\n",
       "    </tr>\n",
       "    <tr>\n",
       "      <th>298154</th>\n",
       "      <td>305457</td>\n",
       "      <td>410348</td>\n",
       "      <td>Beef Biryani</td>\n",
       "      <td>I got this recipe from an app on my iphone.  N...</td>\n",
       "      <td>['sirloin beef', 'cumin powder', 'cardamom pow...</td>\n",
       "      <td>[\"2 1/2  lbs    sirloin beef (cut in 1 1/2-inc...</td>\n",
       "      <td>1 (218 g)</td>\n",
       "      <td>6</td>\n",
       "      <td>['In a plastic bag, mix flour, salt and pepper...</td>\n",
       "      <td>['course', 'cuisine', 'preparation', 'main-dis...</td>\n",
       "      <td>{'low-sodium', 'low-carb', 'indian', 'dinner',...</td>\n",
       "      <td>['sirloin beef', 'cumin powder', 'cardamom pow...</td>\n",
       "      <td>['2 1/2  lbs    sirloin beef (cut in 1 1/2-inc...</td>\n",
       "      <td>['In a plastic bag, mix flour, salt and pepper...</td>\n",
       "      <td>['course', 'cuisine', 'preparation', 'main-dis...</td>\n",
       "      <td>['low-sodium', 'dinner', 'beef', 'indian', 'lo...</td>\n",
       "      <td>False</td>\n",
       "      <td>True</td>\n",
       "      <td>0</td>\n",
       "      <td>15</td>\n",
       "      <td>8</td>\n",
       "      <td>172</td>\n",
       "      <td>in a plastic bag mix flour salt and pepper add...</td>\n",
       "      <td>['in', 'a', 'plastic', 'bag', 'mix', 'flour', ...</td>\n",
       "      <td>i got this recipe from an app on my iphone not...</td>\n",
       "      <td>['i', 'got', 'this', 'recipe', 'from', 'an', '...</td>\n",
       "      <td>I got this recipe from an app on my iphone.  N...</td>\n",
       "    </tr>\n",
       "    <tr>\n",
       "      <th>96188</th>\n",
       "      <td>98664</td>\n",
       "      <td>317740</td>\n",
       "      <td>Vegan Blueberry Peach Crumble</td>\n",
       "      <td>I found this recipe online a long time ago (I ...</td>\n",
       "      <td>['peach nectar', 'arrowroot', 'vanilla', 'peac...</td>\n",
       "      <td>[\"\",\"1/2  cup    peach nectar\",\"1   teaspoon  ...</td>\n",
       "      <td>1 (201 g)</td>\n",
       "      <td>8</td>\n",
       "      <td>['Preheat the oven to 350°F.', 'Mix together c...</td>\n",
       "      <td>['lactose', 'time-to-make', 'course', 'main-in...</td>\n",
       "      <td>{'low-sodium', 'vegetarian', 'dessert', 'healt...</td>\n",
       "      <td>['peach nectar', 'arrowroot', 'vanilla', 'peac...</td>\n",
       "      <td>['', '1/2  cup    peach nectar', '1   teaspoon...</td>\n",
       "      <td>['Preheat the oven to 350°F.', 'Mix together c...</td>\n",
       "      <td>['lactose', 'time-to-make', 'course', 'main-in...</td>\n",
       "      <td>['vegan', 'lactose-free', 'low-sodium', 'dinne...</td>\n",
       "      <td>True</td>\n",
       "      <td>True</td>\n",
       "      <td>1</td>\n",
       "      <td>14</td>\n",
       "      <td>7</td>\n",
       "      <td>587</td>\n",
       "      <td>preheat the oven to f mix together cold peach ...</td>\n",
       "      <td>['preheat', 'the', 'oven', 'to', 'f', 'mix', '...</td>\n",
       "      <td>i found this recipe online a long time ago i c...</td>\n",
       "      <td>['i', 'found', 'this', 'recipe', 'online', 'a'...</td>\n",
       "      <td>I found this recipe online a long time ago (I ...</td>\n",
       "    </tr>\n",
       "  </tbody>\n",
       "</table>\n",
       "</div>"
      ],
      "text/plain": [
       "        Unnamed: 0      id                               name  \\\n",
       "187279      191352  206466  Shredded Chicken and Walnut Sauce   \n",
       "245863      251634  280930               Smoked Gouda Chicken   \n",
       "83501        85900  251709                      Bone Crackers   \n",
       "298154      305457  410348                       Beef Biryani   \n",
       "96188        98664  317740      Vegan Blueberry Peach Crumble   \n",
       "\n",
       "                                              description  \\\n",
       "187279  This is from a Penzey's cooking magazine.  I t...   \n",
       "245863  In Summer of 99, new to CO, I caught the endin...   \n",
       "83501         Easy to make and very tasty halloween chips   \n",
       "298154  I got this recipe from an app on my iphone.  N...   \n",
       "96188   I found this recipe online a long time ago (I ...   \n",
       "\n",
       "                                              ingredients  \\\n",
       "187279  ['boneless skinless chicken breasts', 'water',...   \n",
       "245863  ['boneless skinless chicken breasts', 'flour',...   \n",
       "83501        ['flour tortillas', 'butter', 'garlic salt']   \n",
       "298154  ['sirloin beef', 'cumin powder', 'cardamom pow...   \n",
       "96188   ['peach nectar', 'arrowroot', 'vanilla', 'peac...   \n",
       "\n",
       "                                      ingredients_raw_str serving_size  \\\n",
       "187279  [\"4       boneless skinless chicken breasts or...    1 (127 g)   \n",
       "245863  [\"3       boneless skinless chicken breasts, p...    1 (309 g)   \n",
       "83501   [\"2 (13 1/2  ounce) packages   flour tortillas...     1 (14 g)   \n",
       "298154  [\"2 1/2  lbs    sirloin beef (cut in 1 1/2-inc...    1 (218 g)   \n",
       "96188   [\"\",\"1/2  cup    peach nectar\",\"1   teaspoon  ...    1 (201 g)   \n",
       "\n",
       "        servings                                              steps  \\\n",
       "187279        10  ['In a large pan, simmer the chicken with wate...   \n",
       "245863         3  ['In a large skilled, heat up about 3 Tablespo...   \n",
       "83501         60  ['Cut tortillas with a 3 1/2-inch bone-shaped ...   \n",
       "298154         6  ['In a plastic bag, mix flour, salt and pepper...   \n",
       "96188          8  ['Preheat the oven to 350°F.', 'Mix together c...   \n",
       "\n",
       "                                                     tags  \\\n",
       "187279  ['time-to-make', 'course', 'main-ingredient', ...   \n",
       "245863  ['60-minutes-or-less', 'time-to-make', 'course...   \n",
       "83501   ['60-minutes-or-less', 'time-to-make', 'course...   \n",
       "298154  ['course', 'cuisine', 'preparation', 'main-dis...   \n",
       "96188   ['lactose', 'time-to-make', 'course', 'main-in...   \n",
       "\n",
       "                                             search_terms  \\\n",
       "187279  {'healthy', 'low-carb', 'dinner', 'turkish', '...   \n",
       "245863                              {'dinner', 'chicken'}   \n",
       "83501                              {'appetizer', 'bread'}   \n",
       "298154  {'low-sodium', 'low-carb', 'indian', 'dinner',...   \n",
       "96188   {'low-sodium', 'vegetarian', 'dessert', 'healt...   \n",
       "\n",
       "                                         ingredients_list  \\\n",
       "187279  ['boneless skinless chicken breasts', 'water',...   \n",
       "245863  ['boneless skinless chicken breasts', 'flour',...   \n",
       "83501        ['flour tortillas', 'butter', 'garlic salt']   \n",
       "298154  ['sirloin beef', 'cumin powder', 'cardamom pow...   \n",
       "96188   ['peach nectar', 'arrowroot', 'vanilla', 'peac...   \n",
       "\n",
       "                                 ingredients_raw_str_list  \\\n",
       "187279  ['4       boneless skinless chicken breasts or...   \n",
       "245863  ['3       boneless skinless chicken breasts, p...   \n",
       "83501   ['2 (13 1/2  ounce) packages   flour tortillas...   \n",
       "298154  ['2 1/2  lbs    sirloin beef (cut in 1 1/2-inc...   \n",
       "96188   ['', '1/2  cup    peach nectar', '1   teaspoon...   \n",
       "\n",
       "                                               steps_list  \\\n",
       "187279  ['In a large pan, simmer the chicken with wate...   \n",
       "245863  ['In a large skilled, heat up about 3 Tablespo...   \n",
       "83501   ['Cut tortillas with a 3 1/2-inch bone-shaped ...   \n",
       "298154  ['In a plastic bag, mix flour, salt and pepper...   \n",
       "96188   ['Preheat the oven to 350°F.', 'Mix together c...   \n",
       "\n",
       "                                                tags_list  \\\n",
       "187279  ['time-to-make', 'course', 'main-ingredient', ...   \n",
       "245863  ['60-minutes-or-less', 'time-to-make', 'course...   \n",
       "83501   ['60-minutes-or-less', 'time-to-make', 'course...   \n",
       "298154  ['course', 'cuisine', 'preparation', 'main-dis...   \n",
       "96188   ['lactose', 'time-to-make', 'course', 'main-in...   \n",
       "\n",
       "                                        search_terms_list  target_tag  \\\n",
       "187279  ['dinner', 'turkish', 'healthy', 'chicken', 'l...       False   \n",
       "245863                              ['dinner', 'chicken']       False   \n",
       "83501                              ['appetizer', 'bread']       False   \n",
       "298154  ['low-sodium', 'dinner', 'beef', 'indian', 'lo...       False   \n",
       "96188   ['vegan', 'lactose-free', 'low-sodium', 'dinne...        True   \n",
       "\n",
       "        target_search_term  target  num_ingredients  num_steps  \\\n",
       "187279                True       0                9         10   \n",
       "245863                True       0               11          7   \n",
       "83501                False       0                3          3   \n",
       "298154                True       0               15          8   \n",
       "96188                 True       1               14          7   \n",
       "\n",
       "        num_char_description  \\\n",
       "187279                    79   \n",
       "245863                   195   \n",
       "83501                     43   \n",
       "298154                   172   \n",
       "96188                    587   \n",
       "\n",
       "                                            cleaned_steps  \\\n",
       "187279  in a large pan simmer the chicken with water a...   \n",
       "245863  in a large skilled heat up about tablespoons b...   \n",
       "83501   cut tortillas with a inch boneshaped cookie cu...   \n",
       "298154  in a plastic bag mix flour salt and pepper add...   \n",
       "96188   preheat the oven to f mix together cold peach ...   \n",
       "\n",
       "                                              step_tokens  \\\n",
       "187279  ['in', 'a', 'large', 'pan', 'simmer', 'the', '...   \n",
       "245863  ['in', 'a', 'large', 'skilled', 'heat', 'up', ...   \n",
       "83501   ['cut', 'tortillas', 'with', 'a', 'inch', 'bon...   \n",
       "298154  ['in', 'a', 'plastic', 'bag', 'mix', 'flour', ...   \n",
       "96188   ['preheat', 'the', 'oven', 'to', 'f', 'mix', '...   \n",
       "\n",
       "                                      cleaned_description  \\\n",
       "187279  this is from a penzeys cooking magazine i thin...   \n",
       "245863  in summer of new to co i caught the ending of ...   \n",
       "83501         easy to make and very tasty halloween chips   \n",
       "298154  i got this recipe from an app on my iphone not...   \n",
       "96188   i found this recipe online a long time ago i c...   \n",
       "\n",
       "                                       description_tokens  \\\n",
       "187279  ['this', 'is', 'from', 'a', 'penzeys', 'cookin...   \n",
       "245863  ['in', 'summer', 'of', 'new', 'to', 'co', 'i',...   \n",
       "83501   ['easy', 'to', 'make', 'and', 'very', 'tasty',...   \n",
       "298154  ['i', 'got', 'this', 'recipe', 'from', 'an', '...   \n",
       "96188   ['i', 'found', 'this', 'recipe', 'online', 'a'...   \n",
       "\n",
       "                                                 combined  \n",
       "187279  This is from a Penzey's cooking magazine.  I t...  \n",
       "245863  In Summer of 99, new to CO, I caught the endin...  \n",
       "83501   Easy to make and very tasty halloween chips ['...  \n",
       "298154  I got this recipe from an app on my iphone.  N...  \n",
       "96188   I found this recipe online a long time ago (I ...  "
      ]
     },
     "execution_count": 97,
     "metadata": {},
     "output_type": "execute_result"
    }
   ],
   "source": [
    "df_sample.head()"
   ]
  },
  {
   "cell_type": "code",
   "execution_count": 96,
   "id": "fd1d008d",
   "metadata": {
    "ExecuteTime": {
     "end_time": "2021-12-06T06:10:56.761829Z",
     "start_time": "2021-12-06T06:10:56.750831Z"
    }
   },
   "outputs": [
    {
     "data": {
      "text/plain": [
       "50000"
      ]
     },
     "execution_count": 96,
     "metadata": {},
     "output_type": "execute_result"
    }
   ],
   "source": [
    "y_sample = df_sample['target']\n",
    "len(y_sample)"
   ]
  },
  {
   "cell_type": "code",
   "execution_count": 101,
   "id": "39496288",
   "metadata": {
    "ExecuteTime": {
     "end_time": "2021-12-06T06:12:23.975433Z",
     "start_time": "2021-12-06T06:12:23.957416Z"
    }
   },
   "outputs": [],
   "source": [
    "X_sample = pd.DataFrame(df_sample['combined'], index = df_sample.index)"
   ]
  },
  {
   "cell_type": "code",
   "execution_count": 35,
   "id": "14624ce7",
   "metadata": {
    "ExecuteTime": {
     "end_time": "2021-12-06T05:26:10.373617Z",
     "start_time": "2021-12-06T05:26:10.264579Z"
    }
   },
   "outputs": [
    {
     "data": {
      "text/plain": [
       "0    98067\n",
       "1    98067\n",
       "Name: target, dtype: int64"
      ]
     },
     "execution_count": 35,
     "metadata": {},
     "output_type": "execute_result"
    }
   ],
   "source": [
    "rus = RandomUnderSampler()\n",
    "X_res, y_res = rus.fit_resample(X,y)\n",
    "y_res.value_counts()"
   ]
  },
  {
   "cell_type": "code",
   "execution_count": 104,
   "id": "74680fe3",
   "metadata": {
    "ExecuteTime": {
     "end_time": "2021-12-06T06:12:42.587677Z",
     "start_time": "2021-12-06T06:12:42.558677Z"
    },
    "scrolled": true
   },
   "outputs": [
    {
     "data": {
      "text/plain": [
       "0    10201\n",
       "1    10201\n",
       "Name: target, dtype: int64"
      ]
     },
     "execution_count": 104,
     "metadata": {},
     "output_type": "execute_result"
    }
   ],
   "source": [
    "X_sample_rus, y_sample_rus = rus.fit_resample(X_sample, y_sample)\n",
    "y_sample_rus.value_counts()"
   ]
  },
  {
   "attachments": {
    "image.png": {
     "image/png": "[encoded data removed]"
    }
   },
   "cell_type": "markdown",
   "id": "d36d208e",
   "metadata": {},
   "source": [
    "![image.png](attachment:image.png)"
   ]
  },
  {
   "cell_type": "markdown",
   "id": "deeb90e1",
   "metadata": {},
   "source": [
    "above from spacy documentation and process we'll emulate below\n",
    "https://spacy.io/usage/processing-pipelines"
   ]
  },
  {
   "cell_type": "markdown",
   "id": "37da64dd",
   "metadata": {},
   "source": [
    "# Tokenization "
   ]
  },
  {
   "cell_type": "code",
   "execution_count": 105,
   "id": "ffd6b4b7",
   "metadata": {
    "ExecuteTime": {
     "end_time": "2021-12-06T06:12:49.417430Z",
     "start_time": "2021-12-06T06:12:48.983013Z"
    }
   },
   "outputs": [
    {
     "data": {
      "text/plain": [
       "<spacy.lang.en.English at 0x197c4e4bb80>"
      ]
     },
     "execution_count": 105,
     "metadata": {},
     "output_type": "execute_result"
    }
   ],
   "source": [
    "nlp = spacy.load('en_core_web_sm')\n",
    "stops = stopwords.words(\"english\")\n",
    "\n",
    "nlp"
   ]
  },
  {
   "cell_type": "code",
   "execution_count": 106,
   "id": "c33b40cf",
   "metadata": {
    "ExecuteTime": {
     "end_time": "2021-12-06T06:12:52.715504Z",
     "start_time": "2021-12-06T06:12:52.710505Z"
    }
   },
   "outputs": [],
   "source": [
    "# lovely little function I found as the top answer here: \n",
    "# https://stackoverflow.com/questions/45605946/how-to-do-text-pre-processing-using-spacy\n",
    "\n",
    "def normalize(comment, lowercase):# remove_stopwords):\n",
    "    if lowercase:\n",
    "        comment = comment.lower()\n",
    "    comment = nlp(comment)\n",
    "    lemmatized = list()\n",
    "    for word in comment:\n",
    "        lemma = word.lemma_.strip()\n",
    "#         if lemma:\n",
    "#             if not remove_stopwords or (remove_stopwords and lemma not in stops):\n",
    "        lemmatized.append(lemma)\n",
    "    return \" \".join(lemmatized)\n"
   ]
  },
  {
   "cell_type": "code",
   "execution_count": null,
   "id": "76fb3b3e",
   "metadata": {
    "ExecuteTime": {
     "end_time": "2021-12-06T01:21:34.039384Z",
     "start_time": "2021-12-06T01:21:33.412211Z"
    }
   },
   "outputs": [],
   "source": [
    "\n",
    "\n",
    "#sample\n",
    "x = 'Having a cat can mean different things to different people. Some want a cat to cuddle and sit on their laps; others are happy to live with a very independent cat which spends most of its time outside and doesn’t want too much human interaction.'\n",
    "#creating doc object containing our token features\n",
    "doc = nlp(x)\n",
    "\n",
    "#Creating and updating our list of tokens using list comprehension \n",
    "tokens = [token.text for token in doc]\n",
    "print(tokens)"
   ]
  },
  {
   "cell_type": "code",
   "execution_count": null,
   "id": "8d98730a",
   "metadata": {
    "ExecuteTime": {
     "end_time": "2021-12-06T01:20:20.564861Z",
     "start_time": "2021-12-06T01:20:20.547852Z"
    }
   },
   "outputs": [],
   "source": [
    "x = \"Embracing and analyzing self failures (of however multitude) is a virtue of nobelmen. Not.\"\n",
    "prosx = nlp(x)\n",
    "prosx"
   ]
  },
  {
   "cell_type": "code",
   "execution_count": null,
   "id": "7db93f82",
   "metadata": {
    "ExecuteTime": {
     "end_time": "2021-12-06T01:23:48.023236Z",
     "start_time": "2021-12-06T01:23:48.004239Z"
    }
   },
   "outputs": [],
   "source": [
    "# lemmatized = list()\n",
    "\n",
    "# for word in doc:\n",
    "#         lemma = word.lemma_.strip()\n",
    "# #         if lemma:\n",
    "# #             if not remove_stopwords or (remove_stopwords and lemma not in stops):\n",
    "#         lemmatized.append(lemma)\n",
    "\n",
    "# lemaex =\" \".join(lemmatized)\n",
    "# lemaex"
   ]
  },
  {
   "cell_type": "code",
   "execution_count": null,
   "id": "e7dfefc6",
   "metadata": {
    "ExecuteTime": {
     "end_time": "2021-12-06T01:27:20.444204Z",
     "start_time": "2021-12-06T01:27:20.436197Z"
    }
   },
   "outputs": [],
   "source": [
    "# for token in doc:\n",
    "#     print(token.text, token.pos_, token.dep_)"
   ]
  },
  {
   "cell_type": "code",
   "execution_count": null,
   "id": "49c6dc1a",
   "metadata": {
    "ExecuteTime": {
     "end_time": "2021-12-06T03:50:41.794123Z",
     "start_time": "2021-12-06T01:31:21.260258Z"
    },
    "scrolled": false
   },
   "outputs": [],
   "source": [
    "# df_strings['tokens'] = df_strings['combined'].apply(lambda x: normalize(x, lowercase = True))\n"
   ]
  },
  {
   "cell_type": "code",
   "execution_count": null,
   "id": "0923fb5a",
   "metadata": {
    "ExecuteTime": {
     "end_time": "2021-12-06T03:50:41.798105Z",
     "start_time": "2021-12-06T03:50:41.798105Z"
    }
   },
   "outputs": [],
   "source": [
    "# df.head()"
   ]
  },
  {
   "cell_type": "code",
   "execution_count": null,
   "id": "58b40a1c",
   "metadata": {
    "ExecuteTime": {
     "end_time": "2021-12-06T03:50:41.802106Z",
     "start_time": "2021-12-06T03:50:41.802106Z"
    }
   },
   "outputs": [],
   "source": [
    "# df['length'] = len(df['tokens'])"
   ]
  },
  {
   "cell_type": "code",
   "execution_count": 108,
   "id": "c5e7fb0f",
   "metadata": {
    "ExecuteTime": {
     "end_time": "2021-12-06T06:19:35.997026Z",
     "start_time": "2021-12-06T06:13:59.574671Z"
    },
    "scrolled": true
   },
   "outputs": [],
   "source": [
    "docs = list(nlp.pipe(X_sample_rus.combined))"
   ]
  },
  {
   "cell_type": "code",
   "execution_count": 109,
   "id": "e489b9c9",
   "metadata": {
    "ExecuteTime": {
     "end_time": "2021-12-06T06:24:21.644301Z",
     "start_time": "2021-12-06T06:24:21.630286Z"
    }
   },
   "outputs": [],
   "source": [
    "# Adapted from https://ryan-cranfill.github.io/sentiment-pipeline-sklearn-3/\n",
    "from sklearn.preprocessing import FunctionTransformer\n",
    "def pipelinize(function, active=True):\n",
    "    def list_comprehend_a_function(list_or_series, active=True):\n",
    "        if active:\n",
    "            return [function(i) for i in list_or_series]\n",
    "        else: # if it's not active, just pass it right back\n",
    "            return list_or_series\n",
    "    return FunctionTransformer(list_comprehend_a_function, validate=False, kw_args={'active':active})"
   ]
  },
  {
   "cell_type": "code",
   "execution_count": 117,
   "id": "a0ae2ecb",
   "metadata": {
    "ExecuteTime": {
     "end_time": "2021-12-06T06:38:14.712798Z",
     "start_time": "2021-12-06T06:38:14.694800Z"
    }
   },
   "outputs": [],
   "source": [
    "from spacy.lang.en import English\n",
    "def spacy_tokenizer_lemmatizer(text):\n",
    "    \n",
    "    nlp = English()\n",
    "    tokenizer = nlp.tokenizer\n",
    "    tokens = tokenizer(text)\n",
    "    \n",
    "    lemma_list = []\n",
    "    for token in tokens:\n",
    "        if token.is_stop is False:\n",
    "            lemma_list.append(token.lemma_)\n",
    "    \n",
    "    return(lemma_list)\n",
    "\n",
    "def preprocessor_final(text):\n",
    "    if isinstance((text), (str)):\n",
    "        text = re.sub('<[^>]*>', '', text)\n",
    "        text = re.sub('[\\W]+', '', text.lower())\n",
    "        return text\n",
    "    if isinstance((text), (list)):\n",
    "        return_list = []\n",
    "        for i in range(len(text)):\n",
    "            temp_text = re.sub('<[^>]*>', '', text[i])\n",
    "            temp_text = re.sub('[\\W]+', '', temp_text.lower())\n",
    "            return_list.append(temp_text)\n",
    "        return(return_list)\n",
    "    else:\n",
    "        pass"
   ]
  },
  {
   "cell_type": "code",
   "execution_count": null,
   "id": "1370f554",
   "metadata": {
    "ExecuteTime": {
     "start_time": "2021-12-06T06:41:31.891Z"
    }
   },
   "outputs": [],
   "source": [
    "from sklearn.pipeline import Pipeline\n",
    "spacy_estimators = [('tokenizer', pipelinize(spacy_tokenizer_lemmatizer)), ('preprocessor', pipelinize(preprocessor_final))]\n",
    "spacy_pipe = Pipeline(spacy_estimators)\n",
    "\n",
    "X_sample_rus['transformed'] = X_sample_rus['combined'].apply(lambda x: spacy_pipe.transform(x))\n",
    "X_sample_rus.head()\n"
   ]
  },
  {
   "cell_type": "code",
   "execution_count": null,
   "id": "95eb179d",
   "metadata": {},
   "outputs": [],
   "source": []
  }
 ],
 "metadata": {
  "kernelspec": {
   "display_name": "spacy-env",
   "language": "python",
   "name": "spacy-env"
  },
  "language_info": {
   "codemirror_mode": {
    "name": "ipython",
    "version": 3
   },
   "file_extension": ".py",
   "mimetype": "text/x-python",
   "name": "python",
   "nbconvert_exporter": "python",
   "pygments_lexer": "ipython3",
   "version": "3.8.12"
  },
  "varInspector": {
   "cols": {
    "lenName": 16,
    "lenType": 16,
    "lenVar": 40
   },
   "kernels_config": {
    "python": {
     "delete_cmd_postfix": "",
     "delete_cmd_prefix": "del ",
     "library": "var_list.py",
     "varRefreshCmd": "print(var_dic_list())"
    },
    "r": {
     "delete_cmd_postfix": ") ",
     "delete_cmd_prefix": "rm(",
     "library": "var_list.r",
     "varRefreshCmd": "cat(var_dic_list()) "
    }
   },
   "types_to_exclude": [
    "module",
    "function",
    "builtin_function_or_method",
    "instance",
    "_Feature"
   ],
   "window_display": false
  }
 },
 "nbformat": 4,
 "nbformat_minor": 5
}
